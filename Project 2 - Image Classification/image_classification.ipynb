{
 "cells": [
  {
   "cell_type": "markdown",
   "metadata": {
    "collapsed": true,
    "deletable": true,
    "editable": true
   },
   "source": [
    "# Image Classification\n",
    "In this project, you'll classify images from the [CIFAR-10 dataset](https://www.cs.toronto.edu/~kriz/cifar.html).  The dataset consists of airplanes, dogs, cats, and other objects. You'll preprocess the images, then train a convolutional neural network on all the samples. The images need to be normalized and the labels need to be one-hot encoded.  You'll get to apply what you learned and build a convolutional, max pooling, dropout, and fully connected layers.  At the end, you'll get to see your neural network's predictions on the sample images.\n",
    "## Get the Data\n",
    "Run the following cell to download the [CIFAR-10 dataset for python](https://www.cs.toronto.edu/~kriz/cifar-10-python.tar.gz)."
   ]
  },
  {
   "cell_type": "code",
   "execution_count": 1,
   "metadata": {
    "collapsed": false,
    "deletable": true,
    "editable": true
   },
   "outputs": [
    {
     "name": "stderr",
     "output_type": "stream",
     "text": [
      "CIFAR-10 Dataset: 171MB [01:21, 2.10MB/s]                              \n"
     ]
    },
    {
     "name": "stdout",
     "output_type": "stream",
     "text": [
      "All files found!\n"
     ]
    }
   ],
   "source": [
    "                                                                                                                                                                                                \"\"\"\n",
    "DON'T MODIFY ANYTHING IN THIS CELL THAT IS BELOW THIS LINE\n",
    "\"\"\"\n",
    "from urllib.request import urlretrieve\n",
    "from os.path import isfile, isdir\n",
    "from tqdm import tqdm\n",
    "import problem_unittests as tests\n",
    "import tarfile\n",
    "\n",
    "cifar10_dataset_folder_path = 'cifar-10-batches-py'\n",
    "\n",
    "class DLProgress(tqdm):\n",
    "    last_block = 0\n",
    "\n",
    "    def hook(self, block_num=1, block_size=1, total_size=None):\n",
    "        self.total = total_size\n",
    "        self.update((block_num - self.last_block) * block_size)\n",
    "        self.last_block = block_num\n",
    "\n",
    "if not isfile('cifar-10-python.tar.gz'):\n",
    "    with DLProgress(unit='B', unit_scale=True, miniters=1, desc='CIFAR-10 Dataset') as pbar:\n",
    "        urlretrieve(\n",
    "            'https://www.cs.toronto.edu/~kriz/cifar-10-python.tar.gz',\n",
    "            'cifar-10-python.tar.gz',\n",
    "            pbar.hook)\n",
    "\n",
    "if not isdir(cifar10_dataset_folder_path):\n",
    "    with tarfile.open('cifar-10-python.tar.gz') as tar:\n",
    "        tar.extractall()\n",
    "        tar.close()\n",
    "\n",
    "\n",
    "tests.test_folder_path(cifar10_dataset_folder_path)"
   ]
  },
  {
   "cell_type": "markdown",
   "metadata": {
    "deletable": true,
    "editable": true
   },
   "source": [
    "## Explore the Data\n",
    "The dataset is broken into batches to prevent your machine from running out of memory.  The CIFAR-10 dataset consists of 5 batches, named `data_batch_1`, `data_batch_2`, etc.. Each batch contains the labels and images that are one of the following:\n",
    "* airplane\n",
    "* automobile\n",
    "* bird\n",
    "* cat\n",
    "* deer\n",
    "* dog\n",
    "* frog\n",
    "* horse\n",
    "* ship\n",
    "* truck\n",
    "\n",
    "Understanding a dataset is part of making predictions on the data.  Play around with the code cell below by changing the `batch_id` and `sample_id`. The `batch_id` is the id for a batch (1-5). The `sample_id` is the id for a image and label pair in the batch.\n",
    "\n",
    "Ask yourself \"What are all possible labels?\", \"What is the range of values for the image data?\", \"Are the labels in order or random?\".  Answers to questions like these will help you preprocess the data and end up with better predictions."
   ]
  },
  {
   "cell_type": "code",
   "execution_count": 2,
   "metadata": {
    "collapsed": false,
    "deletable": true,
    "editable": true
   },
   "outputs": [
    {
     "name": "stdout",
     "output_type": "stream",
     "text": [
      "\n",
      "Stats of batch 1:\n",
      "Samples: 10000\n",
      "Label Counts: {0: 1005, 1: 974, 2: 1032, 3: 1016, 4: 999, 5: 937, 6: 1030, 7: 1001, 8: 1025, 9: 981}\n",
      "First 20 Labels: [6, 9, 9, 4, 1, 1, 2, 7, 8, 3, 4, 7, 7, 2, 9, 9, 9, 3, 2, 6]\n",
      "\n",
      "Example of Image 7:\n",
      "Image - Min Value: 9 Max Value: 248\n",
      "Image - Shape: (32, 32, 3)\n",
      "Label - Label Id: 7 Name: horse\n"
     ]
    },
    {
     "data": {
      "image/png": "[encoded data removed]",
      "text/plain": [
       "<matplotlib.figure.Figure at 0x7f0ca30c76a0>"
      ]
     },
     "metadata": {
      "image/png": {
       "height": 250,
       "width": 253
      }
     },
     "output_type": "display_data"
    }
   ],
   "source": [
    "%matplotlib inline\n",
    "%config InlineBackend.figure_format = 'retina'\n",
    "\n",
    "import helper\n",
    "import numpy as np\n",
    "\n",
    "# Explore the dataset\n",
    "batch_id = 1\n",
    "sample_id = 7\n",
    "helper.display_stats(cifar10_dataset_folder_path, batch_id, sample_id)"
   ]
  },
  {
   "cell_type": "code",
   "execution_count": 3,
   "metadata": {
    "collapsed": false,
    "deletable": true,
    "editable": true
   },
   "outputs": [
    {
     "name": "stdout",
     "output_type": "stream",
     "text": [
      "\n",
      "Stats of batch 2:\n",
      "Samples: 10000\n",
      "Label Counts: {0: 984, 1: 1007, 2: 1010, 3: 995, 4: 1010, 5: 988, 6: 1008, 7: 1026, 8: 987, 9: 985}\n",
      "First 20 Labels: [1, 6, 6, 8, 8, 3, 4, 6, 0, 6, 0, 3, 6, 6, 5, 4, 8, 3, 2, 6]\n",
      "\n",
      "Example of Image 10:\n",
      "Image - Min Value: 4 Max Value: 231\n",
      "Image - Shape: (32, 32, 3)\n",
      "Label - Label Id: 0 Name: airplane\n"
     ]
    },
    {
     "data": {
      "image/png": "[encoded data removed]",
      "text/plain": [
       "<matplotlib.figure.Figure at 0x7f0d0465a2e8>"
      ]
     },
     "metadata": {
      "image/png": {
       "height": 250,
       "width": 253
      }
     },
     "output_type": "display_data"
    }
   ],
   "source": [
    "# Explore the dataset\n",
    "batch_id = 2\n",
    "sample_id = 10\n",
    "helper.display_stats(cifar10_dataset_folder_path, batch_id, sample_id)"
   ]
  },
  {
   "cell_type": "code",
   "execution_count": 4,
   "metadata": {
    "collapsed": false,
    "deletable": true,
    "editable": true
   },
   "outputs": [
    {
     "name": "stdout",
     "output_type": "stream",
     "text": [
      "\n",
      "Stats of batch 3:\n",
      "Samples: 10000\n",
      "Label Counts: {0: 994, 1: 1042, 2: 965, 3: 997, 4: 990, 5: 1029, 6: 978, 7: 1015, 8: 961, 9: 1029}\n",
      "First 20 Labels: [8, 5, 0, 6, 9, 2, 8, 3, 6, 2, 7, 4, 6, 9, 0, 0, 7, 3, 7, 2]\n",
      "\n",
      "Example of Image 15:\n",
      "Image - Min Value: 59 Max Value: 210\n",
      "Image - Shape: (32, 32, 3)\n",
      "Label - Label Id: 0 Name: airplane\n"
     ]
    },
    {
     "data": {
      "image/png": "[encoded data removed]",
      "text/plain": [
       "<matplotlib.figure.Figure at 0x7f0d0465add8>"
      ]
     },
     "metadata": {
      "image/png": {
       "height": 250,
       "width": 253
      }
     },
     "output_type": "display_data"
    }
   ],
   "source": [
    "# Explore the dataset\n",
    "batch_id = 3\n",
    "sample_id = 15\n",
    "helper.display_stats(cifar10_dataset_folder_path, batch_id, sample_id)"
   ]
  },
  {
   "cell_type": "code",
   "execution_count": 5,
   "metadata": {
    "collapsed": false,
    "deletable": true,
    "editable": true
   },
   "outputs": [
    {
     "name": "stdout",
     "output_type": "stream",
     "text": [
      "\n",
      "Stats of batch 4:\n",
      "Samples: 10000\n",
      "Label Counts: {0: 1003, 1: 963, 2: 1041, 3: 976, 4: 1004, 5: 1021, 6: 1004, 7: 981, 8: 1024, 9: 983}\n",
      "First 20 Labels: [0, 6, 0, 2, 7, 2, 1, 2, 4, 1, 5, 6, 6, 3, 1, 3, 5, 5, 8, 1]\n",
      "\n",
      "Example of Image 56:\n",
      "Image - Min Value: 55 Max Value: 255\n",
      "Image - Shape: (32, 32, 3)\n",
      "Label - Label Id: 9 Name: truck\n"
     ]
    },
    {
     "data": {
      "image/png": "[encoded data removed]",
      "text/plain": [
       "<matplotlib.figure.Figure at 0x7f0ca0a1f470>"
      ]
     },
     "metadata": {
      "image/png": {
       "height": 250,
       "width": 253
      }
     },
     "output_type": "display_data"
    }
   ],
   "source": [
    "# Explore the dataset\n",
    "batch_id = 4\n",
    "sample_id = 56\n",
    "helper.display_stats(cifar10_dataset_folder_path, batch_id, sample_id)"
   ]
  },
  {
   "cell_type": "markdown",
   "metadata": {
    "deletable": true,
    "editable": true
   },
   "source": [
    "## Implement Preprocess Functions\n",
    "### Normalize\n",
    "In the cell below, implement the `normalize` function to take in image data, `x`, and return it as a normalized Numpy array. The values should be in the range of 0 to 1, inclusive.  The return object should be the same shape as `x`."
   ]
  },
  {
   "cell_type": "code",
   "execution_count": 6,
   "metadata": {
    "collapsed": false,
    "deletable": true,
    "editable": true
   },
   "outputs": [
    {
     "name": "stdout",
     "output_type": "stream",
     "text": [
      "Tests Passed\n"
     ]
    }
   ],
   "source": [
    "def normalize(x):\n",
    "    \"\"\"\n",
    "    Normalize a list of sample image data in the range of 0 to 1\n",
    "    : x: List of image data.  The image shape is (32, 32, 3)\n",
    "    : return: Numpy array of normalize data\n",
    "    \"\"\"\n",
    "    # TODO: Implement Function\n",
    "    a = 0\n",
    "    b = 1\n",
    "    return a + ( (x - np.min(x)) * (b - a) ) / ( np.max(x) - np.min(x) )\n",
    "    \n",
    "\"\"\"\n",
    "DON'T MODIFY ANYTHING IN THIS CELL THAT IS BELOW THIS LINE\n",
    "\"\"\"\n",
    "tests.test_normalize(normalize)"
   ]
  },
  {
   "cell_type": "markdown",
   "metadata": {
    "deletable": true,
    "editable": true
   },
   "source": [
    "### One-hot encode\n",
    "Just like the previous code cell, you'll be implementing a function for preprocessing.  This time, you'll implement the `one_hot_encode` function. The input, `x`, are a list of labels.  Implement the function to return the list of labels as One-Hot encoded Numpy array.  The possible values for labels are 0 to 9. The one-hot encoding function should return the same encoding for each value between each call to `one_hot_encode`.  Make sure to save the map of encodings outside the function.\n",
    "\n",
    "**Hint:**\n",
    "\n",
    "Look into LabelBinarizer in the preprocessing module of sklearn."
   ]
  },
  {
   "cell_type": "code",
   "execution_count": 7,
   "metadata": {
    "collapsed": false,
    "deletable": true,
    "editable": true
   },
   "outputs": [
    {
     "name": "stdout",
     "output_type": "stream",
     "text": [
      "Tests Passed\n"
     ]
    }
   ],
   "source": [
    "def one_hot_encode(x):\n",
    "    \"\"\"\n",
    "    One hot encode a list of sample labels. Return a one-hot encoded vector for each label.\n",
    "    : x: List of sample Labels\n",
    "    : return: Numpy array of one-hot encoded labels\n",
    "    \"\"\"\n",
    "    # TODO: Implement Function\n",
    "    #print(x)\n",
    "    #return np.eye(10)[x]\n",
    "    empty = []\n",
    "    for i in range(len(x)):\n",
    "        empty.append([0 for x in range(10)])\n",
    "        empty[i][x[i]] = 1\n",
    "    return np.array(empty)\n",
    "\n",
    "\n",
    "\"\"\"\n",
    "DON'T MODIFY ANYTHING IN THIS CELL THAT IS BELOW THIS LINE\n",
    "\"\"\"\n",
    "tests.test_one_hot_encode(one_hot_encode)"
   ]
  },
  {
   "cell_type": "markdown",
   "metadata": {
    "deletable": true,
    "editable": true
   },
   "source": [
    "### Randomize Data\n",
    "As you saw from exploring the data above, the order of the samples are randomized.  It doesn't hurt to randomize it again, but you don't need to for this dataset."
   ]
  },
  {
   "cell_type": "markdown",
   "metadata": {
    "deletable": true,
    "editable": true
   },
   "source": [
    "## Preprocess all the data and save it\n",
    "Running the code cell below will preprocess all the CIFAR-10 data and save it to file. The code below also uses 10% of the training data for validation."
   ]
  },
  {
   "cell_type": "code",
   "execution_count": 8,
   "metadata": {
    "collapsed": false,
    "deletable": true,
    "editable": true
   },
   "outputs": [],
   "source": [
    "\"\"\"\n",
    "DON'T MODIFY ANYTHING IN THIS CELL\n",
    "\"\"\"\n",
    "# Preprocess Training, Validation, and Testing Data\n",
    "helper.preprocess_and_save_data(cifar10_dataset_folder_path, normalize, one_hot_encode)"
   ]
  },
  {
   "cell_type": "markdown",
   "metadata": {
    "deletable": true,
    "editable": true
   },
   "source": [
    "# Check Point\n",
    "This is your first checkpoint.  If you ever decide to come back to this notebook or have to restart the notebook, you can start from here.  The preprocessed data has been saved to disk."
   ]
  },
  {
   "cell_type": "code",
   "execution_count": 9,
   "metadata": {
    "collapsed": true,
    "deletable": true,
    "editable": true
   },
   "outputs": [],
   "source": [
    "\"\"\"\n",
    "DON'T MODIFY ANYTHING IN THIS CELL\n",
    "\"\"\"\n",
    "import pickle\n",
    "import problem_unittests as tests\n",
    "import helper\n",
    "\n",
    "# Load the Preprocessed Validation data\n",
    "valid_features, valid_labels = pickle.load(open('preprocess_validation.p', mode='rb'))"
   ]
  },
  {
   "cell_type": "markdown",
   "metadata": {
    "deletable": true,
    "editable": true
   },
   "source": [
    "## Build the network\n",
    "For the neural network, you'll build each layer into a function.  Most of the code you've seen has been outside of functions. To test your code more thoroughly, we require that you put each layer in a function.  This allows us to give you better feedback and test for simple mistakes using our unittests before you submit your project.\n",
    "\n",
    ">**Note:** If you're finding it hard to dedicate enough time for this course each week, we've provided a small shortcut to this part of the project. In the next couple of problems, you'll have the option to use classes from the [TensorFlow Layers](https://www.tensorflow.org/api_docs/python/tf/layers) or [TensorFlow Layers (contrib)](https://www.tensorflow.org/api_guides/python/contrib.layers) packages to build each layer, except the layers you build in the \"Convolutional and Max Pooling Layer\" section.  TF Layers is similar to Keras's and TFLearn's abstraction to layers, so it's easy to pickup.\n",
    "\n",
    ">However, if you would like to get the most out of this course, try to solve all the problems _without_ using anything from the TF Layers packages. You **can** still use classes from other packages that happen to have the same name as ones you find in TF Layers! For example, instead of using the TF Layers version of the `conv2d` class, [tf.layers.conv2d](https://www.tensorflow.org/api_docs/python/tf/layers/conv2d), you would want to use the TF Neural Network version of `conv2d`, [tf.nn.conv2d](https://www.tensorflow.org/api_docs/python/tf/nn/conv2d). \n",
    "\n",
    "Let's begin!\n",
    "\n",
    "### Input\n",
    "The neural network needs to read the image data, one-hot encoded labels, and dropout keep probability. Implement the following functions\n",
    "* Implement `neural_net_image_input`\n",
    " * Return a [TF Placeholder](https://www.tensorflow.org/api_docs/python/tf/placeholder)\n",
    " * Set the shape using `image_shape` with batch size set to `None`.\n",
    " * Name the TensorFlow placeholder \"x\" using the TensorFlow `name` parameter in the [TF Placeholder](https://www.tensorflow.org/api_docs/python/tf/placeholder).\n",
    "* Implement `neural_net_label_input`\n",
    " * Return a [TF Placeholder](https://www.tensorflow.org/api_docs/python/tf/placeholder)\n",
    " * Set the shape using `n_classes` with batch size set to `None`.\n",
    " * Name the TensorFlow placeholder \"y\" using the TensorFlow `name` parameter in the [TF Placeholder](https://www.tensorflow.org/api_docs/python/tf/placeholder).\n",
    "* Implement `neural_net_keep_prob_input`\n",
    " * Return a [TF Placeholder](https://www.tensorflow.org/api_docs/python/tf/placeholder) for dropout keep probability.\n",
    " * Name the TensorFlow placeholder \"keep_prob\" using the TensorFlow `name` parameter in the [TF Placeholder](https://www.tensorflow.org/api_docs/python/tf/placeholder).\n",
    "\n",
    "These names will be used at the end of the project to load your saved model.\n",
    "\n",
    "Note: `None` for shapes in TensorFlow allow for a dynamic size."
   ]
  },
  {
   "cell_type": "code",
   "execution_count": 10,
   "metadata": {
    "collapsed": false,
    "deletable": true,
    "editable": true
   },
   "outputs": [
    {
     "name": "stdout",
     "output_type": "stream",
     "text": [
      "Image Input Tests Passed.\n",
      "Label Input Tests Passed.\n",
      "Keep Prob Tests Passed.\n"
     ]
    }
   ],
   "source": [
    "import tensorflow as tf\n",
    "\n",
    "def neural_net_image_input(image_shape):\n",
    "    \"\"\"\n",
    "    Return a Tensor for a batch of image input\n",
    "    : image_shape: Shape of the images\n",
    "    : return: Tensor for image input.\n",
    "    \"\"\"\n",
    "    # TODO: Implement Function\n",
    "    return tf.placeholder(tf.float32, shape=[None, *image_shape] , name=\"x\")\n",
    "    \n",
    "def neural_net_label_input(n_classes):\n",
    "    \"\"\"\n",
    "    Return a Tensor for a batch of label input\n",
    "    : n_classes: Number of classes\n",
    "    : return: Tensor for label input.\n",
    "    \"\"\"\n",
    "    # TODO: Implement Function\n",
    "    return tf.placeholder(tf.float32, shape=[None, n_classes], name=\"y\")\n",
    "\n",
    "def neural_net_keep_prob_input():\n",
    "    \"\"\"\n",
    "    Return a Tensor for keep probability\n",
    "    : return: Tensor for keep probability.\n",
    "    \"\"\"\n",
    "    # TODO: Implement Function\n",
    "    return tf.placeholder(tf.float32, name=\"keep_prob\")\n",
    "\n",
    "\n",
    "\"\"\"\n",
    "DON'T MODIFY ANYTHING IN THIS CELL THAT IS BELOW THIS LINE\n",
    "\"\"\"\n",
    "tf.reset_default_graph()\n",
    "tests.test_nn_image_inputs(neural_net_image_input)\n",
    "tests.test_nn_label_inputs(neural_net_label_input)\n",
    "tests.test_nn_keep_prob_inputs(neural_net_keep_prob_input)"
   ]
  },
  {
   "cell_type": "markdown",
   "metadata": {
    "deletable": true,
    "editable": true
   },
   "source": [
    "### Convolution and Max Pooling Layer\n",
    "Convolution layers have a lot of success with images. For this code cell, you should implement the function `conv2d_maxpool` to apply convolution then max pooling:\n",
    "* Create the weight and bias using `conv_ksize`, `conv_num_outputs` and the shape of `x_tensor`.\n",
    "* Apply a convolution to `x_tensor` using weight and `conv_strides`.\n",
    " * We recommend you use same padding, but you're welcome to use any padding.\n",
    "* Add bias\n",
    "* Add a nonlinear activation to the convolution.\n",
    "* Apply Max Pooling using `pool_ksize` and `pool_strides`.\n",
    " * We recommend you use same padding, but you're welcome to use any padding.\n",
    "\n",
    "**Note:** You **can't** use [TensorFlow Layers](https://www.tensorflow.org/api_docs/python/tf/layers) or [TensorFlow Layers (contrib)](https://www.tensorflow.org/api_guides/python/contrib.layers) for **this** layer, but you can still use TensorFlow's [Neural Network](https://www.tensorflow.org/api_docs/python/tf/nn) package. You may still use the shortcut option for all the **other** layers.\n",
    "\n",
    "** Hint: **\n",
    "\n",
    "When unpacking values as an argument in Python, look into the [unpacking](https://docs.python.org/3/tutorial/controlflow.html#unpacking-argument-lists) operator. "
   ]
  },
  {
   "cell_type": "code",
   "execution_count": 11,
   "metadata": {
    "collapsed": false,
    "deletable": true,
    "editable": true
   },
   "outputs": [
    {
     "name": "stdout",
     "output_type": "stream",
     "text": [
      "Tests Passed\n"
     ]
    }
   ],
   "source": [
    "def conv2d_maxpool(x_tensor, conv_num_outputs, conv_ksize, conv_strides, pool_ksize, pool_strides):\n",
    "    \"\"\"\n",
    "    Apply convolution then max pooling to x_tensor\n",
    "    :param x_tensor: TensorFlow Tensor\n",
    "    :param conv_num_outputs: Number of outputs for the convolutional layer\n",
    "    :param conv_ksize: kernal size 2-D Tuple for the convolutional layer\n",
    "    :param conv_strides: Stride 2-D Tuple for convolution\n",
    "    :param pool_ksize: kernal size 2-D Tuple for pool\n",
    "    :param pool_strides: Stride 2-D Tuple for pool\n",
    "    : return: A tensor that represents convolution and max pooling of x_tensor\n",
    "    \"\"\"\n",
    "    # Debug\n",
    "    #print(x_tensor.shape)\n",
    "    #print(conv_ksize)\n",
    "    #print(conv_strides)\n",
    "    \n",
    "    # Weights and bias for the convolutional kernel \n",
    "    weights = tf.Variable( tf.random_normal( [*conv_ksize, int(x_tensor.shape[3]), conv_num_outputs] , stddev=0.01 ) )\n",
    "    bias = tf.Variable(tf.zeros(conv_num_outputs))\n",
    "    \n",
    "    # Convolution \n",
    "    x_tensor = tf.nn.conv2d(x_tensor, weights, strides=[1, *conv_strides, 1], padding='SAME')\n",
    "    x_tensor = tf.nn.bias_add(x_tensor, bias)\n",
    "    \n",
    "    # Activation function \n",
    "    x_tensor = tf.nn.relu(x_tensor)\n",
    "    \n",
    "    # Max pooling \n",
    "    x_tensor = tf.nn.max_pool(x_tensor, ksize=[1, *pool_ksize , 1], strides=[1, *pool_strides , 1], padding='SAME')\n",
    "   \n",
    "    return x_tensor \n",
    "\n",
    "\"\"\"\n",
    "DON'T MODIFY ANYTHING IN THIS CELL THAT IS BELOW THIS LINE\n",
    "\"\"\"\n",
    "tests.test_con_pool(conv2d_maxpool)"
   ]
  },
  {
   "cell_type": "markdown",
   "metadata": {
    "deletable": true,
    "editable": true
   },
   "source": [
    "### Flatten Layer\n",
    "Implement the `flatten` function to change the dimension of `x_tensor` from a 4-D tensor to a 2-D tensor.  The output should be the shape (*Batch Size*, *Flattened Image Size*). Shortcut option: you can use classes from the [TensorFlow Layers](https://www.tensorflow.org/api_docs/python/tf/layers) or [TensorFlow Layers (contrib)](https://www.tensorflow.org/api_guides/python/contrib.layers) packages for this layer. For more of a challenge, only use other TensorFlow packages."
   ]
  },
  {
   "cell_type": "code",
   "execution_count": 12,
   "metadata": {
    "collapsed": false,
    "deletable": true,
    "editable": true
   },
   "outputs": [
    {
     "name": "stdout",
     "output_type": "stream",
     "text": [
      "Tests Passed\n"
     ]
    }
   ],
   "source": [
    "from functools import reduce \n",
    "\n",
    "def flatten(x_tensor):\n",
    "    \"\"\"\n",
    "    Flatten x_tensor to (Batch Size, Flattened Image Size)\n",
    "    : x_tensor: A tensor of size (Batch Size, ...), where ... are the image dimensions.\n",
    "    : return: A tensor of size (Batch Size, Flattened Image Size).\n",
    "    \"\"\"\n",
    "    # get size \n",
    "    img_size = [int(each) for each in x_tensor.shape[1:]]\n",
    "    img_size = reduce(lambda x,y: x*y, img_size)\n",
    "    \n",
    "    # flatten tensor  \n",
    "    return tf.reshape(x_tensor, [-1, img_size]) \n",
    "\n",
    "\"\"\"\n",
    "DON'T MODIFY ANYTHING IN THIS CELL THAT IS BELOW THIS LINE\n",
    "\"\"\"\n",
    "tests.test_flatten(flatten)"
   ]
  },
  {
   "cell_type": "markdown",
   "metadata": {
    "deletable": true,
    "editable": true
   },
   "source": [
    "### Fully-Connected Layer\n",
    "Implement the `fully_conn` function to apply a fully connected layer to `x_tensor` with the shape (*Batch Size*, *num_outputs*). Shortcut option: you can use classes from the [TensorFlow Layers](https://www.tensorflow.org/api_docs/python/tf/layers) or [TensorFlow Layers (contrib)](https://www.tensorflow.org/api_guides/python/contrib.layers) packages for this layer. For more of a challenge, only use other TensorFlow packages."
   ]
  },
  {
   "cell_type": "code",
   "execution_count": 13,
   "metadata": {
    "collapsed": false,
    "deletable": true,
    "editable": true
   },
   "outputs": [
    {
     "name": "stdout",
     "output_type": "stream",
     "text": [
      "Tests Passed\n"
     ]
    }
   ],
   "source": [
    "def fully_conn(x_tensor, num_outputs):\n",
    "    \"\"\"\n",
    "    Apply a fully connected layer to x_tensor using weight and bias\n",
    "    : x_tensor: A 2-D tensor where the first dimension is batch size.\n",
    "    : num_outputs: The number of output that the new tensor should be.\n",
    "    : return: A 2-D tensor where the second dimension is num_outputs.\n",
    "    \"\"\"\n",
    "    # Get the shape of the tensor\n",
    "    #print(x_tensor.shape)\n",
    "    \n",
    "    # Weights and bias for the fully connected layer \n",
    "    weights = tf.Variable(tf.random_normal( [ int(x_tensor.shape[1]), num_outputs], stddev=0.1 ))\n",
    "    bias = tf.Variable(tf.zeros(num_outputs))\n",
    "    \n",
    "    # Fully connected layer \n",
    "    fc = tf.add(tf.matmul(x_tensor, weights), bias)\n",
    "    \n",
    "    # Activation function\n",
    "    fc = tf.nn.relu(fc)\n",
    "    \n",
    "    return fc\n",
    "\n",
    "\"\"\"\n",
    "DON'T MODIFY ANYTHING IN THIS CELL THAT IS BELOW THIS LINE\n",
    "\"\"\"\n",
    "tests.test_fully_conn(fully_conn)"
   ]
  },
  {
   "cell_type": "markdown",
   "metadata": {
    "deletable": true,
    "editable": true
   },
   "source": [
    "### Output Layer\n",
    "Implement the `output` function to apply a fully connected layer to `x_tensor` with the shape (*Batch Size*, *num_outputs*). Shortcut option: you can use classes from the [TensorFlow Layers](https://www.tensorflow.org/api_docs/python/tf/layers) or [TensorFlow Layers (contrib)](https://www.tensorflow.org/api_guides/python/contrib.layers) packages for this layer. For more of a challenge, only use other TensorFlow packages.\n",
    "\n",
    "**Note:** Activation, softmax, or cross entropy should **not** be applied to this."
   ]
  },
  {
   "cell_type": "code",
   "execution_count": 14,
   "metadata": {
    "collapsed": false,
    "deletable": true,
    "editable": true
   },
   "outputs": [
    {
     "name": "stdout",
     "output_type": "stream",
     "text": [
      "Tests Passed\n"
     ]
    }
   ],
   "source": [
    "def output(x_tensor, num_outputs):\n",
    "    \"\"\"\n",
    "    Apply a output layer to x_tensor using weight and bias\n",
    "    : x_tensor: A 2-D tensor where the first dimension is batch size.\n",
    "    : num_outputs: The number of output that the new tensor should be.\n",
    "    : return: A 2-D tensor where the second dimension is num_outputs.\n",
    "    \"\"\"\n",
    "    # Debug \n",
    "    #print(x_tensor.shape)\n",
    "    \n",
    "    # Learning parameters \n",
    "    weights = tf.Variable(tf.random_normal([int(x_tensor.shape[1]), num_outputs], stddev=0.01))\n",
    "    bias = tf.Variable(tf.zeros(num_outputs))\n",
    "    \n",
    "    # output tensor for output layer \n",
    "    output = tf.add( tf.matmul( x_tensor, weights ), bias )\n",
    "    \n",
    "    return output\n",
    "\n",
    "\"\"\"\n",
    "DON'T MODIFY ANYTHING IN THIS CELL THAT IS BELOW THIS LINE\n",
    "\"\"\"\n",
    "tests.test_output(output)"
   ]
  },
  {
   "cell_type": "markdown",
   "metadata": {
    "deletable": true,
    "editable": true
   },
   "source": [
    "### Create Convolutional Model\n",
    "Implement the function `conv_net` to create a convolutional neural network model. The function takes in a batch of images, `x`, and outputs logits.  Use the layers you created above to create this model:\n",
    "\n",
    "* Apply 1, 2, or 3 Convolution and Max Pool layers\n",
    "* Apply a Flatten Layer\n",
    "* Apply 1, 2, or 3 Fully Connected Layers\n",
    "* Apply an Output Layer\n",
    "* Return the output\n",
    "* Apply [TensorFlow's Dropout](https://www.tensorflow.org/api_docs/python/tf/nn/dropout) to one or more layers in the model using `keep_prob`. "
   ]
  },
  {
   "cell_type": "code",
   "execution_count": 15,
   "metadata": {
    "collapsed": false,
    "deletable": true,
    "editable": true
   },
   "outputs": [
    {
     "name": "stdout",
     "output_type": "stream",
     "text": [
      "Neural Network Built!\n"
     ]
    }
   ],
   "source": [
    "def conv_net(x, keep_prob):\n",
    "    \"\"\"\n",
    "    Create a convolutional neural network model\n",
    "    : x: Placeholder tensor that holds image data.\n",
    "    : keep_prob: Placeholder tensor that hold dropout keep probability.\n",
    "    : return: Tensor that represents logits\n",
    "    \"\"\"\n",
    "    # TODO: Apply 1, 2, or 3 Convolution and Max Pool layers\n",
    "    #    Play around with different number of outputs, kernel size and stride\n",
    "    # Function Definition from Above:\n",
    "    #    conv2d_maxpool(x_tensor, conv_num_outputs, conv_ksize, conv_strides, pool_ksize, pool_strides)\n",
    "    conv0 = conv2d_maxpool(x, 32, (3, 3), (1, 1), (2, 2), (2, 2))\n",
    "    conv1 = conv2d_maxpool(conv0, 32, (3, 3), (2, 2), (2, 2), (2, 2))\n",
    "    conv2 = conv2d_maxpool(conv1, 64, (3, 3), (1, 1), (2, 2), (2, 2))\n",
    "\n",
    "    # TODO: Apply a Flatten Layer\n",
    "    # Function Definition from Above:\n",
    "    #   flatten(x_tensor)\n",
    "    flat = flatten(conv2)\n",
    "\n",
    "    # TODO: Apply 1, 2, or 3 Fully Connected Layers\n",
    "    #    Play around with different number of outputs\n",
    "    # Function Definition from Above:\n",
    "    #   fully_conn(x_tensor, num_outputs)\n",
    "    fc0 = tf.nn.dropout(fully_conn(flat, 512), keep_prob)\n",
    "    fc1 = tf.nn.dropout(fully_conn(fc0, 128), keep_prob)    \n",
    "    \n",
    "    # TODO: Apply an Output Layer\n",
    "    #    Set this to the number of classes\n",
    "    # Function Definition from Above:\n",
    "    #   output(x_tensor, num_outputs)\n",
    "    out = output(fc1, 10)\n",
    "   \n",
    "    # TODO: return output\n",
    "    return out\n",
    "\n",
    "\n",
    "\"\"\"\n",
    "DON'T MODIFY ANYTHING IN THIS CELL THAT IS BELOW THIS LINE\n",
    "\"\"\"\n",
    "\n",
    "##############################\n",
    "## Build the Neural Network ##\n",
    "##############################\n",
    "\n",
    "# Remove previous weights, bias, inputs, etc..\n",
    "tf.reset_default_graph()\n",
    "\n",
    "# Inputs\n",
    "x = neural_net_image_input((32, 32, 3))\n",
    "y = neural_net_label_input(10)\n",
    "keep_prob = neural_net_keep_prob_input()\n",
    "\n",
    "# Model\n",
    "logits = conv_net(x, keep_prob)\n",
    "\n",
    "# Name logits Tensor, so that is can be loaded from disk after training\n",
    "logits = tf.identity(logits, name='logits')\n",
    "\n",
    "# Loss and Optimizer\n",
    "cost = tf.reduce_mean(tf.nn.softmax_cross_entropy_with_logits(logits=logits, labels=y))\n",
    "optimizer = tf.train.AdamOptimizer().minimize(cost)\n",
    "\n",
    "# Accuracy\n",
    "correct_pred = tf.equal(tf.argmax(logits, 1), tf.argmax(y, 1))\n",
    "accuracy = tf.reduce_mean(tf.cast(correct_pred, tf.float32), name='accuracy')\n",
    "\n",
    "tests.test_conv_net(conv_net)"
   ]
  },
  {
   "cell_type": "markdown",
   "metadata": {
    "deletable": true,
    "editable": true
   },
   "source": [
    "## Train the Neural Network\n",
    "### Single Optimization\n",
    "Implement the function `train_neural_network` to do a single optimization.  The optimization should use `optimizer` to optimize in `session` with a `feed_dict` of the following:\n",
    "* `x` for image input\n",
    "* `y` for labels\n",
    "* `keep_prob` for keep probability for dropout\n",
    "\n",
    "This function will be called for each batch, so `tf.global_variables_initializer()` has already been called.\n",
    "\n",
    "Note: Nothing needs to be returned. This function is only optimizing the neural network."
   ]
  },
  {
   "cell_type": "code",
   "execution_count": 16,
   "metadata": {
    "collapsed": false,
    "deletable": true,
    "editable": true
   },
   "outputs": [
    {
     "name": "stdout",
     "output_type": "stream",
     "text": [
      "Tests Passed\n"
     ]
    }
   ],
   "source": [
    "def train_neural_network(session, optimizer, keep_probability, feature_batch, label_batch):\n",
    "    \"\"\"\n",
    "    Optimize the session on a batch of images and labels\n",
    "    : session: Current TensorFlow session\n",
    "    : optimizer: TensorFlow optimizer function\n",
    "    : keep_probability: keep probability\n",
    "    : feature_batch: Batch of Numpy image data\n",
    "    : label_batch: Batch of Numpy label data\n",
    "    \"\"\"\n",
    "    # TODO: Implement Function\n",
    "    session.run(optimizer, feed_dict={x: feature_batch, y: label_batch, keep_prob: keep_probability})\n",
    "\n",
    "\"\"\"\n",
    "DON'T MODIFY ANYTHING IN THIS CELL THAT IS BELOW THIS LINE\n",
    "\"\"\"\n",
    "tests.test_train_nn(train_neural_network)"
   ]
  },
  {
   "cell_type": "markdown",
   "metadata": {
    "deletable": true,
    "editable": true
   },
   "source": [
    "### Show Stats\n",
    "Implement the function `print_stats` to print loss and validation accuracy.  Use the global variables `valid_features` and `valid_labels` to calculate validation accuracy.  Use a keep probability of `1.0` to calculate the loss and validation accuracy."
   ]
  },
  {
   "cell_type": "code",
   "execution_count": 17,
   "metadata": {
    "collapsed": false,
    "deletable": true,
    "editable": true
   },
   "outputs": [],
   "source": [
    "def print_stats(session, feature_batch, label_batch, cost, accuracy):\n",
    "    \"\"\"\n",
    "    Print information about loss and validation accuracy\n",
    "    : session: Current TensorFlow session\n",
    "    : feature_batch: Batch of Numpy image data\n",
    "    : label_batch: Batch of Numpy label data\n",
    "    : cost: TensorFlow cost function\n",
    "    : accuracy: TensorFlow accuracy function\n",
    "    \"\"\"\n",
    "    # TODO: Implement Function\n",
    "    loss = session.run(cost, feed_dict={x: feature_batch, y: label_batch, keep_prob: 1.0})\n",
    "    valid_accuracy = session.run(accuracy, feed_dict={x: valid_features, y: valid_labels, keep_prob: 1.0})\n",
    "    print('Loss: {:>10.4f} Validation Accuracy: {:.6f}'.format(loss, valid_accuracy))"
   ]
  },
  {
   "cell_type": "markdown",
   "metadata": {
    "deletable": true,
    "editable": true
   },
   "source": [
    "### Hyperparameters\n",
    "Tune the following parameters:\n",
    "* Set `epochs` to the number of iterations until the network stops learning or start overfitting\n",
    "* Set `batch_size` to the highest number that your machine has memory for.  Most people set them to common sizes of memory:\n",
    " * 64\n",
    " * 128\n",
    " * 256\n",
    " * ...\n",
    "* Set `keep_probability` to the probability of keeping a node using dropout"
   ]
  },
  {
   "cell_type": "code",
   "execution_count": 18,
   "metadata": {
    "collapsed": true,
    "deletable": true,
    "editable": true
   },
   "outputs": [],
   "source": [
    "# TODO: Tune Parameters\n",
    "epochs = 30\n",
    "batch_size = 64\n",
    "keep_probability = 0.5"
   ]
  },
  {
   "cell_type": "markdown",
   "metadata": {
    "deletable": true,
    "editable": true
   },
   "source": [
    "### Train on a Single CIFAR-10 Batch\n",
    "Instead of training the neural network on all the CIFAR-10 batches of data, let's use a single batch. This should save time while you iterate on the model to get a better accuracy.  Once the final validation accuracy is 50% or greater, run the model on all the data in the next section."
   ]
  },
  {
   "cell_type": "code",
   "execution_count": 19,
   "metadata": {
    "collapsed": false,
    "deletable": true,
    "editable": true
   },
   "outputs": [
    {
     "name": "stdout",
     "output_type": "stream",
     "text": [
      "Checking the Training on a Single Batch...\n",
      "Epoch  1, CIFAR-10 Batch 1:  Loss:     2.3032 Validation Accuracy: 0.099800\n",
      "Epoch  2, CIFAR-10 Batch 1:  Loss:     2.2317 Validation Accuracy: 0.229000\n",
      "Epoch  3, CIFAR-10 Batch 1:  Loss:     2.2243 Validation Accuracy: 0.236400\n",
      "Epoch  4, CIFAR-10 Batch 1:  Loss:     2.1560 Validation Accuracy: 0.275400\n",
      "Epoch  5, CIFAR-10 Batch 1:  Loss:     2.1298 Validation Accuracy: 0.309800\n",
      "Epoch  6, CIFAR-10 Batch 1:  Loss:     2.0810 Validation Accuracy: 0.346400\n",
      "Epoch  7, CIFAR-10 Batch 1:  Loss:     1.9666 Validation Accuracy: 0.362400\n",
      "Epoch  8, CIFAR-10 Batch 1:  Loss:     1.8990 Validation Accuracy: 0.377200\n",
      "Epoch  9, CIFAR-10 Batch 1:  Loss:     1.8581 Validation Accuracy: 0.382400\n",
      "Epoch 10, CIFAR-10 Batch 1:  Loss:     1.8031 Validation Accuracy: 0.393600\n",
      "Epoch 11, CIFAR-10 Batch 1:  Loss:     1.7879 Validation Accuracy: 0.399200\n",
      "Epoch 12, CIFAR-10 Batch 1:  Loss:     1.7238 Validation Accuracy: 0.409600\n",
      "Epoch 13, CIFAR-10 Batch 1:  Loss:     1.6983 Validation Accuracy: 0.421200\n",
      "Epoch 14, CIFAR-10 Batch 1:  Loss:     1.6740 Validation Accuracy: 0.429000\n",
      "Epoch 15, CIFAR-10 Batch 1:  Loss:     1.6517 Validation Accuracy: 0.430400\n",
      "Epoch 16, CIFAR-10 Batch 1:  Loss:     1.6584 Validation Accuracy: 0.435600\n",
      "Epoch 17, CIFAR-10 Batch 1:  Loss:     1.6256 Validation Accuracy: 0.441400\n",
      "Epoch 18, CIFAR-10 Batch 1:  Loss:     1.6251 Validation Accuracy: 0.439400\n",
      "Epoch 19, CIFAR-10 Batch 1:  Loss:     1.5978 Validation Accuracy: 0.440800\n",
      "Epoch 20, CIFAR-10 Batch 1:  Loss:     1.5698 Validation Accuracy: 0.446800\n",
      "Epoch 21, CIFAR-10 Batch 1:  Loss:     1.5636 Validation Accuracy: 0.450400\n",
      "Epoch 22, CIFAR-10 Batch 1:  Loss:     1.5491 Validation Accuracy: 0.456000\n",
      "Epoch 23, CIFAR-10 Batch 1:  Loss:     1.5637 Validation Accuracy: 0.458400\n",
      "Epoch 24, CIFAR-10 Batch 1:  Loss:     1.5090 Validation Accuracy: 0.451400\n",
      "Epoch 25, CIFAR-10 Batch 1:  Loss:     1.4927 Validation Accuracy: 0.463000\n",
      "Epoch 26, CIFAR-10 Batch 1:  Loss:     1.4915 Validation Accuracy: 0.471200\n",
      "Epoch 27, CIFAR-10 Batch 1:  Loss:     1.4628 Validation Accuracy: 0.459600\n",
      "Epoch 28, CIFAR-10 Batch 1:  Loss:     1.4339 Validation Accuracy: 0.461800\n",
      "Epoch 29, CIFAR-10 Batch 1:  Loss:     1.4302 Validation Accuracy: 0.464200\n",
      "Epoch 30, CIFAR-10 Batch 1:  Loss:     1.4073 Validation Accuracy: 0.470800\n"
     ]
    }
   ],
   "source": [
    "\"\"\"\n",
    "DON'T MODIFY ANYTHING IN THIS CELL\n",
    "\"\"\"\n",
    "print('Checking the Training on a Single Batch...')\n",
    "with tf.Session() as sess:\n",
    "    # Initializing the variables\n",
    "    sess.run(tf.global_variables_initializer())\n",
    "    \n",
    "    # Training cycle\n",
    "    for epoch in range(epochs):\n",
    "        batch_i = 1\n",
    "        for batch_features, batch_labels in helper.load_preprocess_training_batch(batch_i, batch_size):\n",
    "            train_neural_network(sess, optimizer, keep_probability, batch_features, batch_labels)\n",
    "        print('Epoch {:>2}, CIFAR-10 Batch {}:  '.format(epoch + 1, batch_i), end='')\n",
    "        print_stats(sess, batch_features, batch_labels, cost, accuracy)"
   ]
  },
  {
   "cell_type": "markdown",
   "metadata": {
    "deletable": true,
    "editable": true
   },
   "source": [
    "### Fully Train the Model\n",
    "Now that you got a good accuracy with a single CIFAR-10 batch, try it with all five batches."
   ]
  },
  {
   "cell_type": "code",
   "execution_count": 20,
   "metadata": {
    "collapsed": false,
    "deletable": true,
    "editable": true
   },
   "outputs": [
    {
     "name": "stdout",
     "output_type": "stream",
     "text": [
      "Training...\n",
      "Epoch  1, CIFAR-10 Batch 1:  Loss:     2.1670 Validation Accuracy: 0.256000\n",
      "Epoch  1, CIFAR-10 Batch 2:  Loss:     2.0857 Validation Accuracy: 0.285800\n",
      "Epoch  1, CIFAR-10 Batch 3:  Loss:     1.6869 Validation Accuracy: 0.293000\n",
      "Epoch  1, CIFAR-10 Batch 4:  Loss:     1.6690 Validation Accuracy: 0.317200\n",
      "Epoch  1, CIFAR-10 Batch 5:  Loss:     1.9000 Validation Accuracy: 0.367400\n",
      "Epoch  2, CIFAR-10 Batch 1:  Loss:     1.8375 Validation Accuracy: 0.388800\n",
      "Epoch  2, CIFAR-10 Batch 2:  Loss:     1.7699 Validation Accuracy: 0.390400\n",
      "Epoch  2, CIFAR-10 Batch 3:  Loss:     1.3248 Validation Accuracy: 0.416200\n",
      "Epoch  2, CIFAR-10 Batch 4:  Loss:     1.5262 Validation Accuracy: 0.412800\n",
      "Epoch  2, CIFAR-10 Batch 5:  Loss:     1.8532 Validation Accuracy: 0.441200\n",
      "Epoch  3, CIFAR-10 Batch 1:  Loss:     1.6562 Validation Accuracy: 0.464400\n",
      "Epoch  3, CIFAR-10 Batch 2:  Loss:     1.5654 Validation Accuracy: 0.454200\n",
      "Epoch  3, CIFAR-10 Batch 3:  Loss:     1.2332 Validation Accuracy: 0.464400\n",
      "Epoch  3, CIFAR-10 Batch 4:  Loss:     1.4461 Validation Accuracy: 0.471600\n",
      "Epoch  3, CIFAR-10 Batch 5:  Loss:     1.6727 Validation Accuracy: 0.494200\n",
      "Epoch  4, CIFAR-10 Batch 1:  Loss:     1.5708 Validation Accuracy: 0.482800\n",
      "Epoch  4, CIFAR-10 Batch 2:  Loss:     1.4649 Validation Accuracy: 0.489400\n",
      "Epoch  4, CIFAR-10 Batch 3:  Loss:     1.1666 Validation Accuracy: 0.500800\n",
      "Epoch  4, CIFAR-10 Batch 4:  Loss:     1.3429 Validation Accuracy: 0.496200\n",
      "Epoch  4, CIFAR-10 Batch 5:  Loss:     1.5403 Validation Accuracy: 0.531600\n",
      "Epoch  5, CIFAR-10 Batch 1:  Loss:     1.3807 Validation Accuracy: 0.535000\n",
      "Epoch  5, CIFAR-10 Batch 2:  Loss:     1.2675 Validation Accuracy: 0.532400\n",
      "Epoch  5, CIFAR-10 Batch 3:  Loss:     1.0710 Validation Accuracy: 0.538600\n",
      "Epoch  5, CIFAR-10 Batch 4:  Loss:     1.1580 Validation Accuracy: 0.546400\n",
      "Epoch  5, CIFAR-10 Batch 5:  Loss:     1.3311 Validation Accuracy: 0.550000\n",
      "Epoch  6, CIFAR-10 Batch 1:  Loss:     1.3279 Validation Accuracy: 0.540200\n",
      "Epoch  6, CIFAR-10 Batch 2:  Loss:     1.1815 Validation Accuracy: 0.540000\n",
      "Epoch  6, CIFAR-10 Batch 3:  Loss:     1.0246 Validation Accuracy: 0.556200\n",
      "Epoch  6, CIFAR-10 Batch 4:  Loss:     1.0876 Validation Accuracy: 0.564200\n",
      "Epoch  6, CIFAR-10 Batch 5:  Loss:     1.2703 Validation Accuracy: 0.554000\n",
      "Epoch  7, CIFAR-10 Batch 1:  Loss:     1.3602 Validation Accuracy: 0.553200\n",
      "Epoch  7, CIFAR-10 Batch 2:  Loss:     1.1045 Validation Accuracy: 0.556400\n",
      "Epoch  7, CIFAR-10 Batch 3:  Loss:     0.9790 Validation Accuracy: 0.560400\n",
      "Epoch  7, CIFAR-10 Batch 4:  Loss:     0.9700 Validation Accuracy: 0.570000\n",
      "Epoch  7, CIFAR-10 Batch 5:  Loss:     1.2101 Validation Accuracy: 0.560200\n",
      "Epoch  8, CIFAR-10 Batch 1:  Loss:     1.3232 Validation Accuracy: 0.573000\n",
      "Epoch  8, CIFAR-10 Batch 2:  Loss:     1.1002 Validation Accuracy: 0.575400\n",
      "Epoch  8, CIFAR-10 Batch 3:  Loss:     0.9090 Validation Accuracy: 0.577400\n",
      "Epoch  8, CIFAR-10 Batch 4:  Loss:     0.9404 Validation Accuracy: 0.581200\n",
      "Epoch  8, CIFAR-10 Batch 5:  Loss:     1.0996 Validation Accuracy: 0.581400\n",
      "Epoch  9, CIFAR-10 Batch 1:  Loss:     1.3052 Validation Accuracy: 0.577000\n",
      "Epoch  9, CIFAR-10 Batch 2:  Loss:     1.0379 Validation Accuracy: 0.575400\n",
      "Epoch  9, CIFAR-10 Batch 3:  Loss:     0.8859 Validation Accuracy: 0.588600\n",
      "Epoch  9, CIFAR-10 Batch 4:  Loss:     0.8905 Validation Accuracy: 0.593200\n",
      "Epoch  9, CIFAR-10 Batch 5:  Loss:     1.0367 Validation Accuracy: 0.595000\n",
      "Epoch 10, CIFAR-10 Batch 1:  Loss:     1.2286 Validation Accuracy: 0.592200\n",
      "Epoch 10, CIFAR-10 Batch 2:  Loss:     0.9759 Validation Accuracy: 0.565800\n",
      "Epoch 10, CIFAR-10 Batch 3:  Loss:     0.8300 Validation Accuracy: 0.586000\n",
      "Epoch 10, CIFAR-10 Batch 4:  Loss:     0.9090 Validation Accuracy: 0.600600\n",
      "Epoch 10, CIFAR-10 Batch 5:  Loss:     0.9703 Validation Accuracy: 0.602000\n",
      "Epoch 11, CIFAR-10 Batch 1:  Loss:     1.1393 Validation Accuracy: 0.608200\n",
      "Epoch 11, CIFAR-10 Batch 2:  Loss:     0.9487 Validation Accuracy: 0.592800\n",
      "Epoch 11, CIFAR-10 Batch 3:  Loss:     0.8149 Validation Accuracy: 0.603800\n",
      "Epoch 11, CIFAR-10 Batch 4:  Loss:     0.8411 Validation Accuracy: 0.609000\n",
      "Epoch 11, CIFAR-10 Batch 5:  Loss:     0.9514 Validation Accuracy: 0.611800\n",
      "Epoch 12, CIFAR-10 Batch 1:  Loss:     1.1232 Validation Accuracy: 0.609400\n",
      "Epoch 12, CIFAR-10 Batch 2:  Loss:     0.8875 Validation Accuracy: 0.608600\n",
      "Epoch 12, CIFAR-10 Batch 3:  Loss:     0.7670 Validation Accuracy: 0.597200\n",
      "Epoch 12, CIFAR-10 Batch 4:  Loss:     0.8089 Validation Accuracy: 0.608000\n",
      "Epoch 12, CIFAR-10 Batch 5:  Loss:     0.9221 Validation Accuracy: 0.616000\n",
      "Epoch 13, CIFAR-10 Batch 1:  Loss:     1.1196 Validation Accuracy: 0.607000\n",
      "Epoch 13, CIFAR-10 Batch 2:  Loss:     0.8686 Validation Accuracy: 0.595000\n",
      "Epoch 13, CIFAR-10 Batch 3:  Loss:     0.7373 Validation Accuracy: 0.605800\n",
      "Epoch 13, CIFAR-10 Batch 4:  Loss:     0.7669 Validation Accuracy: 0.615400\n",
      "Epoch 13, CIFAR-10 Batch 5:  Loss:     0.9023 Validation Accuracy: 0.616600\n",
      "Epoch 14, CIFAR-10 Batch 1:  Loss:     1.1504 Validation Accuracy: 0.611200\n",
      "Epoch 14, CIFAR-10 Batch 2:  Loss:     0.8451 Validation Accuracy: 0.613400\n",
      "Epoch 14, CIFAR-10 Batch 3:  Loss:     0.6918 Validation Accuracy: 0.609000\n",
      "Epoch 14, CIFAR-10 Batch 4:  Loss:     0.7726 Validation Accuracy: 0.618800\n",
      "Epoch 14, CIFAR-10 Batch 5:  Loss:     0.8103 Validation Accuracy: 0.623600\n",
      "Epoch 15, CIFAR-10 Batch 1:  Loss:     1.0983 Validation Accuracy: 0.619000\n",
      "Epoch 15, CIFAR-10 Batch 2:  Loss:     0.8050 Validation Accuracy: 0.613200\n",
      "Epoch 15, CIFAR-10 Batch 3:  Loss:     0.6978 Validation Accuracy: 0.615800\n",
      "Epoch 15, CIFAR-10 Batch 4:  Loss:     0.7518 Validation Accuracy: 0.614600\n",
      "Epoch 15, CIFAR-10 Batch 5:  Loss:     0.8534 Validation Accuracy: 0.613600\n",
      "Epoch 16, CIFAR-10 Batch 1:  Loss:     1.0519 Validation Accuracy: 0.628400\n",
      "Epoch 16, CIFAR-10 Batch 2:  Loss:     0.8408 Validation Accuracy: 0.611000\n",
      "Epoch 16, CIFAR-10 Batch 3:  Loss:     0.7199 Validation Accuracy: 0.615200\n",
      "Epoch 16, CIFAR-10 Batch 4:  Loss:     0.7532 Validation Accuracy: 0.623400\n",
      "Epoch 16, CIFAR-10 Batch 5:  Loss:     0.8365 Validation Accuracy: 0.619200\n",
      "Epoch 17, CIFAR-10 Batch 1:  Loss:     1.1211 Validation Accuracy: 0.610600\n",
      "Epoch 17, CIFAR-10 Batch 2:  Loss:     0.8462 Validation Accuracy: 0.618000\n",
      "Epoch 17, CIFAR-10 Batch 3:  Loss:     0.6909 Validation Accuracy: 0.618200\n",
      "Epoch 17, CIFAR-10 Batch 4:  Loss:     0.7107 Validation Accuracy: 0.628600\n",
      "Epoch 17, CIFAR-10 Batch 5:  Loss:     0.7483 Validation Accuracy: 0.626400\n",
      "Epoch 18, CIFAR-10 Batch 1:  Loss:     1.0750 Validation Accuracy: 0.614600\n",
      "Epoch 18, CIFAR-10 Batch 2:  Loss:     0.7809 Validation Accuracy: 0.626200\n",
      "Epoch 18, CIFAR-10 Batch 3:  Loss:     0.6936 Validation Accuracy: 0.622600\n",
      "Epoch 18, CIFAR-10 Batch 4:  Loss:     0.7139 Validation Accuracy: 0.622000\n",
      "Epoch 18, CIFAR-10 Batch 5:  Loss:     0.7793 Validation Accuracy: 0.627200\n",
      "Epoch 19, CIFAR-10 Batch 1:  Loss:     1.0413 Validation Accuracy: 0.615800\n",
      "Epoch 19, CIFAR-10 Batch 2:  Loss:     0.6964 Validation Accuracy: 0.625000\n",
      "Epoch 19, CIFAR-10 Batch 3:  Loss:     0.6296 Validation Accuracy: 0.622400\n",
      "Epoch 19, CIFAR-10 Batch 4:  Loss:     0.6902 Validation Accuracy: 0.637800\n",
      "Epoch 19, CIFAR-10 Batch 5:  Loss:     0.7178 Validation Accuracy: 0.634400\n",
      "Epoch 20, CIFAR-10 Batch 1:  Loss:     1.0165 Validation Accuracy: 0.618200\n",
      "Epoch 20, CIFAR-10 Batch 2:  Loss:     0.7808 Validation Accuracy: 0.620000\n",
      "Epoch 20, CIFAR-10 Batch 3:  Loss:     0.5908 Validation Accuracy: 0.625000\n",
      "Epoch 20, CIFAR-10 Batch 4:  Loss:     0.6294 Validation Accuracy: 0.634000\n",
      "Epoch 20, CIFAR-10 Batch 5:  Loss:     0.7084 Validation Accuracy: 0.630800\n",
      "Epoch 21, CIFAR-10 Batch 1:  Loss:     0.9776 Validation Accuracy: 0.627800\n",
      "Epoch 21, CIFAR-10 Batch 2:  Loss:     0.7246 Validation Accuracy: 0.623000\n",
      "Epoch 21, CIFAR-10 Batch 3:  Loss:     0.6026 Validation Accuracy: 0.617600\n",
      "Epoch 21, CIFAR-10 Batch 4:  Loss:     0.6634 Validation Accuracy: 0.626800\n",
      "Epoch 21, CIFAR-10 Batch 5:  Loss:     0.7196 Validation Accuracy: 0.626400\n",
      "Epoch 22, CIFAR-10 Batch 1:  Loss:     0.9606 Validation Accuracy: 0.629600\n",
      "Epoch 22, CIFAR-10 Batch 2:  Loss:     0.7260 Validation Accuracy: 0.625600\n",
      "Epoch 22, CIFAR-10 Batch 3:  Loss:     0.6302 Validation Accuracy: 0.617400\n",
      "Epoch 22, CIFAR-10 Batch 4:  Loss:     0.6658 Validation Accuracy: 0.623000\n",
      "Epoch 22, CIFAR-10 Batch 5:  Loss:     0.5852 Validation Accuracy: 0.628600\n",
      "Epoch 23, CIFAR-10 Batch 1:  Loss:     0.8841 Validation Accuracy: 0.622800\n",
      "Epoch 23, CIFAR-10 Batch 2:  Loss:     0.7009 Validation Accuracy: 0.639400\n",
      "Epoch 23, CIFAR-10 Batch 3:  Loss:     0.5504 Validation Accuracy: 0.623800\n",
      "Epoch 23, CIFAR-10 Batch 4:  Loss:     0.6608 Validation Accuracy: 0.630600\n",
      "Epoch 23, CIFAR-10 Batch 5:  Loss:     0.6476 Validation Accuracy: 0.626400\n",
      "Epoch 24, CIFAR-10 Batch 1:  Loss:     0.9857 Validation Accuracy: 0.639400\n",
      "Epoch 24, CIFAR-10 Batch 2:  Loss:     0.7453 Validation Accuracy: 0.633000\n",
      "Epoch 24, CIFAR-10 Batch 3:  Loss:     0.5386 Validation Accuracy: 0.625000\n",
      "Epoch 24, CIFAR-10 Batch 4:  Loss:     0.6211 Validation Accuracy: 0.627800\n",
      "Epoch 24, CIFAR-10 Batch 5:  Loss:     0.6364 Validation Accuracy: 0.624800\n",
      "Epoch 25, CIFAR-10 Batch 1:  Loss:     0.9176 Validation Accuracy: 0.634000\n",
      "Epoch 25, CIFAR-10 Batch 2:  Loss:     0.7075 Validation Accuracy: 0.630200\n",
      "Epoch 25, CIFAR-10 Batch 3:  Loss:     0.5683 Validation Accuracy: 0.627000\n",
      "Epoch 25, CIFAR-10 Batch 4:  Loss:     0.6418 Validation Accuracy: 0.631000\n",
      "Epoch 25, CIFAR-10 Batch 5:  Loss:     0.6088 Validation Accuracy: 0.631000\n",
      "Epoch 26, CIFAR-10 Batch 1:  Loss:     0.8682 Validation Accuracy: 0.633600\n",
      "Epoch 26, CIFAR-10 Batch 2:  Loss:     0.7762 Validation Accuracy: 0.620800\n",
      "Epoch 26, CIFAR-10 Batch 3:  Loss:     0.4798 Validation Accuracy: 0.629800\n",
      "Epoch 26, CIFAR-10 Batch 4:  Loss:     0.6431 Validation Accuracy: 0.631200\n",
      "Epoch 26, CIFAR-10 Batch 5:  Loss:     0.6123 Validation Accuracy: 0.628000\n",
      "Epoch 27, CIFAR-10 Batch 1:  Loss:     0.8708 Validation Accuracy: 0.639400\n",
      "Epoch 27, CIFAR-10 Batch 2:  Loss:     0.7469 Validation Accuracy: 0.638600\n",
      "Epoch 27, CIFAR-10 Batch 3:  Loss:     0.5333 Validation Accuracy: 0.628200\n",
      "Epoch 27, CIFAR-10 Batch 4:  Loss:     0.6165 Validation Accuracy: 0.635000\n",
      "Epoch 27, CIFAR-10 Batch 5:  Loss:     0.6027 Validation Accuracy: 0.620400\n",
      "Epoch 28, CIFAR-10 Batch 1:  Loss:     0.8892 Validation Accuracy: 0.633000\n",
      "Epoch 28, CIFAR-10 Batch 2:  Loss:     0.6983 Validation Accuracy: 0.622800\n",
      "Epoch 28, CIFAR-10 Batch 3:  Loss:     0.5838 Validation Accuracy: 0.614400\n",
      "Epoch 28, CIFAR-10 Batch 4:  Loss:     0.5467 Validation Accuracy: 0.638800\n",
      "Epoch 28, CIFAR-10 Batch 5:  Loss:     0.5923 Validation Accuracy: 0.633600\n",
      "Epoch 29, CIFAR-10 Batch 1:  Loss:     0.8337 Validation Accuracy: 0.634800\n",
      "Epoch 29, CIFAR-10 Batch 2:  Loss:     0.7061 Validation Accuracy: 0.629600\n",
      "Epoch 29, CIFAR-10 Batch 3:  Loss:     0.5158 Validation Accuracy: 0.629800\n",
      "Epoch 29, CIFAR-10 Batch 4:  Loss:     0.5704 Validation Accuracy: 0.632400\n",
      "Epoch 29, CIFAR-10 Batch 5:  Loss:     0.5785 Validation Accuracy: 0.629200\n",
      "Epoch 30, CIFAR-10 Batch 1:  Loss:     0.7988 Validation Accuracy: 0.637800\n",
      "Epoch 30, CIFAR-10 Batch 2:  Loss:     0.6777 Validation Accuracy: 0.629800\n",
      "Epoch 30, CIFAR-10 Batch 3:  Loss:     0.5069 Validation Accuracy: 0.615200\n",
      "Epoch 30, CIFAR-10 Batch 4:  Loss:     0.5896 Validation Accuracy: 0.641600\n",
      "Epoch 30, CIFAR-10 Batch 5:  Loss:     0.6086 Validation Accuracy: 0.620000\n"
     ]
    }
   ],
   "source": [
    "\"\"\"\n",
    "DON'T MODIFY ANYTHING IN THIS CELL\n",
    "\"\"\"\n",
    "save_model_path = './image_classification'\n",
    "\n",
    "print('Training...')\n",
    "with tf.Session() as sess:\n",
    "    # Initializing the variables\n",
    "    sess.run(tf.global_variables_initializer())\n",
    "    \n",
    "    # Training cycle\n",
    "    for epoch in range(epochs):\n",
    "        # Loop over all batches\n",
    "        n_batches = 5\n",
    "        for batch_i in range(1, n_batches + 1):\n",
    "            for batch_features, batch_labels in helper.load_preprocess_training_batch(batch_i, batch_size):\n",
    "                train_neural_network(sess, optimizer, keep_probability, batch_features, batch_labels)\n",
    "            print('Epoch {:>2}, CIFAR-10 Batch {}:  '.format(epoch + 1, batch_i), end='')\n",
    "            print_stats(sess, batch_features, batch_labels, cost, accuracy)\n",
    "            \n",
    "    # Save Model\n",
    "    saver = tf.train.Saver()\n",
    "    save_path = saver.save(sess, save_model_path)"
   ]
  },
  {
   "cell_type": "markdown",
   "metadata": {
    "deletable": true,
    "editable": true
   },
   "source": [
    "# Checkpoint\n",
    "The model has been saved to disk.\n",
    "## Test Model\n",
    "Test your model against the test dataset.  This will be your final accuracy. You should have an accuracy greater than 50%. If you don't, keep tweaking the model architecture and parameters."
   ]
  },
  {
   "cell_type": "code",
   "execution_count": 21,
   "metadata": {
    "collapsed": false,
    "deletable": true,
    "editable": true
   },
   "outputs": [
    {
     "name": "stdout",
     "output_type": "stream",
     "text": [
      "Testing Accuracy: 0.6161425159235668\n",
      "\n"
     ]
    },
    {
     "data": {
      "image/png": "[encoded data removed]",
      "text/plain": [
       "<matplotlib.figure.Figure at 0x7f0d0dcbaef0>"
      ]
     },
     "metadata": {
      "image/png": {
       "height": 319,
       "width": 355
      }
     },
     "output_type": "display_data"
    }
   ],
   "source": [
    "\"\"\"\n",
    "DON'T MODIFY ANYTHING IN THIS CELL\n",
    "\"\"\"\n",
    "%matplotlib inline\n",
    "%config InlineBackend.figure_format = 'retina'\n",
    "\n",
    "import tensorflow as tf\n",
    "import pickle\n",
    "import helper\n",
    "import random\n",
    "\n",
    "# Set batch size if not already set\n",
    "try:\n",
    "    if batch_size:\n",
    "        pass\n",
    "except NameError:\n",
    "    batch_size = 64\n",
    "\n",
    "save_model_path = './image_classification'\n",
    "n_samples = 4\n",
    "top_n_predictions = 3\n",
    "\n",
    "def test_model():\n",
    "    \"\"\"\n",
    "    Test the saved model against the test dataset\n",
    "    \"\"\"\n",
    "\n",
    "    test_features, test_labels = pickle.load(open('preprocess_training.p', mode='rb'))\n",
    "    loaded_graph = tf.Graph()\n",
    "\n",
    "    with tf.Session(graph=loaded_graph) as sess:\n",
    "        # Load model\n",
    "        loader = tf.train.import_meta_graph(save_model_path + '.meta')\n",
    "        loader.restore(sess, save_model_path)\n",
    "\n",
    "        # Get Tensors from loaded model\n",
    "        loaded_x = loaded_graph.get_tensor_by_name('x:0')\n",
    "        loaded_y = loaded_graph.get_tensor_by_name('y:0')\n",
    "        loaded_keep_prob = loaded_graph.get_tensor_by_name('keep_prob:0')\n",
    "        loaded_logits = loaded_graph.get_tensor_by_name('logits:0')\n",
    "        loaded_acc = loaded_graph.get_tensor_by_name('accuracy:0')\n",
    "        \n",
    "        # Get accuracy in batches for memory limitations\n",
    "        test_batch_acc_total = 0\n",
    "        test_batch_count = 0\n",
    "        \n",
    "        for train_feature_batch, train_label_batch in helper.batch_features_labels(test_features, test_labels, batch_size):\n",
    "            test_batch_acc_total += sess.run(\n",
    "                loaded_acc,\n",
    "                feed_dict={loaded_x: train_feature_batch, loaded_y: train_label_batch, loaded_keep_prob: 1.0})\n",
    "            test_batch_count += 1\n",
    "\n",
    "        print('Testing Accuracy: {}\\n'.format(test_batch_acc_total/test_batch_count))\n",
    "\n",
    "        # Print Random Samples\n",
    "        random_test_features, random_test_labels = tuple(zip(*random.sample(list(zip(test_features, test_labels)), n_samples)))\n",
    "        random_test_predictions = sess.run(\n",
    "            tf.nn.top_k(tf.nn.softmax(loaded_logits), top_n_predictions),\n",
    "            feed_dict={loaded_x: random_test_features, loaded_y: random_test_labels, loaded_keep_prob: 1.0})\n",
    "        helper.display_image_predictions(random_test_features, random_test_labels, random_test_predictions)\n",
    "\n",
    "\n",
    "test_model()"
   ]
  },
  {
   "cell_type": "markdown",
   "metadata": {
    "deletable": true,
    "editable": true
   },
   "source": [
    "## Why 50-80% Accuracy?\n",
    "You might be wondering why you can't get an accuracy any higher. First things first, 50% isn't bad for a simple CNN.  Pure guessing would get you 10% accuracy. That's because there are many more techniques that can be applied to your model and we recemmond that once you are done with this project, you explore!\n",
    "\n",
    "## Submitting This Project\n",
    "When submitting this project, make sure to run all the cells before saving the notebook.  Save the notebook file as \"image_classification.ipynb\" and save it as a HTML file under \"File\" -> \"Download as\".  Include the \"helper.py\" and \"problem_unittests.py\" files in your submission."
   ]
  }
 ],
 "metadata": {
  "kernelspec": {
   "display_name": "Python 3",
   "language": "python",
   "name": "python3"
  },
  "language_info": {
   "codemirror_mode": {
    "name": "ipython",
    "version": 3
   },
   "file_extension": ".py",
   "mimetype": "text/x-python",
   "name": "python",
   "nbconvert_exporter": "python",
   "pygments_lexer": "ipython3",
   "version": "3.5.2"
  },
  "widgets": {
   "state": {},
   "version": "1.1.2"
  }
 },
 "nbformat": 4,
 "nbformat_minor": 0
}
