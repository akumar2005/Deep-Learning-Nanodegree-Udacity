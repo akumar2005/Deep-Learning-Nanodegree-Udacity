{
 "cells": [
  {
   "cell_type": "markdown",
   "metadata": {
    "deletable": true,
    "editable": true
   },
   "source": [
    "# TV Script Generation\n",
    "In this project, you'll generate your own [Simpsons](https://en.wikipedia.org/wiki/The_Simpsons) TV scripts using RNNs.  You'll be using part of the [Simpsons dataset](https://www.kaggle.com/wcukierski/the-simpsons-by-the-data) of scripts from 27 seasons.  The Neural Network you'll build will generate a new TV script for a scene at [Moe's Tavern](https://simpsonswiki.com/wiki/Moe's_Tavern).\n",
    "## Get the Data\n",
    "The data is already provided for you.  You'll be using a subset of the original dataset.  It consists of only the scenes in Moe's Tavern.  This doesn't include other versions of the tavern, like \"Moe's Cavern\", \"Flaming Moe's\", \"Uncle Moe's Family Feed-Bag\", etc.."
   ]
  },
  {
   "cell_type": "code",
   "execution_count": 1,
   "metadata": {
    "collapsed": false,
    "deletable": true,
    "editable": true
   },
   "outputs": [],
   "source": [
    "\"\"\"\n",
    "DON'T MODIFY ANYTHING IN THIS CELL\n",
    "\"\"\"\n",
    "import helper\n",
    "\n",
    "data_dir = 'data/simpsons/moes_tavern_lines.txt'\n",
    "text = helper.load_data(data_dir)\n",
    "# Ignore notice, since we don't use it for analysing the data\n",
    "text = text[81:]"
   ]
  },
  {
   "cell_type": "markdown",
   "metadata": {
    "deletable": true,
    "editable": true
   },
   "source": [
    "## Explore the Data\n",
    "Play around with `view_sentence_range` to view different parts of the data."
   ]
  },
  {
   "cell_type": "code",
   "execution_count": 2,
   "metadata": {
    "collapsed": false,
    "deletable": true,
    "editable": true
   },
   "outputs": [
    {
     "name": "stdout",
     "output_type": "stream",
     "text": [
      "Dataset Stats\n",
      "Roughly the number of unique words: 11492\n",
      "Number of scenes: 262\n",
      "Average number of sentences in each scene: 15.248091603053435\n",
      "Number of lines: 4257\n",
      "Average number of words in each line: 11.50434578341555\n",
      "\n",
      "The sentences 0 to 10:\n",
      "Moe_Szyslak: (INTO PHONE) Moe's Tavern. Where the elite meet to drink.\n",
      "Bart_Simpson: Eh, yeah, hello, is Mike there? Last name, Rotch.\n",
      "Moe_Szyslak: (INTO PHONE) Hold on, I'll check. (TO BARFLIES) Mike Rotch. Mike Rotch. Hey, has anybody seen Mike Rotch, lately?\n",
      "Moe_Szyslak: (INTO PHONE) Listen you little puke. One of these days I'm gonna catch you, and I'm gonna carve my name on your back with an ice pick.\n",
      "Moe_Szyslak: What's the matter Homer? You're not your normal effervescent self.\n",
      "Homer_Simpson: I got my problems, Moe. Give me another one.\n",
      "Moe_Szyslak: Homer, hey, you should not drink to forget your problems.\n",
      "Barney_Gumble: Yeah, you should only drink to enhance your social skills.\n",
      "\n",
      "\n"
     ]
    }
   ],
   "source": [
    "view_sentence_range = (0, 10)\n",
    "\n",
    "\"\"\"\n",
    "DON'T MODIFY ANYTHING IN THIS CELL\n",
    "\"\"\"\n",
    "import numpy as np\n",
    "\n",
    "print('Dataset Stats')\n",
    "print('Roughly the number of unique words: {}'.format(len({word: None for word in text.split()})))\n",
    "scenes = text.split('\\n\\n')\n",
    "print('Number of scenes: {}'.format(len(scenes)))\n",
    "sentence_count_scene = [scene.count('\\n') for scene in scenes]\n",
    "print('Average number of sentences in each scene: {}'.format(np.average(sentence_count_scene)))\n",
    "\n",
    "sentences = [sentence for scene in scenes for sentence in scene.split('\\n')]\n",
    "print('Number of lines: {}'.format(len(sentences)))\n",
    "word_count_sentence = [len(sentence.split()) for sentence in sentences]\n",
    "print('Average number of words in each line: {}'.format(np.average(word_count_sentence)))\n",
    "\n",
    "print()\n",
    "print('The sentences {} to {}:'.format(*view_sentence_range))\n",
    "print('\\n'.join(text.split('\\n')[view_sentence_range[0]:view_sentence_range[1]]))"
   ]
  },
  {
   "cell_type": "markdown",
   "metadata": {
    "deletable": true,
    "editable": true
   },
   "source": [
    "## Implement Preprocessing Functions\n",
    "The first thing to do to any dataset is preprocessing.  Implement the following preprocessing functions below:\n",
    "- Lookup Table\n",
    "- Tokenize Punctuation\n",
    "\n",
    "### Lookup Table\n",
    "To create a word embedding, you first need to transform the words to ids.  In this function, create two dictionaries:\n",
    "- Dictionary to go from the words to an id, we'll call `vocab_to_int`\n",
    "- Dictionary to go from the id to word, we'll call `int_to_vocab`\n",
    "\n",
    "Return these dictionaries in the following tuple `(vocab_to_int, int_to_vocab)`"
   ]
  },
  {
   "cell_type": "code",
   "execution_count": 3,
   "metadata": {
    "collapsed": false,
    "deletable": true,
    "editable": true
   },
   "outputs": [
    {
     "name": "stdout",
     "output_type": "stream",
     "text": [
      "<class 'list'>\n",
      "['moe_szyslak', \"moe's\", 'tavern', 'where', 'the']\n",
      "{0: 'moe_szyslak', 1: 'your', 2: 'you', 3: 'rotch', 4: 'mike', 5: 'drink', 6: 'to', 7: 'my', 8: 'gonna', 9: 'on', 10: 'should', 11: 'name', 12: 'yeah', 13: 'not', 14: \"i'm\", 15: 'the', 16: 'homer', 17: 'hey', 18: 'one', 19: 'problems', 20: 'bart_simpson', 21: 'barney_gumble', 22: 'back', 23: 'eh', 24: 'whats', 25: 'pick', 26: 'self', 27: 'with', 28: 'elite', 29: 'forget', 30: 'listen', 31: 'social', 32: 'hello', 33: 'anybody', 34: 'got', 35: \"i'll\", 36: 'tavern', 37: 'check', 38: 'is', 39: 'there', 40: 'an', 41: 'carve', 42: 'hold', 43: 'only', 44: 'me', 45: 'moe', 46: 'catch', 47: 'of', 48: 'puke', 49: 'meet', 50: 'enhance', 51: 'matter', 52: 'effervescent', 53: 'i', 54: 'where', 55: 'give', 56: 'another', 57: 'seen', 58: 'days', 59: 'little', 60: 'and', 61: 'these', 62: \"moe's\", 63: 'normal', 64: \"you're\", 65: 'ice', 66: 'homer_simpson', 67: 'has', 68: 'skills', 69: 'last', 70: 'lately'}\n",
      "{'bart_simpson': 20, \"i'm\": 14, 'barney_gumble': 21, 'back': 22, 'these': 61, 'whats': 24, 'got': 34, 'pick': 25, 'self': 26, 'gonna': 8, 'drink': 5, 'on': 9, 'elite': 28, 'should': 10, 'name': 11, 'forget': 29, 'your': 1, 'listen': 30, 'social': 31, 'normal': 63, 'anybody': 33, 'yeah': 12, \"i'll\": 35, 'not': 13, 'tavern': 36, 'hello': 32, 'you': 2, 'mike': 4, 'is': 38, 'rotch': 3, 'there': 39, 'an': 40, 'my': 7, 'hold': 42, 'only': 43, 'give': 55, 'moe': 45, 'catch': 46, 'the': 15, 'of': 47, 'with': 27, 'homer': 16, 'moe_szyslak': 0, 'has': 67, 'meet': 49, 'enhance': 50, 'matter': 51, 'effervescent': 52, 'i': 53, 'lately': 70, 'where': 54, 'me': 44, 'seen': 57, 'days': 58, 'little': 59, 'to': 6, 'and': 60, 'eh': 23, \"moe's\": 62, 'carve': 41, \"you're\": 64, 'ice': 65, 'hey': 17, 'check': 37, 'one': 18, 'homer_simpson': 66, 'puke': 48, 'another': 56, 'skills': 68, 'last': 69, 'problems': 19}\n",
      "71\n",
      "Tests Passed\n"
     ]
    }
   ],
   "source": [
    "import numpy as np\n",
    "import problem_unittests as tests\n",
    "from collections import Counter\n",
    "\n",
    "def create_lookup_tables(text):\n",
    "    \"\"\"\n",
    "    Create lookup tables for vocabulary\n",
    "    :param text: The text of tv scripts split into words\n",
    "    :return: A tuple of dicts (vocab_to_int, int_to_vocab)\n",
    "    \"\"\"\n",
    "    # Check text\n",
    "    print(type(text))\n",
    "    print(text[:5])\n",
    "    \n",
    "    # create dictionaries and fill them \n",
    "    word_counts = Counter(text)\n",
    "    sorted_vocab = sorted(word_counts, key=word_counts.get, reverse=True)\n",
    "    int_to_vocab = {i: word for i, word in enumerate(sorted_vocab)}\n",
    "    vocab_to_int = {word: i for i, word in int_to_vocab.items()}\n",
    "    \n",
    "    print(int_to_vocab)\n",
    "    print(vocab_to_int)\n",
    "    print(len(int_to_vocab))\n",
    "    \n",
    "    # Return values \n",
    "    return vocab_to_int, int_to_vocab\n",
    "\n",
    "\n",
    "\"\"\"\n",
    "DON'T MODIFY ANYTHING IN THIS CELL THAT IS BELOW THIS LINE\n",
    "\"\"\"\n",
    "tests.test_create_lookup_tables(create_lookup_tables)"
   ]
  },
  {
   "cell_type": "markdown",
   "metadata": {
    "deletable": true,
    "editable": true
   },
   "source": [
    "### Tokenize Punctuation\n",
    "We'll be splitting the script into a word array using spaces as delimiters.  However, punctuations like periods and exclamation marks make it hard for the neural network to distinguish between the word \"bye\" and \"bye!\".\n",
    "\n",
    "Implement the function `token_lookup` to return a dict that will be used to tokenize symbols like \"!\" into \"||Exclamation_Mark||\".  Create a dictionary for the following symbols where the symbol is the key and value is the token:\n",
    "- Period ( . )\n",
    "- Comma ( , )\n",
    "- Quotation Mark ( \" )\n",
    "- Semicolon ( ; )\n",
    "- Exclamation mark ( ! )\n",
    "- Question mark ( ? )\n",
    "- Left Parentheses ( ( )\n",
    "- Right Parentheses ( ) )\n",
    "- Dash ( -- )\n",
    "- Return ( \\n )\n",
    "\n",
    "This dictionary will be used to token the symbols and add the delimiter (space) around it.  This separates the symbols as it's own word, making it easier for the neural network to predict on the next word. Make sure you don't use a token that could be confused as a word. Instead of using the token \"dash\", try using something like \"||dash||\"."
   ]
  },
  {
   "cell_type": "code",
   "execution_count": 4,
   "metadata": {
    "collapsed": false,
    "deletable": true,
    "editable": true
   },
   "outputs": [
    {
     "name": "stdout",
     "output_type": "stream",
     "text": [
      "Tests Passed\n"
     ]
    }
   ],
   "source": [
    "def token_lookup():\n",
    "    \"\"\"\n",
    "    Generate a dict to turn punctuation into a token.\n",
    "    :return: Tokenize dictionary where the key is the punctuation and the value is the token\n",
    "    \"\"\"\n",
    "    # Create a hash table and fill it with the previous values \n",
    "    token_dict = {\n",
    "    '.': '|Period|',\n",
    "    ',': '|Comma|',\n",
    "    '\"': '|Quotation_Mark|', \n",
    "    ';': '|Semicolon|',\n",
    "    '!': '|Exclamation_mark|',\n",
    "    '?': '|Question_mark|',\n",
    "    '(': '|Left_Parentheses|',\n",
    "    ')': '|Right_Parentheses|',\n",
    "    '--': '|Dash|',\n",
    "    '\\n': '|Return|' \n",
    "    }\n",
    "    return token_dict\n",
    "\n",
    "\"\"\"\n",
    "DON'T MODIFY ANYTHING IN THIS CELL THAT IS BELOW THIS LINE\n",
    "\"\"\"\n",
    "tests.test_tokenize(token_lookup)"
   ]
  },
  {
   "cell_type": "markdown",
   "metadata": {
    "deletable": true,
    "editable": true
   },
   "source": [
    "## Preprocess all the data and save it\n",
    "Running the code cell below will preprocess all the data and save it to file."
   ]
  },
  {
   "cell_type": "code",
   "execution_count": 5,
   "metadata": {
    "collapsed": false,
    "deletable": true,
    "editable": true
   },
   "outputs": [
    {
     "name": "stdout",
     "output_type": "stream",
     "text": [
      "<class 'list'>\n",
      "['moe_szyslak:', '|left_parentheses|', 'into', 'phone', '|right_parentheses|']\n",
      "{0: '|period|', 1: '|return|', 2: '|comma|', 3: '|left_parentheses|', 4: '|right_parentheses|', 5: 'the', 6: 'i', 7: 'you', 8: '|exclamation_mark|', 9: 'moe_szyslak:', 10: '|question_mark|', 11: 'a', 12: 'homer_simpson:', 13: 'to', 14: 'and', 15: 'of', 16: 'my', 17: 'it', 18: 'that', 19: 'in', 20: '|quotation_mark|', 21: 'me', 22: 'is', 23: 'this', 24: \"i'm\", 25: 'for', 26: 'your', 27: 'homer', 28: 'on', 29: 'hey', 30: 'moe', 31: 'oh', 32: 'no', 33: 'lenny_leonard:', 34: 'what', 35: 'with', 36: 'yeah', 37: 'all', 38: 'just', 39: 'like', 40: 'but', 41: 'barney_gumble:', 42: 'so', 43: 'be', 44: 'here', 45: 'carl_carlson:', 46: \"don't\", 47: 'have', 48: 'up', 49: \"it's\", 50: 'well', 51: 'out', 52: 'do', 53: 'was', 54: 'got', 55: 'are', 56: 'get', 57: 'we', 58: \"that's\", 59: 'uh', 60: 'one', 61: \"you're\", 62: 'now', 63: 'not', 64: 'know', 65: 'can', 66: '|dash|', 67: 'at', 68: 'right', 69: '/', 70: 'how', 71: 'if', 72: 'back', 73: 'marge_simpson:', 74: 'about', 75: 'from', 76: 'he', 77: 'go', 78: 'gonna', 79: 'they', 80: 'there', 81: 'beer', 82: 'good', 83: 'who', 84: 'an', 85: 'man', 86: 'okay', 87: 'his', 88: 'little', 89: 'as', 90: 'some', 91: \"can't\", 92: 'then', 93: 'never', 94: \"i'll\", 95: 'come', 96: 'think', 97: 'could', 98: 'him', 99: \"i've\", 100: 'see', 101: 'look', 102: 'want', 103: 'really', 104: 'too', 105: 'guys', 106: 'been', 107: 'make', 108: 'when', 109: 'why', 110: 'bar', 111: 'ya', 112: 'her', 113: 'did', 114: 'time', 115: 'say', 116: 'marge', 117: 'ah', 118: 'gotta', 119: 'or', 120: 'take', 121: 'love', 122: 'into', 123: 'down', 124: 'more', 125: 'our', 126: 'am', 127: 'off', 128: 'guy', 129: 'sure', 130: 'two', 131: 'barney', 132: \"there's\", 133: 'thing', 134: 'lisa_simpson:', 135: 'would', 136: \"we're\", 137: \"he's\", 138: 'need', 139: 'where', 140: 'let', 141: 'had', 142: 'tell', 143: 'big', 144: 'money', 145: 'over', 146: 'drink', 147: 'bart_simpson:', 148: 'something', 149: \"what's\", 150: 'us', 151: 'sorry', 152: 'ever', 153: 'by', 154: 'only', 155: 'will', 156: 'day', 157: 'way', 158: 'wait', 159: 'she', 160: 'chief_wiggum:', 161: 'give', 162: 'even', 163: 'huh', 164: 'god', 165: \"i'd\", 166: 'new', 167: \"ain't\", 168: \"didn't\", 169: 'those', 170: 'people', 171: 'great', 172: 'phone', 173: 'much', 174: 'maybe', 175: 'eh', 176: 'lenny', 177: 'were', 178: \"moe's\", 179: 'life', 180: 'has', 181: 'mean', 182: 'than', 183: 'going', 184: 'place', 185: 'mr', 186: 'better', 187: 'wanna', 188: 'should', 189: 'still', 190: 'these', 191: \"you've\", 192: 'around', 193: 'home', 194: \"'em\", 195: 'old', 196: 'help', 197: 'friend', 198: 'before', 199: 'noise', 200: 'night', 201: 'name', 202: 'please', 203: 'aw', 204: 'whoa', 205: 'last', 206: 'seymour_skinner:', 207: 'tv', 208: 'made', 209: 'any', 210: 'boy', 211: 'face', 212: 'put', 213: 'duff', 214: 'three', 215: \"'cause\", 216: 'thanks', 217: 'drunk', 218: 'hello', 219: 'call', 220: 'their', 221: 'bad', 222: 'looking', 223: 'car', 224: 'again', 225: 'listen', 226: \"let's\", 227: 'first', 228: 'very', 229: 'best', 230: 'wow', 231: 'yes', 232: 'does', 233: 'said', 234: 'them', 235: 'while', 236: 'ooh', 237: 'kent_brockman:', 238: 'another', 239: 'looks', 240: 'every', 241: 'guess', 242: 'work', 243: 'apu_nahasapeemapetilon:', 244: 'other', 245: 'wife', 246: 'tonight', 247: \"won't\", 248: 'feel', 249: 'sweet', 250: 'springfield', 251: 'play', 252: 'dad', 253: 'singing', 254: 'years', 255: \"they're\", 256: 'find', 257: 'voice', 258: 'dr', 259: 'thought', 260: 'after', 261: 'everybody', 262: 'sobs', 263: 'buy', 264: 'things', 265: 'might', 266: 'kids', 267: 'beat', 268: 'since', 269: 'nice', 270: 'keep', 271: 'shut', 272: 'because', 273: 'head', 274: 'girl', 275: 'happy', 276: 'check', 277: 'minute', 278: 'show', 279: 'world', 280: \"who's\", 281: 'friends', 282: 'sighs', 283: 'sings', 284: 'use', 285: 'lisa', 286: 'always', 287: 'chuckle', 288: 'bart', 289: \"isn't\", 290: 'krusty_the_clown:', 291: 'kid', 292: 'someone', 293: 'ow', 294: 'c', 295: 'stupid', 296: \"you'll\", 297: 'which', 298: 'carl', 299: 'lot', 300: 'talk', 301: 'hundred', 302: 'anything', 303: 'seen', 304: \"here's\", 305: 'remember', 306: 'laugh', 307: 'simpson', 308: 'laughs', 309: 'thank', 310: 'job', 311: 'through', 312: 'chuckles', 313: 'glass', 314: 'hell', 315: 'next', 316: \"nothin'\", 317: 'hear', 318: 'hope', 319: 'pretty', 320: 'away', 321: 'kind', 322: 'five', 323: 'lost', 324: 'woman', 325: 'believe', 326: 'outta', 327: 'matter', 328: 'happened', 329: 'house', 330: 'long', 331: 'says', 332: 'four', 333: 'wish', 334: 'once', 335: 'stop', 336: 'nervous', 337: 'real', 338: 'waylon_smithers:', 339: 'book', 340: 'turn', 341: 'family', 342: \"c'mon\", 343: 'tavern', 344: \"homer's\", 345: '_montgomery_burns:', 346: 'ned_flanders:', 347: 'comes', 348: 'fat', 349: 'myself', 350: 'game', 351: 'wants', 352: 'ask', 353: 'business', 354: 'actually', 355: 'idea', 356: \"doin'\", 357: 'wrong', 358: 'grampa_simpson:', 359: \"goin'\", 360: 'party', 361: \"comin'\", 362: 'used', 363: 'duffman:', 364: 'town', 365: 'nobody', 366: 'problem', 367: \"she's\", 368: 'many', 369: 'done', 370: 'getting', 371: 'must', 372: \"wouldn't\", 373: 'burns', 374: 'enough', 375: 'loud', 376: 'today', 377: \"we've\", 378: 'everything', 379: 'hold', 380: 'true', 381: 'nah', 382: 'reading', 383: 'maggie', 384: 'na', 385: 'gee', 386: 'doing', 387: 'um', 388: 'try', 389: 'took', 390: 'dollars', 391: 'bucks', 392: 'watch', 393: 'free', 394: 'sound', 395: 'thinking', 396: 'woo', 397: 'sounds', 398: 'being', 399: 'chief', 400: 'kemi:', 401: 'baby', 402: 'kill', 403: 'pay', 404: 'care', 405: 'gimme', 406: 'canyonero', 407: 'most', 408: 'everyone', 409: 'edna', 410: 'beautiful', 411: 'makes', 412: 'sell', 413: 'daughter', 414: 'secret', 415: 'pants', 416: 'leave', 417: 'wanted', 418: 'stuff', 419: 'excuse', 420: \"where's\", 421: 'yourself', 422: 'under', 423: 'mouth', 424: 'tipsy', 425: 'pick', 426: 'dinner', 427: 'smithers', 428: 'went', 429: 'knew', 430: 'quickly', 431: \"you'd\", 432: 'points', 433: 'sad', 434: 'tough', 435: 'left', 436: 'dead', 437: 'own', 438: 'pal', 439: 'save', 440: 'worry', 441: 'hurt', 442: 'sign', 443: 'gave', 444: 'came', 445: 'skinner', 446: 'gets', 447: 'eyes', 448: 'drinking', 449: 'funny', 450: 'dog', 451: 'feeling', 452: 'break', 453: 'fine', 454: 'quit', 455: 'die', 456: 'hi', 457: 'told', 458: 'ladies', 459: 'camera', 460: 'heard', 461: 'school', 462: 'till', 463: 'win', 464: 'booze', 465: 'hate', 466: 'hoo', 467: 'saw', 468: 'excited', 469: 'tomorrow', 470: 'mom', 471: 'surprised', 472: \"aren't\", 473: 'room', 474: 'super', 475: 'drive', 476: 'calling', 477: 'seven', 478: 'easy', 479: 'small', 480: 'fight', 481: 'read', 482: 'without', 483: 'bring', 484: 'kirk_van_houten:', 485: 'sir', 486: 'artie_ziff:', 487: 'burn', 488: 'gasp', 489: 'million', 490: 'anyone', 491: 'loves', 492: 'noises', 493: 'hands', 494: 'flaming', 495: 'clean', 496: 'alcohol', 497: 'krusty', 498: 'barflies:', 499: 'nuts', 500: 'fire', 501: 'forget', 502: 'gone', 503: 'mad', 504: 'cash', 505: 'date', 506: 'twenty', 507: 'jacques:', 508: 'hand', 509: \"couldn't\", 510: 'kinda', 511: 'loser', 512: 'eat', 513: \"somethin'\", 514: \"lookin'\", 515: 'turns', 516: 'problems', 517: \"we'll\", 518: 'professor_jonathan_frink:', 519: 'called', 520: 'trouble', 521: \"doesn't\", 522: \"y'know\", 523: 'already', 524: 'gentlemen', 525: 'coming', 526: 'anyway', 527: 'door', 528: 'bartender', 529: 'cut', 530: 'happen', 531: 'course', 532: 'dear', 533: \"talkin'\", 534: 'chance', 535: 'high', 536: 'six', 537: \"wasn't\", 538: 'low', 539: 'each', 540: 'meet', 541: 'seymour', 542: \"haven't\", 543: 'upset', 544: \"drinkin'\", 545: 'behind', 546: 'geez', 547: 'tape', 548: 'sadly', 549: 'hot', 550: 'end', 551: 'uh-oh', 552: 'crazy', 553: 'eye', 554: 'stay', 555: 'wiggum', 556: \"it'll\", 557: 'moan', 558: 'ugly', 559: 'outside', 560: 'fun', 561: ':', 562: 'change', 563: 'disgusted', 564: 'close', 565: 'heart', 566: 'talking', 567: 'the_rich_texan:', 568: 'larry:', 569: 'works', 570: 'lady', 571: 'm', 572: 'dump', 573: 'least', 574: 'worse', 575: 'bar_rag:', 576: 'snake_jailbird:', 577: 'blame', 578: 'hours', 579: 'spend', 580: 'whole', 581: 'bottle', 582: 'stand', 583: 'steal', 584: 'worried', 585: 'keys', 586: 'realizing', 587: 'war', 588: 'machine', 589: 'quiet', 590: 'throat', 591: \"gettin'\", 592: 'start', 593: 'live', 594: 'whatever', 595: 'learn', 596: 'sing', 597: 'self', 598: 'straight', 599: 'sigh', 600: 'trying', 601: 'mmmm', 602: 'song', 603: 'watching', 604: 'delete', 605: 'front', 606: 'joe', 607: 'probably', 608: 'young', 609: 'special', 610: 'stick', 611: 'girls', 612: 'private', 613: 'second', 614: 'such', 615: 'heh', 616: 'playing', 617: 'thinks', 618: 'times', 619: 'crowd:', 620: 'point', 621: 'light', 622: 'thousand', 623: 'gasps', 624: 'far', 625: 'ten', 626: 'bit', 627: 'married', 628: 'less', 629: 'alive', 630: 'mother', 631: 'morning', 632: 'annoyed', 633: 'air', 634: 'perfect', 635: 'may', 636: 'lousy', 637: 'tsk', 638: 'person', 639: 'either', 640: 'butt', 641: 'marriage', 642: 'bowl', 643: 'whip', 644: 'soon', 645: 'late', 646: 'year', 647: 'police', 648: 'pull', 649: 'learned', 650: 'apu', 651: 'shocked', 652: \"shouldn't\", 653: 'greatest', 654: 'poor', 655: 'goodbye', 656: 'turned', 657: 'ma', 658: 'drinks', 659: 'else', 660: 'anymore', 661: \"'bout\", 662: 'barflies', 663: 'blue', 664: 'box', 665: 'anybody', 666: 'miss', 667: 'exactly', 668: 'goodnight', 669: 'shot', 670: 'blood', 671: 'minutes', 672: 'shotgun', 673: 'lucky', 674: 'american', 675: 'buddy', 676: 'angry', 677: 'yet', 678: 'ass', 679: 'lemme', 680: 'couple', 681: 'alone', 682: 'serious', 683: 'feet', 684: 'jacques', 685: 'agnes_skinner:', 686: 'open', 687: 'goes', 688: 'tab', 689: 'walk', 690: 'store', 691: 'instead', 692: 'card', 693: 'moron', 694: 'arm', 695: 'pig', 696: 'cool', 697: 'president', 698: 'kick', 699: 'knows', 700: 'rev', 701: 'join', 702: 'uh-huh', 703: 'mayor_joe_quimby:', 704: 'christmas', 705: 'king', 706: 'picture', 707: 'letter', 708: 'nothing', 709: 'barn', 710: 'ticket', 711: 'youse', 712: 'boys', 713: 'taking', 714: 'boxing', 715: 'smell', 716: \"how'd\", 717: 'later', 718: 'turning', 719: 'found', 720: 'eight', 721: 'patty_bouvier:', 722: 'throw', 723: 'fifty', 724: 'nods', 725: 'duffman', 726: 'mind', 727: 'both', 728: 'beers', 729: 'somebody', 730: 'hmm', 731: 'finally', 732: 'words', 733: 'return', 734: 'using', 735: 'plant', 736: 'english', 737: 'days', 738: 'run', 739: 'amazed', 740: 'horrible', 741: 'warm_female_voice:', 742: \"kiddin'\", 743: 'moans', 744: 'hang', 745: 'fellas', 746: 'tap', 747: 'human', 748: 'ahh', 749: 'paint', 750: 'story', 751: 'dry', 752: 'losers', 753: 'smile', 754: 'move', 755: 'sotto', 756: 'making', 757: 'telling', 758: 'comic_book_guy:', 759: 'send', 760: 'seat', 761: 'eggs', 762: 'lucius:', 763: 'deal', 764: 'table', 765: 'plus', 766: 'son', 767: 'homie', 768: 's', 769: 'renee:', 770: 'japanese', 771: 'fast', 772: 'young_marge:', 773: 'warmly', 774: 'himself', 775: 'nine', 776: 'proudly', 777: 'ball', 778: 'crap', 779: 'happier', 780: 'etc', 781: 'butts', 782: 'kiss', 783: 'ned', 784: 'means', 785: 'accident', 786: 'black', 787: 'huge', 788: 'forever', 789: 'broke', 790: 'damn', 791: 'walking', 792: 'wire', 793: 'glad', 794: \"ol'\", 795: 'dance', 796: 'narrator:', 797: \"makin'\", 798: 'news', 799: 'inside', 800: 'pour', 801: 'though', 802: '|semicolon|', 803: 'word', 804: 'channel', 805: 'alright', 806: 'intrigued', 807: 'top', 808: 'scared', 809: 'la', 810: 'food', 811: 'glove', 812: 'saying', 813: 'o', 814: 'seems', 815: 'street', 816: 'screw', 817: 'number', 818: 'friendly', 819: 'favorite', 820: 'round', 821: 'grampa', 822: 'together', 823: 'welcome', 824: 'sitting', 825: 'selma_bouvier:', 826: \"he'll\", 827: 'peanuts', 828: 'terrible', 829: 'ha', 830: 'city', 831: 'weird', 832: 'collette:', 833: 'full', 834: 'ready', 835: 'advice', 836: 'mrs', 837: 'cold', 838: 'afraid', 839: 'rummy', 840: 'hide', 841: 'rat', 842: '_julius_hibbert:', 843: 'desperate', 844: 'sips', 845: 'belch', 846: 'safe', 847: 'company', 848: 'lowers', 849: 'birthday', 850: 'walther_hotenhoffer:', 851: 'tinkle', 852: 'brought', 853: 'water', 854: 'group', 855: 'men', 856: 'sex', 857: 'slap', 858: 'truth', 859: 'ice', 860: 'hit', 861: 'hard', 862: 'dumb', 863: 'kent', 864: 'dangerous', 865: 'tip', 866: 'manjula_nahasapeemapetilon:', 867: 'tune', 868: 'principal', 869: 'denver', 870: 'same', 871: 'sick', 872: 'harv:', 873: \"we'd\", 874: 'health_inspector:', 875: 'football_announcer:', 876: 'shall', 877: 'half', 878: 'flanders', 879: 'loved', 880: 'along', 881: 'class', 882: 'numbers', 883: 'plastic', 884: 'power', 885: 'stool', 886: 'nigel_bakerbutcher:', 887: 'plan', 888: 'laughing', 889: 'bow', 890: 'touched', 891: 'bitter', 892: 'honey', 893: 'across', 894: 'gives', 895: 'al', 896: 'except', 897: 'slow', 898: 'gumbel', 899: 'fall', 900: 'princess', 901: 'holds', 902: 'state', 903: 'takes', 904: 'crack', 905: 'music', 906: 'omigod', 907: 'forgot', 908: 'charge', 909: 'lou:', 910: 'uncle', 911: 'szyslak', 912: 'baseball', 913: 'dunno', 914: 'invented', 915: 'eating', 916: 'supposed', 917: 'holding', 918: 'became', 919: 'bag', 920: 'jukebox', 921: 'quick', 922: 'admit', 923: 'fat_tony:', 924: 'lives', 925: 'set', 926: 'joey', 927: 'normal', 928: 'smells', 929: 'fill', 930: 'impressed', 931: 'honest', 932: 'thirty', 933: 'strong', 934: 'hank_williams_jr', 935: 'giving', 936: \"that'll\", 937: 'mister', 938: 'lying', 939: 'tony', 940: 'maya:', 941: 'romantic', 942: 'milk', 943: 'early', 944: 'write', 945: 'health', 946: 'week', 947: 'ones', 948: \"sayin'\", 949: 'sent', 950: 'star', 951: 'young_homer:', 952: 'heaven', 953: 'worst', 954: 'bet', 955: 'pass', 956: 'seconds', 957: 'gold', 958: 'won', 959: 'treasure', 960: 'hair', 961: 'i-i', 962: 'nineteen', 963: 'changing', 964: 'speak', 965: 'evening', 966: 'wall', 967: 'jar', 968: 'running', 969: 'mayor', 970: 'soul', 971: 'asked', 972: 'dying', 973: 'wrote', 974: 'also', 975: 'jerks', 976: 'names', 977: 'french', 978: 'tv_wife:', 979: 'all:', 980: 'jack', 981: \"sittin'\", 982: 'speech', 983: 'tired', 984: 'joint', 985: \"guy's\", 986: 'catch', 987: 'felt', 988: 'thumb', 989: 'sober', 990: 'mouse', 991: 'until', 992: 'invited', 993: 'tree', 994: 'side', 995: 'fellow', 996: 'wallet', 997: 'longer', 998: 'chanting', 999: 'tv_husband:', 1000: 'sob', 1001: 'treat', 1002: 'announcer:', 1003: 'needs', 1004: 'boring', 1005: 'horrified', 1006: 'piece', 1007: 'wonder', 1008: \"i'm-so-stupid\", 1009: 'dude', 1010: 'doubt', 1011: 'absolutely', 1012: 'accent', 1013: 'glasses', 1014: 'wheel', 1015: 'adult_bart:', 1016: 'surgery', 1017: 'nein', 1018: \"callin'\", 1019: \"one's\", 1020: 'women', 1021: 'handsome', 1022: 'america', 1023: 'none', 1024: 'park', 1025: 'counting', 1026: 'owe', 1027: 'sharps', 1028: 'drederick', 1029: 'beach', 1030: 'center', 1031: 'cost', 1032: \"he'd\", 1033: 'act', 1034: 'suicide', 1035: 'p', 1036: 'bender:', 1037: 'college', 1038: 'detective_homer_simpson:', 1039: 'part', 1040: 'brockman', 1041: 'nuclear', 1042: 'deer', 1043: 'shirt', 1044: 'swear', 1045: 'yep', 1046: 'luck', 1047: 'little_man:', 1048: 'given', 1049: 'cleaned', 1050: 'calm', 1051: 'having', 1052: 'against', 1053: 'troll', 1054: 'named', 1055: 'window', 1056: 'pop', 1057: 'few', 1058: \"world's\", 1059: 'stories', 1060: 'tongue', 1061: 'dank', 1062: 'shaking', 1063: 'puzzled', 1064: 'clears', 1065: 'grand', 1066: 'glen:', 1067: 'lord', 1068: 'favor', 1069: 'hopeful', 1070: 'sunday', 1071: 'jeez', 1072: 'sauce', 1073: \"how's\", 1074: 'games', 1075: 'mine', 1076: 'unless', 1077: 'billy_the_kid:', 1078: \"workin'\", 1079: \"drivin'\", 1080: 'speaking', 1081: 'bank', 1082: 'biggest', 1083: 'fish', 1084: 'brilliant', 1085: 'cop', 1086: 'punch', 1087: 'man:', 1088: 'clear', 1089: 'closed', 1090: 'wine', 1091: 'x', 1092: 'bee', 1093: 'testing', 1094: 'ad', 1095: 'suit', 1096: 'confused', 1097: 'totally', 1098: 'service', 1099: 'isotopes', 1100: 'edna_krabappel-flanders:', 1101: 'coaster', 1102: 'wonderful', 1103: 'selma', 1104: 'customers', 1105: 'survive', 1106: \"tryin'\", 1107: 'wha', 1108: 'mike', 1109: 'hospital', 1110: 'disappointed', 1111: 'movie', 1112: 'rest', 1113: 'writing', 1114: 'strap', 1115: '_hooper:', 1116: 'represent', 1117: 'hated', 1118: 'pool', 1119: 'ago', 1120: 'dallas', 1121: 'truck', 1122: 'chug', 1123: 'quietly', 1124: 'rope', 1125: 'pity', 1126: 'offended', 1127: 'filthy', 1128: 'lloyd:', 1129: 'designated', 1130: 'club', 1131: 'dame', 1132: 'short', 1133: 'red', 1134: \"tellin'\", 1135: 'daddy', 1136: 'pipe', 1137: 'duh', 1138: 'empty', 1139: \"smokin'_joe_frazier:\", 1140: 'gay', 1141: 'children', 1142: 'beloved', 1143: 'third', 1144: 'caught', 1145: 'proud', 1146: 'cow', 1147: 'hanging', 1148: 'suddenly', 1149: 'driving', 1150: 'lose', 1151: 'ashamed', 1152: 'exasperated', 1153: 'lessons', 1154: 'stunned', 1155: 'bed', 1156: 'african', 1157: 'government', 1158: 'local', 1159: 'cutting', 1160: 'during', 1161: 'fingers', 1162: 'cheer', 1163: 'artie', 1164: 'broad', 1165: 'yea', 1166: '_zander:', 1167: 'saved', 1168: \"lisa's\", 1169: 'clown', 1170: 'twelve', 1171: 'stirring', 1172: 'amazing', 1173: 'drivers', 1174: 'whisper', 1175: 'bald', 1176: 'yellow', 1177: 'usually', 1178: 'plow', 1179: 'garbage', 1180: 'à', 1181: 'sees', 1182: 'legs', 1183: 'finding', 1184: 'bottom', 1185: 'hoping', 1186: 'woman:', 1187: 'explaining', 1188: 'different', 1189: \"they've\", 1190: 'offer', 1191: 'breath', 1192: 'ourselves', 1193: 'threw', 1194: 'pipes', 1195: 'died', 1196: 'address', 1197: 'hits', 1198: \"o'clock\", 1199: \"who'll\", 1200: 'burt', 1201: 'lips', 1202: 'pickle', 1203: 'flips', 1204: 'magic', 1205: 'tatum', 1206: \"everyone's\", 1207: 'starts', 1208: 'hm', 1209: 'books', 1210: 'polite', 1211: 'wally:', 1212: 'chocolate', 1213: 'furious', 1214: 'opportunity', 1215: \"bein'\", 1216: 'hero', 1217: 'vance', 1218: 'choice', 1219: 'foibles', 1220: 'illegal', 1221: 'stillwater:', 1222: 'buffalo', 1223: 'championship', 1224: 'billboard', 1225: 'sold', 1226: 'raises', 1227: 'movies', 1228: 'sly', 1229: \"buyin'\", 1230: 'restaurant', 1231: 'sarcastic', 1232: 'frustrated', 1233: 'hans:', 1234: \"livin'\", 1235: 'selling', 1236: 'spot', 1237: 'smooth', 1238: 'dang', 1239: 'clothes', 1240: 'guns', 1241: 'blow', 1242: 'whiny', 1243: 'arrest', 1244: 'wear', 1245: 'dollar', 1246: 'shows', 1247: 'minimum', 1248: 'babies', 1249: 'busy', 1250: 'girlfriend', 1251: 'dan_gillick:', 1252: 'smiling', 1253: 'yesterday', 1254: 'domestic', 1255: 'mug', 1256: 'burps', 1257: 'senator', 1258: 'snake', 1259: 'weekly', 1260: 'trip', 1261: 'teach', 1262: 'beauty', 1263: 'sobbing', 1264: 'distraught', 1265: 'meaningful', 1266: 'flowers', 1267: 'question', 1268: 'train', 1269: 'body', 1270: 'rotch', 1271: 'pleased', 1272: 'forget-me-shot', 1273: 'sister', 1274: 'cries', 1275: 'enjoy', 1276: 'almost', 1277: 'pulled', 1278: 'bill', 1279: 'scream', 1280: 'band', 1281: 'yap', 1282: 'deep', 1283: 'buttons', 1284: 'professional', 1285: 'agent', 1286: 'lie', 1287: 'feels', 1288: 'sexy', 1289: 'ivana', 1290: 'match', 1291: 'especially', 1292: 'market', 1293: 'bees', 1294: 'france', 1295: 'calls', 1296: 'working', 1297: 'couch', 1298: \"carl's\", 1299: 'adeleine', 1300: 'hurry', 1301: 'teenage_bart:', 1302: 'answer', 1303: 'brain', 1304: 'ooo', 1305: 'therapy', 1306: 'egg', 1307: 'hungry', 1308: 'respect', 1309: 'south', 1310: 'partner', 1311: 'radishes', 1312: 'fridge', 1313: 'months', 1314: 'kidding', 1315: 'fbi', 1316: 'computer', 1317: 'knock', 1318: \"o'problem\", 1319: 'sits', 1320: 'video', 1321: 'nose', 1322: \"what'll\", 1323: 'amanda', 1324: 'bars', 1325: 'renee', 1326: 'closing', 1327: 'tail', 1328: 'sports', 1329: 'arms', 1330: 'betty:', 1331: 'correct', 1332: 'dennis_conroy:', 1333: 'amid', 1334: 'line', 1335: 'husband', 1336: 'folks', 1337: 'precious', 1338: 'lotta', 1339: 'fan', 1340: 'coat', 1341: 'sheepish', 1342: 'pickled', 1343: 'eddie:', 1344: 'cover', 1345: 'fifteen', 1346: 'pit', 1347: 'fix', 1348: 'ken:', 1349: 'embarrassed', 1350: 'dramatic', 1351: 'neck', 1352: 'rob', 1353: 'huggenkiss', 1354: 'eleven', 1355: 'seem', 1356: 'liver', 1357: 'able', 1358: 'ahead', 1359: 'meeting', 1360: 'belches', 1361: 'forty', 1362: 'loaded', 1363: 'burp', 1364: 'cable', 1365: 'david_byrne:', 1366: 'procedure', 1367: 'follow', 1368: 'case', 1369: 'situation', 1370: 'boat', 1371: \"watchin'\", 1372: 'upbeat', 1373: 'career', 1374: 'teenage_barney:', 1375: 'rather', 1376: 'father', 1377: 'keeps', 1378: 'ride', 1379: 'gas', 1380: 'stagy', 1381: 'quite', 1382: 'pulls', 1383: 'stock', 1384: 'island', 1385: 'pointed', 1386: 'finger', 1387: 'gin', 1388: 'started', 1389: 'declan_desmond:', 1390: 'drug', 1391: 'gotten', 1392: 'new_health_inspector:', 1393: 'test', 1394: 'ruined', 1395: 'sense', 1396: 'field', 1397: 'original', 1398: 'heavyweight', 1399: 'understand', 1400: 'u', 1401: 'thoughtful', 1402: 'cares', 1403: 'whaddaya', 1404: 'jerk', 1405: 'pub', 1406: \"today's\", 1407: \"dad's\", 1408: 'castle', 1409: 'road', 1410: 'bye', 1411: 'ingredient', 1412: 'yard', 1413: 'pain', 1414: \"moe's_thoughts:\", 1415: 'needed', 1416: 'tom', 1417: 'chick', 1418: 'sincere', 1419: 'awkward', 1420: 'rich', 1421: 'monster', 1422: 'hugh:', 1423: 'figured', 1424: 'moment', 1425: 'pitcher', 1426: 'rag', 1427: 'clearly', 1428: \"valentine's\", 1429: 'sit', 1430: 'flower', 1431: 'grim', 1432: 'secrets', 1433: 'character', 1434: 'whee', 1435: 'ominous', 1436: 're:', 1437: 'twins', 1438: 'milhouse_van_houten:', 1439: 'senators', 1440: 'crime', 1441: 'trust', 1442: 'jack_larson:', 1443: \"barney's\", 1444: 'ancient', 1445: 'pageant', 1446: 'fumes', 1447: 'crank', 1448: 'keeping', 1449: 'met', 1450: 'suppose', 1451: 'letters', 1452: 'accurate', 1453: 'invite', 1454: 'banks', 1455: 'bless', 1456: 'paying', 1457: 'mel', 1458: 'turkey', 1459: '_timothy_lovejoy:', 1460: 'casual', 1461: 'james', 1462: \"bart's\", 1463: 'edison', 1464: 'suck', 1465: 'root', 1466: 'woo-hoo', 1467: 'parking', 1468: 'spanish', 1469: 'book_club_member:', 1470: 'covering', 1471: 'comfortable', 1472: 'program', 1473: 'snort', 1474: 'jesus', 1475: 'yo', 1476: 'understanding', 1477: 'nards', 1478: 'fever', 1479: 'german', 1480: 'coach:', 1481: 'jail', 1482: 'twenty-two', 1483: 'bitterly', 1484: \"c'mere\", 1485: 'hates', 1486: 'prank', 1487: 'tastes', 1488: 'fly', 1489: 'shape', 1490: 'entire', 1491: 'losing', 1492: 'kang:', 1493: 'al_gore:', 1494: 'taken', 1495: 'stopped', 1496: 'stools', 1497: 'sexual', 1498: 'sec_agent_#1:', 1499: 'clone', 1500: 'rub', 1501: 'looked', 1502: 'singers:', 1503: 'grabbing', 1504: 'perhaps', 1505: 'scene', 1506: 'struggling', 1507: 'ring', 1508: 'fritz:', 1509: 'law', 1510: 'tried', 1511: 'barney-shaped_form:', 1512: 'double', 1513: 'reminds', 1514: 'above', 1515: 'subject', 1516: 'toys', 1517: 'thankful', 1518: 'register', 1519: 'tips', 1520: 'finished', 1521: 'spending', 1522: 'sweetly', 1523: 'feed', 1524: 'hall', 1525: 'uneasy', 1526: 'toward', 1527: 'gift', 1528: 'kwik-e-mart', 1529: \"men's\", 1530: 'cents', 1531: 'ohmygod', 1532: 'r', 1533: 'hurts', 1534: 'british', 1535: 'lindsay_naegle:', 1536: 'glum', 1537: 'operation', 1538: 'texas', 1539: 'film', 1540: 'loan', 1541: 'checks', 1542: 'whose', 1543: 'wooooo', 1544: 'its', 1545: 'incredulous', 1546: 'driver', 1547: 'lonely', 1548: 'child', 1549: 'embarrassing', 1550: 'grow', 1551: 'miserable', 1552: 'sixty-nine', 1553: \"stinkin'\", 1554: 'wasting', 1555: 'relax', 1556: 'sometime', 1557: 'exhaust', 1558: 'customer', 1559: 'pained', 1560: 'pathetic', 1561: 'natural', 1562: 'wide', 1563: 'grabs', 1564: 'mock', 1565: 'cameras', 1566: \"year's\", 1567: 'leg', 1568: 'peach', 1569: 'screams', 1570: '_babcock:', 1571: 'bike', 1572: 'showing', 1573: \"kids'\", 1574: 'theater', 1575: 'twenty-five', 1576: 'chinese', 1577: 'cute', 1578: 'meant', 1579: 'yee-haw', 1580: 'severe', 1581: 'bob', 1582: 'inspection', 1583: 'weeks', 1584: 'drop', 1585: 'ziffcorp', 1586: 'history', 1587: 'corner', 1588: 'backwards', 1589: 'dressed', 1590: 'midge', 1591: 'switch', 1592: 'anniversary', 1593: 'covers', 1594: 'men:', 1595: 'popular', 1596: 'pfft', 1597: 'literature', 1598: 'vomit', 1599: 'ground', 1600: 'junior', 1601: 'innocent', 1602: 'scam', 1603: 'killed', 1604: 'teenage', 1605: 'snaps', 1606: 'step', 1607: 'sadder', 1608: 'church', 1609: 'kissing', 1610: 'consider', 1611: \"havin'\", 1612: 'bite', 1613: 'middle', 1614: 'pause', 1615: 'recommend', 1616: 'heads', 1617: 'accept', 1618: 'wipe', 1619: 'motel', 1620: 'brains', 1621: 'dynamite', 1622: 'idiot', 1623: 'moved', 1624: 'powerful', 1625: 'oil', 1626: 'ridiculous', 1627: 'wearing', 1628: 'careful', 1629: 'puke', 1630: \"lenny's\", 1631: 'toilet', 1632: 'jolly', 1633: 'troy:', 1634: 'cheers', 1635: 'tv_father:', 1636: 'vegas', 1637: 'sleep', 1638: 'teeth', 1639: 'single', 1640: \"i-i'm\", 1641: 'changed', 1642: 'bunch', 1643: \"could've\", 1644: 'lately', 1645: 'label', 1646: 'religion', 1647: 'cheap', 1648: 'sadistic_barfly:', 1649: 'indignant', 1650: 'prime', 1651: 'pockets', 1652: 'per', 1653: 'burning', 1654: 'guest', 1655: 'shares', 1656: \"where'd\", 1657: 'pardon', 1658: 'kermit', 1659: 'hiya', 1660: 'hole', 1661: 'diet', 1662: 'anguished', 1663: 'paris', 1664: 'lots', 1665: 'lottery', 1666: \"seein'\", 1667: 'tells', 1668: 'concerned', 1669: 'greystash', 1670: 'team', 1671: 'bought', 1672: 'crawl', 1673: 'awful', 1674: 'dancing', 1675: \"gentleman's\", 1676: 'nation', 1677: 'exit', 1678: 'ho', 1679: 'holiday', 1680: 'cards', 1681: 'flatly', 1682: 'hour', 1683: 'public', 1684: 'hmmm', 1685: 'sucked', 1686: 'born', 1687: 'expect', 1688: 'following', 1689: 'ran', 1690: 'grunt', 1691: 'frink', 1692: 'compliment', 1693: 'cannot', 1694: 'boo', 1695: 'afford', 1696: 'harv', 1697: 'buying', 1698: 'noticing', 1699: 'opening', 1700: 'uncomfortable', 1701: 'thoughts', 1702: 'tradition', 1703: 'fault', 1704: 'enemy', 1705: 'cigarette', 1706: 'marvin', 1707: 'alley', 1708: 'gently', 1709: 'ordered', 1710: 'fourth', 1711: 'fancy', 1712: 'inspector', 1713: 'cough', 1714: 'knowing', 1715: 'shoot', 1716: 'walks', 1717: 'who-o-oa', 1718: 'seeing', 1719: 'belly', 1720: 'terrified', 1721: \"'til\", 1722: 'fireball', 1723: 'form', 1724: 'focus', 1725: 'bret:', 1726: 'imagine', 1727: 'size', 1728: 'palmerston', 1729: 'unlike', 1730: 'modern', 1731: 'fool', 1732: 'general', 1733: 'fork', 1734: \"they'd\", 1735: 'darts', 1736: \"wife's\", 1737: 'odd', 1738: 'scum', 1739: 'then:', 1740: 'breaking', 1741: 'mechanical', 1742: 'panicky', 1743: 'list', 1744: 'leans', 1745: 'der', 1746: 'death', 1747: 'whatcha', 1748: 'hug', 1749: 'saturday', 1750: 'unlucky', 1751: 'talk-sings', 1752: 'future', 1753: 'attention', 1754: 'mafia', 1755: 'happily', 1756: 'staying', 1757: 'sec', 1758: 'higher', 1759: 'rats', 1760: 'crummy', 1761: 'peter', 1762: 'pays', 1763: 'become', 1764: 'tears', 1765: \"ridin'\", 1766: 'extra', 1767: 'peace', 1768: 'push', 1769: 'starting', 1770: 'l', 1771: 'afternoon', 1772: 'enemies', 1773: 'source', 1774: 'complete', 1775: 'clientele', 1776: 'mistake', 1777: 'sniffs', 1778: 'roll', 1779: 'grunts', 1780: 'spoken', 1781: 'weak', 1782: 'knocked', 1783: 'unison', 1784: 'pointing', 1785: 'past', 1786: 'wayne:', 1787: 'rough', 1788: 'fraud', 1789: 'upon', 1790: 'crowd', 1791: 'election', 1792: 'pocket', 1793: 'andy', 1794: 'helicopter', 1795: 'hunter', 1796: 'text', 1797: 'pats', 1798: 'glen', 1799: 'raising', 1800: 'rid', 1801: 'system', 1802: 'traffic', 1803: 'k', 1804: 'worked', 1805: 'military', 1806: 'age', 1807: 'delicious', 1808: 'moments', 1809: 'aside', 1810: 'army', 1811: 'campaign', 1812: 'kept', 1813: 'slip', 1814: 'summer', 1815: 'pissed', 1816: 'drunks', 1817: 'closer', 1818: \"they'll\", 1819: 'toasting', 1820: \"robbin'\", 1821: 'reads', 1822: 'foot', 1823: 'wiener', 1824: 'frankly', 1825: 'gag', 1826: 'fact', 1827: 'brother', 1828: 'season', 1829: 'workers', 1830: 'har', 1831: 'image', 1832: 'beginning', 1833: 'scotch', 1834: 'puff', 1835: 'despite', 1836: 'dive', 1837: 'challenge', 1838: 'searching', 1839: 'stole', 1840: 'touchdown', 1841: 'spit', 1842: 'coney', 1843: '_kissingher:', 1844: 'bright', 1845: 'chest', 1846: 'cocktail', 1847: 'stayed', 1848: 'midnight', 1849: 'jump', 1850: 'aww', 1851: 'f', 1852: 'hilarious', 1853: 'sniffles', 1854: 'bowling', 1855: 'evil', 1856: 'gary:', 1857: 'fair', 1858: 'license', 1859: 'gary_chalmers:', 1860: 'international', 1861: 'spinning', 1862: 'button', 1863: 'endorse', 1864: 'ruin', 1865: 'salad', 1866: 'bus', 1867: 'elder', 1868: 'feelings', 1869: 'defensive', 1870: 'reason', 1871: '&', 1872: 'doors', 1873: 'finest', 1874: 'jamaican', 1875: 'coffee', 1876: 'serve', 1877: 'threatening', 1878: 'delighted', 1879: 'bar-boy', 1880: 'dirt', 1881: 'stadium', 1882: 'sisters', 1883: 'directions', 1884: 'milhouse', 1885: 'mudflap', 1886: 'nobel', 1887: 'floor', 1888: 'celebrities', 1889: 'order', 1890: 'corpses', 1891: 'played', 1892: 'share', 1893: 'gal', 1894: 'fans', 1895: 'likes', 1896: 'somewhere', 1897: 'checking', 1898: 'shove', 1899: 'toss', 1900: 'priest', 1901: 'hollywood', 1902: 'harder', 1903: 'clinton', 1904: 'teddy', 1905: 'important', 1906: 'hired', 1907: 'payments', 1908: 'row', 1909: 'tiny', 1910: 'boozy', 1911: 'explain', 1912: 'vodka', 1913: \"it'd\", 1914: 'bridge', 1915: 'awwww', 1916: 'multiple', 1917: 'plans', 1918: 'known', 1919: 'rolling', 1920: 'whether', 1921: \"fallin'\", 1922: 'camp', 1923: 'disgrace', 1924: 'eventually', 1925: 'nickels', 1926: 'fuss', 1927: 'effigy', 1928: 'neil_gaiman:', 1929: 'mortgage', 1930: 'page', 1931: 'lowering', 1932: 'calmly', 1933: 'rock', 1934: 'helen', 1935: 'medical', 1936: 'aggravated', 1937: 'cheese', 1938: 'kicked', 1939: 'dan', 1940: 'laramie', 1941: \"monroe's\", 1942: 'cueball', 1943: 'decent', 1944: 'inspired', 1945: 'recently', 1946: 'freeze', 1947: 'spent', 1948: 'peppy', 1949: 'self-esteem', 1950: 'wayne', 1951: 'willy', 1952: 'manager', 1953: 'woman_bystander:', 1954: 'beneath', 1955: 'crossed', 1956: 'genius', 1957: 'self-made', 1958: \"dyin'\", 1959: 'twice', 1960: 'naked', 1961: 'regulars', 1962: 'deacon', 1963: 'koi', 1964: 'cent', 1965: 'buried', 1966: 'scary', 1967: 'thoughtfully', 1968: 'towed', 1969: 'teenage_homer:', 1970: 'academy', 1971: 'mumbling', 1972: 'needy', 1973: 'golf', 1974: 'cars', 1975: 'princesses', 1976: 'realize', 1977: 'mall', 1978: 'don', 1979: 'folk', 1980: 'comedy', 1981: 'entirely', 1982: 'haw', 1983: 'impatient', 1984: 'yoo', 1985: 'umm', 1986: 'corkscrew', 1987: 'christopher', 1988: \"countin'\", 1989: 'patty', 1990: 'neat', 1991: 'busted', 1992: 'bathroom', 1993: 'soap', 1994: 'ye', 1995: 'ahhh', 1996: 'labels', 1997: 'ripcord', 1998: 'eighty-one', 1999: 'alfred', 2000: 'spy', 2001: 'isle', 2002: 'smoothly', 2003: 'gorgeous', 2004: 'disco', 2005: 'joining', 2006: 'pin', 2007: 'ocean', 2008: 'standing', 2009: 'chum', 2010: 'closes', 2011: 'price', 2012: 'krabappel', 2013: 'reasonable', 2014: 'shutting', 2015: 'drown', 2016: 'guide', 2017: 'grandmother', 2018: 'nasa', 2019: 'radio', 2020: 'studio', 2021: 'successful', 2022: 'roof', 2023: 'blew', 2024: 'celebrity', 2025: 'brewed', 2026: 'firmly', 2027: 'cheat', 2028: 'reporter:', 2029: 'curds', 2030: 'seek', 2031: 'tofu', 2032: 'lenny:', 2033: 'punches', 2034: 'extremely', 2035: 'relationship', 2036: \"maggie's\", 2037: 'bashir', 2038: 'dee-fense', 2039: 'joey_kramer:', 2040: \"cat's\", 2041: 'media', 2042: 'between', 2043: 'dungeon', 2044: \"payin'\", 2045: 'laws', 2046: 'internet', 2047: 'eighty-seven', 2048: \"ma'am\", 2049: 'sneaky', 2050: 'awed', 2051: \"hangin'\", 2052: 'ginger', 2053: 'lazy', 2054: 'shoots', 2055: 'advantage', 2056: 'easier', 2057: 'difficult', 2058: 'themselves', 2059: 'agent_johnson:', 2060: 'dating', 2061: 'slightly', 2062: 'dessert', 2063: 'written', 2064: 'weary', 2065: 'admiration', 2066: 'bears', 2067: 'hotline', 2068: 'apartment', 2069: 'mixed', 2070: 'doreen', 2071: 'bubble', 2072: 'kindly', 2073: 'corporation', 2074: 'appointment', 2075: 'based', 2076: 'honored', 2077: 'sandwich', 2078: 'wordloaf', 2079: 'distributor', 2080: 'chase', 2081: 'aged_moe:', 2082: 'level', 2083: 'morose', 2084: \"someone's\", 2085: 'satisfaction', 2086: 'jumps', 2087: 'barf', 2088: 'fighting', 2089: 'thru', 2090: 'discussing', 2091: 'marguerite:', 2092: 'prove', 2093: 'reached', 2094: 'trusted', 2095: 'witty', 2096: 'scrape', 2097: 'nerve', 2098: 'bold', 2099: \"buffalo's\", 2100: 'ohh', 2101: 'un-sults', 2102: 'whistles', 2103: 'agree', 2104: 'motorcycle', 2105: 'teams', 2106: 'knees', 2107: 'outlook', 2108: 'sabermetrics', 2109: 'frog', 2110: 'wondering', 2111: 'yup', 2112: 'regret', 2113: 'cream', 2114: 'feast', 2115: 'elephants', 2116: 'attitude', 2117: 'heading', 2118: 'ech', 2119: 'pleasure', 2120: 'tommy', 2121: 'satisfied', 2122: 'held', 2123: 'candy', 2124: \"what'sa\", 2125: 'solo', 2126: 'sodas', 2127: 'safer', 2128: 'disappeared', 2129: 'excitement', 2130: 'prepared', 2131: 'denser', 2132: 'friendship', 2133: 'therapist', 2134: 'billion', 2135: 'bear', 2136: 'thirteen', 2137: 'greetings', 2138: 'photo', 2139: 'grab', 2140: \"others'\", 2141: 'bam', 2142: 'delivery', 2143: 'blood-thirsty', 2144: 'broadway', 2145: 'forehead', 2146: 'beep', 2147: 'defeated', 2148: 'taps', 2149: 'mic', 2150: 'forbidden', 2151: 'ringing', 2152: 'dials', 2153: 'reynolds', 2154: 'gentleman:', 2155: 'voice:', 2156: 'snake-handler', 2157: 'david', 2158: 'expert', 2159: 'writers', 2160: 'wins', 2161: 'maman', 2162: 'mount', 2163: 'manjula', 2164: 'superior', 2165: 'magazine', 2166: 'simp-sonnnn', 2167: 'director', 2168: 'oof', 2169: 'ziff', 2170: 'prize', 2171: 'ale', 2172: 'restroom', 2173: 'grade', 2174: 'troy', 2175: '6', 2176: 'pride', 2177: 'superhero', 2178: 'balls', 2179: 'deliberate', 2180: 'calculate', 2181: 'pleading', 2182: 'recall', 2183: 'costume', 2184: 'organ', 2185: 'raccoons', 2186: 'bartenders', 2187: 'tang', 2188: 'teacher', 2189: 'wa', 2190: 'conditioner', 2191: 'margarita', 2192: 'straining', 2193: 'rumaki', 2194: 'pretending', 2195: 'd', 2196: 'pope', 2197: 'mona_simpson:', 2198: 'type', 2199: 'dryer', 2200: 'beam', 2201: 'nope', 2202: 'shrugs', 2203: \"pope's\", 2204: 'boxing_announcer:', 2205: 'painting', 2206: 'certain', 2207: 'finishing', 2208: 'failed', 2209: 'positive', 2210: 'interested', 2211: 'sale', 2212: 'shaken', 2213: 'suspicious', 2214: 'throwing', 2215: 'mob', 2216: 'alphabet', 2217: 'routine', 2218: 'mention', 2219: \"showin'\", 2220: 'doreen:', 2221: 'joined', 2222: 'filled', 2223: 'sack', 2224: 'yell', 2225: 'retired', 2226: 'highway', 2227: 'pitch', 2228: 'smoke', 2229: 'dennis_kucinich:', 2230: 'ways', 2231: 'wangs', 2232: 'obvious', 2233: 'b', 2234: 'shoulder', 2235: 'planet', 2236: 'pad', 2237: 'waltz', 2238: 'allowed', 2239: 'charity', 2240: 'creeps', 2241: 'smart', 2242: 'prayer', 2243: 'cola', 2244: 'formico:', 2245: 'lock', 2246: 'reliable', 2247: 'express', 2248: 'mate', 2249: 'sitar', 2250: 'santa', 2251: 'jobs', 2252: 'tabooger', 2253: 'marmaduke', 2254: 'dames', 2255: 'rules', 2256: 'reserve', 2257: 'fragile', 2258: 'suspect', 2259: 'punk', 2260: '_powers:', 2261: 'curious', 2262: 'worth', 2263: '250', 2264: 'flag', 2265: 'missed', 2266: \"town's\", 2267: 'grave', 2268: 'bathing', 2269: 'cops', 2270: 'shrugging', 2271: 'tries', 2272: 'available', 2273: 'refresh', 2274: 'klingon', 2275: 'museum', 2276: 'playful', 2277: 'cookies', 2278: 'civic', 2279: 'owner', 2280: 'appear', 2281: 'smug', 2282: \"children's\", 2283: 'weirder', 2284: 'jockey', 2285: 'kyoto', 2286: 'hitler', 2287: 'formico', 2288: 'cat', 2289: 'generous', 2290: 'discuss', 2291: 'wolfe', 2292: 'value', 2293: 'near', 2294: 'caused', 2295: 'department', 2296: 'cleaner', 2297: 'deserve', 2298: 'boneheaded', 2299: 'attempting', 2300: 'brightening', 2301: 'pointless', 2302: 'gargoyle', 2303: 'tv_announcer:', 2304: 'bags', 2305: 'nearly', 2306: 'lucius', 2307: 'degradation', 2308: 'courage', 2309: 'admiring', 2310: 'suing', 2311: 'acting', 2312: 'pouring', 2313: 'stevie', 2314: 'befouled', 2315: 'passion', 2316: 'bible', 2317: 'trolls', 2318: 'realized', 2319: 'queer', 2320: 'deadly', 2321: 'yours', 2322: 'potato', 2323: 'candidate', 2324: 'shakespeare', 2325: 'terrific', 2326: 'brave', 2327: \"readin'\", 2328: 'palm', 2329: 'judge_snyder:', 2330: 'underpants', 2331: 'inspire', 2332: 'bugging', 2333: 'paid', 2334: 'angel', 2335: 'spied', 2336: 'mess', 2337: 'lib', 2338: 'airport', 2339: 'putting', 2340: 'fondly', 2341: 'involving', 2342: 'sometimes', 2343: 'yawns', 2344: 'fanciest', 2345: 'wedding', 2346: 'loss', 2347: 'neighbor', 2348: 'partly', 2349: 'expression', 2350: 'lighting', 2351: 'wade_boggs:', 2352: \"game's\", 2353: 'yelling', 2354: 'sweetheart', 2355: 'lurleen', 2356: 'attack', 2357: 'plum', 2358: 'action', 2359: \"marge's\", 2360: 'lap', 2361: 'poet', 2362: 'sports_announcer:', 2363: 'stealings', 2364: 'amount', 2365: 'bully', 2366: 'hunting', 2367: 'lights', 2368: 'release', 2369: 'tanked-up', 2370: 'forward', 2371: 'baritone', 2372: 'broom', 2373: 'wishes', 2374: 'drank', 2375: 'roomy', 2376: 'decide', 2377: 'exchange', 2378: 'patient', 2379: 'knife', 2380: 'twin', 2381: 'mcbain', 2382: 'barkeep', 2383: 'shower', 2384: 'joking', 2385: 'trick', 2386: 'wake', 2387: 'informant', 2388: 'puts', 2389: 'inspiring', 2390: 'bird', 2391: 'honor', 2392: 'answers', 2393: 'lloyd', 2394: 'seats', 2395: 'fold', 2396: 'bride', 2397: 'badges', 2398: 'ball-sized', 2399: 'village', 2400: 'purse', 2401: 'bartending', 2402: 'duty', 2403: 'henry', 2404: 'steak', 2405: 'placing', 2406: 'charm', 2407: 'woozy', 2408: 'stands', 2409: 'catching', 2410: 'sleeps', 2411: 'devastated', 2412: 'syrup', 2413: 'blues', 2414: 'craphole', 2415: 'effects', 2416: 'memories', 2417: 'mcstagger', 2418: 'due', 2419: 'fox_mulder:', 2420: 'ugliest', 2421: 'measurements', 2422: 'poem', 2423: 'contest', 2424: 'increasingly', 2425: 'gum', 2426: 'soup', 2427: 'tick', 2428: 'arab_man:', 2429: 'detecting', 2430: 'vacuum', 2431: 'promised', 2432: 'virtual', 2433: 'vulnerable', 2434: \"beer's\", 2435: 'germs', 2436: 'warn', 2437: 'served', 2438: 'cruel', 2439: 'winnings', 2440: 'delivery_boy:', 2441: 'remembered', 2442: 'reviews', 2443: 'investor', 2444: 'grienke', 2445: 'cotton', 2446: 'africa', 2447: 'remains', 2448: 'european', 2449: 'sinister', 2450: 'weirded-out', 2451: 'lover', 2452: 'solid', 2453: 'lise:', 2454: 'cowboys', 2455: 'wooden', 2456: 'combine', 2457: 'force', 2458: 'voice_on_transmitter:', 2459: 'bread', 2460: 'morlocks', 2461: 'rainier_wolfcastle:', 2462: 'blend', 2463: 'peanut', 2464: 'appealing', 2465: 'fausto', 2466: 'lovely', 2467: 'chicks', 2468: 'scooter', 2469: 'darkest', 2470: 'complaining', 2471: 'koholic', 2472: 'dress', 2473: 'dismissive', 2474: 'muttering', 2475: 'familiar', 2476: 'freedom', 2477: 'begins', 2478: 'w', 2479: 'flying', 2480: 'saint', 2481: 'relieved', 2482: 'website', 2483: 'so-called', 2484: 'cake', 2485: 'reach', 2486: 'wave', 2487: 'eyesore', 2488: 'gals', 2489: 'sudden', 2490: 'monkey', 2491: 'neither', 2492: \"other's\", 2493: 'industry', 2494: 'code', 2495: 'grimly', 2496: \"patrick's\", 2497: 'memory', 2498: 'seas', 2499: 'jeff', 2500: 'yogurt', 2501: 'belong', 2502: 'hobo', 2503: 'ambrosia', 2504: 'is:', 2505: 'achem', 2506: 'freak', 2507: 'jerry', 2508: 'skin', 2509: 'young_moe:', 2510: 'rounds', 2511: 'frosty', 2512: 'continuing', 2513: 'scare', 2514: 'surprise', 2515: 'compliments', 2516: 'chilly', 2517: 'products', 2518: 'justice', 2519: \"hasn't\", 2520: 'sat', 2521: 'comic', 2522: \"father's\", 2523: 'sea', 2524: 'mmm', 2525: 'trench', 2526: 'bets', 2527: 'doll', 2528: 'bash', 2529: 'rolled', 2530: 'linda', 2531: 'ah-ha', 2532: 'gator:', 2533: 'salt', 2534: 'lurleen_lumpkin:', 2535: 'blown', 2536: 'clock', 2537: 'tax', 2538: 'alcoholic', 2539: 'minister', 2540: 'coward', 2541: 'hawking:', 2542: 'intense', 2543: 'goods', 2544: 'advance', 2545: 'message', 2546: 'latin', 2547: 'jebediah', 2548: 'decency', 2549: 'carll', 2550: 'politics', 2551: 'hop', 2552: 'thighs', 2553: 'mail', 2554: 'mm', 2555: 'reasons', 2556: 'steel', 2557: 'compared', 2558: 'poking', 2559: 'scully', 2560: 'astronaut', 2561: 'kramer', 2562: 'cigarettes', 2563: 'correcting', 2564: 'dropped', 2565: 'rage', 2566: 'pint', 2567: 'crying', 2568: 'sec_agent_#2:', 2569: 'poker', 2570: 'stuck', 2571: 'juice', 2572: 'andalay', 2573: 'dreams', 2574: 'bucket', 2575: 'louder', 2576: 'ayyy', 2577: 'confident', 2578: \"'tis\", 2579: 'mop', 2580: \"crawlin'\", 2581: 'beats', 2582: 'wang', 2583: 'thought_bubble_homer:', 2584: 'completing', 2585: 'fudd', 2586: 'gifts', 2587: 'greedy', 2588: 'patterns', 2589: 'hangs', 2590: 'unfortunately', 2591: 'utility', 2592: 'although', 2593: 'rap', 2594: 'bubbles', 2595: 'awe', 2596: \"takin'\", 2597: 'irish', 2598: 'pond', 2599: 'handle', 2600: 'remembering', 2601: \"'im\", 2602: 'bush', 2603: 'male_inspector:', 2604: 'barely', 2605: 'kidney', 2606: 'managing', 2607: 'ironed', 2608: 'meal', 2609: 'porn', 2610: 'vote', 2611: 'anarchy', 2612: 'someday', 2613: 'corporate', 2614: 'planning', 2615: 'bedbugs', 2616: 'bump', 2617: \"springfield's\", 2618: 'drawing', 2619: 'awesome', 2620: 'snap', 2621: 'champ', 2622: \"meanin'\", 2623: 'fixed', 2624: 'karaoke', 2625: 'bourbon', 2626: \"bartender's\", 2627: 'yourselves', 2628: 'fox', 2629: \"homer's_brain:\", 2630: 'nudge', 2631: 'somehow', 2632: '1895', 2633: 'energy', 2634: 'prefer', 2635: 'giggles', 2636: 'eyeball', 2637: 'danish', 2638: 'medicine', 2639: 'civilization', 2640: 'percent', 2641: 'present', 2642: 'i-i-i', 2643: 'securities', 2644: 'windex', 2645: 'cowardly', 2646: 'slyly', 2647: 'coins', 2648: 'dreamed', 2649: 'deeply', 2650: 'shooting', 2651: 'warily', 2652: \"chewin'\", 2653: 'murmur', 2654: 'jailbird', 2655: 'complaint', 2656: \"money's\", 2657: 'plywood', 2658: \"'topes\", 2659: 'spread', 2660: \"team's\", 2661: 'quality', 2662: 'sport', 2663: 'handing', 2664: 'floated', 2665: 'boxer', 2666: 'pressure', 2667: 'square', 2668: 'dearest', 2669: 'skeptical', 2670: 'inflated', 2671: 'ollie', 2672: 'electronic', 2673: 'sausage', 2674: 'aging', 2675: 'bastard', 2676: 'watered-down', 2677: 'all-star', 2678: 'wing', 2679: 'churchill', 2680: 'space', 2681: 'boyfriend', 2682: 'ha-ha', 2683: 'shock', 2684: 'raise', 2685: 'belt', 2686: 'tie', 2687: 'violin', 2688: 'doug:', 2689: 'helllp', 2690: 'assistant', 2691: 'tale', 2692: 'charlie', 2693: 'talked', 2694: 'thesaurus', 2695: 'anywhere', 2696: 'matter-of-fact', 2697: 'granted', 2698: 'tentative', 2699: 'maya', 2700: 'tester', 2701: 'railroad', 2702: 'borrow', 2703: \"bar's\", 2704: 'pulling', 2705: 'ragtime', 2706: 'therefore', 2707: 'nigeria', 2708: \"tester's\", 2709: 'dough', 2710: 'alfalfa', 2711: \"shan't\", 2712: 'seemed', 2713: 'brassiest', 2714: 'businessman_#1:', 2715: 'love-matic', 2716: 'naturally', 2717: 'stir', 2718: 'moe-clone:', 2719: 'onions', 2720: 'insightful', 2721: 'carl:', 2722: 'color', 2723: \"weren't\", 2724: 'snorts', 2725: 'possibly', 2726: 'funds', 2727: 'helped', 2728: 'asking', 2729: 'crumble', 2730: 'conspiratorial', 2731: 'gun', 2732: 'riding', 2733: 'tenor:', 2734: 'banquo', 2735: 'cheery', 2736: 'involved', 2737: 'bigger', 2738: 'cooler', 2739: 'restaurants', 2740: 'cutie', 2741: \"drawin'\", 2742: 'jets', 2743: 'rhyme', 2744: 'sector', 2745: 'miles', 2746: 'laney_fontaine:', 2747: 'wings', 2748: 'authorized', 2749: 'aerosmith', 2750: 'awww', 2751: 'foil', 2752: 'quotes', 2753: 'whenever', 2754: 'violations', 2755: \"what're\", 2756: 'carve', 2757: 't-shirt', 2758: 'carlson', 2759: 'underbridge', 2760: 'trapped', 2761: 'torn', 2762: 'skirt', 2763: '7-year-old_brockman:', 2764: 'commission', 2765: 'liar', 2766: 'excellent', 2767: 'gums', 2768: 'zero', 2769: 'forgive', 2770: 'fictional', 2771: 'actors', 2772: 'prison', 2773: 'confidence', 2774: '100', 2775: 'copy', 2776: 'plenty', 2777: 'brothers', 2778: 'homers', 2779: 'agreement', 2780: 'hail', 2781: 'shaggy', 2782: 'smallest', 2783: 'stinks', 2784: 'victory', 2785: 'vacation', 2786: 'falcons', 2787: 'schnapps', 2788: 'sissy', 2789: 'built', 2790: 'effervescent', 2791: 'babe', 2792: 'snow', 2793: 'answering', 2794: 'nigerian', 2795: 'fabulous', 2796: 'abandon', 2797: 'social', 2798: 'bedroom', 2799: 'padre', 2800: 'project', 2801: 'gosh', 2802: 'fevered', 2803: 'results', 2804: 'lush', 2805: 'cozy', 2806: 'slice', 2807: 'stern', 2808: 'sweeter', 2809: 'choking', 2810: 'standards', 2811: 'proposing', 2812: 'bums', 2813: 'shoo', 2814: 'smurfs', 2815: 'draw', 2816: 'queen', 2817: 'professor', 2818: 'considering', 2819: 'beating', 2820: 'conversation', 2821: \"waitin'\", 2822: 'jerky', 2823: 'began', 2824: 'century', 2825: 'roses', 2826: 'changes', 2827: 'prohibit', 2828: 'thanksgiving', 2829: 'acquaintance', 2830: 'stationery', 2831: 'gang', 2832: 'wrestling', 2833: 'disapproving', 2834: 'sympathetic', 2835: 'smugglers', 2836: 'insulted', 2837: 'pirate', 2838: \"wonderin'\", 2839: \"hadn't\", 2840: 'pleasant', 2841: 'wash', 2842: 'suds', 2843: 'hibbert', 2844: 'pigs', 2845: 'judge', 2846: 'jubilant', 2847: 'sugar', 2848: 'animals', 2849: 'fritz', 2850: 'troy_mcclure:', 2851: \"ladies'\", 2852: 'louie:', 2853: 'heavyset', 2854: 'sooner', 2855: 'conference', 2856: 'smile:', 2857: 'fresh', 2858: 'yards', 2859: 'crew', 2860: 'festival', 2861: 'brow', 2862: 'reaching', 2863: 'murmurs', 2864: 'record', 2865: 'swill', 2866: 'hats', 2867: 'roz:', 2868: 'joke', 2869: 'bottles', 2870: 'grandiose', 2871: 'benefits', 2872: 'manage', 2873: 'diamond', 2874: 'strategy', 2875: 'waylon', 2876: 'atlanta', 2877: 'grumpy', 2878: 'large', 2879: 'emotional', 2880: 'vampires', 2881: 'product', 2882: 'pian-ee', 2883: 'listening', 2884: 'stranger:', 2885: 'admitting', 2886: 'bret', 2887: 'white', 2888: 'passed', 2889: 'slight', 2890: 'refund', 2891: 'penny', 2892: 'rule', 2893: 'duel', 2894: 'famous', 2895: 'seriously', 2896: 'expensive', 2897: 'alma', 2898: 'rapidly', 2899: 'polish', 2900: 'nucular', 2901: 'sidekick', 2902: 'cats', 2903: 'youuu', 2904: 'carlotta:', 2905: 'sesame', 2906: 'belly-aching', 2907: \"hawkin'\", 2908: 'perverse', 2909: 'funeral', 2910: 'pronto', 2911: 'guessing', 2912: 'farewell', 2913: 'pointedly', 2914: 'sacrifice', 2915: 'minors', 2916: 'crisis', 2917: 'peeping', 2918: 'romance', 2919: 'lame', 2920: 'weep', 2921: 'haircuts', 2922: 'cutest', 2923: 'acronyms', 2924: 'brick', 2925: 'rebuttal', 2926: 'marvelous', 2927: 'blubberino', 2928: 'du', 2929: 'philosophic', 2930: 'aims', 2931: 'incapable', 2932: 'boxer:', 2933: 'blinds', 2934: 'twentieth', 2935: 'kennedy', 2936: 'motor', 2937: 'jeff_gordon:', 2938: 'ab', 2939: 'diving', 2940: 'additional-seating-capacity', 2941: 'bid', 2942: 'sobo', 2943: 'yuh-huh', 2944: 'brunch', 2945: 'giggle', 2946: 'elocution', 2947: 'itchy', 2948: 'developed', 2949: 'pugilist', 2950: 'getaway', 2951: 'fit', 2952: 'items', 2953: 'thought_bubble_lenny:', 2954: 'attractive_woman_#2:', 2955: 'rhode', 2956: 'amends', 2957: 'alibi', 2958: 'flashing', 2959: 'assent', 2960: 'example', 2961: 'officer', 2962: 'intruding', 2963: \"kid's\", 2964: 'intoxicants', 2965: 'unlocked', 2966: 'suave', 2967: 'haiti', 2968: 'access', 2969: 'insensitive', 2970: 'blaze', 2971: 'burnside', 2972: 'rubbed', 2973: 'ratio', 2974: 'tasty', 2975: 'steely-eyed', 2976: 'grants', 2977: 'contact', 2978: 'hygienically', 2979: 'assume', 2980: 'right-handed', 2981: 'murderously', 2982: 'bookie', 2983: 'hiding', 2984: '70', 2985: 'everyday', 2986: 'chinua', 2987: 'freely', 2988: 'larson', 2989: 'average-looking', 2990: 'anyhoo', 2991: 'supply', 2992: 'knives', 2993: 'beligerent', 2994: 'starla:', 2995: 'reflected', 2996: 'oblongata', 2997: 'hike', 2998: 'lobster', 2999: 'nail', 3000: \"pullin'\", 3001: 'richard', 3002: 'today/', 3003: 'connection', 3004: 'gig', 3005: 'unbelievable', 3006: 'taught', 3007: 'contract', 3008: 'female_inspector:', 3009: 'champs', 3010: 'buzz', 3011: 'ralph_wiggum:', 3012: 'phony', 3013: 'online', 3014: 'hydrant', 3015: 'softer', 3016: 'derek', 3017: 'vulgar', 3018: 'elite', 3019: 'tire', 3020: 'renew', 3021: 'charming', 3022: 'veteran', 3023: 'inserts', 3024: 'jackson', 3025: 'tow', 3026: 'pictured', 3027: 'hems', 3028: 'proposition', 3029: 'elves:', 3030: 'endorsement', 3031: \"something's\", 3032: 'octa-', 3033: 'comforting', 3034: 'options', 3035: 'pregnancy', 3036: 'shhh', 3037: 'falling', 3038: 'texan', 3039: 'lingus', 3040: 'kidnaps', 3041: 'delicately', 3042: 'nurse', 3043: \"'round\", 3044: 'stein-stengel-', 3045: 'fourteen:', 3046: 'reader', 3047: 'twerpy', 3048: 'continuum', 3049: 'capitalists', 3050: 'exquisite', 3051: 'maitre', 3052: 'glyco-load', 3053: 'darkness', 3054: 'urge', 3055: 'savings', 3056: 'glamour', 3057: \"'morning\", 3058: 'temples', 3059: 'designer', 3060: 'ashtray', 3061: 'disturbing', 3062: 'laid', 3063: 'whistling', 3064: 'recreate', 3065: 'pussycat', 3066: 'sixteen', 3067: 'slugger', 3068: 'personal', 3069: 'tidy', 3070: 'bulked', 3071: 'baloney', 3072: 'apply', 3073: 'uninhibited', 3074: 'beer-dorf', 3075: 'funniest', 3076: 'cleaning', 3077: 'whatchamacallit', 3078: 'mission', 3079: \"stealin'\", 3080: 'loudly', 3081: 'kodos:', 3082: 'vicious', 3083: 'decide:', 3084: 'cappuccino', 3085: 'slurps', 3086: 'scent', 3087: 'repay', 3088: 'knocks', 3089: 'achebe', 3090: 'stalin', 3091: 'hooters', 3092: 'jeter', 3093: 'salvador', 3094: 'computer_voice_2:', 3095: 'womb', 3096: 'ghouls', 3097: 'asses', 3098: 'orphan', 3099: 'broken:', 3100: 'indifference', 3101: 'annoying', 3102: 'fumigated', 3103: 'samples', 3104: 'choose', 3105: 'homer_', 3106: 'adult', 3107: 'stumble', 3108: 'municipal', 3109: 'encores', 3110: 'stay-puft', 3111: \"y'money's\", 3112: 'journey', 3113: 'cupid', 3114: 'pink', 3115: \"handwriting's\", 3116: 'ees', 3117: 'lady_duff:', 3118: 'acquitted', 3119: 'bumped', 3120: 'meanwhile', 3121: 'orifice', 3122: 'taxi', 3123: 'sun', 3124: 'halfway', 3125: \"burnin'\", 3126: 'beady', 3127: 'beans', 3128: 'jimmy', 3129: 'mabel', 3130: 'faith', 3131: 'nick', 3132: 'count', 3133: 'supervising', 3134: 'maximum', 3135: 'treehouse', 3136: 'goodwill', 3137: 'railroads', 3138: 'bindle', 3139: 'cushion', 3140: 'winning', 3141: 'toms', 3142: 'blackjack', 3143: 'happiness', 3144: \"'er\", 3145: 'pepper', 3146: 'clandestine', 3147: \"starla's\", 3148: 'supermodel', 3149: 'shyly', 3150: 'blob', 3151: 'doooown', 3152: \"now's\", 3153: 'fast-paced', 3154: 'enter', 3155: 'app', 3156: 'squashing', 3157: 'insecure', 3158: 'roach', 3159: 'credit', 3160: 'boozebag', 3161: 'newsweek', 3162: 'rig', 3163: 'stan', 3164: 'uniforms', 3165: 'patriotic', 3166: 'bleak', 3167: 'gentles', 3168: \"s'pose\", 3169: 'sitcom', 3170: \"america's\", 3171: 'wham', 3172: 'splattered', 3173: 'edner', 3174: 'dyspeptic', 3175: 'common', 3176: 'perch', 3177: 'premise', 3178: 'examples', 3179: 'transylvania', 3180: 'wound', 3181: 'mckinley', 3182: 'wolverines', 3183: 'awareness', 3184: 'otherwise', 3185: 'spare', 3186: 'allow', 3187: 'janette', 3188: 'indeed', 3189: 'brings', 3190: 'gabriel:', 3191: 'supports', 3192: 'raining', 3193: \"when's\", 3194: 'scratcher', 3195: 'swallowed', 3196: 'dea-d-d-dead', 3197: 'model', 3198: 'ing', 3199: 'exact', 3200: 'ga', 3201: 'forget-me-drinks', 3202: 'stones', 3203: 'declare', 3204: \"yieldin'\", 3205: 'understood', 3206: 'worldview', 3207: 'delts', 3208: 'sketch', 3209: 'hyper-credits', 3210: 'sympathy', 3211: 'transmission', 3212: \"soundin'\", 3213: '2', 3214: \"challengin'\", 3215: 'homunculus', 3216: 'novel', 3217: \"dimwit's\", 3218: \"fans'll\", 3219: 'smuggled', 3220: 'feminist', 3221: 'vehicle', 3222: 'sour', 3223: 'parenting', 3224: 'lone', 3225: 'focused', 3226: 'slop', 3227: \"cleanin'\", 3228: \"usin'\", 3229: 'jokes', 3230: 'wildest', 3231: 'tasimeter', 3232: 'royal', 3233: 'protestantism', 3234: 'edgy', 3235: 'virility', 3236: 'ironic', 3237: 'fresco', 3238: 'donut-shaped', 3239: 'court', 3240: 'firm', 3241: 'data', 3242: 'manfred', 3243: 'cronies', 3244: 'miss_lois_pennycandy:', 3245: 'nerd', 3246: 'para', 3247: 'scrubbing', 3248: 'hot-rod', 3249: \"squeezin'\", 3250: 'captain', 3251: 'flown', 3252: 'sued', 3253: 'nectar', 3254: 'countryman', 3255: 'safecracker', 3256: 'anderson', 3257: \"school's\", 3258: 'most:', 3259: 'watched', 3260: 'trash', 3261: 'gut', 3262: 'nordiques', 3263: 'wrecking', 3264: 'irrelevant', 3265: 'gallon', 3266: 'nominated', 3267: 'hammy', 3268: 'mt', 3269: 'specializes', 3270: 'harvard', 3271: 'ew', 3272: 'darjeeling', 3273: 'cruiser', 3274: 'actress', 3275: 'rewound', 3276: 'brotherhood', 3277: 'zeal', 3278: 'elaborate', 3279: 'tank', 3280: 'boned', 3281: 'backward', 3282: 'meteor', 3283: 'nahasapeemapetilon', 3284: 'rationalizing', 3285: 'je', 3286: 'dull', 3287: 'hangover', 3288: 'average', 3289: 'pas', 3290: 'blocked', 3291: 'thirty-thousand', 3292: \"eatin'\", 3293: 'muslim', 3294: 'shoe', 3295: 'bail', 3296: 'jewish', 3297: 'chorus:', 3298: 'presentable', 3299: 'glee', 3300: 'theme', 3301: 'vanities', 3302: 'recorded', 3303: 'anonymous', 3304: 're-al', 3305: 'musical', 3306: 'composer', 3307: 'recipe', 3308: 'unsafe', 3309: 'presses', 3310: 'shoulda', 3311: 'alien', 3312: 'courthouse', 3313: 'shopping', 3314: 'dingy', 3315: 'terminated', 3316: 'nameless', 3317: \"narratin'\", 3318: 'psst', 3319: 'beings', 3320: 'twenty-four', 3321: 'sizes', 3322: 'grubby', 3323: 'viva', 3324: 'wrestle', 3325: 'cuz', 3326: 'attached', 3327: 'stained-glass', 3328: 'hunka', 3329: 'trivia', 3330: 'enabling', 3331: 'cletus_spuckler:', 3332: 'clubs', 3333: 'mild', 3334: 'supermarket', 3335: 'composite', 3336: 'creates', 3337: 'lemonade', 3338: 'lovelorn', 3339: 'popping', 3340: 'squirrel', 3341: 'expecting', 3342: 'colonel:', 3343: \"calf's\", 3344: 'choked-up', 3345: 'shill', 3346: 'adequate', 3347: 'slim', 3348: '3rd_voice:', 3349: 'payback', 3350: 'displeased', 3351: 'quimby_#2:', 3352: 'breakfast', 3353: 'ideas', 3354: 'andrew', 3355: 'depressant', 3356: 'hairs', 3357: 'carefully', 3358: \"aren'tcha\", 3359: 'convinced', 3360: 'exciting', 3361: 'corn', 3362: 'churchy', 3363: 'peter_buck:', 3364: 'schedule', 3365: 'grub', 3366: 'intakes', 3367: 'statesmanlike', 3368: 'au', 3369: 'cigars', 3370: 'cesss', 3371: 'timbuk-tee', 3372: 'handed', 3373: 'listens', 3374: 'dateline:', 3375: 'heroism', 3376: 'photographer', 3377: 'manboobs', 3378: \"d'ya\", 3379: 'colorado', 3380: 'uncreeped-out', 3381: 'demo', 3382: 'prince', 3383: 'fears', 3384: 'stored', 3385: 'smelly', 3386: 'drummer', 3387: 'further', 3388: 'nemo', 3389: 'pusillanimous', 3390: 'encouraging', 3391: 'tragedy', 3392: 'supplying', 3393: 'anxious', 3394: 'cock', 3395: 'hostages', 3396: 'bras', 3397: 'fletcherism', 3398: 'marched', 3399: 'brusque', 3400: 'killer', 3401: 'bum:', 3402: 'fights', 3403: 'refreshment', 3404: 'mini-dumpsters', 3405: 'engraved', 3406: 'fail', 3407: 'dumb-asses', 3408: 'pontiff', 3409: 'ho-la', 3410: \"donatin'\", 3411: 'branding', 3412: 'tv-station_announcer:', 3413: 'barney-guarding', 3414: \"plank's\", 3415: 'crow', 3416: 'duke', 3417: 'elizabeth', 3418: 'crooks', 3419: 'fixes', 3420: 'highball', 3421: 'disguise', 3422: 'in-in-in', 3423: 'grumbling', 3424: 'absorbent', 3425: 'hourly', 3426: 'rent', 3427: 'tow-talitarian', 3428: 'ducked', 3429: 'co-sign', 3430: 'die-hard', 3431: 'düff', 3432: 'maxed', 3433: 'ratted', 3434: \"'now\", 3435: 'swell', 3436: 'index', 3437: 'goal', 3438: 'groin', 3439: 'milhouses', 3440: \"how're\", 3441: 'fireworks', 3442: 'fontaine', 3443: \"secret's\", 3444: 'trashed', 3445: 'cecil_terwilliger:', 3446: 'certified', 3447: 'bauer', 3448: 'apron', 3449: 'pro', 3450: 'sucks', 3451: 'appeals', 3452: \"fishin'\", 3453: 'cage', 3454: 'aboard', 3455: 'boston', 3456: 'flash', 3457: 'botanical', 3458: 'title:', 3459: 'priceless', 3460: 'germans', 3461: 'hibachi', 3462: 'seething', 3463: 'faced', 3464: \"puttin'\", 3465: 'breathalyzer', 3466: 'cocks', 3467: 'putty', 3468: 'squishee', 3469: 'ruby-studded', 3470: 'muertos', 3471: 'guzzles', 3472: 'singing/pushing', 3473: 'settles', 3474: \"nixon's\", 3475: 'bono', 3476: 'watashi', 3477: 'stays', 3478: 'tow-joes', 3479: 'blade', 3480: 'platinum', 3481: \"d'\", 3482: 'landfill', 3483: 'lipo', 3484: 'reckless', 3485: 'hillary', 3486: 'simplest', 3487: 'catch-phrase', 3488: 'horror', 3489: 'figure', 3490: \"renovatin'\", 3491: 'harm', 3492: 'parked', 3493: 'xx', 3494: 'wounds', 3495: 'title', 3496: 'jukebox_record:', 3497: 'dejected', 3498: 'jumping', 3499: \"swishifyin'\", 3500: 'plums', 3501: 'premiering', 3502: 'oughta', 3503: 'refiero', 3504: 'reading:', 3505: 'helps', 3506: 'nor', 3507: 'triple-sec', 3508: \"mo'\", 3509: 'oopsie', 3510: 'awfully', 3511: 'inexorable', 3512: 'mice', 3513: 'bad-mouth', 3514: 'dislike', 3515: 'dictating', 3516: 'flailing', 3517: 'connor', 3518: 'bagged', 3519: 'piling', 3520: \"lady's\", 3521: 'audience:', 3522: 'conversion', 3523: 'bites', 3524: 'remembers', 3525: 'sucking', 3526: 'cocking', 3527: 'beatings', 3528: 'exits', 3529: 'susie-q', 3530: 'appearance-altering', 3531: 'gimmicks', 3532: '50-60', 3533: 'fwooof', 3534: 'rookie', 3535: 'cheaped', 3536: 'cousin', 3537: 'consoling', 3538: 'headhunters', 3539: 'slot', 3540: 'asks', 3541: 'ninety-seven', 3542: 'exultant', 3543: 'ripped', 3544: 'elmer', 3545: 'string', 3546: 'tease', 3547: 'dizer', 3548: 'sen', 3549: 'justify', 3550: 'bust', 3551: 'specified', 3552: 'sneak', 3553: 'eight-year-old', 3554: 'forecast', 3555: 'filth', 3556: \"man's_voice:\", 3557: 'sneeze', 3558: 'passports', 3559: \"soakin's\", 3560: 'mouths', 3561: 'blooded', 3562: 'giant', 3563: 'fastest', 3564: 'hushed', 3565: 'dreary', 3566: 'kinderhook', 3567: 'mater', 3568: 'rem', 3569: 'effervescence', 3570: 'meaningless', 3571: 'excavating', 3572: 'protesters', 3573: 'kinds', 3574: 'crestfallen', 3575: 'lookalike', 3576: 'spilled', 3577: 'ballclub', 3578: 'tokens', 3579: 'droning', 3580: 'bellyaching', 3581: 'distract', 3582: 'urban', 3583: 'crappy', 3584: 'stirrers', 3585: 'site', 3586: 'mural', 3587: 'bushes', 3588: 'strategizing', 3589: 'infatuation', 3590: 'iranian', 3591: 'annus', 3592: \"car's\", 3593: 'hero-phobia', 3594: 'k-zug', 3595: 'customers-slash-only', 3596: \"costume's\", 3597: 'literary', 3598: 'kisser', 3599: 'press', 3600: 'well-wisher', 3601: 'event', 3602: 'sieben-gruben', 3603: 'hers', 3604: 'boxcar', 3605: 'thirty-nine', 3606: 'ineffective', 3607: 'noggin', 3608: 'reserved', 3609: 'chapstick', 3610: 'lungs', 3611: 'furniture', 3612: 'hillbillies', 3613: 'syndicate', 3614: \"table's\", 3615: 'jobless', 3616: 'way:', 3617: 'hemorrhage-amundo', 3618: 'dramatically', 3619: 'pumping', 3620: \"fine-lookin'\", 3621: 'warning', 3622: 'clothespins:', 3623: 'releasing', 3624: 'skoal', 3625: 'impress', 3626: 'methinks', 3627: 'assassination', 3628: 'lewis', 3629: 'dealt', 3630: 'cavern', 3631: 'naval', 3632: 'damned', 3633: 'jackpot-thief', 3634: \"tv'll\", 3635: 'fl', 3636: 'marshmallow', 3637: \"tomorrow's\", 3638: 'forgiven', 3639: 'frontrunner', 3640: 'winded', 3641: 'meatpies', 3642: 'shareholder', 3643: 'dads', 3644: 'competitive', 3645: 'byrne', 3646: 'ivanna', 3647: 'what-for', 3648: 'scoffs', 3649: 'ahem', 3650: 'sampler', 3651: 'buttocks', 3652: 'extended', 3653: 'pickles', 3654: 'stocking', 3655: 'compare', 3656: 'helping', 3657: 'bake', 3658: 'occupied', 3659: 'universe', 3660: 'stupidest', 3661: 'kemi', 3662: 'cloudy', 3663: 'soul-crushing', 3664: 'commit', 3665: 'graves', 3666: 'riveting', 3667: 'ape-like', 3668: 'ribbon', 3669: 'superpower', 3670: 'fad', 3671: 'pine', 3672: 'mumble', 3673: 'flame', 3674: 'necklace', 3675: 'mint', 3676: 'dig', 3677: 'cauliflower', 3678: 'wolfcastle', 3679: 'saget', 3680: 'envy-tations', 3681: '_burns_heads:', 3682: 'lecture', 3683: 'backbone', 3684: 'socratic', 3685: 'looser', 3686: 'wind', 3687: 'barkeeps', 3688: 'pawed', 3689: 'pennies', 3690: 'morning-after', 3691: \"president's\", 3692: 'inclination', 3693: 'authenticity', 3694: 'watered', 3695: 'bachelor', 3696: 'napkins', 3697: 'sky', 3698: 'schmoe', 3699: 'malfeasance', 3700: 'insulin', 3701: 'martini', 3702: 'tomahto', 3703: 'murdoch', 3704: 'dirty', 3705: \"linin'\", 3706: 'courts', 3707: 'linda_ronstadt:', 3708: 'kegs', 3709: 'clams', 3710: 'picky', 3711: 'bono:', 3712: 'germany', 3713: 'drives', 3714: 'enlightened', 3715: 'rutabaga', 3716: 'wigs', 3717: 'kickoff', 3718: 'ebullient', 3719: \"choosin'\", 3720: '10:15', 3721: 'information', 3722: 'harvey', 3723: 'alcoholism', 3724: 'fluoroscope', 3725: 'unusually', 3726: 'kitchen', 3727: 'happens', 3728: 'remodel', 3729: 'penmanship', 3730: 'intoxicated', 3731: 'snout', 3732: 'stink', 3733: 'emotion', 3734: 'marquee', 3735: 'muffled', 3736: 'mostrar', 3737: 'consulting', 3738: 'bullet-proof', 3739: 'phasing', 3740: 'oooo', 3741: 'fell', 3742: 'wrap', 3743: 'notice', 3744: 'melodramatic', 3745: 'dozen', 3746: 'tyson/secretariat', 3747: 'len-ny', 3748: 'tearfully', 3749: 'entertainer', 3750: 'jacksons', 3751: 'recorder', 3752: 'surprising', 3753: 'verticality', 3754: 'accidents', 3755: 'show-off', 3756: 'worthless', 3757: 'thunder', 3758: 'risqué', 3759: 'paparazzo', 3760: 'poisoning', 3761: 'talkers', 3762: 'x-men', 3763: 'sideshow_mel:', 3764: 'ladder', 3765: 'icy', 3766: 'champignons', 3767: 'log', 3768: 'build', 3769: \"poundin'\", 3770: \"cheerin'\", 3771: 'valley', 3772: 'donuts', 3773: 'daniel', 3774: 'incriminating', 3775: 'gutenberg', 3776: \"clancy's\", 3777: 'quarterback', 3778: 'science', 3779: 'fleabag', 3780: 'bottomless', 3781: 'sanitation', 3782: 'chipped', 3783: 'aquafresh', 3784: 'ease', 3785: 'moon-bounce', 3786: 'sugar-free', 3787: 'reality', 3788: 'criminal', 3789: 'creme', 3790: 'schemes', 3791: 'theatah', 3792: 'replace', 3793: 'racially-diverse', 3794: 'publishers', 3795: '7g', 3796: 'unrelated', 3797: 'disguised', 3798: 'hooked', 3799: 'grrrreetings', 3800: 'tied', 3801: 'depressing', 3802: 'drunkening', 3803: 'banned', 3804: 'microwave', 3805: 'almond', 3806: 'limber', 3807: 'yoink', 3808: 'i/you', 3809: 'wazoo', 3810: \"'evening\", 3811: 'privacy', 3812: 'muhammad', 3813: 'furry', 3814: 'beast', 3815: 'buyer', 3816: 'dispenser', 3817: 'sees/', 3818: 'test-lady', 3819: 'tracks', 3820: \"battin'\", 3821: 'pile', 3822: 'shout', 3823: 'scrutinizing', 3824: 'clenched', 3825: 'commanding', 3826: 'squabbled', 3827: \"bashir's\", 3828: 'control', 3829: 'rome', 3830: 'slapped', 3831: 'puzzle', 3832: 'trail', 3833: 'expired', 3834: 'nauseous', 3835: 'punching', 3836: 'sangre', 3837: 'wenceslas', 3838: 'poorer', 3839: \"s'cuse\", 3840: 'and:', 3841: 'wudgy', 3842: 'plucked', 3843: 'radiation', 3844: 'please/', 3845: 'attractive', 3846: 'sweetest', 3847: 'snapping', 3848: 'ding-a-ding-ding-a-ding-ding', 3849: 'rip-off', 3850: \"football's\", 3851: 'e-z', 3852: 'taunting', 3853: 'exchanged', 3854: 'amiable', 3855: 'takeaway', 3856: 'mimes', 3857: \"somethin's\", 3858: 'shriners', 3859: 'dropping', 3860: 'cyrano', 3861: 'declared', 3862: 'sixty', 3863: 'fired', 3864: 'promotion', 3865: 'begging', 3866: 'shark', 3867: 'winner', 3868: 'frescas', 3869: \"games'd\", 3870: 'abe', 3871: 'exploiter', 3872: 'agents', 3873: 'amused', 3874: 'wears', 3875: 'winces', 3876: 'ends', 3877: \"ya'\", 3878: 'awkwardly', 3879: 'shipment', 3880: 'kissed', 3881: 'coy', 3882: 'e', 3883: 'considering:', 3884: 'spine', 3885: '4x4', 3886: 'friday', 3887: 'sister-in-law', 3888: 'quarter', 3889: 'here-here-here', 3890: \"'ere\", 3891: 'libraries', 3892: 'maude', 3893: 'crystal', 3894: \"s'okay\", 3895: 'sacajawea', 3896: 'squirrels', 3897: 'plaintive', 3898: 'doof', 3899: 'kentucky', 3900: 'temper', 3901: \"g'on\", 3902: 'coin', 3903: 'wacky', 3904: 'surprised/thrilled', 3905: 'followed', 3906: 'burglary', 3907: 'weapon', 3908: 'choices', 3909: 'foodie', 3910: 'fighter', 3911: 'chauffeur:', 3912: 'cheerleaders:', 3913: \"washin'\", 3914: 'stamps', 3915: 'soaps', 3916: 'alls', 3917: 'starlets', 3918: 'doctor', 3919: 'manipulation', 3920: 'bachelorhood', 3921: 'official', 3922: 'simpsons', 3923: 'suffering', 3924: 'sensitivity', 3925: 'newspaper', 3926: 'ninety-nine', 3927: 'tv_daughter:', 3928: 'rubs', 3929: 'encouraged', 3930: \"daughter's\", 3931: 'dogs', 3932: 'coal', 3933: 'lists', 3934: 'noble', 3935: 'specials', 3936: 'trainers', 3937: \"this'll\", 3938: 'persia', 3939: \"nothin's\", 3940: 'intriguing', 3941: 'kneeling', 3942: 'majority', 3943: 'afterglow', 3944: 'statues', 3945: 'defected', 3946: 'grenky', 3947: 'error', 3948: 'gore', 3949: 'grain', 3950: 'voted', 3951: \"feelin's\", 3952: 'recruiter', 3953: 'principles', 3954: 'swelling', 3955: \"playin'\", 3956: 'shutup', 3957: 'a-lug', 3958: 'soot', 3959: 'failure', 3960: 'evergreen', 3961: 'self-satisfied', 3962: 'imitating', 3963: 'dammit', 3964: \"wouldn't-a\", 3965: \"collector's\", 3966: 'farthest', 3967: 'handwriting', 3968: 'ingested', 3969: 'onassis', 3970: 'kirk_voice_milhouse:', 3971: 'browns', 3972: 'doom', 3973: 'prizefighters', 3974: 'arrange', 3975: 'night-crawlers', 3976: 'avenue', 3977: 'lookalikes', 3978: 'total', 3979: 'jury', 3980: 'neon', 3981: 'guard', 3982: 'ripper', 3983: 'sucker', 3984: 'sealed', 3985: 'beaumarchais', 3986: 'betrayed', 3987: 'sunny', 3988: 'swamp', 3989: 'drop-off', 3990: 'cap', 3991: 'kay', 3992: 'pets', 3993: 'nicer', 3994: 'carb', 3995: 'pridesters:', 3996: 'simple', 3997: 'darn', 3998: 'statue', 3999: 'juke', 4000: 'office', 4001: 'portfolium', 4002: 'catty', 4003: 'shack', 4004: 'ding-a-ding-ding-ding-ding-ding-ding', 4005: 'heavens', 4006: 'grieving', 4007: 'eyeballs', 4008: 'getcha', 4009: 'dark', 4010: 'launch', 4011: 'microphone', 4012: 'arabs', 4013: 'arse', 4014: 'sales', 4015: 'pigtown', 4016: 'classy', 4017: 'thirsty', 4018: 'caholic', 4019: 'nibble', 4020: 'gruff', 4021: 'family-owned', 4022: 'glummy', 4023: 'holy', 4024: 'juan', 4025: 'ne', 4026: 'swe-ee-ee-ee-eet', 4027: 'unfair', 4028: 'hispanic_crowd:', 4029: 'mines', 4030: 'reward', 4031: 'applesauce', 4032: 'gasoline', 4033: 'scum-sucking', 4034: 'freed', 4035: 'flack', 4036: 'warren', 4037: 'microbrew', 4038: 'rims', 4039: 'emergency', 4040: 'stupidly', 4041: 'thrilled', 4042: 'ron', 4043: 'notably', 4044: 'falsetto', 4045: 'perfected', 4046: 'rainbows', 4047: 'streetlights', 4048: 'victorious', 4049: 'brawled', 4050: 'lowest', 4051: 'slaves', 4052: 'entering', 4053: 'over-pronouncing', 4054: 'forced', 4055: 'pages', 4056: 'ballot', 4057: 'practice', 4058: 'ingrates', 4059: \"rustlin'\", 4060: 'post-suicide', 4061: 'often', 4062: 'insurance', 4063: 'souvenir', 4064: 'mmmmm', 4065: 'seamstress', 4066: 'lessee', 4067: \"'cept\", 4068: 'newsies', 4069: 'regretful', 4070: 'endorsed', 4071: 'typed', 4072: 'legend', 4073: 'pledge', 4074: 'luv', 4075: 'emphasis', 4076: 'pudgy', 4077: 'dipping', 4078: \"changin'\", 4079: 'shelbyville', 4080: 'locked', 4081: 'joy', 4082: 'retain', 4083: 'toledo', 4084: 'peeved', 4085: 'johnny_carson:', 4086: 'adopted', 4087: 'nos', 4088: 'chateau', 4089: 'selection', 4090: 'guttural', 4091: 'si-lent', 4092: 'babar', 4093: 'face-macer', 4094: 'founded', 4095: 'loafers', 4096: 'young_barfly:', 4097: 'species', 4098: 'nightmares', 4099: \"i-i'll\", 4100: \"mother's\", 4101: 'go-near-', 4102: 'volunteer', 4103: 'read:', 4104: 'snail', 4105: 'lifts', 4106: 'gulps', 4107: 'hardwood', 4108: 'derisive', 4109: 'hounds', 4110: 'celebrate', 4111: 'menlo', 4112: 'streetcorner', 4113: 'repairman', 4114: 'parents', 4115: 'hammer', 4116: 's-a-u-r-c-e', 4117: 'walked', 4118: 'problemo', 4119: 'minus', 4120: \"can'tcha\", 4121: 'other_book_club_member:', 4122: 'theatrical', 4123: '-ry', 4124: 'phase', 4125: 'warmth', 4126: 'cheapskates', 4127: 'cell', 4128: 'four-drink', 4129: 'vermont', 4130: 'five-fifteen', 4131: 'prompting', 4132: 'confidential', 4133: 'massage', 4134: 'trenchant', 4135: 'mugs', 4136: 'imported-sounding', 4137: 'begin', 4138: 'mix', 4139: 'heart-broken', 4140: 'scornfully', 4141: 'owes', 4142: 'sight', 4143: 'hottest', 4144: 'england', 4145: 'landlord', 4146: 'robot', 4147: 'tree_hoper:', 4148: 'ought', 4149: 'firing', 4150: 'blessing', 4151: 'attracted', 4152: 'passenger', 4153: 'er', 4154: 'tight', 4155: 'mountain', 4156: 'generally', 4157: 'neighborhood', 4158: 'pointy', 4159: 'curse', 4160: 'rash', 4161: \"i'd'a\", 4162: \"bart'd\", 4163: 'religious', 4164: 'patting', 4165: 'fica', 4166: 'spoon', 4167: 'genuinely', 4168: 'ungrateful', 4169: 'experienced', 4170: 'asleep', 4171: 'glorious', 4172: 'experience', 4173: 'tuborg', 4174: 'flames', 4175: 'wore', 4176: 'harmony', 4177: 'ihop', 4178: 'recent', 4179: 'decided', 4180: 'gregor', 4181: 'woulda', 4182: 'bragging', 4183: 'kl5-4796', 4184: 'fist', 4185: 'normals', 4186: 'gordon', 4187: 'wasted', 4188: 'hockey-fight', 4189: '50%', 4190: 'initially', 4191: 'gil_gunderson:', 4192: 'aid', 4193: 'affection', 4194: 'destroyed', 4195: 'prettied', 4196: 'inquiries', 4197: 'multi-purpose', 4198: 'skins', 4199: 'underwear', 4200: 'blowfish', 4201: 'enhance', 4202: 'watt', 4203: 'corkscrews', 4204: 'crowds', 4205: 'meaning', 4206: 'absentminded', 4207: 'jogging', 4208: 'whoa-ho', 4209: 'shtick', 4210: 'driveability', 4211: 'rusty', 4212: 'handler', 4213: 'mortal', 4214: 'compressions', 4215: 'poster', 4216: 'burg', 4217: 'resolution', 4218: 'luckiest', 4219: 'moolah-stealing', 4220: 'hub', 4221: 'quarry', 4222: 'mid-conversation', 4223: 'soaking', 4224: 'wussy', 4225: 'steampunk', 4226: 'payday', 4227: 'sturdy', 4228: 'buzziness', 4229: 'pews', 4230: 'legoland', 4231: 'natured', 4232: 'spitting', 4233: 'loneliness', 4234: '1973', 4235: 'leonard', 4236: 'earrings', 4237: 'blokes', 4238: 'brag', 4239: 'handling', 4240: 'homer_doubles:', 4241: 'depressed', 4242: 'adjourned', 4243: 'bubbles-in-my-nose-y', 4244: 'outlive', 4245: \"hole'\", 4246: 'exhibit', 4247: 'hops', 4248: 'utensils', 4249: 'liven', 4250: 'totalitarians', 4251: 'knowledge', 4252: 'ram', 4253: 'photos', 4254: 'numeral', 4255: \"boy's\", 4256: 'depression', 4257: 'shifty', 4258: 'augustus', 4259: 'created', 4260: 'ignorant', 4261: \"should've\", 4262: 'cricket', 4263: '$42', 4264: 'monorails', 4265: 'woooooo', 4266: 'unfresh', 4267: 'swan', 4268: 'scatter', 4269: 'mull', 4270: 'scores', 4271: 'tones', 4272: 'spooky', 4273: 'tapestry', 4274: 'pushing', 4275: 'mexicans', 4276: 'eighty-three', 4277: 'punishment', 4278: 'ninth', 4279: 'up-bup-bup', 4280: 'iddilies', 4281: 'scientists', 4282: 'mozzarella', 4283: 'bannister', 4284: 'africanized', 4285: 'repeated', 4286: \"coffee'll\", 4287: 'fonzie', 4288: \"round's\", 4289: 'opens', 4290: 'perón', 4291: 'suspenders', 4292: 'skydiving', 4293: 'wad', 4294: 'squeeze', 4295: 'habitrail', 4296: 'citizens', 4297: 'notices', 4298: 'interrupting', 4299: 'annie', 4300: '_marvin_monroe:', 4301: 'process', 4302: 'bobo', 4303: 'lugs', 4304: 'wife-swapping', 4305: 'contractors', 4306: 'jam', 4307: 'buds', 4308: 'yee-ha', 4309: 'christian', 4310: 'paramedic:', 4311: 'stalwart', 4312: 'allegiance', 4313: 'flustered', 4314: 'shades', 4315: 'beyond', 4316: 'friend:', 4317: 'louisiana', 4318: 'non-losers', 4319: 'pills', 4320: 'comedies', 4321: 'country-fried', 4322: 'yew', 4323: 'territorial', 4324: 'head-gunk', 4325: 'sheets', 4326: 'legally', 4327: 'swig', 4328: 'certainly', 4329: 'horses', 4330: 'hunger', 4331: 'whaddya', 4332: 'guff', 4333: 'hitchhike', 4334: 'choices:', 4335: 'moe_recording:', 4336: 'hampstead-on-cecil-cecil', 4337: 'newest', 4338: 'booger', 4339: 'gumbo', 4340: 'cobbling', 4341: 'enthused', 4342: 'solved', 4343: 'strains', 4344: 'disappear', 4345: 'beer:', 4346: 'super-tough', 4347: 'forty-nine', 4348: 'package', 4349: 'lee', 4350: 'midge:', 4351: 'chin', 4352: \"somebody's\", 4353: 'donation', 4354: \"fightin'\", 4355: 'exclusive:', 4356: 'closet', 4357: 'broncos', 4358: \"messin'\", 4359: 'jerk-ass', 4360: 'sheet', 4361: 'wuss', 4362: 'bedridden', 4363: 'kirk', 4364: 'kako:', 4365: 'multi-national', 4366: 'grammar', 4367: 'lager', 4368: 'friction', 4369: 'spiritual', 4370: 'full-blooded', 4371: 'tha', 4372: 'file', 4373: 'ruled', 4374: 'dawning', 4375: 'cases', 4376: 'compromise:', 4377: 'prices', 4378: 'starla', 4379: 'wagering', 4380: 'wholeheartedly', 4381: 'crayon', 4382: 'published', 4383: 'humanity', 4384: 'hanh', 4385: 'tanking', 4386: 'unfamiliar', 4387: 'sweaty', 4388: 'bide', 4389: \"g'ahead\", 4390: 'chip', 4391: 'consciousness', 4392: \"heat's\", 4393: 'grind', 4394: 'courteous', 4395: 'pernt', 4396: \"man'd\", 4397: 'yelp', 4398: 'lighter', 4399: 'griffith', 4400: 'pack', 4401: 'grammys', 4402: 'quick-like', 4403: 'explanation', 4404: 'installed', 4405: 'insults', 4406: 'rip', 4407: 'washed', 4408: 'patrons:', 4409: 'encore', 4410: 'sledge-hammer', 4411: 'coupon', 4412: 'orders', 4413: 'slobs', 4414: 'practically', 4415: 'micronesian', 4416: 'tribute', 4417: 'gear-head', 4418: 'spirit', 4419: 'unhook', 4420: 'nonchalantly', 4421: 'americans', 4422: 'telegraph', 4423: 'enterprising', 4424: \"ma's\", 4425: 'papa', 4426: 'director:', 4427: 'salvation', 4428: 'the_edge:', 4429: 'mis-statement', 4430: 'relaxed', 4431: 'karaoke_machine:', 4432: 'lance', 4433: 'insured', 4434: '8', 4435: \"jimbo's_dad:\", 4436: 'missing', 4437: 'tropical', 4438: 'slurred', 4439: 'dies', 4440: 'arimasen', 4441: 'cab', 4442: 'releases', 4443: 'alpha-crow', 4444: 'skills', 4445: 'madonna', 4446: 'newsletter', 4447: 'sniffing', 4448: 'disgraceful', 4449: 'piano', 4450: 'digging', 4451: 'beverage', 4452: 'deli', 4453: 'onto', 4454: 'rings', 4455: 'diablo', 4456: 'occasion', 4457: 'tabs', 4458: 'host', 4459: 'reconsidering', 4460: 'hexa-', 4461: 'slipped', 4462: 'wiggle-frowns', 4463: 'tense', 4464: 'sleeping', 4465: 'lovers', 4466: 'bugs', 4467: 'affects', 4468: 'teriyaki', 4469: 'shame', 4470: 'eminence', 4471: 'swings', 4472: 'manatee', 4473: 'tonic', 4474: 'spacey', 4475: 'silence', 4476: 'stolen', 4477: 'old-time', 4478: 'dumbbell', 4479: 'grateful', 4480: 'unable', 4481: 'polls', 4482: 'boozer', 4483: 'score', 4484: 'patron_#2:', 4485: \"tv's\", 4486: 'massive', 4487: 'considers', 4488: 'entrance', 4489: 'busiest', 4490: \"duelin'\", 4491: 'fat_in_the_hat:', 4492: \"stabbin'\", 4493: 'frink-y', 4494: 'store-bought', 4495: 'macgregor', 4496: \"fendin'\", 4497: 'drove', 4498: 'fantasy', 4499: 'item', 4500: \"city's\", 4501: 'blimp', 4502: 'loathe', 4503: 'maher', 4504: 'ping-pong', 4505: 'fast-food', 4506: 'result', 4507: 'reluctantly', 4508: 'crab', 4509: 'grandkids', 4510: 'haplessly', 4511: 'spectacular', 4512: 'chug-monkeys', 4513: 'mini-beret', 4514: 'patrons', 4515: 'shush', 4516: 'malabar', 4517: 'lease', 4518: 'snotty', 4519: 'mm-hmm', 4520: 'cans', 4521: 'telephone', 4522: 'grudgingly', 4523: 'gees', 4524: 'punkin', 4525: 'pip', 4526: 'booze-bags', 4527: 'rafters', 4528: 'eighty-six', 4529: 'rented', 4530: 'choked', 4531: 'fruit', 4532: 'swine', 4533: 'half-beer', 4534: 'agency', 4535: 'homesick', 4536: 'switched', 4537: 'mahatma', 4538: 'john', 4539: 'bury', 4540: 'united', 4541: 'chill', 4542: 'alky', 4543: 'coughs', 4544: 'mcclure', 4545: 'distaste', 4546: 'exhale', 4547: 'charter', 4548: 'stinger', 4549: 'kidneys', 4550: 'liable', 4551: 'ons', 4552: 'spamming', 4553: 'pancakes', 4554: 'slick', 4555: 'lend', 4556: 'harrowing', 4557: 'easygoing', 4558: 'studied', 4559: \"pickin'\", 4560: 'space-time', 4561: 'batmobile', 4562: 'venture', 4563: \"writin'\", 4564: 'apart', 4565: 'defiantly', 4566: 'muscles', 4567: 'lard', 4568: 'windelle', 4569: 'wistful', 4570: 'assumed', 4571: 'fortress', 4572: 'moe-lennium', 4573: \"england's\", 4574: 'luckily', 4575: \"spyin'\", 4576: 'pajamas', 4577: \"ball's\", 4578: \"toot's\", 4579: 'determined', 4580: 'dressing', 4581: 'resenting', 4582: 'be-stainèd', 4583: 'leak', 4584: 'offa', 4585: 'tiger', 4586: 'scanning', 4587: 'flash-fry', 4588: 'dateline', 4589: 'labor', 4590: 'desperately', 4591: 'frozen', 4592: 'crunch', 4593: 'seminar', 4594: 'compete', 4595: 'hearts', 4596: 'chain', 4597: 'stingy', 4598: 'tee', 4599: 'society_matron:', 4600: 'strawberry', 4601: 'blows', 4602: 'cause', 4603: 'strain', 4604: 'scruffy_blogger:', 4605: 'twelve-step', 4606: 'sickens', 4607: 'madman', 4608: 'scram', 4609: 'sharity', 4610: 'cup', 4611: 'race', 4612: 'runners', 4613: 'ideal', 4614: 'shop', 4615: 'creepy', 4616: \"beggin'\", 4617: 'play/', 4618: 'tenuous', 4619: 'reaches', 4620: 'villanova', 4621: 'thrust', 4622: 'sight-unseen', 4623: 'dealer', 4624: 'femininity', 4625: 'deeper', 4626: 'painted', 4627: 'finance', 4628: 'parasol', 4629: \"poisonin'\", 4630: 'y-you', 4631: 'indifferent', 4632: 'xanders', 4633: 'heatherton', 4634: 'polenta', 4635: '21', 4636: 'diddilies', 4637: 'period', 4638: 'poetics', 4639: 'employees', 4640: 'waking-up', 4641: 'koji', 4642: 'reciting', 4643: 'convenient', 4644: 'soft', 4645: 'intimacy', 4646: 'dean', 4647: 'leathery', 4648: 'blinded', 4649: 'chumbawamba', 4650: 'swooning', 4651: 'clincher', 4652: 'artist', 4653: 'sheriff', 4654: 'eightball', 4655: 'latour', 4656: 'chicken', 4657: 'boozehound', 4658: 'scout', 4659: 'modestly', 4660: 'cheryl', 4661: 'mirror', 4662: 'zoomed', 4663: 'hilton', 4664: 'richer', 4665: 'othello', 4666: 'apology', 4667: 'ivory', 4668: 'sweat', 4669: 'lotsa', 4670: 'hare-brained', 4671: 'slaps', 4672: 'eddie', 4673: 'languages', 4674: 'faceful', 4675: \"sippin'\", 4676: 'warranty', 4677: 'she-pu', 4678: \"'ceptin'\", 4679: 'sincerely', 4680: 'voyager', 4681: 'drinker', 4682: 'sticker', 4683: \"industry's\", 4684: 'huddle', 4685: 'wealthy', 4686: 'beefs', 4687: 'patron_#1:', 4688: 'certificate', 4689: 'billiard', 4690: 'remote', 4691: 'infestation', 4692: 'einstein', 4693: 'unexplained', 4694: 'fledgling', 4695: 'thawing', 4696: 'rude', 4697: 'crowded', 4698: 'simultaneous', 4699: 'cooking', 4700: 'rekindle', 4701: 'lobster-based', 4702: 'perking', 4703: 'lizard', 4704: 'curiosity', 4705: 'ninety-six', 4706: 'figures', 4707: 'starve', 4708: 'unkempt', 4709: 'mindless', 4710: \"floatin'\", 4711: 'puke-pail', 4712: 'lump', 4713: 'sue', 4714: 'legs:', 4715: 'togetherness', 4716: 'pinball', 4717: 'lorre', 4718: 'bulletin', 4719: 'wittgenstein', 4720: 'it:', 4721: 'nasty', 4722: 'training', 4723: 'jovial', 4724: '3', 4725: 'nbc', 4726: \"treatin'\", 4727: 'portuguese', 4728: 'freaky', 4729: 'ehhhhhh', 4730: 'pyramid', 4731: 'con', 4732: 'faulkner', 4733: 'lady-free', 4734: 'lachrymose', 4735: \"startin'\", 4736: 'kazoo', 4737: 'williams', 4738: \"b-52's:\", 4739: 'undermine', 4740: 'factor', 4741: 'espn', 4742: 'admirer', 4743: 'negative', 4744: \"hell's\", 4745: 'flynt', 4746: 'drains', 4747: 'fools', 4748: 'scientific', 4749: 'vacations', 4750: \"hobo's\", 4751: 'hammock', 4752: 'cologne', 4753: 'whoo', 4754: 'spreads', 4755: 'mock-up', 4756: 'speed', 4757: 'monkeyshines', 4758: 'son-of-a', 4759: 'aggie', 4760: 'tar-paper', 4761: 'mccarthy', 4762: '14', 4763: 'delays', 4764: 'conclude', 4765: 'y', 4766: 'squeal', 4767: 'bursts', 4768: 'michael', 4769: 'ohhhh', 4770: 'abusive', 4771: 'fury', 4772: 'stretches', 4773: 'author', 4774: 'column', 4775: 'shelf', 4776: 'inserted', 4777: 'lime', 4778: 'furiously', 4779: 'mickey', 4780: 'musta', 4781: 'jig', 4782: 'th-th-th-the', 4783: 'malted', 4784: 'johnny', 4785: 'cecil', 4786: 'hellhole', 4787: 'moving', 4788: 'mathis', 4789: 'skinheads', 4790: '530', 4791: 'characteristic', 4792: 'cheered', 4793: 'smiles', 4794: 'alec_baldwin:', 4795: 'muscle', 4796: 'wednesday', 4797: 'alarm', 4798: 'wok', 4799: 'hmf', 4800: 'forgotten', 4801: 'trustworthy', 4802: \"'s\", 4803: 'sleigh-horses', 4804: 'extreme', 4805: 'someplace', 4806: 'shag', 4807: 'hugh', 4808: 'nash', 4809: 'poplar', 4810: 'judges', 4811: 'ura', 4812: 'contemptuous', 4813: 'unhappy', 4814: 'whaaaa', 4815: \"betsy'll\", 4816: 'month', 4817: 'stores', 4818: 'ehhhhhhhhh', 4819: 'harvesting', 4820: 'robbers', 4821: 'chips', 4822: 'jams', 4823: \"brady's\", 4824: 'aer', 4825: 'brakes', 4826: 'longest', 4827: 'acceptance', 4828: 'flourish', 4829: 'buffet', 4830: 'filed', 4831: 'sassy', 4832: 'leprechaun', 4833: 'leftover', 4834: \"nick's\", 4835: \"knockin'\", 4836: 'uses', 4837: 'rush', 4838: 'indigenous', 4839: 'complicated', 4840: 'bleeding', 4841: 'idioms', 4842: 'geysir', 4843: 'in-ground', 4844: 'radioactive', 4845: 'attraction', 4846: 'strips', 4847: 'hotenhoffer', 4848: 'forty-five', 4849: 'stagey', 4850: 'nailed', 4851: 'fdic', 4852: 'heartily', 4853: 'restless', 4854: 'travel', 4855: 'outstanding', 4856: 'short_man:', 4857: 'knuckles', 4858: 'prettiest', 4859: 'bidet', 4860: 'vampire', 4861: 'sounded', 4862: 'anthony_kiedis:', 4863: 'hemoglobin', 4864: \"somethin':\", 4865: 'nap', 4866: 'cuckoo', 4867: 'jane', 4868: 'charges', 4869: 'flexible', 4870: 'prep', 4871: 'cockroaches', 4872: 'remaining', 4873: 'yells', 4874: 'arise', 4875: 'expose', 4876: 'gibson', 4877: 'herself', 4878: \"aristotle's\", 4879: 'placed', 4880: 'knowingly', 4881: 'horrors', 4882: 'childless', 4883: \"life's\", 4884: 'sticking-place', 4885: 'murdered', 4886: 'argue', 4887: 'quebec', 4888: 'sang', 4889: 'subscriptions', 4890: 'coast', 4891: 'undies', 4892: 'a-a-b-b-a', 4893: 'occupation', 4894: 'lumpa', 4895: 'julep', 4896: 'full-bodied', 4897: 'padres', 4898: 'fustigation', 4899: 'youngsters', 4900: 'aged', 4901: 'compels', 4902: 'fistiana', 4903: 'liquor', 4904: 'activity', 4905: 'ears', 4906: 'drag', 4907: 'silent', 4908: 'vengeful', 4909: 'spender', 4910: 'candles', 4911: 'hundreds', 4912: 'lawyer', 4913: \"cupid's\", 4914: 'nelson', 4915: 'de', 4916: 'solely', 4917: 'bell', 4918: 'spews', 4919: 'rub-a-dub', 4920: 'single-mindedness', 4921: 'telemarketing', 4922: 'groans', 4923: 'ignorance', 4924: 'cadillac', 4925: 'two-drink', 4926: 'delicate', 4927: 'applicant', 4928: 'glowers', 4929: 'astronauts', 4930: 'oughtta', 4931: 'stripes', 4932: 'ali', 4933: 'occasional', 4934: 'carolina', 4935: 'wowww', 4936: 'deals', 4937: 'captain:', 4938: 'groveling', 4939: 'meditative', 4940: 'thirty-three', 4941: 'raggie', 4942: 'veux', 4943: 'increased', 4944: 'advertise', 4945: 'freshened', 4946: 'cracked', 4947: 'junebug', 4948: 'homeland', 4949: 'super-genius', 4950: 'dash', 4951: 'blamed', 4952: 'honeys', 4953: 'proof', 4954: 'runaway', 4955: 'strolled', 4956: 'powers', 4957: 'nooo', 4958: 'random', 4959: 'disappointment', 4960: 'woodchucks', 4961: 'sprawl', 4962: 'hoagie', 4963: 'chuckling', 4964: 'vincent', 4965: 'collapse', 4966: 'mulder', 4967: 'socialize', 4968: 'milks', 4969: 'comment', 4970: 'extract', 4971: 'raging', 4972: 'cuddling', 4973: 'whispered', 4974: 'heaving', 4975: \"c'mom\", 4976: 'self-centered', 4977: 'sass', 4978: 'angrily', 4979: 'lodge', 4980: 'whaaa', 4981: 'judgments', 4982: 'swimming', 4983: 'bottoms', 4984: 'moonlight', 4985: 'fantastic', 4986: 'influence', 4987: 'puffy', 4988: 'flaking', 4989: 'zinged', 4990: 'breaks', 4991: 'looooooooooooooooooong', 4992: 'crushed', 4993: 'lincoln', 4994: 'congratulations', 4995: 'cheesecake', 4996: 'concentrate', 4997: 'nightmare', 4998: 'brief', 4999: 'truck_driver:', 5000: 'kisses', 5001: 'revenge', 5002: \"tonight's\", 5003: 'eaten', 5004: 'evasive', 5005: 'thanking', 5006: 'popped', 5007: 'senators:', 5008: 'detail', 5009: 'oak', 5010: 'enthusiasm', 5011: 'sooo', 5012: 'actor', 5013: 'generosity', 5014: 'musketeers', 5015: 'dana_scully:', 5016: 'plain', 5017: 'benjamin:', 5018: 'medieval', 5019: 'circus', 5020: 'manuel', 5021: 'overflowing', 5022: 'bones', 5023: 'owns', 5024: 'macho', 5025: \"depressin'\", 5026: 'frenchman', 5027: 'ralphie', 5028: 'wh', 5029: 'carny:', 5030: 'bolting', 5031: 'mocking', 5032: 'politician', 5033: \"queen's\", 5034: 'improv', 5035: 'mistakes', 5036: 'shard', 5037: 'station', 5038: 'clipped', 5039: 'federal', 5040: 'slab', 5041: 'olive', 5042: 'impeach', 5043: 'employment', 5044: 'demand', 5045: 'earth', 5046: 'valuable', 5047: 'chubby', 5048: 'fund', 5049: 'grinch', 5050: 'nickel', 5051: 'gator', 5052: 'managed', 5053: 'rocks', 5054: 'fink', 5055: 'rom', 5056: 'sponge', 5057: 'sternly', 5058: 'take-back', 5059: 'julienne', 5060: 'moustache', 5061: 'tear', 5062: 'settlement', 5063: 'deny', 5064: 'bull', 5065: 'rotten', 5066: 'immiggants', 5067: 'sponsor', 5068: \"o'reilly\", 5069: 'dumpster', 5070: 'partners', 5071: \"son's\", 5072: \"who'da\", 5073: 'occurrence', 5074: 'fortune', 5075: 'presumir', 5076: 'squeezed', 5077: 'pasta', 5078: \"neighbor's\", 5079: 'aunt', 5080: 'life-threatening', 5081: 'wipes', 5082: 'waste', 5083: 'brockelstein', 5084: 'device', 5085: 'suspiciously', 5086: 'wildfever', 5087: \"number's\", 5088: 'michael_stipe:', 5089: 'startled', 5090: 'goblins', 5091: 'mole', 5092: 'statistician', 5093: 'mexican', 5094: 'pre-game', 5095: 'outrageous', 5096: 'remorseful', 5097: 'decadent', 5098: 'heck', 5099: 'brace', 5100: 'musses', 5101: 'urinal', 5102: 'mary', 5103: 'gel', 5104: 'avec', 5105: 'unattractive', 5106: 'dizzy', 5107: 'caper', 5108: 'wizard', 5109: 'notch', 5110: 'three-man', 5111: 'disgracefully', 5112: 'bonfire', 5113: 'chic', 5114: 'grin', 5115: 'omit', 5116: 'cajun', 5117: 'yourse', 5118: 'however', 5119: 'whining', 5120: 'accelerating', 5121: 'donut', 5122: 'bridges', 5123: 'referee', 5124: 'reunion', 5125: 'painless', 5126: 'tourist', 5127: 'undated', 5128: 'spouses', 5129: 'buddha', 5130: 'eve', 5131: 'disco_stu:', 5132: 'miracle', 5133: 'provide', 5134: \"fryer's\", 5135: 'badge', 5136: 'misfire', 5137: 'benjamin', 5138: 'guiltily', 5139: 'depository', 5140: \"'pu\", 5141: 'tin', 5142: 'boxcars', 5143: 'gesture', 5144: 'contented', 5145: 'march', 5146: 'producers', 5147: 'haws', 5148: \"she'll\", 5149: 'invisible', 5150: 'open-casket', 5151: 'marry', 5152: 'roz', 5153: \"man's\", 5154: \"she'd\", 5155: 'hiring', 5156: 'arrested:', 5157: 'expense', 5158: 'rugged', 5159: 'strokkur', 5160: 'loboto-moth', 5161: 'arm-pittish', 5162: 'madison', 5163: 'crowned', 5164: 'pretends', 5165: 'roller', 5166: 'lofty', 5167: 'grandé', 5168: 'twenty-six', 5169: 'ultimate', 5170: 'cummerbund', 5171: \"yesterday's\", 5172: 'eye-gouger', 5173: 'compadre', 5174: 'diminish', 5175: 'sexton', 5176: 'tobacky', 5177: 'meaningfully', 5178: 'delightful', 5179: 'mexican_duffman:', 5180: 'thnord', 5181: 'conclusions', 5182: 'planted', 5183: 'dreamy', 5184: 'peabody', 5185: \"dog's\", 5186: \"wallet's\", 5187: 'booking', 5188: 'sunglasses', 5189: 'fatso', 5190: 'unjustly', 5191: 'clown-like', 5192: 'gulliver_dark:', 5193: 'law-abiding', 5194: 'plants', 5195: 'uglier', 5196: 'abolish', 5197: 'sub-monkeys', 5198: 'shells', 5199: 'starving', 5200: 'whatsit', 5201: 'option', 5202: 'stairs', 5203: \"kearney's_dad:\", 5204: 'typing', 5205: 'proves', 5206: 'bon-bons', 5207: 'pepsi', 5208: 'liser', 5209: 'hangout', 5210: 'engine', 5211: 'quimby', 5212: 'felony', 5213: 'irs', 5214: 'whirlybird', 5215: 'barney-type', 5216: 'tactful', 5217: 'bloodball', 5218: 'cerebral', 5219: 'mellow', 5220: 'grey', 5221: 'lead', 5222: 'eco-fraud', 5223: 'investment', 5224: 'ferry', 5225: 'excuses', 5226: 'obsessive-compulsive', 5227: 'zone', 5228: 'aiden', 5229: 'wiggle', 5230: 'frankie', 5231: 'mustard', 5232: 'spelling', 5233: 'incarcerated', 5234: 'brooklyn', 5235: 'backing', 5236: 'birth', 5237: 'wiping', 5238: 'chug-a-lug', 5239: 'toxins', 5240: 'knock-up', 5241: \"listenin'\", 5242: 'el', 5243: 'impending', 5244: 'bumbling', 5245: 'beard', 5246: 'stretch', 5247: 'appropriate', 5248: 'perverted', 5249: 'bothered', 5250: 'protesting', 5251: 'unearth', 5252: 'killing', 5253: 'walther', 5254: 'heals', 5255: 'disillusioned', 5256: \"mcstagger's\", 5257: 'flayvin', 5258: 'population', 5259: 'crotch', 5260: 'beaumont', 5261: 'rainier', 5262: \"disrobin'\", 5263: 'hostile', 5264: 'strangles', 5265: 'unforgettable', 5266: 'chow', 5267: 'thorough', 5268: 'appendectomy', 5269: 'menace', 5270: 'tomato', 5271: 'mid-seventies', 5272: 'kings', 5273: 'fierce', 5274: 'blank', 5275: 'greatly', 5276: 'neanderthal', 5277: 'ehhhhhhhh', 5278: 'notorious', 5279: 'dentist', 5280: 'lindsay', 5281: 'whoops', 5282: 'renovations', 5283: 'effect', 5284: 'macaulay', 5285: 'sickened', 5286: 'incognito', 5287: 'espousing', 5288: 'script', 5289: 'michelin', 5290: 'voodoo', 5291: 'slit', 5292: 'wells', 5293: 'remain', 5294: 'stamp', 5295: 'mike_mills:', 5296: \"tramp's\", 5297: 'beef', 5298: 'toe', 5299: 'crayola', 5300: 'gargoyles', 5301: 'chapter', 5302: 'mushy', 5303: 'smokes', 5304: 'puke-holes', 5305: 'one-hour', 5306: 'scratching', 5307: 'stripe', 5308: 'unsanitary', 5309: 'terrace', 5310: 'lanes', 5311: 'exited', 5312: \"liftin'\", 5313: 'chastity', 5314: 'hurting', 5315: 'pure', 5316: 'earlier', 5317: 'stalking', 5318: 'growing', 5319: 'enveloped', 5320: 'when-i-get-a-hold-of-you', 5321: 'businessman_#2:', 5322: 'layer', 5323: 'oddest', 5324: 'society', 5325: 'terror', 5326: 'replaced', 5327: 'cocoa', 5328: 'halloween', 5329: 'culkin', 5330: 'housing', 5331: 'completely', 5332: 'vestigial', 5333: 'difference', 5334: 'connor-politan', 5335: 'ze-ro', 5336: 'clapping', 5337: 'mostly', 5338: 'stage', 5339: 'kahlua', 5340: 'man_at_bar:', 5341: 'lay', 5342: 'lied', 5343: 'insist', 5344: 'lily-pond', 5345: 'mac-who', 5346: \"show's\", 5347: 'raking', 5348: 'zack', 5349: 'hooky', 5350: 'maintenance', 5351: \"cuckold's\", 5352: 'scornful', 5353: 'nfl_narrator:', 5354: 'dice', 5355: 'guinea', 5356: 'bathtub', 5357: 'taxes', 5358: 'haikus', 5359: 'breakdown', 5360: 'bowie', 5361: 'cowboy', 5362: 'renders', 5363: 'bluff', 5364: 'overhearing', 5365: 'gus', 5366: 'eww', 5367: 'trees', 5368: 'saving', 5369: 'charged', 5370: 'ecru', 5371: 'howya', 5372: 'stagehand:', 5373: 'dumbest', 5374: 'gambler', 5375: 'forty-seven', 5376: 'heave-ho', 5377: 'delightfully', 5378: 'tapered', 5379: 'gheet', 5380: 'carmichael', 5381: \"bladder's\", 5382: 'pinchpenny', 5383: 'leaving', 5384: 'jackass', 5385: 'tapping', 5386: 'offensive', 5387: 'fringe', 5388: 'evils', 5389: 'blissful', 5390: 'regretted', 5391: \"doctor's\", 5392: 'wienerschnitzel', 5393: 'housework', 5394: 'nascar', 5395: 'handshake', 5396: 'soaked', 5397: 'panicked', 5398: 'promise', 5399: 'dutch', 5400: \"scammin'\", 5401: 'saucy', 5402: \"bo's\", 5403: 'avalanche', 5404: 'showed', 5405: 'norway', 5406: 'daaaaad', 5407: 'regulations', 5408: 'name:', 5409: 'eu', 5410: 'repressed', 5411: 'upsetting', 5412: 'pretentious_rat_lover:', 5413: 'reactions', 5414: 'agent_miller:', 5415: 'stengel', 5416: 'country', 5417: 'presently', 5418: 'wood', 5419: 'plane', 5420: 'drunkenly', 5421: 'touches', 5422: 'flea:', 5423: \"singin'\", 5424: \"y'see\", 5425: 'gloop', 5426: 'fence', 5427: 'triumphantly', 5428: 'singer', 5429: 'playoff', 5430: \"speakin'\", 5431: 'hunky', 5432: 'bar:', 5433: 'smiled', 5434: 'screws', 5435: 'technical', 5436: 'life:', 5437: 'sweater', 5438: \"that'd\", 5439: \"neat's-foot\", 5440: 'grope', 5441: 'flew', 5442: 'dollface', 5443: 'shoes', 5444: 'worldly', 5445: 'movement', 5446: 'bloodiest', 5447: 'roy', 5448: 'clips', 5449: 'lenford', 5450: 'estranged', 5451: 'whoopi', 5452: 'meyerhof', 5453: 'bill_james:', 5454: 'fustigate', 5455: 'continued', 5456: 'sagely', 5457: 'f-l-a-n-r-d-s', 5458: 'dennis', 5459: '1979', 5460: \"g'night\", 5461: 'hootie', 5462: 'grace', 5463: 'brother-in-law', 5464: 'kucinich', 5465: 'brown', 5466: 'pretzels', 5467: 'badmouth', 5468: 'casting', 5469: 'sink', 5470: 'videotaped', 5471: 'mommy', 5472: 'cheerier', 5473: 'bounced', 5474: 'enjoys', 5475: 'j', 5476: 'temp', 5477: 'diapers', 5478: 'potatoes', 5479: 'innocence', 5480: 'lenses', 5481: 'splash', 5482: 'infor', 5483: 'eighteen', 5484: 'hardhat', 5485: 'listened', 5486: 'militia', 5487: 'occurs', 5488: 'examines', 5489: \"professor's\", 5490: 'carnival', 5491: 'repeating', 5492: 'doy', 5493: 'squadron', 5494: 'noosey', 5495: 'inches', 5496: 'aggravazes', 5497: 'whoever', 5498: 'pretzel', 5499: 'hustle', 5500: 'without:', 5501: 'aah', 5502: 'forgets', 5503: 'resist', 5504: 'chapel', 5505: \"thing's\", 5506: 'malibu', 5507: 'refreshing', 5508: 'stewart', 5509: 'reaction', 5510: 'rods', 5511: 'aisle', 5512: 'flush', 5513: 'committee', 5514: 'support', 5515: 'fifth', 5516: 'eliminate', 5517: 'thorn', 5518: 'counter', 5519: 'led', 5520: 'intelligent', 5521: 'pillows', 5522: 'everywhere', 5523: 'manchego', 5524: 'hubub', 5525: 'aghast', 5526: 'signal', 5527: 'nonsense', 5528: 'nature', 5529: 'ruuuule', 5530: 'abcs', 5531: 'sticking', 5532: 'mamma', 5533: \"phone's\", 5534: 'victim', 5535: 'chained', 5536: 'ronstadt', 5537: 'lifters', 5538: 'unbelievably', 5539: 'ummmmmmmmm', 5540: 'mayan', 5541: 'poison', 5542: 'mystery', 5543: \"grandmother's\", 5544: 'gunter', 5545: 'pep', 5546: 'poetry', 5547: 'idealistic', 5548: 'sending', 5549: 'weight', 5550: 'flophouse', 5551: 'homeless', 5552: 'naegle', 5553: 'carpet', 5554: 'anyhow', 5555: 'billingsley', 5556: 'instantly', 5557: 'reopen', 5558: 'broken', 5559: 'occurred', 5560: 'misconstrue', 5561: 'intention', 5562: 'gr-aargh', 5563: 'oh-ho', 5564: 'barstools', 5565: 'half-day', 5566: 'clench', 5567: 'marjorie', 5568: '_eugene_blatz:', 5569: 'attractive_woman_#1:', 5570: 'hotel', 5571: 'living', 5572: 'ore', 5573: 'panties', 5574: 'deliberately', 5575: 'rafter', 5576: 'sistine', 5577: 'pus-bucket', 5578: 'executive', 5579: 'politicians', 5580: 'bathed', 5581: 'apulina', 5582: 'hideous', 5583: 'fry', 5584: 'cherry', 5585: 'poured', 5586: 'eva', 5587: 'thrown', 5588: 'drapes', 5589: 'lennyy', 5590: 'sequel', 5591: 'upn', 5592: 'troubles', 5593: 'dory', 5594: 'tempting', 5595: 'pilsner-pusher', 5596: 'sidelines', 5597: 'squeals', 5598: 'ventriloquism', 5599: 'you-need-man', 5600: \"wino's\", 5601: \"department's\", 5602: 'donate', 5603: 'spits', 5604: 'crimes', 5605: 'salary', 5606: 'weather', 5607: 'widow', 5608: 'sniper', 5609: 'synthesize', 5610: 'kenny', 5611: 'distance', 5612: 'shortcomings', 5613: 'plotz', 5614: 'happily:', 5615: 'and/or', 5616: 'accounta', 5617: 'alter', 5618: 'illustrates', 5619: 'nitwit', 5620: 'phlegm', 5621: 'agh', 5622: 'braun:', 5623: 'ugliness', 5624: 'dimly', 5625: 'occupancy', 5626: 'terrifying', 5627: 'football', 5628: 'dum-dum', 5629: 'rector', 5630: 'sickly', 5631: 'floating', 5632: 'blur', 5633: 'twelveball', 5634: 'dishrag', 5635: \"smokin'\", 5636: 'shores', 5637: 'reminded', 5638: 'waist', 5639: 'hardy', 5640: 'divine', 5641: 'november', 5642: 'talkative', 5643: \"tree's\", 5644: 'wish-meat', 5645: 'horribilis', 5646: 'doppler', 5647: 'traditions', 5648: 'onion', 5649: 'paper', 5650: 'selfish', 5651: 'county', 5652: 'hooch', 5653: 'robin', 5654: 'sensible', 5655: 'hafta', 5656: 'straighten', 5657: 'teacup', 5658: 'nevada', 5659: 'donated', 5660: \"tinklin'\", 5661: 'fella', 5662: 'fbi_agent:', 5663: 'writer:', 5664: 'starters', 5665: 'hollowed-out', 5666: 'wishing', 5667: 'bartholomé:', 5668: 'specialists', 5669: 'bleacher', 5670: 'ate', 5671: 'parrot', 5672: 'stats', 5673: 'audience', 5674: 'combines', 5675: 'horns', 5676: 'cannoli', 5677: 'junkyard', 5678: 'advertising', 5679: 'youth', 5680: 'beer-jerks', 5681: \"must've\", 5682: 'schorr', 5683: 'quitcher', 5684: 'flanders:', 5685: 'predecessor', 5686: 'coherent', 5687: 'cheering', 5688: 'instrument', 5689: 'archaeologist', 5690: 'awake', 5691: 'supreme', 5692: 'glitterati', 5693: 'automobiles', 5694: 'dime', 5695: 'appreciated', 5696: 'squad', 5697: 'playhouse', 5698: 'rockers', 5699: 'finale', 5700: 'relative', 5701: 'poke', 5702: 'jernt', 5703: 'witches', 5704: \"tootin'\", 5705: 'schabadoo', 5706: 'brunswick', 5707: 'gayer', 5708: 'superdad', 5709: 'fainted', 5710: 'kim_basinger:', 5711: 'housewife', 5712: 'mediterranean', 5713: 'packets', 5714: 'super-nice', 5715: 'barber', 5716: '2nd_voice_on_transmitter:', 5717: 'moesy', 5718: 'yammering', 5719: 'highest', 5720: \"edna's\", 5721: 'touch', 5722: 'shred', 5723: 'obama', 5724: 'jay:', 5725: 'carey', 5726: 'novelty', 5727: 'civil', 5728: 'tremendous', 5729: 'coyly', 5730: 'neighbors', 5731: 'op', 5732: 'wally', 5733: 'drawer', 5734: \"people's\", 5735: 'relaxing', 5736: 'heliotrope', 5737: 'illegally', 5738: 'choice:', 5739: 'drawn', 5740: 'edelbrock', 5741: 'fondest', 5742: 'mmm-hmm', 5743: 'cattle', 5744: 'newly-published', 5745: 'stomach', 5746: 'rat-like', 5747: 'background', 5748: 'flashbacks', 5749: 'santeria', 5750: 'eyeing', 5751: \"stayin'\", 5752: 'odor', 5753: 'helpful', 5754: 'mistresses', 5755: 'this:', 5756: 'rain', 5757: 'runs', 5758: 'ireland', 5759: 'thing:', 5760: 'incredible', 5761: 'barter', 5762: 'cheaper', 5763: 'faded', 5764: 'ron_howard:', 5765: 'taylor', 5766: 'montrer', 5767: 'basement', 5768: 'dealie', 5769: 'rolls', 5770: 'pen', 5771: 'choke', 5772: 'tubman', 5773: \"jackpot's\", 5774: 'arguing', 5775: 'hook', 5776: 'butterball', 5777: \"tatum'll\", 5778: 'rascals', 5779: 'waterfront', 5780: 'shreda', 5781: 'wieners', 5782: 'jubilation', 5783: 'adventure', 5784: 'smitty:', 5785: 'philip', 5786: 'polygon', 5787: 'lovejoy', 5788: 'dignified', 5789: 'noooooooooo', 5790: 'behavior', 5791: 'nantucket', 5792: \"cont'd:\", 5793: \"fun's\", 5794: 'sponge:', 5795: 'affectations', 5796: 'pantry', 5797: 'stiffening', 5798: 'approval', 5799: 'obese', 5800: 'conversations', 5801: 'addiction', 5802: 'democrats', 5803: 'swimmers', 5804: 'anti-intellectualism', 5805: 'selective', 5806: 'stepped', 5807: 'equal', 5808: 'upgrade', 5809: 'investigating', 5810: 'dirge-like', 5811: 'woe:', 5812: 'grocery', 5813: 'pepto-bismol', 5814: 'capuchin', 5815: 'healthier', 5816: 'sneering', 5817: 'ditched', 5818: 'faces', 5819: 'nachos', 5820: 'trunk', 5821: 'feisty', 5822: 'sumatran', 5823: 'laughter', 5824: 'frankenstein', 5825: 'semi-imported', 5826: 'dracula', 5827: 'splendid', 5828: 'chipper', 5829: 'issuing', 5830: 'mags', 5831: 'ambrose', 5832: 'resigned', 5833: 'administration', 5834: 'surgeonnn', 5835: \"wait'll\", 5836: 'uhhhh', 5837: 'flat', 5838: 'dumbass', 5839: 'dinks', 5840: 'guilt', 5841: 'moon', 5842: 'associate', 5843: 'wheels', 5844: 'moe-heads', 5845: 'tons', 5846: 'believer', 5847: 'poulet', 5848: 'handoff', 5849: 'limited', 5850: 'suru', 5851: 'cuff', 5852: 'rueful', 5853: 'pizzicato', 5854: 'car:', 5855: 'rice', 5856: 'life-sized', 5857: 'adrift', 5858: 'flush-town', 5859: 'disposal', 5860: 'anti-crime', 5861: 'conditioning', 5862: 'done:', 5863: 'blind', 5864: 'larry', 5865: 'ling', 5866: 'presents', 5867: 'bachelorette', 5868: 'menacing', 5869: 'pre-recorded', 5870: 'eyed', 5871: 'email', 5872: 'jelly', 5873: 'ancestors', 5874: 'grains', 5875: \"rentin'\", 5876: 'little_hibbert_girl:', 5877: \"blowin'\", 5878: 'hoax', 5879: 'kick-ass', 5880: 'windowshade', 5881: 'environment', 5882: 'issues', 5883: \"rasputin's\", 5884: \"time's\", 5885: 'shaker', 5886: 'danny', 5887: 'mansions', 5888: 'celeste', 5889: 'network', 5890: 'strictly', 5891: 'scarf', 5892: 'nursemaid', 5893: 'savagely', 5894: 'storms', 5895: 'atari', 5896: 'injury', 5897: 'all-american', 5898: 'belts', 5899: 'gin-slingers', 5900: 'faint', 5901: 'afloat', 5902: 'hawaii', 5903: 'sugar-me-do', 5904: 'poin-dexterous', 5905: 'button-pusher', 5906: 'ceremony', 5907: 'a-b-', 5908: 'sustain', 5909: 'design', 5910: 'transfer', 5911: 'oblivious', 5912: 'eats', 5913: 'yellow-belly', 5914: 'radiator', 5915: 'confession', 5916: 'birthplace', 5917: 'treats', 5918: 'richard:', 5919: 'cab_driver:', 5920: 'wheeeee', 5921: 'sam:', 5922: 'emporium', 5923: 'spite', 5924: 'lucinda', 5925: 'reluctant', 5926: 'planned', 5927: 'facebook', 5928: 'steamed', 5929: 'fatty', 5930: 'reed', 5931: 'male_singers:', 5932: 'officials', 5933: 'ivy-covered', 5934: 'errrrrrr', 5935: 'limits', 5936: 'gol-dangit', 5937: 'man_with_crazy_beard:', 5938: 'infiltrate', 5939: 'bits', 5940: 'sponsoring', 5941: 'grammy', 5942: 'material', 5943: 'vengeance', 5944: 'bowled', 5945: 'life-extension', 5946: 'duff_announcer:', 5947: 'canyoner-oooo', 5948: \"spaghetti-o's\", 5949: 'other_player:', 5950: 'alva', 5951: 'snide', 5952: \"tony's\", 5953: 'wikipedia', 5954: \"bettin'\", 5955: 'prolonged', 5956: 'hidden', 5957: \"what'd\", 5958: 'whale', 5959: 'motto', 5960: \"askin'\", 5961: 'smelling', 5962: 'offense', 5963: 'attach', 5964: 'fiiiiile', 5965: 'crinkly', 5966: 'moe-ron', 5967: \"dolph's_dad:\", 5968: 'produce', 5969: 'introduce', 5970: 'slays', 5971: 'sat-is-fac-tion', 5972: 'george', 5973: 'key', 5974: 'iran', 5975: 'canoodling', 5976: 'u2:', 5977: 'rebuilt', 5978: 'paintings', 5979: 'beanbag', 5980: 'contemplated', 5981: 'sagacity', 5982: 'butter', 5983: 'sixty-five', 5984: 'hose', 5985: 'thoughtless', 5986: 'orgasmville', 5987: 'though:', 5988: 'quimbys:', 5989: 'dregs', 5990: 'crippling', 5991: 'gossipy', 5992: 'diaper', 5993: 'italian', 5994: 'snitch', 5995: 'older', 5996: 'decision', 5997: 'something:', 5998: 'traitors', 5999: \"mopin'\", 6000: 'showered', 6001: 'merchants', 6002: 'groan', 6003: 'vigilante', 6004: 'application', 6005: 'chuck', 6006: 'knuckle-dragging', 6007: 'signed', 6008: 'tummies', 6009: 'stares', 6010: 'snotball', 6011: 'van', 6012: 'ahhhh', 6013: 'easter', 6014: \"sat's\", 6015: 'conditioners', 6016: 'badly', 6017: 'dae', 6018: 'inning', 6019: 'kills', 6020: 'jasper_beardly:', 6021: 'chinese_restaurateur:', 6022: 'navy', 6023: \"foolin'\", 6024: 'pair', 6025: 'thirty-five', 6026: 'position', 6027: 'wishful', 6028: 'community', 6029: 'generously', 6030: 'bulldozing', 6031: 'colossal', 6032: 'shuts', 6033: 'hmmmm', 6034: 'heartless', 6035: 'prints', 6036: 'western', 6037: 'suburban', 6038: 'w-a-3-q-i-zed', 6039: 'suits', 6040: 'waitress', 6041: 'hate-hugs', 6042: 'wraps', 6043: 'sudoku', 6044: 'hippies', 6045: 'th', 6046: 'wobble', 6047: 'faiths', 6048: 'specific', 6049: 'soothing', 6050: 'beached', 6051: 'coined', 6052: 'television', 6053: 'rump', 6054: 'booth', 6055: 'permanent', 6056: 'betcha', 6057: 'depending', 6058: 'dumptruck', 6059: 'feminine', 6060: 'nonchalant', 6061: 'winston', 6062: 'skinny', 6063: 'jewelry', 6064: 'wild', 6065: 'düffenbraus', 6066: 'load', 6067: 'legal', 6068: 'fonda', 6069: 'mither', 6070: 'hah', 6071: 'tender', 6072: 'stood', 6073: 'side:', 6074: 'man_with_tree_hat:', 6075: 'gardens', 6076: 'wage', 6077: 'sentimonies', 6078: 'pronounce', 6079: 'tornado', 6080: 'sells', 6081: 'shorter', 6082: 'good-looking', 6083: \"spiffin'\", 6084: 'jägermeister', 6085: \"raggin'\", 6086: 'lobster-politans', 6087: 'appreciate', 6088: 'fat-free', 6089: 'accepting', 6090: 'dishonor', 6091: \"bringin'\", 6092: 'heh-heh', 6093: 'part-time', 6094: 'chili', 6095: 'sketching', 6096: 'goo', 6097: 'small_boy:', 6098: \"breakin'\", 6099: 'ford', 6100: 'throats', 6101: 'windshield', 6102: 'scrutinizes', 6103: 'preparation', 6104: 'logos', 6105: 'states', 6106: 'thousands', 6107: 'não', 6108: 'bon', 6109: 'looting', 6110: 'mailbox', 6111: 'ads', 6112: 'shakes', 6113: 'reentering', 6114: 'knit', 6115: 'eaters', 6116: 'assert', 6117: 'stops', 6118: 'frazier', 6119: 'chunk', 6120: 'boggs', 6121: 'located', 6122: 'stooges', 6123: 'plastered', 6124: 'albeit', 6125: 'usual', 6126: 'exception:', 6127: 'lurks', 6128: 'stonewall', 6129: 'reporter', 6130: 'whim', 6131: 'lear', 6132: 'debonair', 6133: '35', 6134: \"i'unno\", 6135: 'tuna', 6136: \"drexel's\", 6137: 'unsourced', 6138: 'eighty-five', 6139: \"stallin'\", 6140: 'land', 6141: 'jaegermeister', 6142: 'including', 6143: 'fulla', 6144: 'players', 6145: 'clammy', 6146: 'causes', 6147: 'wrapped', 6148: 'tickets', 6149: 'burt_reynolds:', 6150: 'conspiracy', 6151: 'serum', 6152: 'turlet', 6153: 'necessary', 6154: 'sweden', 6155: 'banquet', 6156: 'experiments', 6157: 'annual', 6158: 'wondered', 6159: 'irishman', 6160: 'taste', 6161: 'dejected_barfly:', 6162: 'sharing', 6163: 'divorced', 6164: 'hears', 6165: 'ointment', 6166: 'declan', 6167: 'understood:', 6168: 'spit-backs', 6169: 'profiling', 6170: 'spellbinding', 6171: 'distinct', 6172: 'virile', 6173: 'drinking:', 6174: 'east', 6175: 'eurotrash', 6176: \"smackin'\", 6177: 'sanctuary', 6178: \"duff's\", 6179: 'reptile', 6180: 'astrid', 6181: 'picked', 6182: 'arrived', 6183: 'shoulders', 6184: 'rainforest', 6185: 'comeback', 6186: 'dazed', 6187: 'whatchacallit', 6188: 'moonnnnnnnn', 6189: 'correction', 6190: 'liability', 6191: 'crowbar', 6192: 'perplexed', 6193: 'breathtaking', 6194: 'noose', 6195: \"can't-believe-how-bald-he-is\", 6196: 'escort', 6197: 'thomas', 6198: 'perfunctory', 6199: 'peppers', 6200: \"summer's\", 6201: 'ton', 6202: 'brandy', 6203: 'klown', 6204: 'voters', 6205: 'weekend', 6206: 'gags', 6207: 'winch', 6208: 'feedbag', 6209: 'binoculars', 6210: 'lis', 6211: 'settled', 6212: 'hat', 6213: 'make:', 6214: 'erasers', 6215: 'beards', 6216: 'sets', 6217: 'voicemail', 6218: 'yak', 6219: 'possessions', 6220: 'updated', 6221: 'chub', 6222: 'moe-near-now', 6223: \"tab's\", 6224: 'unintelligent', 6225: 'humiliation', 6226: \"liberty's\", 6227: 'hateful', 6228: 'goldarnit', 6229: 'earpiece', 6230: 'links', 6231: 'combination', 6232: 'detective', 6233: 'creature', 6234: 'cruise', 6235: 'ticks', 6236: 'mitts', 6237: 'kansas', 6238: 'foundation', 6239: 'interesting', 6240: \"getting'\", 6241: 'washouts', 6242: 'fayed', 6243: 'world-class', 6244: 'boxers', 6245: 'dexterous', 6246: 'six-barrel', 6247: 'bupkus', 6248: 'stab', 6249: 'shrieks', 6250: 'represents', 6251: 'priority', 6252: 'holidays', 6253: 'mobile', 6254: 'loyal', 6255: 'kadlubowski', 6256: 'hearse', 6257: 'disaster', 6258: 'majesty', 6259: \"don'tcha\", 6260: 'hollye', 6261: \"tap-pullin'\", 6262: 'sweetie', 6263: 'cosmetics', 6264: \"mecca's\", 6265: 'life-partner', 6266: 'bills', 6267: 'capitol', 6268: 'radical', 6269: 'oooh', 6270: 'slender', 6271: 'swatch', 6272: '/mr', 6273: 'tsking', 6274: 'domed', 6275: 'disdainful', 6276: 'solves', 6277: \"cashin'\", 6278: 'blobbo', 6279: 'swishkabobs', 6280: 'savvy', 6281: 'killjoy', 6282: 'fortensky', 6283: 'washer', 6284: '1-800-555-hugs', 6285: 'overturned', 6286: 'lift', 6287: 'ninety-eight', 6288: 'sideshow_bob:', 6289: 'rasputin', 6290: 'cursed', 6291: 'devils:', 6292: 'fills', 6293: 'mariah', 6294: 'monday', 6295: 'killarney', 6296: 'eternity', 6297: 'brine', 6298: 'hosting', 6299: 'test-', 6300: 'burger', 6301: 'jeers', 6302: 'pall', 6303: 'cushions', 6304: \"'kay-zugg'\", 6305: \"'roids\", 6306: 'briefly', 6307: \"friend's\", 6308: 'triangle', 6309: 'golden', 6310: 'tomatoes', 6311: 'democracy', 6312: 'north', 6313: 'gunk', 6314: 'sloppy', 6315: 'gruesome', 6316: \"mtv's\", 6317: 'powered', 6318: 'wisconsin', 6319: 'kool', 6320: 'blossoming', 6321: 'kearney_zzyzwicz:', 6322: 'wobbly', 6323: 'ehhh', 6324: 'throws', 6325: 'edna-lover-one-seventy-two', 6326: 'chair', 6327: 'phrase', 6328: \"family's\", 6329: 'magnanimous', 6330: 'overstressed', 6331: 'gotcha', 6332: 'sperm', 6333: 'warned', 6334: 'discriminate', 6335: 'cure', 6336: \"santa's\", 6337: 'two-thirds-empty', 6338: 'edge', 6339: 'metal', 6340: 'easy-going', 6341: 'cleveland', 6342: 'southern', 6343: \"elmo's\", 6344: 'confidentially', 6345: 'owned', 6346: 'hearing', 6347: 'sap', 6348: 'calendars', 6349: 'libido', 6350: 'appalled', 6351: 'answered', 6352: 'mccall', 6353: 'pursue', 6354: 'maiden', 6355: 'swigmore', 6356: 'eager', 6357: 'aziz', 6358: 'outs', 6359: 'arts', 6360: \"idea's\", 6361: 'sunk', 6362: 'intervention', 6363: 'h', 6364: 'pizza', 6365: 'perfume', 6366: 'gabriel', 6367: 'quero', 6368: 'safety', 6369: 'heather', 6370: 'safely', 6371: 'propose', 6372: 'doll-baby', 6373: \"o'\", 6374: 'imaginary', 6375: 'feat', 6376: 'dilemma', 6377: 'equivalent', 6378: 'vin', 6379: 'temple', 6380: 'jerking', 6381: 'we-we-we', 6382: 'nelson_muntz:', 6383: \"larry's\", 6384: 'toy', 6385: 'huhza', 6386: 'progress', 6387: 'chew', 6388: 'habit', 6389: 'girl-bart', 6390: 'student', 6391: 'versus', 6392: 'series', 6393: 'snatch', 6394: 'researching', 6395: 'sloe', 6396: 'las', 6397: 'presided', 6398: 'whup', 6399: 'lighten', 6400: 'neighboreeno', 6401: 'spotting', 6402: 'wise', 6403: 'lifetime', 6404: 'ruint', 6405: 'view', 6406: 'slogan', 6407: 'lou', 6408: 'breathless', 6409: 'moxie', 6410: 'st', 6411: 'runt', 6412: 'publish', 6413: 'bouquet', 6414: 'pharmaceutical', 6415: 'recap:', 6416: 'purveyor', 6417: 'ugh', 6418: 'clothespins', 6419: 'sanitary', 6420: 'break-up', 6421: 'shindig', 6422: 'various', 6423: 'locklear', 6424: 'laney', 6425: 'william', 6426: \"snappin'\", 6427: 'naively', 6428: 'temporarily', 6429: 'smoker', 6430: 'anger', 6431: 'picnic', 6432: 'jay', 6433: 'snackie', 6434: \"'your\", 6435: \"homer'll\", 6436: 'sorts', 6437: 'mind-numbing', 6438: 'crapmore', 6439: 'old_jewish_man:', 6440: 'fire_inspector:', 6441: 'traitor', 6442: 'attend', 6443: 'contemplates', 6444: 'offshoot', 6445: 'refinanced', 6446: 'amnesia', 6447: 'buddies', 6448: 'cell-ee', 6449: 'white_rabbit:', 6450: 'boisterous', 6451: 'add', 6452: 'accusing', 6453: 'enjoyed', 6454: 'trapping', 6455: \"murphy's\", 6456: 'trade', 6457: 'permitting', 6458: \"renee's\", 6459: 'cooker', 6460: 'symphonies', 6461: 'paints', 6462: 'forbids', 6463: 'coincidentally', 6464: 'brainiac', 6465: 'disappointing', 6466: 'sideshow', 6467: 'gimmick', 6468: \"coaster's\", 6469: 'optimistic', 6470: \"plaster's\", 6471: 'unattended', 6472: 'befriend', 6473: 'suspended', 6474: 'aidens', 6475: 'easily', 6476: 'barbed', 6477: 'duffed', 6478: 'itself', 6479: 'indecipherable', 6480: 'gestated', 6481: 'drift', 6482: 'abercrombie', 6483: 'moonshine', 6484: 'dignity', 6485: 'elect', 6486: 'praise', 6487: 'frat', 6488: 'whispers', 6489: 'korea', 6490: 'quadruple-sec', 6491: 'foam', 6492: 'fuzzlepitch', 6493: 'halvsies', 6494: 'amber_dempsey:', 6495: 'cockroach', 6496: 'rife', 6497: 'tolerance', 6498: 'gluten', 6499: 'my-y-y-y-y-y', 6500: 'wakede', 6501: 'jer', 6502: 'stickers', 6503: 'thousand-year', 6504: 'brainheaded', 6505: 'coms', 6506: 'macbeth', 6507: 'fountain', 6508: 'said:', 6509: 'eggshell', 6510: 'drollery', 6511: 'backgammon', 6512: \"shootin'\", 6513: 'bronco', 6514: 'massachusetts', 6515: 'philosophical', 6516: 'los', 6517: 'rabbits', 6518: 'visas', 6519: 'rivalry', 6520: 'absentmindedly', 6521: 'badmouths', 6522: 'innocuous', 6523: 'celebration', 6524: 'willing', 6525: 'idiots', 6526: 'bumblebee_man:', 6527: 'prayers', 6528: 'refreshingness', 6529: 'yello', 6530: 'alternative', 6531: 'donor', 6532: 'guts', 6533: 'pantsless', 6534: 'stacey', 6535: 'seductive', 6536: 'winks', 6537: 'bedtime', 6538: 'steam', 6539: 'kicks', 6540: 'stu', 6541: 'stars', 6542: 'refill', 6543: 'passes', 6544: 'meals', 6545: 'urine', 6546: \"enjoyin'\", 6547: 'helpless', 6548: 'jacks', 6549: 'louse', 6550: 'prejudice', 6551: 'lifestyle', 6552: 'catholic', 6553: 'amber', 6554: 'tablecloth', 6555: 'hyahh', 6556: 'wolveriskey', 6557: \"high-falutin'\", 6558: 'disturbance', 6559: 'bunion', 6560: 'skunk', 6561: 'steinbrenner', 6562: 'ails', 6563: 'dashes', 6564: 'measure', 6565: 'absolut', 6566: 'sacrilicious', 6567: 'direction', 6568: 'p-k', 6569: 'indeedy', 6570: 'coma', 6571: 'rancid', 6572: 'pee', 6573: 'frogs', 6574: 'all-all-all', 6575: 'tigers', 6576: 'de-scramble', 6577: 'rickles', 6578: \"lefty's\", 6579: 'frightened', 6580: 'bonding', 6581: 'nuked', 6582: 'unavailable', 6583: 'twenty-nine', 6584: 'cobra', 6585: 'pretend', 6586: 'getup', 6587: 'rumor', 6588: 'nervously', 6589: 'steaming', 6590: 'limericks', 6591: 'ho-ly', 6592: 'language', 6593: 'soir', 6594: 'chunky', 6595: 'pulitzer', 6596: \"thinkin'\", 6597: 'and-and', 6598: 'albert', 6599: 'indicates', 6600: 'venom', 6601: 'dna', 6602: 'champion', 6603: 'luxury', 6604: 'lainie:', 6605: 'oww', 6606: 'inherent', 6607: 'proper', 6608: 'adjust', 6609: 'enforced', 6610: 'finish', 6611: \"lovers'\", 6612: 'wreck', 6613: 'bumpy-like', 6614: 'mirthless', 6615: 'cross-country', 6616: 'caveman', 6617: 'b-day', 6618: 'protecting', 6619: 'gentle', 6620: 'mill', 6621: 'sobriety', 6622: 'diets', 6623: 'righ', 6624: 'cheated', 6625: 'fiction', 6626: 'wantcha', 6627: \"ragin'\", 6628: 'ref', 6629: 'presidential', 6630: 'tall', 6631: 'half-back', 6632: 'rupert_murdoch:', 6633: 'balloon', 6634: 'chauffeur', 6635: 'competing', 6636: 'ear', 6637: 'aristotle:', 6638: 'partially', 6639: 'gangrene', 6640: 'oh-so-sophisticated', 6641: 'hoped', 6642: 'paste', 6643: 'masks', 6644: 'oils', 6645: 'besides', 6646: 'wars', 6647: 'patented', 6648: 'high-definition', 6649: 'so-ng', 6650: 'shaky', 6651: 'california', 6652: 'trucks', 6653: \"pressure's\", 6654: 'calvin', 6655: 'theory', 6656: 'gamble', 6657: 'shaved', 6658: 'cliff', 6659: 'improved', 6660: 'pre-columbian', 6661: 'waters', 6662: 'low-blow', 6663: 'boyhood', 6664: 'britannia', 6665: 'clearing', 6666: 'modest', 6667: 'mason', 6668: 'rosey', 6669: 'gunter:', 6670: \"brockman's\", 6671: 'chairman', 6672: '91', 6673: 'barbara', 6674: 'moe-clone', 6675: 'aerospace', 6676: 'tolerable', 6677: 'graveyard', 6678: 'unusual', 6679: 'teen', 6680: 'carney', 6681: 'cartoons', 6682: 'stinky', 6683: 'dint', 6684: 'non-american', 6685: 'glitz', 6686: 'invulnerable', 6687: 'ripping', 6688: 'tying', 6689: 'sympathizer', 6690: 'art', 6691: 'cakes', 6692: 'portentous', 6693: 'grease', 6694: 'monroe', 6695: 'astonishment', 6696: 'blurbs', 6697: 'sing-song', 6698: 'polishing', 6699: 'separator', 6700: 'ralph', 6701: 'damage', 6702: 'jay_leno:', 6703: 'inanely', 6704: 'enthusiastically', 6705: 'according', 6706: 'geyser', 6707: 'slobbo', 6708: 'predictable', 6709: 'strongly', 6710: 'jazz', 6711: 'congoleum', 6712: 'presidents', 6713: 'cranberry', 6714: 'presto:', 6715: \"wearin'\", 6716: 'dreamily', 6717: 'desire', 6718: 'peaked', 6719: 'extinguishers', 6720: 'anti-lock', 6721: 'forty-two', 6722: 'sedaris', 6723: 'fake', 6724: 'rug', 6725: 'freaking', 6726: 'souped', 6727: 'committing', 6728: 'dictator', 6729: 'brain-switching', 6730: 'term', 6731: 'chosen', 6732: \"leavin'\", 6733: \"'n'\", 6734: 'cozies', 6735: 'counterfeit', 6736: 'allowance', 6737: 'nagurski', 6738: 'terrorizing', 6739: 'ignoring', 6740: 'bliss', 6741: 'leno', 6742: 'four-star', 6743: 'feld', 6744: 'crony', 6745: 'jigger', 6746: \"'\", 6747: 'sinkhole', 6748: 'collateral', 6749: 'charlie:', 6750: 'fuhgetaboutit', 6751: 'contemporary', 6752: 'beeps', 6753: 'fires', 6754: 'caricature', 6755: 'startup', 6756: 'sail', 6757: 'delivery_man:', 6758: 'fishing', 6759: 'saga', 6760: 'schizophrenia', 6761: 'lookalike:', 6762: 'gift:', 6763: 'shesh', 6764: 'full-time', 6765: 'lushmore', 6766: 'icelandic', 6767: 'physical', 6768: 'tooth', 6769: 'verdict', 6770: 'kissingher', 6771: 'craft', 6772: 'hooray', 6773: 'west', 6774: 'plug', 6775: 'clap', 6776: 'simon', 6777: 'low-life', 6778: 'pushes'}\n",
      "{'expensive': 2896, 'being': 398, 'do': 52, 'alma': 2897, 'polish': 2899, 'nucular': 2900, 'sidekick': 2901, 'rat': 841, 'priest': 1900, 'cats': 2902, 'hollywood': 1901, 'youuu': 2903, 'carlotta:': 2904, 'whisper': 1174, 'clinton': 1903, '|comma|': 2, 'crime': 1440, 'guess': 241, 'belly-aching': 2906, 'somebody': 729, \"hawkin'\": 2907, 'teddy': 1904, 'perverse': 2908, 'hot': 549, 'gr-aargh': 5562, 'funeral': 2909, 'pronto': 2910, 'over': 145, 'hold': 379, 'guessing': 2911, 'mom': 470, 'important': 1905, '/': 69, 'trust': 1441, 'farewell': 2912, 'pointedly': 2913, 'hired': 1906, 'sacrifice': 2914, 'payments': 1907, 'dinner': 426, 'jack_larson:': 1442, 'brains': 1620, 'twelve': 1170, 'end': 550, 'peeping': 2917, 'romance': 2918, 'lame': 2919, 'row': 1908, 'weep': 2920, 'haircuts': 2921, 'tiny': 1909, 'cutest': 2922, 'acronyms': 2923, \"barney's\": 1443, 'ancient': 1444, 'home': 193, 'stirring': 1171, 'brick': 2924, 'rebuttal': 2925, 'marvelous': 2926, 'hmm': 730, 'blubberino': 2927, 'before': 198, 'pageant': 1445, 'du': 2928, 'philosophic': 2929, 'amazing': 1172, 'aims': 2930, 'incapable': 2931, 'whoa': 204, 'boxer:': 2932, 'boozy': 1910, 'blinds': 2933, \"somethin'\": 513, 'twentieth': 2934, 'finally': 731, 'delete': 604, 'kennedy': 2935, 'dreary': 3565, 'uh-oh': 551, 'explain': 1911, 'tonight': 246, 'prettied': 4195, 'crank': 1447, 'jeff_gordon:': 2937, 'vodka': 1912, 'ab': 2938, 'drivers': 1173, 'diving': 2939, 'i-i': 961, 'additional-seating-capacity': 2940, 'bid': 2941, 'sobo': 2942, 'yuh-huh': 2943, 'brunch': 2944, 'giggle': 2945, 'elocution': 2946, 'itchy': 2947, 'developed': 2948, \"it'd\": 1913, \"isn't\": 289, 'harder': 1902, \"nothin'\": 316, 'pugilist': 2949, 'getaway': 2950, 'fit': 2951, 'korea': 6489, 'thought_bubble_lenny:': 2953, 'bald': 1175, 'attractive_woman_#2:': 2954, 'nineteen': 962, 'bridge': 1914, 'rhode': 2955, 'awwww': 1915, 'amends': 2956, 'alibi': 2957, 'flashing': 2958, 'multiple': 1916, 'from': 75, 'assent': 2959, 'words': 732, 'plans': 1917, 'keeping': 1448, 'met': 1449, 'box': 664, 'true': 380, 'officer': 2961, 'intruding': 2962, \"kid's\": 2963, 'mixed': 2069, 'intoxicants': 2964, 'anybody': 665, 'unlocked': 2965, 'suave': 2966, 'haiti': 2967, 'known': 1918, 'access': 2968, 'startup': 6755, 'suppose': 1450, 'insensitive': 2969, 'helicopter': 1794, 'blaze': 2970, 'burnside': 2971, 'rubbed': 2972, 'subscriptions': 4889, 'ratio': 2973, 'tasty': 2974, 'changing': 963, 'steely-eyed': 2975, \"fallin'\": 1921, 'eliminate': 5516, 'camp': 1922, 'grants': 2976, 'queer': 2319, 'letters': 1451, 'contact': 2977, 'speak': 964, 'hygienically': 2978, 'assume': 2979, 'right-handed': 2980, 'murderously': 2981, 'yellow': 1176, 'law': 1509, 'lot': 299, 'disgrace': 1923, 'usually': 1177, 'hiding': 2983, '70': 2984, 'everyday': 2985, 'writer:': 5663, 'freely': 2987, 'eventually': 1924, 'evening': 965, 'fuss': 1926, 'muhammad': 3812, 'effigy': 1927, 'krusty_the_clown:': 290, 'accurate': 1452, 'anyhoo': 2990, 'supply': 2991, 'knives': 2992, 'beligerent': 2993, 'deliberately': 5574, \"hangin'\": 2051, 'neil_gaiman:': 1928, 'reflected': 2995, 'oblongata': 2996, 'hike': 2997, 'wall': 966, 'lobster': 2998, 'conspiracy': 6150, 'invite': 1453, 'mortgage': 1929, \"pullin'\": 3000, 'missed': 2265, 'banks': 1454, 'today/': 3002, 'four': 332, 'jar': 967, 'crazy': 552, 'bless': 1455, 'page': 1930, 'connection': 3003, 'plow': 1178, 'garbage': 1179, 'à': 1180, 'gig': 3004, 'unbelievable': 3005, 'taught': 3006, 'contract': 3007, 'female_inspector:': 3008, 'sees': 1181, 'champs': 3009, 'lowering': 1931, 'buzz': 3010, 'sure': 129, 'eager': 6356, 'r': 1532, 'paying': 1456, 'phony': 3012, 'mel': 1457, 'rock': 1933, 'online': 3013, 'helen': 1934, 'return': 733, 'rims': 4038, 'hydrant': 3014, 'softer': 3015, 'derek': 3016, 'vulgar': 3017, 'ohh': 2100, 'tire': 3019, 'eye': 553, 'party': 360, 'sudden': 2489, 'renew': 3020, 'forgets': 5502, 'joe': 606, 'medical': 1935, 'veteran': 3022, 'inserts': 3023, 'aggravated': 1936, 'jackson': 3024, 'frog': 2109, 'resist': 5503, 'situation': 1369, 'proposition': 3028, 'elves:': 3029, 'endorsement': 3030, \"something's\": 3031, 'octa-': 3032, 'comforting': 3033, 'options': 3034, 'pregnancy': 3035, 'kicked': 1938, 'turkey': 1458, 'shhh': 3036, 'falling': 3037, 'time': 114, 'texan': 3038, 'poster': 4215, \"lookin'\": 514, 'kidnaps': 3040, '_timothy_lovejoy:': 1459, 'dan': 1939, 'now': 62, 'delicately': 3041, 'nurse': 3042, 'annual': 6157, \"'round\": 3043, 'toward': 1526, 'crisis': 2916, 'mr': 185, 'gift': 1527, 'turns': 515, 'beat': 267, 'taps': 2148, 'james': 1461, 'twerpy': 3047, 'continuum': 3048, 'wudgy': 3841, 'exquisite': 3050, 'maitre': 3051, 'cops': 2269, 'glyco-load': 3052, 'malibu': 5506, 'darkness': 3053, 'urge': 3054, 'laramie': 1940, 'savings': 3055, 'glamour': 3056, 'finding': 1183, \"'morning\": 3057, 'temples': 3058, 'designer': 3059, 'ashtray': 3060, 'disturbing': 3061, 'laid': 3062, 'whistling': 3063, 'recreate': 3064, 'restroom': 2172, 'plant': 735, 'lenny_leonard:': 33, 'miss': 666, 'bottom': 1184, 'sixteen': 3066, 'slugger': 3067, 'divorced': 6163, 'english': 736, 'wordloaf': 2078, 'cueball': 1942, 'decent': 1943, 'personal': 3068, 'inspired': 1944, 'days': 737, 'tidy': 3069, 'bulked': 3070, 'run': 738, 'edison': 1463, 'blood': 670, 'uninhibited': 3073, 'beer-dorf': 3074, 'funniest': 3075, 'whatchamacallit': 3077, '_julius_hibbert:': 842, 'suck': 1464, 'wussy': 4224, 'mission': 3078, 'mayor': 969, 'recently': 1945, 'beers': 728, 'freeze': 1946, 'drink': 146, \"stealin'\": 3079, 'loudly': 3080, 'kodos:': 3081, 'hoping': 1185, 'spent': 1947, \"world's\": 1058, 'bar': 110, 'decide:': 3083, 'exactly': 667, 'cappuccino': 3084, 'slurps': 3085, 'scent': 3086, \"'em\": 194, 'repay': 3087, 'flush': 5512, 'knocks': 3088, 'peppy': 1948, 'achebe': 3089, 'self-esteem': 1949, 'wayne': 1950, 'chinua': 2986, 'terror': 5325, 'said': 233, 'ribbon': 3668, 'willy': 1951, 'jeter': 3092, 'salvador': 3093, 'computer_voice_2:': 3094, 'ghouls': 3096, 'asses': 3097, 'orphan': 3098, 'broken:': 3099, 'woo-hoo': 1466, 'indifference': 3100, 'annoying': 3101, 'declan': 6166, 'manager': 1952, 'fox_mulder:': 2419, 'beneath': 1954, 'desperate': 843, 'sips': 844, 'samples': 3103, 'choose': 3104, 'soul': 970, 'homer_': 3105, 'marmaduke': 2253, 'municipal': 3108, 'crossed': 1955, 'marge': 116, 'parking': 1467, 'cursed': 6290, 'decided': 4179, 'fifth': 5515, 'spanish': 1468, 'stay-puft': 3110, \"y'money's\": 3111, 'game': 350, 'journey': 3112, 'ah-ha': 2531, 'cupid': 3113, 'thorn': 5517, 'pink': 3114, \"handwriting's\": 3115, 'covering': 1470, 'counter': 5518, 'belch': 845, \"readin'\": 2327, 'lady_duff:': 3117, 'acquitted': 3118, 'museum': 2275, 'meanwhile': 3120, 'orifice': 3121, 'dough': 2709, 'kid': 291, 'nelson': 4914, 'self-made': 1957, 'sun': 3123, 'goodnight': 668, 'halfway': 3124, \"burnin'\": 3125, 'since': 268, 'beady': 3126, 'asked': 971, 'beans': 3127, 'jimmy': 3128, 'mabel': 3129, 'kwik-e-mart': 1528, 'twice': 1959, 'count': 3132, 'naked': 1960, 'bart_simpson:': 147, 'supervising': 3133, 'hubub': 5524, 'maximum': 3134, 'spellbinding': 6170, 'treehouse': 3135, 'deacon': 1962, 'koi': 1963, 'goodwill': 3136, 'railroads': 3137, 'bindle': 3138, 'mistresses': 5754, 'wife': 245, 'cushion': 3139, 'find': 256, 'aw': 203, 'healthier': 5815, 'why': 109, 'program': 1472, 'snort': 1473, 'blackjack': 3142, 'back': 72, 'cent': 1964, 'suicide': 1034, \"'er\": 3144, 'pepper': 3145, 'probably': 607, 'clandestine': 3146, \"starla's\": 3147, 'teach': 1261, 'ivy-covered': 5933, 'different': 1188, 'shyly': 3149, 'scary': 1966, 'blob': 3150, \"they've\": 1189, 'series': 6392, 'doooown': 3151, \"phone's\": 5533, 'thoughtfully': 1967, \"now's\": 3152, 'fast-paced': 3153, 'deep': 1282, 'offer': 1190, 'unavailable': 6582, 'app': 3155, 'squashing': 3156, 'insecure': 3157, 'towed': 1968, 'roach': 3158, 'credit': 3159, 'boozebag': 3160, 'newsweek': 3161, 'rig': 3162, 'stan': 3163, 'uniforms': 3164, 'jesus': 1474, 'patriotic': 3165, 'bleak': 3166, 'gentles': 3167, 'yo': 1475, 'understanding': 1476, 'rats': 1759, \"it'll\": 556, 'horrible': 740, 'teenage_homer:': 1969, \"s'pose\": 3168, 'sitcom': 3169, \"america's\": 3170, 'wham': 3171, 'splattered': 3172, \"marge's\": 2359, 'edner': 3173, 'dyspeptic': 3174, 'common': 3175, 'perch': 3176, 'academy': 1970, 'nards': 1477, 'premise': 3177, 'transylvania': 3179, 'safe': 846, 'shot': 669, 'wound': 3180, 'mckinley': 3181, 'mumbling': 1971, 'fever': 1478, 'needy': 1972, 'moan': 557, 'wolverines': 3182, 'awareness': 3183, 'otherwise': 3184, 'spare': 3185, 'allow': 3186, 'mamma': 5532, 'german': 1479, 'janette': 3187, 'wrote': 973, 'blame': 577, 'figures': 4706, 'astrid': 6180, 'cars': 1974, 'brings': 3189, 'gabriel:': 3190, 'threw': 1193, 'supports': 3191, 'nice': 269, 'raining': 3192, 'princesses': 1975, 'pipes': 1194, 'realize': 1976, 'speed': 4756, 'scratcher': 3194, 'puts': 2388, 'swallowed': 3195, 'located': 6121, 'model': 3197, 'ing': 3198, 'mall': 1977, 'exact': 3199, 'ga': 3200, 'lookalike:': 6761, 'forget-me-drinks': 3201, 'chained': 5535, \"we'll\": 517, 'don': 1978, 'guys': 105, \"yieldin'\": 3204, 'folk': 1979, 'understood': 3205, 'comedy': 1980, 'senators:': 5007, 'delts': 3207, 'entirely': 1981, 'sketch': 3208, 'professor_jonathan_frink:': 518, 'coach:': 1480, 'conclusions': 5181, 'lifters': 5537, 'called': 519, 'hyper-credits': 3209, 'sympathy': 3210, 'transmission': 3211, 'impatient': 1983, 'south': 1309, \"soundin'\": 3212, 'activity': 4904, '2': 3213, \"challengin'\": 3214, 'yoo': 1984, 'trouble': 520, 'jail': 1481, 'sumatran': 5822, 'applicant': 4927, 'homunculus': 3215, 'gives': 894, \"fans'll\": 3218, 'bitterly': 1483, 'smuggled': 3219, 'shortcomings': 5612, 'knock': 1317, 'poison': 5541, 'vehicle': 3221, 'christopher': 1987, 'sour': 3222, 'mystery': 5542, 'lone': 3224, 'focused': 3225, 'slop': 3226, \"c'mere\": 1484, \"countin'\": 1988, \"cleanin'\": 3227, 'patty': 1989, 'neat': 1990, 'peter': 1761, 'jokes': 3229, 'wildest': 3230, 'hates': 1485, 'royal': 3232, 'protestantism': 3233, 'an': 84, 'edgy': 3234, 'crowd:': 619, 'fresco': 3237, 'donut-shaped': 3238, 'court': 3239, 'busted': 1991, 'narrator:': 796, 'prank': 1486, 'manfred': 3242, 'cronies': 3243, 'miss_lois_pennycandy:': 3244, 'nerd': 3245, 'mole': 5091, 'scrubbing': 3247, 'hot-rod': 3248, \"squeezin'\": 3249, 'scooter': 2468, 'captain': 3250, 'child': 1548, 'sued': 3252, 'lime': 4777, 'bathroom': 1992, 'died': 1195, 'countryman': 3254, 'safecracker': 3255, \"she'd\": 5154, \"school's\": 3257, 'most:': 3258, 'watched': 3259, 'simpson': 307, 'trash': 3260, 'fly': 1488, 'nordiques': 3262, 'wrecking': 3263, 'gallon': 3265, 'nominated': 3266, 'hammy': 3267, '|right_parentheses|': 4, 'specializes': 3269, 'names': 976, 'harvard': 3270, 'ew': 3271, 'oughtta': 4930, 'tactful': 5216, 'address': 1196, 'cruiser': 3273, 'ye': 1994, 'actress': 3274, 'rewound': 3275, 'ahhh': 1995, 'french': 977, 'labels': 1996, 'tv_wife:': 978, 'brotherhood': 3276, 'minutes': 671, 'zeal': 3277, 'ripcord': 1997, 'surprised': 471, 'shotgun': 672, 'elaborate': 3278, 'company': 847, 'sideshow_bob:': 6288, 'hits': 1197, 'hurts': 1533, \"o'clock\": 1198, 'backward': 3281, 'meteor': 3282, 'nahasapeemapetilon': 3283, 'rationalizing': 3284, 'shape': 1489, \"who'll\": 1199, 'burt': 1200, 'je': 3285, 'hangover': 3287, 'entire': 1490, 'eighty-one': 1998, 'losing': 1491, 'alfred': 1999, 'blocked': 3290, 'thirty-thousand': 3291, \"eatin'\": 3292, 'jury': 3979, 'shoe': 3294, 'isle': 2001, 'apu_nahasapeemapetilon:': 243, \"ol'\": 794, 'bail': 3295, 'smoothly': 2002, 'jewish': 3296, 'rolled': 2529, 'presentable': 3298, 'glee': 3299, 'theme': 3300, 'them': 234, 'young': 608, 'howya': 5371, 'recorded': 3302, 'anonymous': 3303, 'warm_female_voice:': 741, 're-al': 3304, 'lowers': 848, 'musical': 3305, 'gorgeous': 2003, 'song': 602, 'kang:': 1492, 'al_gore:': 1493, 'lucky': 673, 'composer': 3306, 'pretentious_rat_lover:': 5412, 'lips': 1201, 'oils': 6644, 'pickle': 1202, 'disco': 2004, 'recipe': 3307, 'unsafe': 3308, 'presses': 3309, 'rob': 1352, 'shoulda': 3310, 'alien': 3311, 'courthouse': 3312, 'special': 609, 'clothespins': 6418, 'joining': 2005, 'pin': 2006, 'taken': 1494, 'ocean': 2007, 'moans': 743, 'stopped': 1495, 'stools': 1496, 'lenses': 5480, 'shopping': 3313, 'dingy': 3314, 'flips': 1203, 'astronaut': 2560, 'nameless': 3316, 'tentative': 2698, 'sexual': 1497, \"narratin'\": 3317, 'psst': 3318, 'beings': 3319, 'magic': 1204, 'twenty-four': 3320, 'sizes': 3321, \"doesn't\": 521, 'viva': 3323, 'all:': 979, 'wrestle': 3324, 'cuz': 3325, 'sec_agent_#1:': 1498, 'standing': 2008, 'other': 244, 'chum': 2009, 'closes': 2010, 'price': 2011, 'winch': 6207, 'krabappel': 2012, 'rub': 1500, 'hang': 744, 'tinkle': 851, 'attached': 3326, 'jack': 980, 'reasonable': 2013, 'looked': 1501, 'you': 7, 'rhyme': 2743, 'l': 1770, 'singers:': 1502, 'enabling': 3330, 'cletus_spuckler:': 3331, 'shutting': 2014, 'error': 3947, 'drown': 2015, 'clubs': 3332, 'mild': 3333, 'supermarket': 3334, 'composite': 3335, 'got': 54, 'creates': 3336, 'lemonade': 3337, 'lovelorn': 3338, 'popping': 3339, 'squirrel': 3340, 'expecting': 3341, 'flown': 3251, 'colonel:': 3342, \"calf's\": 3343, 'choked-up': 3344, 'fellas': 745, 'tap': 746, 'shill': 3345, 'guide': 2016, 'grabbing': 1503, 'slim': 3347, '3rd_voice:': 3348, 'payback': 3349, 'displeased': 3350, 'quimby_#2:': 3351, 'grandmother': 2017, 'breakfast': 3352, 'ideas': 3353, 'andrew': 3354, 'depressant': 3355, 'hairs': 3356, \"what'd\": 5957, \"aren'tcha\": 3358, 'convinced': 3359, 'perhaps': 1504, 'exciting': 3360, 'nasa': 2018, 'marjorie': 5567, 'scene': 1505, 'churchy': 3362, 'radio': 2019, 'studio': 2020, 'struggling': 1506, 'peter_buck:': 3363, 'made': 208, 'schedule': 3364, '1895': 2632, 'intakes': 3366, 'statesmanlike': 3367, 'ring': 1507, 'tatum': 1205, \"everyone's\": 1206, 'au': 3368, 'cigars': 3369, 'successful': 2021, 'nah': 381, 'forget': 501, 'timbuk-tee': 3371, 'handed': 3372, 'listens': 3373, \"y'know\": 522, 'roof': 2022, \"ain't\": 167, \"sittin'\": 981, 'dateline:': 3374, 'heroism': 3375, 'photographer': 3376, 'manboobs': 3377, 'blew': 2023, \"d'ya\": 3378, 'uncreeped-out': 3380, 'demo': 3381, 'prince': 3382, 'fears': 3383, 'sport': 2662, 'smelly': 3385, 'drummer': 3386, 'further': 3387, 'pusillanimous': 3389, 'encouraging': 3390, 'skeptical': 2669, 'brewed': 2025, 'yak': 6218, 'supplying': 3392, 'anxious': 3393, 'grampa_simpson:': 358, 'hostages': 3395, 'fritz:': 1508, 'bras': 3396, 'fletcherism': 3397, 'marched': 3398, 'brusque': 3399, 'brought': 852, 'starts': 1207, 'killer': 3400, 'put': 212, 'cheat': 2027, 'bum:': 3401, 'fights': 3402, 'reporter:': 2028, 'human': 747, 'refreshment': 3403, 'mini-dumpsters': 3404, 'curds': 2029, 'seek': 2030, 'engraved': 3405, 'fail': 3406, 'dumb-asses': 3407, 'pontiff': 3408, 'louder': 2575, \"donatin'\": 3410, 'updated': 6220, 'tv-station_announcer:': 3412, 'barney-guarding': 3413, 'bookie': 2982, 'tofu': 2031, 'crow': 3415, '|dash|': 66, 'buddy': 675, 'duke': 3416, 'elizabeth': 3417, 'ahh': 748, 'job': 310, 'honeys': 4952, 'highball': 3420, 'disguise': 3421, 'punches': 2033, 'wind': 3686, 'in-in-in': 3422, 'grumbling': 3423, 'sign': 442, 'voice': 257, 'absorbent': 3424, 'hourly': 3425, 'rent': 3426, 'brassiest': 2713, \"maggie's\": 2036, 'paint': 749, 'stir': 2717, 'reading': 382, 'ducked': 3428, 'co-sign': 3429, 'die-hard': 3430, 'hank_williams_jr': 934, 'düff': 3431, 'maxed': 3432, 'joey_kramer:': 2039, 'ratted': 3433, \"'now\": 3434, 'moe-near-now': 6222, 'noise': 199, 'swell': 3435, 'index': 3436, 'goal': 3437, 'groin': 3438, 'tried': 1510, 'milhouses': 3439, \"how're\": 3440, 'fireworks': 3441, 'shut': 271, 'mouth': 423, 'fontaine': 3442, \"secret's\": 3443, 'kissing': 1609, 'mister': 937, 'barney-shaped_form:': 1511, \"cat's\": 2040, 'outside': 559, 'media': 2041, 'trashed': 3444, 'cecil_terwilliger:': 3445, 'certified': 3446, 'politicians': 5579, 'bauer': 3447, 'apron': 3448, 'pro': 3449, 'sucks': 3450, 'appeals': 3451, \"fishin'\": 3452, 'speech': 982, 'cage': 3453, 'aboard': 3454, 'her': 112, 'boston': 3455, 'flash': 3456, 'ingredient': 1411, 'army': 1810, 'reminds': 1513, 'title:': 3458, 'priceless': 3459, 'kyoto': 2285, 'germans': 3460, 'books': 1209, 'hibachi': 3461, 'fun': 560, 'tired': 983, 'above': 1514, 'seething': 3462, 'faced': 3463, \"puttin'\": 3464, \"payin'\": 2044, 'polite': 1210, 'could': 97, 'cocks': 3466, 'putty': 3467, 'squishee': 3468, 'subject': 1515, 'ruby-studded': 3469, 'muertos': 3470, 'guzzles': 3471, 'brother': 1827, 'settles': 3473, \"nixon's\": 3474, 'laws': 2045, 'bono': 3475, 'ya': 111, \"won't\": 247, 'miles': 2745, 'stays': 3477, 'tow-joes': 3478, 'hitler': 2286, 'toys': 1516, 'platinum': 3480, \"d'\": 3481, 'landfill': 3482, 'lipo': 3483, 'something': 148, 'reckless': 3484, 'settlement': 5062, 'hillary': 3485, 'tipsy': 424, 'simplest': 3486, 'catch-phrase': 3487, 'horror': 3488, 'figure': 3489, \"renovatin'\": 3490, 'harm': 3491, 'old': 195, 'parked': 3492, 'xx': 3493, 'examples': 3178, 'moe': 30, 'woodchucks': 4960, 'sprawl': 4961, 'wounds': 3494, 'angry': 676, ':': 561, 'used': 362, 'jukebox_record:': 3496, 'sneaky': 2049, 'dejected': 3497, 'witty': 2095, \"i'll\": 94, 'duffman:': 363, 'jumping': 3498, 'wally:': 1211, 'drapes': 5588, 'plums': 3500, \"guy's\": 985, 'change': 562, 'awed': 2050, 'premiering': 3501, 'washer': 6283, 'starla:': 2994, 'local': 1158, 'upn': 5591, 'chocolate': 1212, 'refiero': 3503, 'catch': 986, 'reading:': 3504, 'helps': 3505, 'register': 1518, 'nor': 3506, 'triple-sec': 3507, 'vincent': 4964, 'freedom': 2476, \"mo'\": 3508, 'felt': 987, 'thumb': 988, 'oopsie': 3509, 'awfully': 3510, 'inexorable': 3511, 'raccoons': 2185, 'mice': 3512, 'squeeze': 4294, 'dislike': 3514, 'dictating': 3515, 'flailing': 3516, 'phone': 172, 'connor': 3517, 'bagged': 3518, 'stick': 610, \"who's\": 280, 'piling': 3519, 'remembered': 2441, 'things': 264, 'shoots': 2054, \"lady's\": 3520, 'good-looking': 6082, 'remembers': 3524, 'opportunity': 1214, 'finished': 1520, 'sober': 989, 'right': 68, 'advantage': 2055, 'cocking': 3526, 'beatings': 3527, \"he's\": 137, 'exits': 3528, 'easier': 2056, 'susie-q': 3529, 'appearance-altering': 3530, 'gimmicks': 3531, \"bein'\": 1215, 'mouse': 990, 'cat': 2288, '50-60': 3532, 'fwooof': 3533, 'difficult': 2057, 'themselves': 2058, 'rookie': 3534, 'cheaped': 3535, 'hope': 318, 'consoling': 3537, 'friends': 281, 'bam': 2141, 'dating': 2060, 'slightly': 2061, 'headhunters': 3538, 'slot': 3539, 'asks': 3540, 'ventriloquism': 5598, 'hero': 1216, 'spending': 1521, 'dessert': 2062, 'written': 2063, 'awww': 2750, 'exultant': 3542, 'ripped': 3543, 'weary': 2064, 'sweetly': 1522, 'elmer': 3544, 'string': 3545, 'tease': 3546, 'dizer': 3547, 'admiration': 2065, 'sen': 3548, 'justify': 3549, 'bust': 3550, 'specified': 3551, 'sneak': 3552, 'eight-year-old': 3553, 'pick': 425, 'bears': 2066, 'forecast': 3554, \"let's\": 226, 'water': 853, 'wang': 2582, 'girls': 611, 'filth': 3555, \"man's_voice:\": 3556, 'sneeze': 3557, 'passports': 3558, 'process': 4301, 'mouths': 3560, 'feed': 1523, 'come': 95, 'blooded': 3561, 'hotline': 2067, 'maggie': 383, 'giant': 3562, 'minors': 2915, 'private': 612, 'glum': 1536, 'fastest': 3563, 'hushed': 3564, 'motor': 2936, 'apartment': 2068, 'na': 384, 'kinderhook': 3566, 'mater': 3567, 'rem': 3568, 'effervescence': 3569, 'meaningless': 3570, 'desire': 6717, 'excavating': 3571, 'front': 605, 'i': 6, 'protesters': 3572, 'kinds': 3573, 'crestfallen': 3574, 'doreen': 2070, 'lookalike': 3575, 'spilled': 3576, 'group': 854, 'ballclub': 3577, 'tokens': 3578, 'bubble': 2071, 'vance': 1217, 'droning': 3579, 'kindly': 2072, 'corporation': 2073, 'bellyaching': 3580, 'uneasy': 1525, 'distract': 3581, 'urban': 3582, 'crappy': 3583, 'stirrers': 3584, 'appointment': 2074, 'based': 2075, 'spits': 5603, 'stein-stengel-': 3044, 'hear': 317, 'mural': 3586, 'bushes': 3587, 'honored': 2076, 'pussycat': 3065, \"bart's\": 1462, 'strategizing': 3588, 'infatuation': 3589, 'iranian': 3590, 'annus': 3591, \"car's\": 3592, 'hero-phobia': 3593, 'k-zug': 3594, 'until': 991, 'customers-slash-only': 3595, 'distributor': 2079, \"costume's\": 3596, 'literary': 3597, 'kisser': 3598, 'love': 121, 'press': 3599, 'chase': 2080, 'woman:': 1186, 'kemi:': 400, 'sieben-gruben': 3602, 'wish': 333, 'event': 3601, 'internet': 2046, 'hers': 3603, 'invited': 992, 'faith': 3130, 'boxcar': 3604, 'thirty-nine': 3605, \"men's\": 1529, 'ineffective': 3606, 'noggin': 3607, 'laughs': 308, 'choice': 1218, 'reserved': 3608, 'aged_moe:': 2081, 'chapstick': 3609, 'level': 2082, 'lungs': 3610, 'morose': 2083, 'furniture': 3611, 'hillbillies': 3612, 'cents': 1530, 'syndicate': 3613, \"table's\": 3614, 'tree': 993, 'ohmygod': 1531, 'yet': 677, 'jobless': 3615, 'gentlemen': 524, 'way:': 3616, 'hemorrhage-amundo': 3617, \"someone's\": 2084, 'dramatically': 3618, 'much': 173, 'pumping': 3619, \"fine-lookin'\": 3620, 'satisfaction': 2085, 'foibles': 1219, 'clothespins:': 3622, 'releasing': 3623, 'calmly': 1932, 'boned': 3280, 'be': 43, 'skoal': 3624, 'side': 994, 'impress': 3625, 'rueful': 5852, 'methinks': 3626, 'jumps': 2086, 'assassination': 3627, 'lewis': 3628, 'sighs': 282, 'barf': 2087, 'dealt': 3629, 'fighting': 2088, 'gave': 443, 'naval': 3631, 'damned': 3632, 'jackpot-thief': 3633, 'wants': 351, \"tv'll\": 3634, 'fl': 3635, 'marshmallow': 3636, 'losers': 752, 'helpless': 6547, \"tomorrow's\": 3637, 'thru': 2089, 'discussing': 2090, 'maybe': 174, 'marguerite:': 2091, 'illegal': 1220, 'frontrunner': 3639, 'smile': 753, 'renovations': 5282, 'winded': 3640, 'meatpies': 3641, 'prove': 2092, 'shareholder': 3642, 'dads': 3643, 'competitive': 3644, 'byrne': 3645, 'ivanna': 3646, 'reached': 2093, 'yeah': 36, 'what-for': 3647, 'scoffs': 3648, 'while': 235, 'trusted': 2094, 'move': 754, 'ahem': 3649, 'men': 855, 'british': 1534, 'here': 44, 'sampler': 3650, 'buttocks': 3651, 'extended': 3652, 'joint': 984, 'gee': 385, 'pickles': 3653, 'stocking': 3654, 'compare': 3655, 'helping': 3656, 'disgusted': 563, 'puffy': 4987, 'nerve': 2097, 'ass': 678, \"what's\": 149, 'accounta': 5616, 'occupied': 3658, 'bold': 2098, \"buffalo's\": 2099, 'universe': 3659, 'sotto': 755, 'elite': 3018, 'stupidest': 3660, 'stillwater:': 1221, 'kemi': 3661, 'lindsay_naegle:': 1535, 'close': 564, 'priority': 6251, 'wow': 230, 'hall': 1524, 'cloudy': 3662, 'soul-crushing': 3663, 'un-sults': 2101, 'lingus': 3039, 'place': 184, 'graves': 3665, 'making': 756, 'came': 444, 'wallet': 996, 'operation': 1537, 'whistles': 2102, 'texas': 1538, 'doing': 386, 'handwriting': 3967, 'superpower': 3669, 'agree': 2103, 'nitwit': 5619, 'someone': 292, 'sex': 856, 'pine': 3671, 'telling': 757, 'mumble': 3672, 'flame': 3673, \"aren't\": 472, 'mobile': 6253, 'necklace': 3674, 'mint': 3675, 'buffalo': 1222, 'dig': 3676, 'cauliflower': 3677, 'wolfcastle': 3678, 'championship': 1223, 'longer': 997, 'ooh': 236, 'chanting': 998, 'comic_book_guy:': 758, 'department': 2295, 'envy-tations': 3680, 'schmoe': 3698, '_burns_heads:': 3681, 'lecture': 3682, 'cheesecake': 4995, 'backbone': 3683, 'socratic': 3684, 'billboard': 1224, 'loan': 1540, 'smithers': 427, 'looser': 3685, 'horses': 4329, 'send': 759, 'barkeeps': 3687, 'pawed': 3688, 'knees': 2106, 'outlook': 2107, 'pennies': 3689, 'sabermetrics': 2108, 'morning-after': 3690, \"president's\": 3691, 'inclination': 3692, 'authenticity': 3693, 'checks': 1541, 'watered': 3694, 'tow': 3025, 'bachelor': 3695, 'napkins': 3696, 'whose': 1542, 'sky': 3697, 'ball-sized': 2398, 'malfeasance': 3699, 'insulin': 3700, 'sob': 1000, 'martini': 3701, 'wooooo': 1543, 'its': 1544, 'tomahto': 3702, 'murdoch': 3703, 'dirty': 3704, \"linin'\": 3705, 'none': 1023, 'incredulous': 1545, 'wondering': 2110, 'linda_ronstadt:': 3707, 'yup': 2111, 'go': 77, 'kegs': 3708, 'clams': 3709, 'picky': 3710, 'bono:': 3711, 'germany': 3712, 'drives': 3713, 'enlightened': 3714, 'rutabaga': 3715, 'wigs': 3716, 'kickoff': 3717, 'regret': 2112, 'cream': 2113, 'choices:': 4334, 'ebullient': 3718, \"choosin'\": 3719, '10:15': 3720, 'information': 3721, 'harvey': 3722, 'alcoholism': 3723, 'because': 272, 'elephants': 2115, 'clothes': 1239, 'unusually': 3725, 'seat': 760, 'kitchen': 3726, 'happens': 3727, 'remodel': 3728, 'superhero': 2177, 'intoxicated': 3730, 'snout': 3731, \"don'tcha\": 6259, 'stink': 3732, 'illegally': 5737, 'driver': 1546, 'emotion': 3733, 'attitude': 2116, 'lonely': 1547, 'evasive': 5004, 'nein': 1017, 'muffled': 3735, 'mostrar': 3736, 'nobody': 365, \"we're\": 136, 'pull': 648, 'consulting': 3737, 'raises': 1226, 'bullet-proof': 3738, 'phasing': 3739, 'ech': 2118, 'oooo': 3740, 'fell': 3741, 'para': 3246, 'notice': 3743, 'coming': 525, 'melodramatic': 3744, 'cosmetics': 6263, 'tyson/secretariat': 3746, 'len-ny': 3747, 'pleasure': 2119, 'tearfully': 3748, 'entertainer': 3749, \"mecca's\": 6264, 'burger': 6300, 'tommy': 2120, 'satisfied': 2121, 'recorder': 3751, 'surprising': 3752, 'verticality': 3753, 'accidents': 3754, 'show-off': 3755, 'endorsed': 4070, 'held': 2122, 'thunder': 3757, 'risqué': 3758, 'virility': 3235, 'paparazzo': 3759, 'skinner': 445, 'poisoning': 3760, 'rub-a-dub': 4919, 'candy': 2123, \"can'tcha\": 4120, \"what'sa\": 2124, 'solo': 2125, 'talkers': 3761, 'dishrag': 5634, 'sodas': 2126, 'safer': 2127, 'x-men': 3762, 'sideshow_mel:': 3763, 'embarrassing': 1549, 'anyway': 526, 'our': 125, 'movies': 1227, 'disappeared': 2128, 'lemme': 679, 'ladder': 3764, 'icy': 3765, 'prepared': 2130, 'wazoo': 3809, 'gordon': 4186, 'log': 3767, \"poundin'\": 3769, 'sly': 1228, \"cheerin'\": 3770, 'pleased': 1271, 'denser': 2131, 'donuts': 3772, 'daniel': 3773, 'incriminating': 3774, 'gutenberg': 3775, \"clancy's\": 3776, 'quarterback': 3777, 'lucius:': 762, 'science': 3778, 'fleabag': 3779, 'bottomless': 3780, 'cookies': 2277, 'chipped': 3782, 'aquafresh': 3783, 'ease': 3784, 'moon-bounce': 3785, \"buyin'\": 1229, 'miserable': 1551, 'couple': 680, 'sugar-free': 3786, 'reality': 3787, 'criminal': 3788, 'creme': 3789, 'schemes': 3790, 'boxing_announcer:': 2204, 'theatah': 3791, \"he'd\": 1032, 'deal': 763, 'publishers': 3794, 'therapist': 2133, '7g': 3795, 'unrelated': 3796, 'announcer:': 1002, 'strains': 4343, 'disguised': 3797, 'anderson': 3256, '/mr': 6272, '|exclamation_mark|': 8, 'hooked': 3798, 'restaurant': 1230, 'sarcastic': 1231, 'grrrreetings': 3799, 'tied': 3800, 'bear': 2135, 'depressing': 3801, 'thirteen': 2136, 'drunkening': 3802, 'banned': 3803, \"stinkin'\": 1553, 'wasting': 1554, \"wouldn't-a\": 3964, 'plus': 765, 'relax': 1555, 'microwave': 3804, 'tsking': 6273, 'almond': 3805, 'limber': 3806, 'sometime': 1556, 'referee': 5123, 'i/you': 3808, 'frustrated': 1232, 'chauffeur:': 3911, 'yellow-belly': 5913, 'stop': 335, \"'evening\": 3810, 'photo': 2138, 'privacy': 3811, 'grab': 2139, 'power': 884, \"others'\": 2140, 'underpants': 2330, 'buyer': 3815, 'dispenser': 3816, 'sees/': 3817, 'room': 473, 'test-lady': 3818, 'tracks': 3819, 'blood-thirsty': 2143, \"battin'\": 3820, 'huh': 163, 'pile': 3821, 'november': 5641, 'shout': 3822, 'broadway': 2144, 'forehead': 2145, 'clenched': 3824, 'commanding': 3825, 'beep': 2146, 'squabbled': 3826, 'defeated': 2147, \"bashir's\": 3827, 'hans:': 1233, 'cable': 1364, 'control': 3828, 'as': 89, 'aggravazes': 5496, 'rome': 3829, \"livin'\": 1234, 'slapped': 3830, 'puzzle': 3831, 'me': 21, 'using': 734, 'expired': 3833, 'nauseous': 3834, \"could've\": 1643, 'scram': 4608, 'punching': 3835, 'smugglers': 2835, 'sangre': 3836, 'wenceslas': 3837, 'poorer': 3838, 'pockets': 1651, \"somebody's\": 4352, 'and:': 3840, 'serious': 682, 'example': 2960, 'selling': 1235, 'forbidden': 2150, 'customer': 1558, 'radiation': 3843, 'please/': 3844, 'superdad': 5708, 'talking': 566, 'smelling': 5961, 'horrified': 1005, 'attractive': 3845, 'training': 4722, 'spot': 1236, 'snapping': 3847, 'ding-a-ding-ding-a-ding-ding': 3848, 'rip-off': 3849, \"football's\": 3850, 'pained': 1559, 'slap': 857, 'swishkabobs': 6279, 'ringing': 2151, 'e-z': 3851, 'nervous': 336, 'taunting': 3852, 'exchanged': 3853, 'dials': 2152, 'pathetic': 1560, 'super': 474, 'hellhole': 4786, 'reynolds': 2153, 'piece': 1006, 'gentleman:': 2154, 'excited': 468, 'better': 186, 'mimes': 3856, 'natural': 1561, 'wide': 1562, 'grabs': 1563, 'son': 766, \"somethin's\": 3857, 'shriners': 3858, 'dropping': 3859, 'voice:': 2155, 'cyrano': 3860, 'ralphie': 5027, 'sixty': 3862, 'snake-handler': 2156, 'fired': 3863, 'wonder': 1007, 'promotion': 3864, 'begging': 3865, 'sniffles': 1853, 'problem': 366, 'expert': 2158, 'drive': 475, 'writers': 2159, 'shark': 3866, 'looking': 222, 'frescas': 3868, \"games'd\": 3869, 'sleeps': 2410, 'abe': 3870, 'occupation': 4893, 'agents': 3872, 'second': 613, 'amused': 3873, 'paper': 5649, 'wears': 3874, 'maman': 2161, 'winces': 3875, 'ends': 3876, \"ya'\": 3877, 'mount': 2162, 'gargoyle': 2302, 'thirty-three': 4940, 'awkwardly': 3878, 'mock': 1564, 'shipment': 3879, 'kissed': 3880, 'kansas': 6237, 'truth': 858, 'strolled': 4955, 'coy': 3881, 'e': 3882, 'superior': 2164, 'weekend': 6205, 'considering:': 3883, 'separator': 6699, 'help': 196, 'magazine': 2165, 'spine': 3884, '4x4': 3885, 'dang': 1238, 'friday': 3886, 'cameras': 1565, 'simp-sonnnn': 2166, 'quarter': 3888, 'here-here-here': 3889, 'ice': 859, \"'ere\": 3890, 'director': 2167, \"i'm-so-stupid\": 1008, 'maude': 3892, 'oof': 2168, \"pickin'\": 4559, 'crystal': 3893, 'ziff': 2169, \"s'okay\": 3894, 'such': 614, 'sacajawea': 3895, 'squirrels': 3896, 'plaintive': 3897, 'prize': 2170, 'doof': 3898, 'hit': 860, 'occurrence': 5073, 'fills': 6292, 'buying': 1697, 'temper': 3900, 'sudoku': 6043, 'deeply': 2649, 'ale': 2171, 'morning': 631, 'east': 6174, 'sensible': 5654, 'screams': 1569, 'wacky': 3903, 'fluoroscope': 3724, 'surprised/thrilled': 3904, 'followed': 3905, 'sad': 433, 'burglary': 3906, 'mariah': 6293, 'weapon': 3907, 'choices': 3908, 'fighter': 3910, 'march': 5145, 'cheerleaders:': 3912, \"washin'\": 3913, 'stamps': 3914, 'soaps': 3915, 'dude': 1009, 'alls': 3916, 'starlets': 3917, 'troy': 2174, 'doctor': 3918, '6': 2175, 'manipulation': 3919, 'bachelorhood': 3920, 'official': 3921, 'sister': 1273, 'suffering': 3923, 'doubt': 1010, 'pride': 2176, 'sensitivity': 3924, 'saget': 3679, 'liser': 5208, 'ninety-nine': 3926, 'tv_daughter:': 3927, 'heh': 615, 'rubs': 3928, 'encouraged': 3929, \"daughter's\": 3930, 'dogs': 3931, 'lists': 3933, 'noble': 3934, 'balls': 2178, 'specials': 3935, 'trainers': 3936, 'absolutely': 1011, 'bike': 1571, 'deliberate': 2179, 'wait': 158, \"this'll\": 3937, 'persia': 3938, 'whoops': 5281, 'hard': 861, \"nothin's\": 3939, 'accent': 1012, 'intriguing': 3940, '|question_mark|': 10, 'eternity': 6296, 'showing': 1572, 'majority': 3942, 'afterglow': 3943, 'statues': 3944, 'calculate': 2180, 'pleading': 2181, 'recall': 2182, 'grenky': 3946, 'gore': 3948, 'grain': 3949, 'glasses': 1013, 'voted': 3950, 'blow': 1241, 'wuss': 4361, 'dead': 436, 'principles': 3953, 'swelling': 3954, \"playin'\": 3955, 'trees': 5367, 'a-lug': 3957, 'soot': 3958, 'failure': 3959, 'carmichael': 5380, 'wheel': 1014, 'costume': 2183, 'imitating': 3962, 'organ': 2184, 'dammit': 3963, \"kids'\": 1573, \"collector's\": 3965, 'theater': 1574, 'farthest': 3966, 'whiny': 1242, \"mcstagger's\": 5256, 'baloney': 3071, 'ingested': 3968, 'dumb': 862, 'renee:': 769, 'lou:': 909, 'adult_bart:': 1015, 'bartenders': 2186, 'think': 96, 'ashamed': 1151, 'onassis': 3969, 'kirk_voice_milhouse:': 3970, 'teacher': 2188, 'wa': 2189, 'conditioner': 2190, 'surgery': 1016, 'sold': 1225, 'marquee': 3734, 'ate': 5670, 'browns': 3971, 'doom': 3972, 'arrest': 1243, 'prizefighters': 3973, 'cute': 1577, 'arrange': 3974, 'pint': 2566, 'night-crawlers': 3975, 'straining': 2192, 'kent': 863, 'avenue': 3976, 'lookalikes': 3977, 'total': 3978, 'neon': 3980, 'rumaki': 2193, 'pretending': 2194, 'd': 2195, 'pope': 2196, 'feet': 683, 'apply': 3072, 'ripper': 3982, 'sucker': 3983, 'beaumarchais': 3985, 'mona_simpson:': 2197, 'type': 2198, 'betrayed': 3986, 'dangerous': 864, 'survive': 1105, 'dryer': 2199, 'beam': 2200, 'wear': 1244, 'nope': 2201, 'shrugs': 2202, 'sunny': 3987, 'yee-haw': 1579, 'swamp': 3988, 'drop-off': 3989, 'cap': 3990, \"pope's\": 2203, 'kay': 3991, 'pets': 3992, 'nicer': 3993, 'his': 87, 'carb': 3994, 'pridesters:': 3995, 'playing': 616, 'painting': 2205, 'dollar': 1245, 'simple': 3996, 'darn': 3997, 'statue': 3998, 'certain': 2206, 'juke': 3999, 'office': 4000, 'portfolium': 4001, 'kent_brockman:': 237, 'briefly': 6306, 'jacques': 684, 'catty': 4002, 'shack': 4003, 'ding-a-ding-ding-ding-ding-ding-ding': 4004, 'heavens': 4005, 'grieving': 4006, 'finishing': 2207, 'eyeballs': 4007, 'real': 337, 'getcha': 4008, 'check': 276, 'launch': 4010, 'microphone': 4011, 'look': 101, 'shows': 1246, 'arabs': 4012, 'agnes_skinner:': 685, 'arse': 4013, 'sales': 4014, 'pigtown': 4015, 'thirsty': 4017, 'caholic': 4018, 'positive': 2209, 'myself': 349, 'dr': 258, 'family-owned': 4021, 'minimum': 1247, 'coughs': 4543, 'their': 220, 'nickel': 5050, 'holy': 4023, 'juan': 4024, 'selective': 5805, 'swe-ee-ee-ee-eet': 4026, 'published': 4382, 'vicious': 3082, 'unfair': 4027, 'sale': 2211, 'the_rich_texan:': 567, 'shaken': 2212, 'hispanic_crowd:': 4028, 'cowardly': 2645, 'suspicious': 2213, 'throwing': 2214, 'dame': 1131, 'reward': 4030, 'busy': 1249, 'mob': 2215, \"callin'\": 1018, 'applesauce': 4031, 'scum-sucking': 4033, 'freed': 4034, 'flack': 4035, 'tip': 865, 'alphabet': 2216, 'warren': 4036, 'gasoline': 4032, 'purveyor': 6416, 'routine': 2217, 'mention': 2218, \"showin'\": 2219, 'doreen:': 2220, 'emergency': 4039, 'japanese': 770, 'stupidly': 4040, 'thrilled': 4041, 'manjula_nahasapeemapetilon:': 866, 'ron': 4042, 'notably': 4043, 'falsetto': 4044, 'perfected': 4045, 'rainbows': 4046, 'streetlights': 4047, \"one's\": 1019, 'victorious': 4048, 'brawled': 4049, 'lowest': 4050, 'slaves': 4051, 'entering': 4052, 'over-pronouncing': 4053, 'forced': 4054, 'pages': 4055, 'joined': 2221, 'how': 70, 'filled': 2222, 'sack': 2223, 'double': 1512, 'ballot': 4056, 'yell': 2224, 'tune': 867, 'practice': 4057, 'pay': 403, 'ingrates': 4058, \"rustlin'\": 4059, 'semi-imported': 5825, 'retired': 2225, 'girlfriend': 1250, 'highway': 2226, 'pitch': 2227, 'post-suicide': 4060, 'smoke': 2228, 'often': 4061, 'thank': 309, 'insurance': 4062, 'souvenir': 4063, 'original': 1397, 'severe': 1580, 'principal': 868, 'bob': 1581, 'seamstress': 4065, 'denver': 869, \"she's\": 367, 'dan_gillick:': 1251, 'lessee': 4066, 'mither': 6069, \"'cept\": 4067, 'ways': 2230, 'inspection': 1582, 'wangs': 2231, 'newsies': 4068, 'weeks': 1583, 'obvious': 2232, 'regretful': 4069, 'women': 1020, 'calling': 476, '|return|': 1, 'admiring': 2309, 'stalin': 3090, 'powered': 6317, 'pledge': 4073, 'luv': 4074, 'emphasis': 4075, 'waste': 5082, 'pudgy': 4076, 'marge_simpson:': 73, 'olive': 5041, 'dipping': 4077, 'b': 2233, 'same': 870, \"changin'\": 4078, 'shelbyville': 4079, 'locked': 4080, 'hooters': 3091, 'retain': 4082, 'toledo': 4083, 'peeved': 4084, 'ziffcorp': 1585, 'season': 1828, 'polygon': 5786, 'handsome': 1021, 'shoulder': 2234, 'nos': 4087, 'larry:': 568, 'will': 155, 'planet': 2235, 'care': 404, \"sat's\": 6014, 'chateau': 4088, 'history': 1586, 'pad': 2236, 'ah': 117, 'smiling': 1252, 'selection': 4089, 'waltz': 2237, 'guttural': 4090, 'allowed': 2238, 'si-lent': 4091, 'hootie': 5461, 'charity': 2239, 'sick': 871, 'fast': 771, 'babar': 4092, 'founded': 4094, 'loafers': 4095, 'creeps': 2240, 'open': 686, 'young_barfly:': 4096, 'species': 4097, 'nightmares': 4098, \"i-i'll\": 4099, \"mother's\": 4100, 'go-near-': 4101, 'smart': 2241, 'volunteer': 4102, 'read:': 4103, 'harv:': 872, 'snail': 4104, 'corner': 1587, 'lifts': 4105, 'gulps': 4106, 'derisive': 4108, 'hounds': 4109, 'celebrate': 4110, 'menlo': 4111, 'dennis_kucinich:': 2229, 'exasperated': 1152, 'streetcorner': 4112, 'repairman': 4113, 'backwards': 1588, 'parents': 4114, 'hammer': 4115, 's-a-u-r-c-e': 4116, 'walked': 4117, 'problemo': 4118, 'waylon_smithers:': 338, 'barbed': 6476, 'minus': 4119, 'eggs': 761, 'other_book_club_member:': 4121, 'theatrical': 4122, 'dressed': 1589, '-ry': 4123, 'works': 569, 'pretty': 319, 'so': 42, 'america': 1022, 'phase': 4124, 'warmth': 4125, 'cola': 2243, 'oh-so-sophisticated': 6640, 'cheapskates': 4126, 'immiggants': 5066, 'lock': 2245, 'any': 209, 'cell': 4127, 'four-drink': 4128, 'vermont': 4129, 'five-fifteen': 4130, 'prompting': 4131, 'reliable': 2246, 'mate': 2248, 'yesterday': 1253, 'massage': 4133, 'sitar': 2249, 'jerky': 2822, 'trenchant': 4134, 'mugs': 4135, 'imported-sounding': 4136, 'santa': 2250, 'begin': 4137, 'powerful': 1624, 'domestic': 1254, 'heart-broken': 4139, 'jobs': 2251, 'prayers': 6527, 'owes': 4141, 'complicated': 4839, 'sight': 4142, 'hottest': 4143, 'england': 4144, 'make': 107, 'landlord': 4145, 'tabooger': 2252, 'robot': 4146, 'tree_hoper:': 4147, 'ought': 4148, 'mug': 1255, 'firing': 4149, 'blessing': 4150, 'switch': 1591, 'attracted': 4151, 'passenger': 4152, 'touch': 5721, 'er': 4153, 'tight': 4154, 'anniversary': 1592, 'adult': 3106, 'covers': 1593, 'mountain': 4155, 'anarchy': 2611, 'metal': 6339, 'directions': 1883, 'dames': 2254, \"who'da\": 5072, 'rash': 4160, 'wild': 6064, 'bad': 221, \"i'd'a\": 4161, 'corpses': 1890, 'burps': 1256, 'reserve': 2256, \"bart'd\": 4162, 'religious': 4163, 'patting': 4164, 'fica': 4165, 'fragile': 2257, 'spoon': 4166, 'genuinely': 4167, 'ungrateful': 4168, 'created': 4259, 'experienced': 4169, 'asleep': 4170, 'glorious': 4171, 'men:': 1594, 'experience': 4172, 'popular': 1595, 'pfft': 1596, 'comes': 347, 'flames': 4174, 'park': 1024, 'cleveland': 6341, 'punk': 2259, 'wore': 4175, 'harmony': 4176, 'ihop': 4177, 'senator': 1257, 'pasta': 5077, 'counting': 1025, '_powers:': 2260, 'snake': 1258, 'recent': 4178, 'amazed': 739, 'gregor': 4180, 'woulda': 4181, 'bragging': 4182, 'curious': 2261, 'owe': 1026, 'kl5-4796': 4183, 'fist': 4184, 'gambler': 5374, 'champignons': 3766, 'wasted': 4187, 'hockey-fight': 4188, '50%': 4189, 'initially': 4190, 'weekly': 1259, 'gil_gunderson:': 4191, 'aid': 4192, 'worth': 2262, 'affection': 4193, 'destroyed': 4194, 'fumes': 1446, 'sharps': 1027, 'goes': 687, 'inquiries': 4196, 'brunswick': 5706, 'genius': 1956, 'multi-purpose': 4197, 'skins': 4198, 'blowfish': 4200, 'enhance': 4201, 'watt': 4202, 'corkscrews': 4203, 'eyes': 447, 'normals': 4185, 'average-looking': 2989, 'flag': 2264, 'meaning': 4205, 'absentminded': 4206, \"we'd\": 873, 'racially-diverse': 3793, 'jogging': 4207, 'whoa-ho': 4208, 'shtick': 4209, \"town's\": 2266, 'driveability': 4210, 'vomit': 1598, 'moe_szyslak:': 9, 'rusty': 4211, 'grave': 2267, 'mortal': 4213, 'patrons:': 4408, 'vengeful': 4908, 'bathing': 2268, 'burg': 4216, 'resolution': 4217, 'stay': 554, 'luckiest': 4218, 'moolah-stealing': 4219, 'quarry': 4221, 'roll': 1778, 'mid-conversation': 4222, 'soaking': 4223, 'beach': 1029, 'root': 1465, 'easy': 478, 'steampunk': 4225, 'tries': 2271, 'trip': 1260, 'center': 1030, 'valley': 3771, 'friend': 197, 'sturdy': 4227, 'buzziness': 4228, 'pews': 4229, 'available': 2272, 'legoland': 4230, 'natured': 4231, 'spitting': 4232, 'suspiciously': 5085, 'loneliness': 4233, '1973': 4234, 'junior': 1600, 'leonard': 4235, 'refresh': 2273, 'earrings': 4236, 'temple': 6379, 'supermodel': 3148, 'beauty': 1262, 'haws': 5147, 'cost': 1031, 'klingon': 2274, 'brag': 4238, 'handling': 4239, 'homer_doubles:': 4240, 'bumped': 3119, 'depressed': 4241, 'bubbles-in-my-nose-y': 4243, 'outlive': 4244, 'warmly': 773, 'exhibit': 4246, 'hops': 4247, 'utensils': 4248, 'times': 618, 'playful': 2276, 'liven': 4249, 'totalitarians': 4250, 'sanitation': 3781, 'pre-game': 5094, 'lady': 570, 'ironic': 3236, 'civic': 2278, 'owner': 2279, 'knowledge': 4251, 'ram': 4252, 'photos': 4253, 'quero': 6367, 'numeral': 4254, \"boy's\": 4255, 'head': 273, 'depression': 4256, 'shifty': 4257, 'appear': 2280, 'augustus': 4258, 'sobbing': 1263, 'muslim': 3293, 'ignorant': 4260, 'barber': 5715, 'innocent': 1601, 'smug': 2281, 'scam': 1602, 'himself': 774, 'cricket': 4262, '$42': 4263, 'killed': 1603, 'monorails': 4264, 'teenage': 1604, 'stained-glass': 3327, 'distraught': 1264, 'american': 674, 'unfresh': 4266, 'maiden': 6354, 'snaps': 1605, 'scatter': 4268, 'mull': 4269, \"didn't\": 168, 'step': 1606, 'tones': 4271, 'sadder': 1607, 'health_inspector:': 874, 'spooky': 4272, 'm': 571, 'tapestry': 4273, 'pushing': 4274, \"children's\": 2282, 'mexicans': 4275, 'eighty-three': 4276, 'punishment': 4277, 'weirder': 2283, 'crooks': 3418, 'jockey': 2284, 'up-bup-bup': 4279, 'iddilies': 4280, 'church': 1608, 'scientists': 4281, 'unhook': 4419, 'meaningful': 1265, 'explaining': 1187, 'bannister': 4283, 'well-wisher': 3600, 'dungeon': 2043, 'africanized': 4284, 'repeated': 4285, \"coffee'll\": 4286, 'blade': 3479, 'fonzie': 4287, \"round's\": 4288, 'opens': 4289, 'title': 3495, 'perón': 4290, 'suspenders': 4291, 'skydiving': 4292, 'wad': 4293, 'formico': 2287, 'story': 750, 'habitrail': 4295, 'citizens': 4296, 'notices': 4297, 'interrupting': 4298, 'guy': 128, 'flowers': 1266, 'cousin': 3536, 'bartender': 528, 'with': 35, 'generous': 2289, 'question': 1267, 'telegraph': 4422, 'forgiven': 3638, 'more': 124, 'bobo': 4302, 'lugs': 4303, 'deals': 4936, 'nine': 775, 'wife-swapping': 4304, 'contractors': 4305, 'train': 1268, 'discuss': 2290, 'jam': 4306, 'buds': 4307, 'yee-ha': 4308, 'christian': 4309, 'consider': 1610, 'paramedic:': 4310, 'body': 1269, 'stalwart': 4311, 'replace': 3792, 'flustered': 4313, 'feisty': 5821, 'shades': 4314, 'beyond': 4315, 'friend:': 4316, 'louisiana': 4317, 'wolfe': 2291, 'non-losers': 4318, 'pills': 4319, 'comedies': 4320, 'country-fried': 4321, 'value': 2292, 'yew': 4322, 'territorial': 4323, 'head-gunk': 4324, 'near': 2293, 'shred': 5722, 'proudly': 776, 'sheets': 4325, 'caused': 2294, 'once': 334, 'swig': 4327, 'dump': 572, 'certainly': 4328, 'musses': 5100, 'hunger': 4330, 'typed': 4071, 'whaddya': 4331, 'gimme': 405, \"havin'\": 1611, 'guff': 4332, 'point': 620, 'hitchhike': 4333, 'feast': 2114, 'bite': 1612, 'moe_recording:': 4335, 'cleaner': 2296, 'ask': 352, 'wrap': 3742, 'hampstead-on-cecil-cecil': 4336, 'newest': 4337, 'middle': 1613, 'boneheaded': 2298, 'attempting': 2299, 'brightening': 2300, 'booger': 4338, 'cobbling': 4340, 'enthused': 4341, 'solved': 4342, 'pause': 1614, 'rotch': 1270, 'billion': 2134, 'disappear': 4344, 'heather': 6369, 'beer:': 4345, 'ape-like': 3667, 'forty-nine': 4347, 'pointless': 2301, 'package': 4348, 'recommend': 1615, 'heads': 1616, 'avec': 5104, 'midge:': 4350, 'chin': 4351, 'boring': 1004, 'ball': 777, 'donation': 4353, 'forget-me-shot': 1272, \"fightin'\": 4354, 'exclusive:': 4355, 'closet': 4356, 'broncos': 4357, 'allowance': 6736, 'football_announcer:': 875, \"messin'\": 4358, 'miracle': 5132, 'sheet': 4360, 'like': 39, 'book': 339, \"department's\": 5601, 'tv_announcer:': 2303, 'bedridden': 4362, 'kirk': 4363, 'kako:': 4364, 'multi-national': 4365, 'they': 79, 'walk': 689, 'bags': 2304, 'nearly': 2305, 'simpsons': 3922, 'grammar': 4366, 'accept': 1617, 'lager': 4367, 'loss': 2346, 'cries': 1274, 'friction': 4368, 'spiritual': 4369, 'wipe': 1618, 'full-blooded': 4370, 'foodie': 3909, 'lucius': 2306, 'tha': 4371, 'shall': 876, 'file': 4372, 'degradation': 2307, 'courage': 2308, 'homer': 27, 'dawning': 4374, 'cases': 4375, 'compromise:': 4376, 'prices': 4377, 'thanking': 5005, 'enjoy': 1275, 'crap': 778, 'starla': 4378, 'wagering': 4379, 'away': 320, 'wholeheartedly': 4380, 'crayon': 4381, 'adjourned': 4242, 'humanity': 4383, 'hanh': 4384, 'dynamite': 1621, 'face-macer': 4093, 'cut': 529, 'unfamiliar': 4386, 'sweaty': 4387, 'bide': 4388, 'least': 573, \"g'ahead\": 4389, 'thinks': 617, 'chip': 4390, 'consciousness': 4391, \"heat's\": 4392, 'idiot': 1622, 'suing': 2310, 'courteous': 4394, 'acting': 2311, 'moved': 1623, 'dilemma': 6376, 'annie': 4299, 'stevie': 2313, 'canyonero': 406, 'equivalent': 6377, \"man'd\": 4396, 'h': 6363, 'mix': 4138, 'all-american': 5897, 'yelp': 4397, 'champ': 2621, 'lighter': 4398, 'passion': 2315, 'bible': 2316, 'griffith': 4399, 'pack': 4400, 'grammys': 4401, 'trolls': 2317, 'quick-like': 4402, 'explanation': 4403, 'oil': 1625, 'store': 690, 'installed': 4404, 'act': 1033, 'insults': 4405, 'rip': 4406, 'washed': 4407, 'compressions': 4214, 'tang': 2187, 'most': 407, 'we-we-we': 6381, 'ridiculous': 1626, 'ford': 6099, 'flanders': 878, 'wearing': 1627, \"hole'\": 4245, 'sleep': 1637, 'sledge-hammer': 4410, 'careful': 1628, 'coupon': 4411, 'orders': 4412, 'slobs': 4413, 'almost': 1276, 'worse': 574, 'loved': 879, 'practically': 4414, 'microbrew': 4037, 'micronesian': 4415, 'red': 1133, 'tribute': 4416, 'talk': 300, 'spirit': 4418, 'deadly': 2320, 'tapping': 5385, 'pulled': 1277, 'nonchalantly': 4420, 'americans': 4421, 'yoink': 3807, 'enterprising': 4423, \"ma's\": 4424, 'papa': 4425, 'director:': 4426, 'windowshade': 5880, 'salvation': 4427, 'heliotrope': 5736, 'mis-statement': 4429, 'yours': 2321, 'relaxed': 4430, 'karaoke_machine:': 4431, 'lance': 4432, 'frightened': 6579, 'puke': 1629, 'self': 597, '8': 4434, 'happier': 779, 'potato': 2322, 'housewife': 5711, 'missing': 4436, 'tropical': 4437, 'instead': 691, 'slurred': 4438, 'stonewall': 6128, 'dies': 4439, 'him': 98, 'cab': 4441, 'releases': 4442, 'alpha-crow': 4443, 'skills': 4444, 'madonna': 4445, 'newsletter': 4446, 'sniffing': 4447, 'disgraceful': 4448, 'piano': 4449, \"lenny's\": 1630, 'digging': 4450, 'along': 880, 'beverage': 4451, 'candidate': 2323, 'infestation': 4691, \"meanin'\": 2622, 'rings': 4454, 'terrific': 2325, 'bridges': 5122, 'god': 164, 'bill': 1278, 'brave': 2326, 'occasion': 4456, 'tabs': 4457, '2nd_voice_on_transmitter:': 5716, 'host': 4458, 'class': 881, 'toilet': 1631, 'reconsidering': 4459, 'crab': 4508, 'social': 2797, 'hexa-': 4460, 'snotty': 4518, 'jolly': 1632, 'slipped': 4461, 'happen': 530, 'wiggle-frowns': 4462, 'rolling': 1919, 'tense': 4463, 'plastic': 883, 'card': 692, 'sleeping': 4464, 'lovers': 4465, 'up': 48, 'palm': 2328, 'clearing': 6665, \"writin'\": 4563, 'teriyaki': 4468, 'shame': 4469, 'eh': 175, 'cheers': 1634, 'eminence': 4470, 'swings': 4471, 'manatee': 4472, 'tv_father:': 1635, 'tonic': 4473, 'spacey': 4474, 'silence': 4475, 'judge_snyder:': 2329, \"beggin'\": 4616, 'knew': 429, 'old-time': 4477, 'beast': 3814, 'ow': 293, 'dumbbell': 4478, 'grateful': 4479, 'unable': 4480, 'recap:': 6415, 'polls': 4481, 'etc': 780, 'vegas': 1636, 'inspire': 2331, 'boozer': 4482, 'score': 4483, 'bender:': 1036, 'mirror': 4661, \"tv's\": 4485, 'massive': 4486, 'considers': 4487, 'college': 1037, 'entrance': 4488, 'busiest': 4489, 'paid': 2333, \"duelin'\": 4490, 'gut': 3261, 'fat_in_the_hat:': 4491, 'angel': 2334, \"stabbin'\": 4492, 'frink-y': 4493, 'store-bought': 4494, 'macgregor': 4495, 'lincoln': 4993, 'yap': 1281, 'read': 481, \"fendin'\": 4496, 'padre': 2799, 'single': 1639, 'butts': 781, 'drove': 4497, 'fantasy': 4498, 'item': 4499, \"city's\": 4500, 'flashbacks': 5748, 'feel': 248, 'woooooo': 4265, 'slab': 5040, 'loathe': 4502, 'maher': 4503, 'pointy': 4158, 'detective_homer_simpson:': 1038, \"you're\": 61, 'ping-pong': 4504, 'fast-food': 4505, 'muscle': 4795, 'enter': 3154, 'month': 4816, 'scream': 1279, 'grandkids': 4509, 'haplessly': 4510, 'spectacular': 4511, 'chug-monkeys': 4512, \"i-i'm\": 1640, 'mini-beret': 4513, 'cool': 696, 'moron': 693, 'changed': 1641, 'mess': 2336, 'drinking': 448, 'shush': 4515, 'malabar': 4516, 'lease': 4517, 'numbers': 882, 'lib': 2337, 'mm-hmm': 4519, 'airport': 2338, 'cans': 4520, 'stool': 885, 'telephone': 4521, 'grudgingly': 4522, 'gees': 4523, 'punkin': 4524, 'quickly': 430, 'bunch': 1642, 'pip': 4525, 'guiltily': 5138, 'booze-bags': 4526, 'odor': 5752, 'fondly': 2340, 'thought': 259, 'sniper': 5608, 'rafters': 4527, 'solely': 4916, 'rented': 4529, 'choked': 4530, 'fruit': 4531, 'part': 1039, 'swine': 4532, 'delicate': 4926, 'half-beer': 4533, 'sometimes': 2342, 'groveling': 4938, 'lenny': 176, 'homesick': 4535, 'am': 126, 'yawns': 2343, 'switched': 4536, \"that's\": 58, 'fanciest': 2344, 'wedding': 2345, 'larson': 2988, 'john': 4538, 'united': 4540, 'chill': 4541, 'alky': 4542, 'judgments': 4981, 'lately': 1644, 'sincerely': 4679, 'label': 1645, 'mcclure': 4544, 'distaste': 4545, 'exhale': 4546, 'charter': 4547, 'stinger': 4548, 'kind': 321, 'kidneys': 4549, 'on': 28, 'dana_scully:': 5015, 'liable': 4550, 'neighbor': 2347, 'rather': 1375, 'are': 55, 'ons': 4551, 'mocking': 5031, 'pancakes': 4553, 'runs': 5757, 'partly': 2348, 'slick': 4554, 'bar_rag:': 575, 'slogan': 6406, 'harrowing': 4556, 'barney': 131, 'easygoing': 4557, 'expression': 2349, 'studied': 4558, 'benjamin:': 5017, 'space-time': 4560, 'batmobile': 4561, 'venture': 4562, 'mmmmm': 4064, 'cheap': 1647, 'incredible': 5760, 'lighting': 2350, 'lard': 4567, 'wade_boggs:': 2351, 'course': 531, 'windelle': 4568, 'wistful': 4569, '_marvin_monroe:': 4300, 'professional': 1284, 'assumed': 4570, 'suits': 6039, 'exhaust': 1557, 'was': 53, 'fortress': 4571, \"game's\": 2352, 'yelling': 2353, 'moe-lennium': 4572, \"england's\": 4573, 'luckily': 4574, \"spyin'\": 4575, 'pajamas': 4576, \"ball's\": 4577, 'sadistic_barfly:': 1648, 'determined': 4579, 'amber_dempsey:': 6494, 'dressing': 4580, 'resenting': 4581, 'be-stainèd': 4582, 'leak': 4583, \"hell's\": 4744, 'winning': 3140, 'investigating': 5809, 'tiger': 4585, 'scanning': 4586, 'flash-fry': 4587, 'dateline': 4588, 'labor': 4589, 'lorre': 4717, 'el': 5242, 'results': 2803, 'lurleen': 2355, 'bring': 483, 'seminar': 4593, 'trail': 3832, 'compete': 4594, 'turn': 340, 'hearts': 4595, 'chain': 4596, 'commit': 3664, 'plum': 2357, 'stingy': 4597, 'tee': 4598, 'society_matron:': 4599, 'agent': 1285, 'strawberry': 4600, 'blows': 4601, 'cause': 4602, 'strain': 4603, 'nooo': 4957, 'scruffy_blogger:': 4604, 'twelve-step': 4605, 'nigel_bakerbutcher:': 886, 'action': 2358, 'sickens': 4606, 'madman': 4607, 'eddie:': 1343, 'cup': 4610, 'generosity': 5013, 'race': 4611, 'runners': 4612, 'marry': 5151, 'ideal': 4613, 'shop': 4614, 'business': 353, 'indignant': 1649, 'dying': 972, 'creepy': 4615, 'stolen': 4476, 'lap': 2360, 'poet': 2361, 'play/': 4617, 'tenuous': 4618, 'reaches': 4619, 'villanova': 4620, 'feels': 1287, 'thrust': 4621, 'sight-unseen': 4622, 'light': 621, 'dealer': 4623, 'femininity': 4624, 'deeper': 4625, 'sports_announcer:': 2362, 'painted': 4626, 'sexy': 1288, 'friendship': 2132, 'deer': 1042, 'took': 389, 'finance': 4627, 'parasol': 4628, \"poisonin'\": 4629, 'y-you': 4630, 'indifferent': 4631, 'prime': 1650, 'xanders': 4632, \"s'cuse\": 3839, 'break-up': 6420, \"man's\": 5153, 'thousand': 622, 'stealings': 2363, 'diddilies': 4636, 'plucked': 3842, 'shindig': 6421, 'employees': 4639, 'waking-up': 4640, 'koji': 4641, 'day': 156, 'reciting': 4642, 'amount': 2364, 'per': 1652, 'convenient': 4643, 'intimacy': 4645, 'ivana': 1289, 'match': 1290, 'cigarettes': 2562, 'leathery': 4647, 'blinded': 4648, 'allegiance': 4312, 'chumbawamba': 4649, 'snake_jailbird:': 576, 'especially': 1291, 'mitts': 6236, 'swooning': 4650, 'too': 104, 'clincher': 4651, 'artist': 4652, 'sheriff': 4653, 'low-life': 6777, 'eightball': 4654, 'latour': 4655, 'chicken': 4656, 'dreams': 2573, 'various': 6422, 'penmanship': 3729, 'hunting': 2366, 'gasps': 623, 'scout': 4658, 'lights': 2367, 'modestly': 4659, 'market': 1292, 'far': 624, 'cheryl': 4660, 'patron_#2:': 4484, 'zoomed': 4662, 'bees': 1293, 'hilton': 4663, 'release': 2368, 'richer': 4664, 'bubbles': 2594, 'apology': 4666, 'rugged': 5158, 'tanked-up': 2369, 'ivory': 4667, 'sweat': 4668, 'kirk_van_houten:': 484, 'forward': 2370, 'lotsa': 4669, 'hare-brained': 4670, 'slaps': 4671, 'eddie': 4672, 'drop': 1584, 'france': 1294, 'languages': 4673, 'faceful': 4674, \"sippin'\": 4675, 'warranty': 4676, 'she-pu': 4677, \"'ceptin'\": 4678, 'guest': 1654, 'shares': 1655, 'broom': 2372, 'cheering': 5687, 'voyager': 4680, 'nudge': 2630, 'drinker': 4681, 'sticker': 4682, \"industry's\": 4683, 'gloop': 5425, 'huddle': 4684, 'wealthy': 4685, 'beefs': 4686, 'patron_#1:': 4687, 'certificate': 4688, 'billiard': 4689, 'remote': 4690, 'swear': 1044, 'einstein': 4692, 'dollars': 390, 'unexplained': 4693, 'fledgling': 4694, 'thawing': 4695, 'rude': 4696, 'wishes': 2373, 'crowded': 4697, 'drank': 2374, \"where'd\": 1656, 'simultaneous': 4698, 'ourselves': 1192, 'cooking': 4699, 'rekindle': 4700, 'lobster-based': 4701, 'funny': 449, 'perking': 4702, 'lizard': 4703, 'everyone': 408, 'curiosity': 4704, 'roomy': 2375, 'ninety-six': 4705, 'naively': 6427, 'decide': 2376, 'starve': 4707, 'pardon': 1657, 'yep': 1045, 'luck': 1046, 'many': 368, 'quimbys:': 5988, 'about': 74, 'exchange': 2377, 'unkempt': 4708, 'mindless': 4709, 'kermit': 1658, 'patient': 2378, \"floatin'\": 4710, 'through': 311, 'puke-pail': 4711, 'truck': 1121, 'sue': 4713, 'twin': 2380, 'hiya': 1659, 'hole': 1660, 'aah': 5501, 'togetherness': 4715, 'little_man:': 1047, 'hours': 578, 'pinball': 4716, 'bulletin': 4718, 'wittgenstein': 4719, 'it:': 4720, 'mcbain': 2381, 'who': 83, 'nasty': 4721, 'sweetest': 3846, 'jovial': 4723, '3': 4724, 'nbc': 4725, 'barkeep': 2382, \"treatin'\": 4726, 'calls': 1295, 'portuguese': 4727, 'diet': 1661, 'freaky': 4728, 'gesture': 5143, 'pyramid': 4730, 'fat_tony:': 923, 'con': 4731, 'spend': 579, 'jubilation': 5782, 'lady-free': 4733, 'karaoke': 2624, 'lachrymose': 4734, \"startin'\": 4735, 'cummerbund': 5170, 'anguished': 1662, 'williams': 4737, \"b-52's:\": 4738, 'undermine': 4739, 'need': 138, 'shower': 2383, 'factor': 4740, 'espn': 4741, 'working': 1296, 'couch': 1297, 'admirer': 4742, 'negative': 4743, 'merchants': 6001, 'flynt': 4745, \"carl's\": 1298, 'drains': 4746, 'paris': 1663, 'fools': 4747, 'scientific': 4748, 'vacations': 4749, 'joking': 2384, 'lottery': 1665, 'given': 1048, \"hobo's\": 4750, 'hammock': 4751, 'for': 25, 'cologne': 4752, 'kiss': 782, 'whoo': 4753, 'bury': 4539, 'laughing': 888, 'mind-numbing': 6437, 'mock-up': 4755, \"when's\": 3193, 'walther_hotenhoffer:': 850, 'trick': 2385, 'son-of-a': 4758, 'aggie': 4759, 'wake': 2386, \"seein'\": 1666, 'blimp': 4501, 'informant': 2387, 'ugly': 558, 'mccarthy': 4761, 'edna': 409, 'joy': 4081, 'tells': 1667, 'inspiring': 2389, '14': 4762, 'conclude': 4764, 'concerned': 1668, 'firm': 3240, 'calm': 1050, 'squeal': 4766, 'measure': 6564, 'bursts': 4767, 'noooooooooo': 5789, 'michael': 4768, 'ohhhh': 4769, 'abusive': 4770, 'fury': 4771, 'stretches': 4772, 'author': 4773, 'greystash': 1669, 'column': 4774, 'nantucket': 5791, 'shelf': 4775, 'inserted': 4776, 'diminish': 5174, 'mic': 2149, 'another': 238, 'furiously': 4778, \"smokin'\": 5635, 'mickey': 4779, 'musta': 4780, 'jig': 4781, 'seats': 2394, 'th-th-th-the': 4782, 'malted': 4783, 'girl': 274, 'cleaned': 1049, 'team': 1670, 'johnny': 4784, 'cecil': 4785, 'chuckles': 312, 'after': 260, 'bride': 2396, 'badges': 2397, 'bought': 1671, \"toot's\": 4578, 'cavern': 3630, \"tramp's\": 5296, 'mathis': 4788, 'skinheads': 4789, '530': 4790, 'village': 2399, 'characteristic': 4791, 'cheered': 4792, 'smiles': 4793, 'alec_baldwin:': 4794, 'result': 4506, 'wednesday': 4796, 'alarm': 4797, 'wok': 4798, 'hmf': 4799, 'forgotten': 4800, 'dog': 450, \"couldn't\": 509, 'reluctantly': 4507, 'trustworthy': 4801, \"'s\": 4802, 'crawl': 1672, 'sleigh-horses': 4803, 'extreme': 4804, 'someplace': 4805, 'bartending': 2401, 'adeleine': 1299, 'shag': 4806, 'hugh': 4807, 'nash': 4808, 'poplar': 4809, 'judges': 4810, 'ura': 4811, 'sir': 485, 'contemptuous': 4812, 'unhappy': 4813, 'delightful': 5178, 'pig': 695, 'hate': 465, 'stores': 4817, 'ehhhhhhhhh': 4818, 'harvesting': 4819, 'robbers': 4820, \"c'mon\": 342, 'done': 369, 'excitement': 2129, 'hurry': 1300, 'jams': 4822, 'tragedy': 3391, 'awful': 1673, 'aer': 4824, 'brakes': 4825, 'dancing': 1674, 'longest': 4826, 'acceptance': 4827, 'flourish': 4828, 'buffet': 4829, 'beautiful': 410, 'filed': 4830, 'patrons': 4514, 'sassy': 4831, 'leprechaun': 4832, 'leftover': 4833, \"nick's\": 4834, 'buddies': 6447, \"knockin'\": 4835, 'reach': 2485, \"gentleman's\": 1675, 'rush': 4837, 'indigenous': 4838, 'teenage_bart:': 1301, 'bleeding': 4840, 'attention': 1753, 'duty': 2402, 'idioms': 4841, 'henry': 2403, 'geysir': 4842, 'in-ground': 4843, 'radioactive': 4844, 'attraction': 4845, 'gamble': 6656, 'strips': 4846, 'worldview': 3206, 'hotenhoffer': 4847, 'idea': 355, 'forty-five': 4848, 'nailed': 4850, 'fdic': 4851, 'heartily': 4852, 'queen': 2816, 'answer': 1302, 'ned': 783, 'restless': 4853, 'travel': 4854, 'placing': 2405, 'outstanding': 4855, 'short_man:': 4856, 'knuckles': 4857, 'bow': 889, 'brain': 1303, 'prettiest': 4858, 'ten': 625, 'bit': 626, 'bidet': 4859, 'walking': 791, 'vampire': 4860, 'having': 1051, 'nation': 1676, 'charm': 2406, 'ooo': 1304, \"you'd\": 431, 'sounded': 4861, 'anthony_kiedis:': 4862, 'therapy': 1305, 'counterfeit': 6735, 'damage': 6701, 'hemoglobin': 4863, 'means': 784, \"somethin':\": 4864, 'nap': 4865, 'haw': 1982, 'jane': 4867, 'points': 432, 'charges': 4868, 'flexible': 4869, 'prep': 4870, 'egg': 1306, 'cockroaches': 4871, 'woozy': 2407, 'stands': 2408, 'winner': 3867, 'brockelstein': 5083, 'catching': 2409, 'yells': 4873, 'arise': 4874, 'expose': 4875, 'trade': 6456, 'herself': 4877, 'bucks': 391, \"aristotle's\": 4878, 'b-day': 6617, 'sesame': 2905, 'devastated': 2411, 'placed': 4879, 'syrup': 2412, 'blues': 2413, 'exit': 1677, 'horrors': 4881, 'childless': 4882, 'hungry': 1307, 'dear': 532, \"life's\": 4883, 'mahatma': 4537, 'murdered': 4885, 'accident': 785, 'argue': 4886, 'touched': 890, 'quebec': 4887, 'effects': 2415, 'ho': 1678, 'kick': 698, 'sang': 4888, 'whether': 1920, 'getting': 370, 'coast': 4890, 'if': 71, 'undies': 4891, 'a-a-b-b-a': 4892, 'exploiter': 3871, 'feeling': 451, 'half': 877, 'lumpa': 4894, 'buy': 263, 'julep': 4895, 'sugar-me-do': 5903, 'full-bodied': 4896, 'padres': 4897, 'troll': 1053, 'memories': 2416, 'physical': 6767, 'fustigation': 4898, 'youngsters': 4899, 'to': 13, 'compels': 4901, 'reader': 3046, 'liquor': 4903, 'forbids': 6462, 'jerks': 975, 'sending': 5548, 'ears': 4905, 'drag': 4906, 'silent': 4907, 'cleaning': 3076, 'holiday': 1679, 'spender': 4909, 'mcstagger': 2417, 'due': 2418, 'candles': 4910, 'bitter': 891, 'hundreds': 4911, 'woman_bystander:': 1953, 'coincidentally': 6463, 'lawyer': 4912, 'ugliest': 2420, 'cards': 1680, \"cupid's\": 4913, 'partner': 1310, 'measurements': 2421, 'black': 786, 'taxi': 3122, 'wanna': 187, 'de': 4915, 'radishes': 1311, \"lovers'\": 6611, 'duff': 213, 'bell': 4917, 'adequate': 3346, 'poem': 2422, 'fridge': 1312, 'spews': 4918, 'contest': 2423, 'uglier': 5195, 'honey': 892, 'single-mindedness': 4920, 'telemarketing': 4921, 'increasingly': 2424, 'groans': 4922, 'window': 1055, 'artie_ziff:': 486, 'months': 1313, 'ignorance': 4923, 'gum': 2425, 'soup': 2426, 'tick': 2427, 'cadillac': 4924, 'and': 14, 'two-drink': 4925, 'arab_man:': 2428, 'detecting': 2429, 'pop': 1056, 'burn': 487, 'brockman': 1040, 'vacuum': 2430, 'umm': 1985, 'promised': 2431, 'glowers': 4928, 'across': 893, 'virtual': 2432, 'break': 452, 'astronauts': 4929, 'soap': 1993, 'stripes': 4931, 'ali': 4932, 'kidding': 1314, 'vulnerable': 2433, 'occasional': 4933, 'carolina': 4934, 'c': 294, \"beer's\": 2434, 'wowww': 4935, 'captain:': 4937, 'agency': 4534, 'watch': 392, 'meditative': 4939, 'flatly': 1681, 'manjula': 2163, 'hour': 1682, 'few': 1057, \"dimwit's\": 3217, 'ruin': 1864, 'fbi': 1315, 'germs': 2435, 'five': 322, 'veux': 4942, 'public': 1683, 'warn': 2436, 'served': 2437, 'dignity': 6484, 'increased': 4943, 'cockroach': 6495, 'cruel': 2438, 'advertise': 4944, 'carefully': 3357, 'cracked': 4946, 'sucked': 1685, 'junebug': 4947, 'homeland': 4948, 'computer': 1316, 'al': 895, 'super-genius': 4949, 'except': 896, 'dash': 4950, 'blamed': 4951, 'fixes': 3419, 'born': 1686, 'stairs': 5202, 'makes': 411, 'proof': 4953, \"kearney's_dad:\": 5203, 'runaway': 4954, 'homie': 767, 'powers': 4956, 'comic': 2521, 'befriend': 6472, 'disappointment': 4959, 'thankful': 1517, \"ma'am\": 2048, 'winnings': 2439, 'hoagie': 4962, 'chuckling': 4963, 'delivery_boy:': 2440, 'ralph_wiggum:': 3011, 'collapse': 4965, \"don't\": 46, 'furious': 1213, 'mulder': 4966, 'socialize': 4967, 'expect': 1687, 'reviews': 2442, 'comment': 4969, 'extract': 4970, 'raging': 4971, 'knows': 699, 'following': 1688, 'huge': 787, 'cuddling': 4972, 'whispered': 4973, 'married': 627, 'heaving': 4974, 'investor': 2443, 'stories': 1059, 'self-centered': 4976, 'sass': 4977, 'something:': 5997, 'lodge': 4979, 'enjoyed': 6453, 'grienke': 2444, 'cotton': 2445, \"o'problem\": 1318, 'whaaa': 4980, 'tongue': 1060, 'ran': 1689, 'hub': 4220, 'grunt': 1690, 'swimming': 4982, 'anything': 302, 'frink': 1691, 'last': 205, 'bottoms': 4983, 'sits': 1319, 'compliment': 1692, 'moonlight': 4984, 'fantastic': 4985, 'influence': 4986, 'forever': 788, 'africa': 2446, 'scrape': 2096, 'flaking': 4988, 'zinged': 4989, 'breaks': 4990, 'looooooooooooooooooong': 4991, 'laughter': 5823, 'crushed': 4992, \"dyin'\": 1958, 'remains': 2447, 'congratulations': 4994, 'film': 1539, 'concentrate': 4996, 'broke': 789, 'brief': 4998, 'truck_driver:': 4999, 'european': 2448, \"talkin'\": 533, 'kisses': 5000, 'dank': 1061, 'bottle': 581, 'revenge': 5001, 'damn': 790, 'sinister': 2449, \"tonight's\": 5002, 'indecipherable': 6479, 'video': 1320, 'koholic': 2471, 'slow': 897, 'weirded-out': 2450, \"brockman's\": 6670, 'popped': 5006, 'lover': 2451, 'boo': 1694, 'solid': 2452, 'detail': 5008, 'dracula': 5826, 'enthusiasm': 5010, 'sooo': 5011, 'stupid': 295, 'actor': 5012, 'shaking': 1062, 'afford': 1695, 'alone': 681, 'lise:': 2453, 'musketeers': 5014, 'plain': 5016, 'medieval': 5018, 'circus': 5019, 'cowboys': 2454, 'manuel': 5020, 'overflowing': 5021, 'stengel': 5415, 'selma_bouvier:': 825, 'wooden': 2455, 'harv': 1696, 'macho': 5024, 'frenchman': 5026, 'sell': 412, 'declared': 3861, 'gumbel': 898, 'first': 227, 'wh': 5028, 'combine': 2456, 'carny:': 5029, 'fine': 453, 'nose': 1321, 'less': 628, 'bolting': 5030, 'spamming': 4552, 'leg': 1567, 'kids': 266, 'guns': 1240, 'politician': 5032, \"what'll\": 1322, 'force': 2457, \"queen's\": 5033, 'improv': 5034, 'mistakes': 5035, 'amanda': 1323, 'shard': 5036, 'puzzled': 1063, 'defected': 3945, 'clipped': 5038, 'federal': 5039, 'sings': 283, 'voice_on_transmitter:': 2458, 'evergreen': 3960, 'twenty-five': 1575, 'chinese': 1576, 'floating': 5631, 'employment': 5043, 'noticing': 1698, 'demand': 5044, 'arrived': 6182, 'bread': 2459, 'earth': 5045, 'valuable': 5046, 'stand': 582, 'chubby': 5047, 'all': 37, 'fund': 5048, 'opening': 1699, 'bars': 1324, 'car': 223, 'clears': 1064, 'grinch': 5049, 'morlocks': 2460, 'glummy': 4022, 'coins': 2647, 'gator': 5051, 'managed': 5052, 'elect': 6485, 'fink': 5054, 'rom': 5055, 'quit': 454, 'sponge': 5056, 'sternly': 5057, 'take-back': 5058, 'impeach': 5042, 'julienne': 5059, 'moustache': 5060, 'blend': 2462, 'where': 139, 'tough': 434, 'tear': 5061, 'grand': 1065, 'deny': 5063, 'bull': 5064, 'eaters': 6115, 'glen:': 1066, 'okay': 86, 'those': 169, 'walks': 1716, 'renee': 1325, 'formico:': 2244, 'sponsor': 5067, \"o'reilly\": 5068, 'dumpster': 5069, 'uncomfortable': 1700, 'partners': 5070, \"son's\": 5071, 'lord': 1067, 'anyone': 490, 'curse': 4159, \"year's\": 1566, 'thoughts': 1701, 'fortune': 5074, 'presumir': 5075, 'squeezed': 5076, 'alive': 629, 'tradition': 1702, 'chance': 534, 'favor': 1068, 'young_marge:': 772, 'mother': 630, 'closing': 1326, \"neighbor's\": 5078, 'aunt': 5079, 'life-threatening': 5080, 'peanut': 2463, 'wipes': 5081, 'fold': 2395, 'angrily': 4978, 'meals': 6544, 'device': 5084, 'peach': 1568, 'tail': 1327, 'wildfever': 5086, \"number's\": 5087, 'michael_stipe:': 5088, 'everybody': 261, 'steal': 583, 'startled': 5089, 'goblins': 5090, 'tastes': 1487, 'fault': 1703, 'statistician': 5092, 'appealing': 2464, 'mexican': 5093, 'the': 5, 'hopeful': 1069, 'outrageous': 5095, 'remorseful': 5096, 'decadent': 5097, 'fausto': 2465, \"wait'll\": 5835, 'lovely': 2466, 'give': 161, 'enemy': 1704, 'brace': 5099, 'town': 364, 'urinal': 5101, 'chicks': 2467, 'mary': 5102, 'gel': 5103, 'lee': 4349, 'loves': 491, 'unattractive': 5105, 'sunday': 1070, 'seymour_skinner:': 206, 'dizzy': 5106, 'caper': 5107, 'wizard': 5108, 'sports': 1328, 'darkest': 2469, 'named': 1054, 'notch': 5109, 'complaining': 2470, 'three-man': 5110, 'quadruple-sec': 6490, 'dumbass': 5838, 'chic': 5113, 'noises': 492, 'grin': 5114, 'arms': 1329, 'cigarette': 1705, 'omit': 5115, 'montrer': 5766, 'yourse': 5117, 'however': 5118, 'whining': 5119, 'accelerating': 5120, 'steak': 2404, 'dress': 2472, 'jeez': 1071, 'when': 108, 'rev': 700, 'data': 3241, 'diablo': 4455, 'sauce': 1072, 'reunion': 5124, 'painless': 5125, 'marvin': 1706, 'easily': 6475, \"i'd\": 165, 'tourist': 5126, 'million': 489, 'buddha': 5129, 'dismissive': 2473, 'eve': 5130, 'disco_stu:': 5131, 'alley': 1707, 'provide': 5133, 'use': 284, \"fryer's\": 5134, 'badge': 5135, 'glass': 313, 'misfire': 5136, 'benjamin': 5137, 'buttons': 1283, 'hands': 493, 'depository': 5139, 'flaming': 494, \"'pu\": 5140, 'gently': 1708, 'rife': 6496, 'election': 1791, 'aiden': 5228, 'betty:': 1330, 'boxcars': 5142, 'fall': 899, 'apart': 4564, 'contented': 5144, 'producers': 5146, 'tons': 5845, 'familiar': 2475, 'of': 15, 'ordered': 1709, \"she'll\": 5148, 'invisible': 5149, 'open-casket': 5150, 'correct': 1331, 'lie': 1286, 'roz': 5152, 'dennis_conroy:': 1332, '_kissingher:': 1843, 'singing/pushing': 3472, 'hiring': 5155, 'purse': 2400, 'amid': 1333, 'jer': 6501, 'burning': 1653, 'begins': 2477, 'strokkur': 5159, 'join': 701, 'loboto-moth': 5160, 'arm-pittish': 5161, 'w': 2478, 'madison': 5162, 'crowned': 5163, 'pretends': 5164, 'flying': 2479, 'lofty': 5166, 'line': 1334, 'grandé': 5167, 'twenty-six': 5168, 'ultimate': 5169, 'saint': 2480, 'kazoo': 4736, 'lost': 323, \"yesterday's\": 5171, 'eye-gouger': 5172, 'compadre': 5173, 'relieved': 2481, 'website': 2482, 'lloyd': 2393, 'sexton': 5175, 'so-called': 2483, 'shakespeare': 2324, 'cake': 2484, 'fourth': 1710, 'tobacky': 5176, 'fancy': 1711, 'husband': 1335, 'meaningfully': 5177, 'whaaaa': 4814, 'inspector': 1712, 'mexican_duffman:': 5179, 'thnord': 5180, 'uses': 4836, 'planted': 5182, 'birth': 5236, 'mean': 181, 'peabody': 5184, \"dog's\": 5185, 'good': 82, 'president': 697, \"wallet's\": 5186, 'booking': 5187, \"how's\": 1073, 'fatso': 5189, 'high': 535, 'unjustly': 5190, 'clown-like': 5191, 'folks': 1336, 'chug-a-lug': 5238, 'set': 925, 'law-abiding': 5193, 'games': 1074, 'die': 455, 'plants': 5194, 'lenny:': 2032, 'pigs': 2844, 'knowing': 1714, 'abolish': 5196, 'mt': 3268, 'sub-monkeys': 5197, 'starving': 5199, 'whatsit': 5200, 'precious': 1337, 'shoot': 1715, 'flush-town': 5858, 'wave': 2486, 'thoughtful': 1401, 'should': 188, 'typing': 5204, 'proves': 5205, 'bon-bons': 5206, 'pepsi': 5207, 'a': 11, 'mine': 1075, 'hangout': 5209, 'engine': 5210, 'eyesore': 2487, 'quimby': 5211, 'gals': 2488, 'anti-crime': 5860, 'daughter': 413, 'holds': 901, 'hell': 314, 'woman': 324, 'clean': 495, 'bronco': 6513, 'station': 5037, 'offa': 4584, 'lotta': 1338, 'unless': 1076, 'whirlybird': 5214, 'barney-type': 5215, 'nuclear': 1041, 'darjeeling': 3272, 'monkey': 2490, 'bloodball': 5217, 'cerebral': 5218, 'mellow': 5219, 'rotten': 5065, 'let': 140, 'neither': 2491, 'grey': 5220, 'pure': 5315, 'lead': 5221, 'fan': 1339, 'eco-fraud': 5222, 'investment': 5223, 'billy_the_kid:': 1077, 'who-o-oa': 1717, 'annoyed': 632, 'ferry': 5224, \"other's\": 2492, 'industry': 2493, 'code': 2494, 'snackie': 6433, 'excuses': 5225, 'obsessive-compulsive': 5226, 'zone': 5227, 'tin': 5141, 'wiggle': 5229, 'frankie': 5230, 'grimly': 2495, 'oh': 31, \"patrick's\": 2496, 'mustard': 5231, 'absentmindedly': 6520, 'still': 189, 'incarcerated': 5233, 'brooklyn': 5234, 'lisa_simpson:': 134, 'backing': 5235, 'desperately': 4590, 'jacks': 6548, 'were': 177, 'dreamy': 5183, 'wiping': 5237, 'gulliver_dark:': 5192, \"workin'\": 1078, 'coat': 1340, 'toxins': 5239, 'knock-up': 5240, \"listenin'\": 5241, 'memory': 2497, 'frozen': 4591, 'left': 435, 'seeing': 1718, 'newspaper': 3925, 'tv_husband:': 999, 'bumbling': 5244, 'seas': 2498, 'believe': 325, 'itself': 6478, 'jeff': 2499, 'air': 633, 'art': 6690, 'beard': 5245, 'stretch': 5246, 'these': 190, 'appropriate': 5247, 'yogurt': 2500, \"drivin'\": 1079, 'perverted': 5248, 'belong': 2501, 'bothered': 5249, 'protesting': 5250, 'hobo': 2502, 'unearth': 5251, 'killing': 5252, 'walther': 5253, 'than': 182, 'uh-huh': 702, 'heals': 5254, 'disillusioned': 5255, 'perfect': 634, 'broken': 5558, 'state': 902, 'takes': 903, 'ambrosia': 2503, 'flayvin': 5257, 'population': 5258, 'speaking': 1080, 'mayor_joe_quimby:': 703, 'crotch': 5259, 'bank': 1081, 'is:': 2504, 'beaumont': 5260, 'achem': 2505, 'sandwich': 2077, 'salt': 2533, \"disrobin'\": 5262, 'hi': 456, 'blown': 2535, 'hostile': 5263, 'may': 635, 'strangles': 5264, 'unforgettable': 5265, 'chow': 5266, 'thorough': 5267, 'appendectomy': 5268, 'menace': 5269, 'tomato': 5270, 'belly': 1719, 'new_health_inspector:': 1392, 'anywhere': 2695, 'worried': 584, 'fierce': 5273, 'blank': 5274, 'sheepish': 1341, 'technical': 5435, 'neanderthal': 5276, 'ehhhhhhhh': 5277, 'terrified': 1720, 'notorious': 5278, 'jerry': 2507, 'he': 76, 'dentist': 5279, 'lindsay': 5280, 'skin': 2508, 'not': 63, 'effect': 5283, 'macaulay': 5284, 'sickened': 5285, 'incognito': 5286, 'espousing': 5287, 'crack': 904, 'script': 5288, 'young_moe:': 2509, 'michelin': 5289, 'voodoo': 5290, 'glad': 793, 'biggest': 1082, 'slit': 5291, 'rounds': 2510, \"'til\": 1721, 'wells': 5292, 'fireball': 1722, 'frosty': 2511, 'stamp': 5294, 'free': 393, 'mike_mills:': 5295, 'must': 371, 'attack': 2356, 'keys': 585, 'lousy': 636, 'continuing': 2512, 'beef': 5297, 'fish': 1083, 'toe': 5298, 'crayola': 5299, 'scare': 2513, 'gargoyles': 5300, 'chapter': 5301, \"ridin'\": 1765, 'stagey': 4849, 'puke-holes': 5304, 'one-hour': 5305, 'surprise': 2514, 'tsk': 637, 'scratching': 5306, 'pickled': 1342, 'stripe': 5307, 'looks': 239, 'unsanitary': 5308, 'terrace': 5309, 'person': 638, 'compliments': 2515, 'going': 183, 'brilliant': 1084, 'seductive': 6535, 'lanes': 5310, 'exited': 5311, 'alright': 805, \"liftin'\": 5312, 'doors': 1872, 'year': 646, 'hurting': 5314, 'share': 1892, 'form': 1723, 'earlier': 5316, 'stalking': 5317, 'products': 2517, 'say': 115, 'cop': 1085, 'growing': 5318, 'enveloped': 5319, 'heaven': 952, 'focus': 1724, 'ironed': 2607, 'layer': 5322, 'oddest': 5323, 'society': 5324, 'disappointed': 1110, 'nick': 3131, 'bret:': 1725, 'cocoa': 5327, 'justice': 2518, 'halloween': 5328, \"hasn't\": 2519, 'culkin': 5329, 'punch': 1086, 'imagine': 1726, 'housing': 5330, 'sweet': 249, 'sat': 2520, 'vestigial': 5332, 'size': 1727, 'palmerston': 1728, 'difference': 5333, 'connor-politan': 5334, 'ze-ro': 5335, 'clapping': 5336, 'dinks': 5839, 'mostly': 5337, 'stage': 5338, 'kahlua': 5339, 'unusual': 6678, 'man_at_bar:': 5340, 'christmas': 704, 'lay': 5341, 'lied': 5342, 'insist': 5343, 'tuborg': 4173, 'bugs': 4466, 'unlike': 1729, \"father's\": 2522, 'environment': 5881, 'sea': 2523, \"show's\": 5346, 'raking': 5347, 'mmm': 2524, 'trench': 2525, 'modern': 1730, 'zack': 5348, 'hooky': 5349, 'maintenance': 5350, 'cover': 1344, 'next': 315, \"cuckold's\": 5351, 'fool': 1731, 'we': 57, 'doll': 2527, 'bash': 2528, 'general': 1732, 'scornful': 5352, 'nfl_narrator:': 5353, 'dice': 5354, 'guinea': 5355, 'bathtub': 5356, 'music': 905, 'taxes': 5357, 'chorus:': 3297, 'linda': 2530, 'three': 214, 'fork': 1733, 'haikus': 5358, 'breakdown': 5359, 'seen': 303, 'sympathetic': 2834, 'new': 166, 'bowie': 5360, 'cowboy': 5361, 'happy': 275, \"betsy'll\": 4815, 'dance': 795, 'renders': 5362, \"they'd\": 1734, 'bluff': 5363, 'overhearing': 5364, 'eww': 5366, 'shutup': 3956, 'saving': 5368, 'matter-of-fact': 2696, 'six': 536, 'butt': 640, 'ecru': 5370, 'clear': 1088, 'vanities': 3301, 'slip': 1813, 'dumbest': 5373, \"you've\": 191, 'forty-seven': 5375, 'heave-ho': 5376, \"wasn't\": 537, 'therefore': 2706, 'delightfully': 5377, 'darts': 1735, 'tapered': 5378, 'gheet': 5379, 'mansions': 5887, 'rainier': 5261, 'night': 200, 'omigod': 906, 'forgot': 907, \"bladder's\": 5381, 'carl:': 2721, 'pinchpenny': 5382, 'lurleen_lumpkin:': 2534, 'leaving': 5383, 'steaming': 6589, 'some': 90, 'jackass': 5384, 'marriage': 641, 'bites': 3523, 'offensive': 5386, \"wife's\": 1736, '|left_parentheses|': 3, 'fringe': 5387, \"moe's\": 178, 'evils': 5388, 'freak': 2506, 'clock': 2536, 'tax': 2537, 'polenta': 4634, 'regretted': 5390, 'odd': 1737, 'alcoholic': 2538, \"doctor's\": 5391, 'alcohol': 496, 'wienerschnitzel': 5392, 'minister': 2539, 'housework': 5393, 'king': 705, 'nascar': 5394, 'castle': 1408, 'soaked': 5396, 'collateral': 6748, 'completely': 5331, 'promise': 5398, 'coward': 2540, 'hawking:': 2541, 'dutch': 5399, 'intense': 2542, \"scammin'\": 5400, 'saucy': 5401, 'closed': 1089, 'goods': 2543, 'advance': 2544, 'wine': 1090, 'tavern': 343, 'pit': 1346, \"enjoyin'\": 6546, 'scum': 1738, 'avalanche': 5403, 'x': 1091, 'showed': 5404, \"team's\": 2660, 'lisa': 285, 'daaaaad': 5406, 'then:': 1739, 'regulations': 5407, 'name:': 5408, 'eu': 5409, 'fix': 1347, 'repressed': 5410, 'upsetting': 5411, \"kiddin'\": 742, 'message': 2545, 'reactions': 5413, 'kadlubowski': 6255, 'agent_miller:': 5414, 'professor': 2817, 'ken:': 1348, 'breaking': 1740, 'country': 5416, 'latin': 2546, \"they're\": 255, 'wood': 5418, 'jebediah': 2547, 'well': 50, 'plane': 5419, 'kings': 5272, 'plan': 887, 'touches': 5421, 'mechanical': 1741, 'flea:': 5422, \"singin'\": 5423, 'dramatic': 1350, \"y'see\": 5424, 'sobs': 262, 'own': 437, 'bee': 1092, 'fence': 5426, 'triumphantly': 5427, 'ever': 152, 'testing': 1093, 'singer': 5428, 'playoff': 5429, \"speakin'\": 5430, 'hunky': 5431, 'straight': 598, \"sayin'\": 948, 'bar:': 5432, 'list': 1743, 'smiled': 5433, 'screws': 5434, 'neck': 1351, 'greatly': 5275, 'life:': 5436, 'sweater': 5437, 'chief': 399, 'indeed': 3188, 'leans': 1744, 'door': 527, \"neat's-foot\": 5439, 'carll': 2549, 'grope': 5440, 'stunned': 1154, 'flew': 5441, 'always': 286, 'bowl': 642, 'dollface': 5442, 'politics': 2550, 'hollowed-out': 5665, 'hop': 2551, 'low-blow': 6662, 'death': 1746, 'shoes': 5443, 'worldly': 5444, 'thighs': 2552, 'videotaped': 5470, 'movement': 5445, 'boxer': 2665, 'roy': 5447, 'clips': 5448, 'mm': 2554, 'lenford': 5449, 'estranged': 5450, 'whoopi': 5451, 'meyerhof': 5452, 'winks': 6536, 'bill_james:': 5453, 'warning': 3621, \"here's\": 304, 'fustigate': 5454, 'continued': 5455, 'whatcha': 1747, 'hug': 1748, 'sagely': 5456, 'around': 192, 'f-l-a-n-r-d-s': 5457, 'dennis': 5458, \"makin'\": 797, '1979': 5459, \"g'night\": 5460, 'injury': 5896, 'small': 479, 'reasons': 2555, 'suit': 1095, 'grace': 5462, 'krusty': 497, 'outta': 326, 'compared': 2557, 'kucinich': 5464, 'brown': 5465, 'pretzels': 5466, 'badmouth': 5467, 'casting': 5468, 'which': 297, 'confused': 1096, 'sink': 5469, 'totally': 1097, 'news': 798, 'whip': 643, 'dee-fense': 2038, 'joke': 2868, 'mommy': 5471, 'unlucky': 1750, 'barflies': 662, 'talk-sings': 1751, 'poking': 2558, 'strategy': 2874, 'bounced': 5473, 'enjoys': 5474, 'j': 5475, 'temp': 5476, 'service': 1098, 'sunglasses': 5188, 'diapers': 5477, 'potatoes': 5478, 'swill': 2865, 'poin-dexterous': 5904, 'super-tough': 4346, 'eleven': 1354, \"wouldn't\": 372, 'isotopes': 1099, 'ails': 6562, 'penny': 2891, 'infor': 5482, 'soon': 644, 'rapidly': 2898, 'happily': 1755, 'staying': 1756, 'eighteen': 5483, 'uncle': 910, 'hardhat': 5484, 'listened': 5485, 'szyslak': 911, 'sticking': 5531, 'militia': 5486, 'baseball': 912, 'inside': 799, 'occurs': 5487, 'edna_krabappel-flanders:': 1100, 'picture': 706, 'presents': 5866, 'examines': 5488, \"professor's\": 5489, 'coaster': 1101, 'carnival': 5490, 'repeating': 5491, 'doy': 5492, 'scully': 2559, 'each': 539, 'squadron': 5493, 'sec': 1757, 'noosey': 5494, 'inches': 5495, 'crunch': 4592, 'necessary': 6153, 'terminated': 3315, 'whoever': 5497, 'pretzel': 5498, 'kramer': 2561, 'hustle': 5499, 'without:': 5500, 'running': 968, 'charming': 3021, 'cheese': 1937, 'chapel': 5504, \"thing's\": 5505, 'dean': 4646, 'keep': 270, 'refreshing': 5507, 'stewart': 5508, 'reaction': 5509, 'correcting': 2563, 'rods': 5510, 'aisle': 5511, 'higher': 1758, 'dropped': 2564, 'wiggum': 555, 'seem': 1355, 'committee': 5513, 'dunno': 913, 'support': 5514, 'asking': 2728, 'fans': 1894, 'bones': 5022, 'comfortable': 1471, 'led': 5519, 'intelligent': 5520, 'items': 2952, 'everywhere': 5522, 'rage': 2565, 'manchego': 5523, \"valentine's\": 1428, \"comin'\": 361, 'margarita': 2191, 'aghast': 5525, 'signal': 5526, 'nonsense': 5527, 'moe-clone': 6674, 'nature': 5528, 'ruuuule': 5529, 'abcs': 5530, 'springfield': 250, 'liver': 1356, 'breath': 1191, 'crying': 2567, 'arrested:': 5156, 'invented': 914, 'able': 1357, 'golf': 1973, 'wonderful': 1102, 'heading': 2117, 'victim': 5534, 'selma': 1103, 'inflated': 2670, 'stones': 3202, 'refinanced': 6445, 'ronstadt': 5536, 'my': 16, 'lots': 1664, 'crummy': 1760, 'barflies:': 498, 'unbelievably': 5538, 'ummmmmmmmm': 5539, 'ollie': 2671, 'cliff': 6658, 'feminist': 3220, 'parenting': 3223, \"grandmother's\": 5543, \"usin'\": 3228, 'pays': 1762, 'gunter': 5544, 'pep': 5545, 'ahead': 1358, 'poetry': 5546, 'idealistic': 5547, 'sec_agent_#2:': 2568, 'site': 3585, 'weight': 5549, 'flophouse': 5550, 'poker': 2569, 'homeless': 5551, 'pour': 800, 'meeting': 1359, 'irrelevant': 3264, 'become': 1763, 'stuck': 2570, 'naegle': 5552, 'though': 801, 'fire': 500, 'anyhow': 5554, 'tears': 1764, 'instantly': 5556, 'reopen': 5557, 'average': 3288, 'occurred': 5559, 'juice': 2571, 'misconstrue': 5560, 'intention': 5561, 'novel': 3216, 'andalay': 2572, 'boozehound': 4657, 'oh-ho': 5563, 'barstools': 5564, 'bucket': 2574, 'half-day': 5565, 'pictured': 3026, 'clench': 5566, 'mushy': 5302, 'corn': 3361, '_eugene_blatz:': 5568, 'cesss': 3370, 'attractive_woman_#1:': 5569, 'hotel': 5570, 'living': 5571, 'smokes': 5303, 'panties': 5573, 'extra': 1766, 'guard': 3981, 'ho-la': 3409, 'name': 201, 'rafter': 5575, '|semicolon|': 802, 'sistine': 5576, 'late': 645, 'forty': 1361, 'bashir': 2037, 'cab_driver:': 5919, 'peace': 1767, 'confident': 2577, 'executive': 5578, 'between': 2042, 'bathed': 5580, 'apulina': 5581, 'push': 1768, \"'tis\": 2578, 'hideous': 5582, 'mop': 2579, 'fry': 5583, '1-800-555-hugs': 6284, 'letter': 707, 'cherry': 5584, 'poured': 5585, 'eva': 5586, 'beats': 2581, 'thrown': 5587, \"swishifyin'\": 3499, 'lennyy': 5589, 'sequel': 5590, 'oughta': 3502, 'without': 482, 'word': 803, 'dory': 5593, 'tempting': 5594, 'starting': 1769, 'agent_johnson:': 2059, 'sidelines': 5596, 'squeals': 5597, 'crowds': 4204, 'you-need-man': 5599, 'jerk-ass': 4359, 'dry': 751, 'thought_bubble_homer:': 2583, \"wino's\": 5600, 'conversion': 3522, 'donate': 5602, 'completing': 2584, 'billingsley': 5555, 'went': 428, 'crimes': 5604, 'fudd': 2585, 'channel': 804, 'knife': 2379, 'salary': 5605, 'weather': 5606, 'gifts': 2586, 'widow': 5607, 'greedy': 2587, 'greetings': 2137, 'trivia': 3329, 'patterns': 2588, 'synthesize': 5609, 'hangs': 2589, 'kenny': 5610, 'eating': 915, 'unfortunately': 2590, 'war': 587, 'supposed': 916, 'against': 1052, 'utility': 2591, 'encores': 3109, 'plotz': 5613, 'although': 2592, 'loaded': 1362, 'happily:': 5614, 'and/or': 5615, 'bake': 3657, 'alter': 5617, 'afternoon': 1771, 'rap': 2593, 'illustrates': 5618, 'fonda': 6068, 'fad': 3670, 'phlegm': 5620, 'othello': 4665, 'enemies': 1772, 'agh': 5621, 'braun:': 5622, 'holding': 917, 'glitz': 6685, 'burp': 1363, 'ugliness': 5623, 'awe': 2595, 'matter': 327, 'courts': 3706, \"takin'\": 2596, 'paints': 6461, 'source': 1773, 'occupancy': 5625, 'terrifying': 5626, 'football': 5627, 'irish': 2597, 'coyly': 5729, 'again': 224, 'dum-dum': 5628, 'rector': 5629, 'sickly': 5630, 'worthless': 3756, 'blur': 5632, 'twelveball': 5633, 'pond': 2598, 'pilsner-pusher': 5595, 'chilly': 2516, 'handle': 2599, 'us': 150, 'shores': 5636, 'reminded': 5637, \"'cause\": 215, 'waist': 5638, 'hardy': 5639, 'remembering': 2600, \"'im\": 2601, 'know': 64, 'divine': 5640, 'chastity': 5313, 'third': 1143, 'needs': 1003, 'bush': 2602, 'meant': 1578, \"tree's\": 5643, \"tryin'\": 1106, 'david_byrne:': 1365, 'wish-meat': 5644, 'procedure': 1366, 'horribilis': 5645, 'doppler': 5646, 'smooth': 1237, 'male_inspector:': 2603, 'onion': 5648, 'meet': 540, 'character': 1433, 'nothing': 708, 'follow': 1367, 'selfish': 5650, 'county': 5651, 'girl-bart': 6389, 'nectar': 3253, 'hooch': 5652, 'very': 228, 'robin': 5653, 'coin': 3902, 'complete': 1774, 'hafta': 5655, 'straighten': 5656, \"doin'\": 356, 'but': 40, 'bag': 919, 'teacup': 5657, 'nevada': 5658, 'donated': 5659, 'and-and': 6597, 'fella': 5661, 'fbi_agent:': 5662, 'shoo': 2813, 'jukebox': 920, 'case': 1368, 'starters': 5664, 'self-satisfied': 3961, 'wishing': 5666, 'barely': 2604, 'specialists': 5668, 'bleacher': 5669, 'sticking-place': 4884, 'parrot': 5671, 'stats': 5672, 'audience': 5673, 'officials': 5932, 'prejudice': 6550, 'wha': 1107, 'combines': 5674, 'horns': 5675, 'cannoli': 5676, 'sacrilicious': 6566, 'junkyard': 5677, 'minute': 277, 'failed': 2208, 'thanks': 216, 'mike': 1108, 'distance': 5611, 'advertising': 5678, 'had': 141, 'kidney': 2605, 'managing': 2606, 'youth': 5679, 'beer-jerks': 5680, 'limits': 5935, 'schorr': 5682, 'quitcher': 5683, 'businessman_#2:': 5321, 'flanders:': 5684, 'predecessor': 5685, 'play': 251, 'carl': 298, 'clientele': 1775, 'coherent': 5686, 'suds': 2842, 'instrument': 5688, 'archaeologist': 5689, 'awake': 5690, 'mistake': 1776, 'porn': 2609, 'police': 647, 'vote': 2610, 'sound': 394, 'supreme': 5691, 'glitterati': 5692, 'automobiles': 5693, 'family': 341, 'dime': 5694, 'chair': 6326, 'someday': 2612, 'appreciated': 5695, 'corporate': 2613, 'planning': 2614, 'hospital': 1109, 'scornfully': 4140, 'squad': 5696, 'playhouse': 5697, 'boat': 1370, 'rockers': 5698, 'movie': 1111, 'finale': 5699, 'relative': 5700, 'poke': 5701, 'jernt': 5702, 'bedbugs': 2615, 'witches': 5703, \"tootin'\": 5704, 'schabadoo': 5705, 'stomach': 5745, 'literature': 1597, 'gayer': 5707, 'barn': 709, 'sniffs': 1777, 'nickels': 1925, 'told': 457, 'fainted': 5709, 'kim_basinger:': 5710, 'shrugging': 2270, 'ticket': 710, 'best': 229, 'top': 807, 'luxury': 6603, 'mediterranean': 5712, 'machine': 588, 'packets': 5713, 'ladies': 458, 'youse': 711, \"springfield's\": 2617, 'super-nice': 5714, \"should've\": 4261, 'declare': 3203, 'material': 5942, 'grunts': 1779, 'try': 388, 'drawing': 2618, \"watchin'\": 1371, 'upbeat': 1372, 'highest': 5719, 'rest': 1112, 'spoken': 1780, \"edna's\": 5720, 'writing': 1113, 'wing': 2678, 'get': 56, 'carpet': 5553, 'obama': 5723, 'career': 1373, 'jay:': 5724, 'proper': 6607, 'carey': 5725, 'strap': 1114, 'novelty': 5726, 'civil': 5727, 'ore': 5572, 'judge': 2845, 'churchill': 2679, 'bird': 2390, 'tremendous': 5728, 'dark': 4009, 'neighbors': 5730, 'op': 5731, '_hooper:': 1115, 'quick': 921, 'wally': 5732, 'befouled': 2314, 'bloodiest': 5446, 'might': 265, 'drawer': 5733, \"people's\": 5734, 'the_edge:': 4428, 'jägermeister': 6084, 'p': 1035, 'choice:': 5738, 'drawn': 5739, 'edelbrock': 5740, 'fondest': 5741, 'cattle': 5743, 'newly-published': 5744, 'have': 47, 'lazy': 2053, 'impending': 5243, 'rat-like': 5746, 'fixed': 2623, 'background': 5747, 'represent': 1116, 'camera': 459, 'bugging': 2332, 'boys': 712, 'knocked': 1782, \"can't\": 91, 'spied': 2335, 'santeria': 5749, 'bourbon': 2625, 'eyeing': 5750, \"spaghetti-o's\": 5948, \"bartender's\": 2626, 'putting': 2339, 'yourselves': 2627, 'wrong': 357, 'quiet': 589, 'fox': 2628, 'teenage_barney:': 1374, 'helpful': 5753, 'sealed': 3984, 'this:': 5755, 'stuff': 418, 'religion': 1646, 'realizing': 586, 'voters': 6204, 'ireland': 5758, 'thing:': 5759, 'defiantly': 4565, 'hated': 1117, 'barter': 5761, 'cheaper': 5762, 'confidential': 4132, 'ron_howard:': 5764, 'taylor': 5765, 'basement': 5767, 'throat': 590, 'dealie': 5768, \"homer's_brain:\": 2629, 'unison': 1783, 'rolls': 5769, 'pen': 5770, 'choke': 5771, 'father': 1376, 'tubman': 5772, 'little': 88, \"jackpot's\": 5773, 'arguing': 5774, 'nibble': 4019, \"gettin'\": 591, 'hook': 5775, 'butterball': 5776, \"tatum'll\": 5777, 'dad': 252, 'scared': 808, 'rascals': 5778, '100': 2774, 'drunk': 217, 'waterfront': 5779, 'somehow': 2631, 'shreda': 5780, 'admit': 922, 'pointing': 1784, 'wieners': 5781, 'pool': 1118, 'hundred': 301, 'faulkner': 4732, 'adventure': 5783, 'smitty:': 5784, 'philip': 5785, \"feelin's\": 3951, 'lovejoy': 5787, 'dignified': 5788, 'past': 1785, 'honor': 2391, 'grub': 3365, 'behavior': 5790, 'answers': 2392, \"cont'd:\": 5792, 'energy': 2633, \"fun's\": 5793, 'sponge:': 5794, 'keeps': 1377, 'affectations': 5795, 'hooray': 6772, 'ago': 1119, 'cartoons': 6681, 'pantry': 5796, 'stiffening': 5797, 'talkative': 5642, 'la': 809, 'homer_simpson:': 12, 'approval': 5798, 'obese': 5799, 'conversations': 5800, 'prefer': 2634, 'wayne:': 1786, 'giggles': 2635, 'addiction': 5801, 'eyeball': 2636, 'democrats': 5802, 'swimmers': 5803, 'anti-intellectualism': 5804, 'danish': 2637, 'stepped': 5806, 'medicine': 2638, 'ride': 1378, 'please': 202, 'food': 810, 'gas': 1379, 'taking': 713, 'civilization': 2639, 'equal': 5807, 'way': 157, 'aged': 4900, 'upgrade': 5808, 'babies': 1248, 'rough': 1787, 'boxing': 714, 'fumigated': 3102, 'dirge-like': 5810, 'stagy': 1380, 'upon': 1789, 'percent': 2640, 'woe:': 5811, 'present': 2641, 'quite': 1381, 'grocery': 5812, 'is': 22, 'pepto-bismol': 5813, 'capuchin': 5814, 'number': 817, 'sneering': 5816, 'ditched': 5817, 'faces': 5818, 'crowd': 1790, 'nachos': 5819, 'trunk': 5820, 'mad': 503, 'whee': 1434, 'i-i-i': 2642, 'shells': 5198, 'cannot': 1693, 'securities': 2643, 'frankenstein': 5824, 'pulls': 1382, 'lily-pond': 5344, 'oak': 5009, 'mac-who': 5345, 'splendid': 5827, 'chipper': 5828, 'windex': 2644, 'issuing': 5829, 'fourteen:': 3045, 'gasp': 488, 'dallas': 1120, 'mines': 4029, 'slyly': 2646, 'rainier_wolfcastle:': 2461, 'smell': 715, 'mags': 5830, 'stock': 1383, 'uh': 59, 'lives': 924, 'ambrose': 5831, 'glove': 811, 'resigned': 5832, 'administration': 5833, 'dreamed': 2648, 'surgeonnn': 5834, 'heck': 5098, 'uhhhh': 5836, 'flat': 5837, 'bonfire': 5112, 'island': 1384, 'cajun': 5116, 'guilt': 5840, \"i'm\": 24, 'moon': 5841, 'associate': 5842, 'undated': 5127, 'wheels': 5843, 'muttering': 2474, 'moe-heads': 5844, 'fiiiiile': 5964, 'princess': 900, 'enforced': 6609, 'believer': 5846, 'poulet': 5847, \"how'd\": 716, 'handoff': 5848, 'limited': 5849, 'roller': 5165, 'pocket': 1792, 'suru': 5850, 'cuff': 5851, 'andy': 1793, 'lump': 4712, 'pizzicato': 5853, 'car:': 5854, 'rice': 5855, 'cough': 1713, 'shooting': 2650, 'shock': 2683, 'pointed': 1385, 'life-sized': 5856, 'adrift': 5857, 'option': 5201, 'disposal': 5859, 'felony': 5212, 'conditioning': 5861, 'at': 67, 'saying': 812, 'done:': 5862, 'finger': 1386, 'blind': 5863, 'larry': 5864, 'ling': 5865, 'raggie': 4941, 'bachelorette': 5867, 'menacing': 5868, 'pre-recorded': 5869, 'murmur': 2653, 'jailbird': 2654, 'nelson_muntz:': 6382, 'hunter': 1795, 'eyed': 5870, 'life': 179, 'email': 5871, 'jelly': 5872, 'ancestors': 5873, 'grains': 5874, 'gin': 1387, \"rentin'\": 5875, 'complaint': 2655, 'little_hibbert_girl:': 5876, \"blowin'\": 5877, 'started': 1388, 'hoax': 5878, \"money's\": 2656, 'kick-ass': 5879, 'jerk': 1404, 'plywood': 2657, 'man:': 1087, 'issues': 5882, \"renee's\": 6458, \"rasputin's\": 5883, \"time's\": 5884, 'declan_desmond:': 1389, 'chug': 1122, 'joey': 926, 'shaker': 5885, 'danny': 5886, 'owns': 5023, 'celeste': 5888, 'pats': 1797, \"'topes\": 2658, 'network': 5889, 'later': 717, 'spread': 2659, 'george': 5972, 'norway': 5405, 'quality': 2661, 'glen': 1798, 'stored': 3384, 'strictly': 5890, 'handing': 2663, 'floated': 2664, 'quietly': 1123, 'scarf': 5891, 'raising': 1799, 'nursemaid': 5892, 'savagely': 5893, 'mail': 2553, 'mccall': 6352, 'pressure': 2666, 'atari': 5895, 'my-y-y-y-y-y': 6499, 'ad': 1094, 'rope': 1124, 'ninth': 4278, 'belts': 5898, 'gin-slingers': 5899, 'faint': 5900, 'been': 106, 'afloat': 5901, 'hawaii': 5902, 'future': 1752, 'innocence': 5479, 'button-pusher': 5905, 'ceremony': 5906, 'o': 813, 'square': 2667, 'a-b-': 5907, 'sustain': 5908, 'dearest': 2668, 'celebrity': 2024, 'deli': 4452, 'rid': 1800, 'transfer': 5910, 'heard': 460, 'oblivious': 5911, 'thing': 133, 'awkward': 1419, 'stumble': 3107, 'eats': 5912, 'normal': 927, 'radiator': 5914, 'birthplace': 5916, 'treats': 5917, 'richard:': 5918, 'yes': 231, 'pus-bucket': 5577, 'system': 1801, 'cash': 504, 'k': 1803, 'start': 592, 'electronic': 2672, 'cock': 3394, 'wheeeee': 5920, 'sam:': 5921, 'worked': 1804, 'sausage': 2673, 'emporium': 5922, 'wondered': 6158, 'ground': 1599, 'moxie': 6409, 'aging': 2674, 'lucinda': 5924, 'reluctant': 5925, 'into': 122, 'tell': 142, 'planned': 5926, 'bastard': 2675, 'facebook': 5927, 'steamed': 5928, 'fatty': 5929, 'reed': 5930, 'male_singers:': 5931, 'drug': 1390, 'bartholomé:': 5667, 'pants': 415, 'errrrrrr': 5934, \"must've\": 5681, 'gol-dangit': 5936, 'rebuilt': 5977, 'man_with_crazy_beard:': 5937, 'all-star': 2677, 'gotten': 1391, 'steel': 2556, \"haven't\": 542, 'bits': 5939, 'sponsoring': 5940, 'paintings': 5978, 'chuckle': 287, 'grammy': 5941, 'yammering': 5718, 'moesy': 5717, \"pressure's\": 6653, '21': 4635, 'build': 3768, 'bowled': 5944, 'snap': 2620, 'live': 593, 'seymour': 541, 'bets': 2526, 'life-extension': 5945, 'duff_announcer:': 5946, 'canyoner-oooo': 5947, \"stayin'\": 5751, 'other_player:': 5949, 'alva': 5950, 'snide': 5951, \"tony's\": 5952, 'wikipedia': 5953, \"bettin'\": 5954, 'pity': 1125, 'date': 505, \"depressin'\": 5025, 'space': 2680, 'hidden': 5956, 'boyfriend': 2681, 'happiness': 3143, 'whale': 5958, 'motto': 5959, 'seems': 814, 'offended': 1126, 'age': 1806, 'smells': 928, 'test': 1393, \"askin'\": 5960, 'delicious': 1807, 'street': 815, 'gator:': 2532, 'ha-ha': 2682, 'theory': 6655, 'offense': 5962, 'moments': 1808, 'attach': 5963, 'leave': 416, 'warily': 2651, 'raise': 2684, 'belt': 2685, 'boy': 210, 'no': 32, 'moe-ron': 5966, 'tie': 2686, \"dolph's_dad:\": 5967, 'produce': 5968, 'introduce': 5969, 'violin': 2687, 'doug:': 2688, 'slays': 5970, 'helllp': 2689, 'sat-is-fac-tion': 5971, 'payday': 4226, 'key': 5973, \"goin'\": 359, 'upset': 543, 'iran': 5974, 'canoodling': 5975, 'u2:': 5976, 'filthy': 1127, 'impressed': 930, 'assistant': 2690, 'watered-down': 2676, 'fellow': 995, 'lloyd:': 1128, 'beanbag': 5979, 'contemplated': 5980, 'twenty-two': 1482, 'butter': 5982, 'tale': 2691, 'charlie': 2692, 'sixty-five': 5983, 'hose': 5984, 'thoughtless': 5985, 'orgasmville': 5986, 'though:': 5987, 'brother-in-law': 5463, 'dregs': 5989, 'crippling': 5990, 'diaper': 5992, 'honest': 931, 'italian': 5993, 'snitch': 5994, 'older': 5995, 'screw': 816, 'decision': 5996, 'ruined': 1394, 'traitors': 5998, 'talked': 2693, 'sense': 1395, \"mopin'\": 5999, 'showered': 6000, 'designated': 1129, 'pian-ee': 2882, 'audience:': 3521, 'vigilante': 6003, 'club': 1130, 'application': 6004, 'chuck': 6005, 'signed': 6007, 'tummies': 6008, 'stares': 6009, 'drunkenly': 5420, 'van': 6011, 'ahhhh': 6012, 'easter': 6013, 'proposing': 2811, 'conditioners': 6015, 'badly': 6016, 'friendly': 818, 'thesaurus': 2694, \"it's\": 49, 'dae': 6017, 'field': 1396, 'inning': 6018, 'pal': 438, 'charged': 5369, 'irs': 5213, 'empty': 1138, 'favorite': 819, 'design': 5909, 'round': 820, 'thirty': 932, 'traffic': 1802, 'jasper_beardly:': 6020, 'chinese_restaurateur:': 6021, 'navy': 6022, \"foolin'\": 6023, 'school': 461, 'pair': 6024, 'thirty-five': 6025, 'position': 6026, 'aside': 1809, 'wishful': 6027, 'community': 6028, 'granted': 2697, 'bigger': 2737, 'knit': 6114, 'generously': 6029, 'bulldozing': 6030, 'colossal': 6031, 'campaign': 1811, 'kept': 1812, 'shuts': 6032, 'hmmmm': 6033, 'heartless': 6034, 'gags': 6206, 'bump': 2616, 'prints': 6035, 'short': 1132, 'maya': 2699, 'western': 6036, 'suburban': 6037, 'w-a-3-q-i-zed': 6038, 'became': 918, 'stagehand:': 5372, \"drinkin'\": 544, 'tester': 2700, 'waitress': 6040, 'hate-hugs': 6041, 'strong': 933, 'wraps': 6042, 'affects': 4467, 'fight': 480, 'underbridge': 2759, 'th': 6045, 'mason': 6667, 'grampa': 821, 'faiths': 6047, 'specific': 6048, 'soothing': 6049, 'rosey': 6668, 'coined': 6051, 'television': 6052, 'rump': 6053, 'summer': 1814, 'has': 180, 'booth': 6054, 'pissed': 1815, 'permanent': 6055, 'betcha': 6056, 'whatever': 594, 'depending': 6057, 'dumptruck': 6058, 'feminine': 6059, 'gone': 502, 'railroad': 2701, 'borrow': 2702, \"bar's\": 2703, 'nonchalant': 6060, 'winston': 6061, 'skinny': 6062, 'pulling': 2704, 'jewelry': 6063, 'baritone': 2371, 'düffenbraus': 6065, 'load': 6066, 'ragtime': 2705, 'legal': 6067, 'vacation': 2785, 'knuckle-dragging': 6006, 'fifteen': 1345, 'nigeria': 2707, 'remaining': 4872, 'tender': 6071, 'fraud': 1788, 'snotball': 6010, 'heavyweight': 1398, 'stood': 6072, 'barbara': 6673, 'man_with_tree_hat:': 6074, 'gardens': 6075, \"tester's\": 2708, 'drunks': 1816, 'understand': 1399, 'toms': 3141, 'closer': 1817, 'sentimonies': 6077, 'milks': 4968, 'pronounce': 6078, 'then': 92, 'u': 1400, 'tornado': 6079, \"they'll\": 1818, 'sells': 6080, 'alfalfa': 2710, 'learn': 595, 'shorter': 6081, \"shan't\": 2711, 'want': 102, 'seemed': 2712, 'considering': 2818, \"spiffin'\": 6083, 'vengeance': 5943, \"raggin'\": 6085, 'lobster-politans': 6086, 'appreciate': 6087, \"homer's\": 344, 'fat-free': 6088, 'accepting': 6089, 'dishonor': 6090, \"bringin'\": 6091, 'heh-heh': 6092, 'part-time': 6093, 'relationship': 2035, 'chili': 6094, 'sketching': 6095, 'cakes': 6691, 'goo': 6096, 'toasting': 1819, 'troy:': 1633, \"breakin'\": 6098, 'during': 1160, 'infiltrate': 5938, 'till': 462, 'it': 17, 'hello': 218, 'windshield': 6101, 'scrutinizes': 6102, 'gotta': 118, 'love-matic': 2715, 'preparation': 6103, 'blokes': 4237, \"tellin'\": 1134, 'monkeyshines': 4757, 'naturally': 2716, 'tow-talitarian': 3427, 'graveyard': 6677, 'states': 6105, 'thousands': 6106, 'win': 463, 'não': 6107, 'wash': 2841, 'sloppy': 6314, 'looting': 6109, 'mailbox': 6110, 'ads': 6111, 'gus': 5365, 'shakes': 6112, 'reentering': 6113, 'what': 34, 'grow': 1550, 'assert': 6116, 'stops': 6117, 'frazier': 6118, 'chunk': 6119, 'boggs': 6120, 'one': 60, 'daddy': 1135, 'onions': 2719, \"robbin'\": 1820, 'cure': 6335, 'stooges': 6122, 'plastered': 6123, 'albeit': 6124, 'neighborhood': 4157, 'secret': 414, 'roz:': 2867, 'cares': 1402, 'tab': 688, 'exception:': 6126, 'color': 2722, 'lurks': 6127, 'legally': 4326, 'reporter': 6129, 'whaddaya': 1403, 'reads': 1821, 'foot': 1822, 'gumbo': 4339, 'together': 822, 'teen': 6679, 'wiener': 1823, 'frankly': 1824, \"weren't\": 2723, \"that'll\": 936, 'lear': 6131, 'debonair': 6132, 'twenty': 506, '35': 6133, 'welcome': 823, \"i'unno\": 6134, 'pipe': 1136, 'duh': 1137, \"drexel's\": 6136, 'unsourced': 6137, 'eighty-five': 6138, 'excuse': 419, 'carney': 6680, 'land': 6140, 'jaegermeister': 6141, 'including': 6142, 'kills': 6019, 'fulla': 6143, 'gag': 1825, 'players': 6144, 'clammy': 6145, 'causes': 6146, 'banquet': 6155, 'tickets': 6148, 'burt_reynolds:': 6149, 'nail': 2999, 'can': 65, 'possibly': 2725, 'funds': 2726, 'serum': 6151, 'turlet': 6152, 'fact': 1826, 'belches': 1360, 'sitting': 824, 'sweden': 6154, 'hems': 3027, 'experiments': 6156, 'casual': 1460, \"smokin'_joe_frazier:\": 1139, 'legs': 1182, 'capitalists': 3049, 'irishman': 6159, 'taste': 6160, 'dejected_barfly:': 6161, 'helped': 2727, 'colorado': 3379, 'crumble': 2729, 'sharing': 6162, \"monroe's\": 1941, 'blissful': 5389, 'gay': 1140, 'gun': 2731, 'ointment': 6165, 'riding': 2732, 'tenor:': 2733, 'banquo': 2734, 'grind': 4393, 'understood:': 6167, 'spit-backs': 6168, 'profiling': 6169, 'johnny_carson:': 4085, 'regulars': 1961, 'distinct': 6171, 'virile': 6172, 'drinking:': 6173, 'relaxing': 5735, 'already': 523, 'pub': 1405, 'cheery': 2735, 'eurotrash': 6175, \"smackin'\": 6176, 'sanctuary': 6177, \"duff's\": 6178, 'reptile': 6179, 'does': 232, 'involved': 2736, 'workers': 1829, \"today's\": 1406, 'children': 1141, 'also': 974, 'har': 1830, 'jacques:': 507, 'burns': 373, 'picked': 6181, 'dea-d-d-dead': 3196, 'lying': 938, 'just': 38, 'shoulders': 6183, 'learned': 649, 'rainforest': 6184, 'comeback': 6185, 'cooler': 2738, 'dazed': 6186, 'restaurants': 2739, 'whatchacallit': 6187, 'cutie': 2740, 'moonnnnnnnn': 6188, 'correction': 6189, 'liability': 6190, 'image': 1831, 'crowbar': 6191, 'perplexed': 6192, 'breathtaking': 6193, 'enough': 374, \"dad's\": 1407, 'noose': 6194, \"can't-believe-how-bald-he-is\": 6195, 'handshake': 5395, 'escort': 6196, 'thomas': 6197, \"'n'\": 6733, 'road': 1409, \"drawin'\": 2741, 'jets': 2742, 'perfunctory': 6198, 'peppers': 6199, \"summer's\": 6200, 'ton': 6201, 'brandy': 6202, 'klown': 6203, 'birthday': 849, 'kill': 402, 'whole': 580, 'clone': 1499, 'feedbag': 6208, 'hunka': 3328, 'tony': 939, 'binoculars': 6209, 'lis': 6210, 'sector': 2744, 'settled': 6211, 'hat': 6212, 'make:': 6213, \"'roids\": 6305, 'erasers': 6214, 'wire': 792, 'dimly': 5624, 'found': 719, 'beards': 6215, 'maya:': 940, 'sets': 6216, 'voicemail': 6217, 'firmly': 2026, 'bye': 1410, 'possessions': 6219, 'thinking': 395, 'branding': 3411, 'there': 80, 'rain': 5756, 'beloved': 1142, 'extremely': 2034, 'chub': 6221, 'hm': 1208, 'eight': 720, \"tab's\": 6223, 'people': 170, 'unintelligent': 6224, 'botanical': 3457, 'breathalyzer': 3465, 'yard': 1412, 'watashi': 3476, \"liberty's\": 6226, 'laney_fontaine:': 2746, 'caught': 1144, 'polishing': 6698, 'hateful': 6227, 'call': 219, 'actually': 354, 'sadly': 548, 'authorized': 2748, 'scotch': 1833, 'goldarnit': 6228, 'patty_bouvier:': 721, 'puff': 1834, 'links': 6230, 'combination': 6231, 'detective': 6232, 'creature': 6233, 'ninety-seven': 3541, 'inanely': 6703, 'ticks': 6235, 'foil': 2751, \"soakin's\": 3559, 'book_club_member:': 1469, 'foundation': 6238, 'quotes': 2752, 'whenever': 2753, 'interesting': 6239, 'violations': 2754, \"getting'\": 6240, 'modest': 6666, \"what're\": 2755, 'despite': 1835, 'washouts': 6241, 'carve': 2756, 'milk': 942, 't-shirt': 2757, 'fayed': 6242, 'world-class': 6243, 'boxers': 6244, 'by': 153, 'dexterous': 6245, 'carlson': 2758, 'hippies': 6044, 'six-barrel': 6246, 'bupkus': 6247, 'woo': 396, 'trapped': 2760, 'stab': 6248, \"he'll\": 826, 'torn': 2761, 'pain': 1413, 'proud': 1145, 'eighty-six': 4528, 'skirt': 2762, 'apu': 650, 'shrieks': 6249, 'represents': 6250, 'heart': 565, 'holidays': 6252, 'shocked': 651, 'motorcycle': 2104, 'loyal': 6254, 'even': 162, 'dive': 1836, 'handler': 4212, 'commission': 2764, \"jimbo's_dad:\": 4435, \"shouldn't\": 652, 'hearse': 6256, 'disaster': 6257, 'challenge': 1837, 'majesty': 6258, 'hugh:': 1422, 'liar': 2765, 'hollye': 6260, \"tap-pullin'\": 6261, 'sweetie': 6262, 'dozen': 3745, 'jacksons': 3750, 'cow': 1146, 'searching': 1838, 'slender': 6270, 'buried': 1965, 'life-partner': 6265, 'bills': 6266, 'throw': 722, 'tv': 207, 'stole': 1839, 'capitol': 6267, 'hanging': 1147, 'radical': 6268, 'oooh': 6269, 'libraries': 3891, 'loud': 375, 'swatch': 6271, 'sixty-nine': 1552, 'excellent': 2766, 'confession': 5915, 'take': 120, \"moe's_thoughts:\": 1414, 'delivery': 2142, 'domed': 6274, 'disdainful': 6275, 'gums': 2767, 'solves': 6276, 'zero': 2768, 'forgive': 2769, \"cashin'\": 6277, 'blobbo': 6278, 'prolonged': 5955, 'sister-in-law': 3887, 'savvy': 6280, 'killjoy': 6281, 'peanuts': 827, 'fortensky': 6282, 'fictional': 2770, 'wins': 2160, 'coney': 1842, 'in': 19, 'overturned': 6285, 'lift': 6286, 'ninety-eight': 6287, \"chewin'\": 2652, 'behind': 545, 'rasputin': 6289, 'moving': 4787, 'she': 159, 'hand': 508, 'devils:': 6291, 'kentucky': 3899, 'actors': 2771, 's': 768, 'suddenly': 1148, 'grade': 2173, 'prison': 2772, 'booze': 464, 'confidence': 2773, 'monday': 6294, 'or': 119, 'driving': 1149, 'killarney': 6295, 'kneeling': 3941, 'brine': 6297, 'bright': 1844, 'hosting': 6298, 'lose': 1150, 'test-': 6299, 'see': 100, 'chest': 1845, 'terrible': 828, 'jeers': 6301, 'pall': 6302, 'cushions': 6303, \"'kay-zugg'\": 6304, 'spy': 2000, 'cocktail': 1846, \"wearin'\": 6715, 'turning': 718, 'copy': 2775, 'classy': 4016, \"friend's\": 6307, 'triangle': 6308, 'troubles': 5592, 'golden': 6309, 'singing': 253, 'needed': 1415, 'poor': 654, 'stayed': 1847, 'tomatoes': 6310, 'democracy': 6311, 'sounds': 397, 'happened': 328, 'north': 6312, 'plenty': 2776, 'gunk': 6313, 're:': 1436, 'brothers': 2777, 'customers': 1104, 'midnight': 1848, 'homers': 2778, 'gruesome': 6315, \"mtv's\": 6316, 'legend': 4072, 'jump': 1849, 'agreement': 2779, 'wisconsin': 6318, 'spit': 1841, 'kool': 6319, 'blossoming': 6320, 'aww': 1850, 'kearney_zzyzwicz:': 6321, 'wobbly': 6322, 'hail': 2780, 'ehhh': 6323, 'throws': 6324, 'edna-lover-one-seventy-two': 6325, 'tom': 1416, 'ha': 829, 'remember': 305, 'seven': 477, 'chick': 1417, 'house': 329, 'phrase': 6327, 'shaggy': 2781, 'pillows': 5521, \"family's\": 6328, 'magnanimous': 6329, 'overstressed': 6330, 'gotcha': 6331, 'sincere': 1418, 'sperm': 6332, 'today': 376, 'smallest': 2782, 'warned': 6333, 'discriminate': 6334, 'um': 387, \"santa's\": 6336, 'two-thirds-empty': 6337, '_babcock:': 1570, 'edge': 6338, 'either': 639, 'easy-going': 6340, 'shirt': 1043, 'suspect': 2258, 'stinks': 2783, 'southern': 6342, \"elmo's\": 6343, 'owned': 6345, 'embarrassed': 1349, 'hearing': 6346, 'early': 943, 'f': 1851, 'sap': 6347, 'amiable': 3854, 'calendars': 6348, 'bad-mouth': 3513, 'prayer': 2242, 'libido': 6349, 'victory': 2784, 'hilarious': 1852, 'appalled': 6350, 'answered': 6351, 'write': 944, 'storms': 5894, 'pursue': 6353, 'swan': 4267, 'your': 26, 'scores': 4270, 'swigmore': 6355, 'listen': 225, 'falcons': 2786, 'gruff': 4020, 'aziz': 6357, 'outs': 6358, 'schnapps': 2787, 'gossipy': 5991, 'long': 330, 'sissy': 2788, 'arts': 6359, '_montgomery_burns:': 345, \"idea's\": 6360, 'health': 945, 'sunk': 6361, 'intervention': 6362, 'hah': 6070, 'scrutinizing': 3823, 'perfume': 6365, 'fistiana': 4902, 'deserve': 2297, 'built': 2789, 'eighty-seven': 2047, 'safety': 6368, 'expense': 5157, 'safely': 6370, 'bowling': 1854, 'gangrene': 6639, 'sing': 596, 'propose': 6371, 'doll-baby': 6372, 'effervescent': 2790, 'babe': 2791, \"o'\": 6373, 'imaginary': 6374, 'snow': 2792, 'evil': 1855, 'feat': 6375, 'pouring': 2312, 'pernt': 4395, 'answering': 2793, 'vin': 6378, 'nigerian': 2794, 'baby': 401, 'jerking': 6380, 'encore': 4409, 'show': 278, 'pas': 3289, 'faded': 5763, \"where's\": 420, \"larry's\": 6383, 'rich': 1420, 'toy': 6384, 'huhza': 6385, 'gary:': 1856, 'progress': 6386, 'tank': 3279, 'week': 946, 'chew': 6387, 'arimasen': 4440, 'habit': 6388, 'wanted': 417, 'student': 6390, 'versus': 6391, 'fair': 1857, 'onto': 4453, 'fabulous': 2795, 'abandon': 2796, 'band': 1280, 'ones': 947, 'snatch': 6393, 'lessons': 1153, 'researching': 6394, 'sloe': 6395, 'bedroom': 2798, 'las': 6396, 'teeth': 1638, 'monster': 1421, 'presided': 6397, 'project': 2800, 'whup': 6398, 'gosh': 2801, 'lighten': 6399, 'all-all-all': 6574, 'neighboreeno': 6400, 'involving': 2341, 'spotting': 6401, 'wise': 6402, 'license': 1858, 'lifetime': 6403, 'ruint': 6404, 'view': 6405, 'goodbye': 655, 'lend': 4555, 'donut': 5121, 'breathless': 6408, 'fifty': 723, 'fevered': 2802, 'presently': 5417, 'st': 6410, 'mayan': 5540, 'bed': 1155, 'runt': 6411, 'publish': 6412, 'sweetheart': 2354, 'bouquet': 6413, 'turned': 656, 'pharmaceutical': 6414, 'delays': 4763, 'lush': 2804, 'ugh': 6417, 'cozy': 2805, 'ma': 657, 'slice': 2806, 'small_boy:': 6097, 'every': 240, 'sanitary': 6419, 'heatherton': 4633, 'poetics': 4638, 'stern': 2807, 'sweeter': 2808, 'gary_chalmers:': 1859, 'bully': 2365, 'choking': 2809, 'locklear': 6423, 'laney': 6424, 'international': 1860, 'spinning': 1861, 'african': 1156, 'william': 6425, 'button': 1862, 'did': 113, 'freaking': 6725, 'charge': 908, 'ned_flanders:': 346, 'panicky': 1742, \"snappin'\": 6426, 'sent': 949, 'yea': 1165, 'city': 830, 'temporarily': 6428, 'smoker': 6429, 'standards': 2810, 'anger': 6430, 'picnic': 6431, 'jay': 6432, 'endorse': 1863, '250': 2263, \"'your\": 6434, \"leavin'\": 6732, 'beer': 81, 'sorts': 6436, 'spreads': 4754, 'hears': 6164, 'down': 123, 'y': 4765, 'portentous': 6692, 'bart': 288, 'old_jewish_man:': 6439, 'chips': 4821, 'fire_inspector:': 6440, 'government': 1157, 'traitor': 6441, 'attend': 6442, 'contemplates': 6443, 'figured': 1423, 'offshoot': 6444, \"brady's\": 4823, 'checking': 1897, 'snorts': 2724, 'star': 950, 'nods': 724, 'bums': 2812, 'cell-ee': 6448, 'white_rabbit:': 6449, 'boisterous': 6450, 'add': 6451, 'hurt': 441, 'ruled': 4373, 'soft': 4644, 'trapping': 6454, 'face': 211, \"murphy's\": 6455, 'gibson': 4876, 'permitting': 6457, 'knowingly': 4880, 'cooker': 6459, 'ginger': 2052, 'drinks': 658, 'symphonies': 6460, 'respect': 1308, 'smurfs': 2814, 'realized': 2318, 'motel': 1619, 'draw': 2815, 'der': 1745, 'express': 2247, 'insured': 4433, \"i've\": 99, \"we've\": 377, 'brainiac': 6464, 'disappointing': 6465, 'sideshow': 6466, 'gimmick': 6467, \"coaster's\": 6468, 'duffman': 725, 'optimistic': 6469, 'non-american': 6684, 'loser': 511, 'freshened': 4945, 'hmmm': 1684, 'mozzarella': 4282, \"plaster's\": 6470, 'unattended': 6471, 'random': 4958, 'moment': 1424, 'nagurski': 6737, 'huggenkiss': 1353, 'aidens': 6474, 'dull': 3286, 'yourself': 421, 'lou': 6407, 'pitcher': 1425, 'else': 659, 'weak': 1781, 'duffed': 6477, 'nightmare': 4997, 'eaten': 5003, 'cutting': 1159, 'gestated': 6480, 'drift': 6481, 'barney_gumble:': 41, 'salad': 1865, 'man': 85, 'bus': 1866, \"there's\": 132, 'rag': 1426, 'abercrombie': 6482, 'elder': 1867, 'beating': 2819, 'moonshine': 6483, 'womb': 3095, 'rocks': 5053, 'chief_wiggum:': 160, 'conversation': 2820, 'mind': 726, 'praise': 6486, 'frat': 6487, 'whispers': 6488, \"waitin'\": 2821, 'clearly': 1427, 'richard': 3001, 'midge': 1590, 'disgracefully': 5111, 'foam': 6491, 'generally': 4156, 'fuzzlepitch': 6492, 'legs:': 4714, 'spouses': 5128, 'nemo': 3388, \"you'll\": 296, 'tolerance': 6497, 'gluten': 6498, 'pizza': 6364, 'wakede': 6500, 'feelings': 1868, 'tips': 1519, 'sorry': 151, 'began': 2823, 'stickers': 6502, 'thousand-year': 6503, 'brainheaded': 6504, 'coms': 6505, 'macbeth': 6506, 'defensive': 1869, 'fountain': 6507, 'said:': 6508, 'sit': 1429, 'sigh': 599, 'eggshell': 6509, 'drollery': 6510, 'backgammon': 6511, \"shootin'\": 6512, 'tuna': 6135, 'massachusetts': 6514, 'acquaintance': 2829, 'los': 6516, 'hoo': 466, 'rabbits': 6517, 'visas': 6518, 'rivalry': 6519, 'young_homer:': 951, 'spelling': 5232, 'badmouths': 6521, 'innocuous': 6522, 'celebration': 6523, 'willing': 6524, 'idiots': 6525, 'century': 2824, 'geez': 546, 'bumblebee_man:': 6526, 'refreshingness': 6528, 'yello': 6529, 'reason': 1870, 'alternative': 6530, 'donor': 6531, 'would': 135, 'guts': 6532, '&': 1871, 'pantsless': 6533, 'stacey': 6534, 'intrigued': 806, 'businessman_#1:': 2714, 'underwear': 4199, 'table': 764, 'when-i-get-a-hold-of-you': 5320, 'tape': 547, 'weird': 831, 'bedtime': 6537, 'roses': 2825, 'changes': 2826, 'steam': 6538, 'finest': 1873, 'kicks': 6539, 'stu': 6540, 'stars': 6541, 'saw': 467, 'worst': 953, 'throats': 6100, 'refill': 6542, 'jamaican': 1874, 'prohibit': 2827, 'thanksgiving': 2828, 'passes': 6543, 'bet': 954, 'flower': 1430, 'david': 2157, 'urine': 6545, \"bo's\": 5402, 'insightful': 2720, 'stationery': 2830, 'decency': 2548, 'coffee': 1875, 'collette:': 832, 'that': 18, 'serve': 1876, 'louse': 6549, 'coal': 3932, 'lifestyle': 6551, 'catholic': 6552, 'amber': 6553, 'mmmm': 601, 'grim': 1431, 'tablecloth': 6554, 'gang': 2831, 'hyahh': 6555, 'wolveriskey': 6556, 'wrestling': 2832, \"high-falutin'\": 6557, 'disturbance': 6558, 'bunion': 6559, 'skunk': 6560, 'steinbrenner': 6561, 'splash': 5481, 'beeps': 6752, 'mafia': 1754, 'fingers': 1161, 'absolut': 6565, 'save': 439, 'off': 127, 'direction': 6567, 'p-k': 6568, 'disapproving': 2833, 'indeedy': 6569, 'coma': 6570, 'fires': 6753, 'pee': 6572, 'both': 727, 'frogs': 6573, 'nuts': 499, 'secrets': 1432, 'tigers': 6575, 'threatening': 1877, 'de-scramble': 6576, 'rickles': 6577, \"lefty's\": 6578, 'cheer': 1162, 'moe-clone:': 2718, 'hardwood': 4107, 'artie': 1163, 'teams': 2105, 'treat': 1001, 'bonding': 6580, 'nuked': 6581, 'insulted': 2836, \"crawlin'\": 2580, 'twenty-nine': 6583, 'cobra': 6584, 'gabriel': 6366, 'pretend': 6585, 'period': 4637, 'getup': 6586, 'delighted': 1878, 'rumor': 6587, 'nervously': 6588, 'bar-boy': 1879, 'adopted': 4086, 'pirate': 2837, 'dirt': 1880, 'limericks': 6590, 'ho-ly': 6591, 'language': 6592, 'soir': 6593, \"wonderin'\": 2838, 'fishing': 6758, 'seconds': 956, 'chunky': 6594, \"hadn't\": 2839, 'pulitzer': 6595, \"thinkin'\": 6596, \"tinklin'\": 5660, 'stadium': 1881, 'pleasant': 2840, 'bon': 6108, 'full': 833, 'albert': 6598, 'two': 130, 'venom': 6600, 'arm': 694, 'dna': 6601, 'panicked': 5397, 'hibbert': 2843, 'champion': 6602, 'this': 23, 'greatest': 653, 'lainie:': 6604, 'oww': 6605, 'inherent': 6606, 'indicates': 6599, 'awesome': 2619, 'jubilant': 2846, 'sisters': 1882, 'adjust': 6608, 'mmm-hmm': 5742, 'finish': 6610, 'beginning': 1832, 'sucking': 3525, 'wreck': 6612, 'milhouse': 1884, 'bumpy-like': 6613, 'mirthless': 6614, 'sugar': 2847, 'says': 331, 'cross-country': 6615, 'caveman': 6616, 'humiliation': 6225, 'mudflap': 1885, 'protecting': 6618, 'gentle': 6619, 'nobel': 1886, 'animals': 2848, 'mill': 6620, 'sobriety': 6621, 'floor': 1887, 'diets': 6622, 'righ': 6623, 'cheated': 6624, 'fritz': 2849, 'fiction': 6625, 'wantcha': 6626, 'broad': 1164, \"ragin'\": 6627, 'ref': 6628, 'troy_mcclure:': 2850, 'presidential': 6629, 'tall': 6630, 'half-back': 6631, 'rupert_murdoch:': 6632, \"ladies'\": 2851, 'balloon': 6633, 'chauffeur': 6634, 'competing': 6635, 'ear': 6636, 'aristotle:': 6637, 'partially': 6638, 'text': 1796, 'louie:': 2852, 'sagacity': 5981, 'celebrities': 1888, 'hoped': 6641, 'ready': 834, 'eat': 512, 'advice': 835, 'paste': 6642, 'heavyset': 2853, 'under': 422, 'masks': 6643, 'craphole': 2414, 'besides': 6645, 'wars': 6646, 'order': 1889, 'patented': 6647, 'corkscrew': 1986, 'sooner': 2854, 'high-definition': 6648, 'mrs': 836, '7-year-old_brockman:': 2763, 'so-ng': 6649, 'ees': 3116, 'shaky': 6650, 'california': 6651, 'trucks': 6652, 'cold': 837, 'military': 1805, 'calvin': 6654, 'rules': 2255, 'conference': 2855, 'fill': 929, 'recruiter': 3952, 'smile:': 2856, 'shaved': 6657, 'fresh': 2857, 'improved': 6659, 'pre-columbian': 6660, 'waters': 6661, 'replaced': 5326, 'groan': 6002, 'boyhood': 6663, 'played': 1891, 'ominous': 1435, 'britannia': 6664, 'trying': 600, 'yards': 2858, 'earpiece': 6229, 'wobble': 6046, 'beached': 6050, 'gunter:': 6669, 'crew': 2859, 'giving': 935, 'chairman': 6671, \"that'd\": 5438, 'festival': 2860, '91': 6672, 'side:': 6073, 'wage': 6076, 'brow': 2861, 'aerospace': 6675, 'pass': 955, 'anymore': 660, 'tolerable': 6676, 'gal': 1893, 'drederick': 1028, \"'bout\": 661, 'logos': 6104, 'sharity': 4609, 'reaching': 2862, 'world': 279, 'murmurs': 2863, \"plank's\": 3414, 'record': 2864, '|period|': 0, \"stallin'\": 6139, 'wrapped': 6147, 'stinky': 6682, 'dint': 6683, 'craft': 6771, '|quotation_mark|': 20, 'conspiratorial': 2730, 'invulnerable': 6686, 'ripping': 6687, 'tying': 6688, 'sympathizer': 6689, 'hats': 2866, 'saturday': 1749, 'gonna': 78, 'carl_carlson:': 45, 'usual': 6125, 'extinguishers': 6719, 'ne': 4025, 'grease': 6693, 'monroe': 6694, 'kinda': 510, 'astonishment': 6695, 'blurbs': 6696, 'sing-song': 6697, 'romantic': 941, 'wings': 2747, 'problems': 516, 'ralph': 6700, 'jay_leno:': 6702, 'cruise': 6234, 'bottles': 2869, 'enthusiastically': 6704, 'according': 6705, 'big': 143, 'geyser': 6706, 'slobbo': 6707, 'predictable': 6708, 'grandiose': 2870, 'benefits': 2871, 'strongly': 6709, 'jazz': 6710, 'touchdown': 1840, 'watching': 603, 'congoleum': 6711, 'presidents': 6712, 'manage': 2872, 'cranberry': 6713, 'presto:': 6714, 'worry': 440, 'years': 254, 'dreamily': 6716, 'low': 538, 'mid-seventies': 5271, 'crinkly': 5965, 'likes': 1895, 'gold': 957, 'out': 51, 'only': 154, 'confidentially': 6344, 'anti-lock': 6720, 'forty-two': 6721, 'won': 958, 'sedaris': 6722, 'never': 93, 'cuckoo': 4866, 'fake': 6723, 'rug': 6724, 'diamond': 2873, 'interested': 2210, 'furry': 3813, 'muscles': 4566, 'ayyy': 2576, 'cheerier': 5472, 'souped': 6726, 'hey': 29, 'twins': 1437, 'committing': 6727, 'dictator': 6728, 'brain-switching': 6729, 'term': 6730, 'afraid': 838, 'somewhere': 1896, 'aerosmith': 2749, '_zander:': 1166, 'chosen': 6731, \"homer'll\": 6435, 'crapmore': 6438, 'riveting': 3666, 'waylon': 2875, 'whim': 6130, 'cozies': 6734, 'atlanta': 2876, 'tasimeter': 3231, \"c'mom\": 4975, 'suspended': 6473, 'blue': 663, 'traditions': 5647, 'terrorizing': 6738, 'ignoring': 6739, 'bliss': 6740, 'leno': 6741, 'money': 144, 'four-star': 6742, 'grumpy': 2877, 'large': 2878, 'philosophical': 6515, 'emotional': 2879, 'milhouse_van_houten:': 1438, 'feld': 6743, 'great': 171, 'vampires': 2880, 'product': 2881, 'senators': 1439, 'crony': 6744, 'jigger': 6745, 'rummy': 839, 'listening': 2883, 'stranger:': 2884, \"'\": 6746, 'accusing': 6452, 'grubby': 3322, 'charlie:': 6749, 'saved': 1167, 'fuhgetaboutit': 6750, 'contemporary': 6751, 'dashes': 6563, 'tanking': 4385, 'rancid': 6571, 'admitting': 2885, 'amnesia': 6446, \"lisa's\": 1168, 'clown': 1169, 'caricature': 6754, 'spite': 5923, 'sail': 6756, 'shove': 1898, 'delivery_man:': 6757, 'halvsies': 6493, 'bret': 2886, 'saga': 6759, 'schizophrenia': 6760, 'fat': 348, 'white': 2887, 'passed': 2888, 'really': 103, 'gear-head': 4417, 'gift:': 6762, 'shesh': 6763, 'slight': 2889, 'full-time': 6764, 'lushmore': 6765, 'icelandic': 6766, \"g'on\": 3901, 'seriously': 2895, 'tooth': 6768, 'treasure': 959, 'refund': 2890, 'hair': 960, 'verdict': 6769, 'kissingher': 6770, 'remain': 5293, 'meal': 2608, 'takeaway': 3855, 'tar-paper': 4760, 'rule': 2892, 'everything': 378, 'tomorrow': 469, 'duel': 2893, 'ehhhhhh': 4729, 'laugh': 306, 'peaked': 6718, 'west': 6773, 'plug': 6774, 'clap': 6775, 'famous': 2894, 'simon': 6776, 'sinkhole': 6747, 'work': 242, 'hide': 840, 'pushes': 6778, 'toss': 1899, 'gets': 446}\n",
      "6779\n"
     ]
    }
   ],
   "source": [
    "\"\"\"\n",
    "DON'T MODIFY ANYTHING IN THIS CELL\n",
    "\"\"\"\n",
    "# Preprocess Training, Validation, and Testing Data\n",
    "helper.preprocess_and_save_data(data_dir, token_lookup, create_lookup_tables)"
   ]
  },
  {
   "cell_type": "markdown",
   "metadata": {
    "deletable": true,
    "editable": true
   },
   "source": [
    "# Check Point\n",
    "This is your first checkpoint. If you ever decide to come back to this notebook or have to restart the notebook, you can start from here. The preprocessed data has been saved to disk."
   ]
  },
  {
   "cell_type": "code",
   "execution_count": 6,
   "metadata": {
    "collapsed": false,
    "deletable": true,
    "editable": true
   },
   "outputs": [],
   "source": [
    "\"\"\"\n",
    "DON'T MODIFY ANYTHING IN THIS CELL\n",
    "\"\"\"\n",
    "import helper\n",
    "import numpy as np\n",
    "import problem_unittests as tests\n",
    "\n",
    "int_text, vocab_to_int, int_to_vocab, token_dict = helper.load_preprocess()"
   ]
  },
  {
   "cell_type": "markdown",
   "metadata": {
    "deletable": true,
    "editable": true
   },
   "source": [
    "## Build the Neural Network\n",
    "You'll build the components necessary to build a RNN by implementing the following functions below:\n",
    "- get_inputs\n",
    "- get_init_cell\n",
    "- get_embed\n",
    "- build_rnn\n",
    "- build_nn\n",
    "- get_batches\n",
    "\n",
    "### Check the Version of TensorFlow and Access to GPU"
   ]
  },
  {
   "cell_type": "code",
   "execution_count": 7,
   "metadata": {
    "collapsed": false,
    "deletable": true,
    "editable": true
   },
   "outputs": [
    {
     "name": "stdout",
     "output_type": "stream",
     "text": [
      "TensorFlow Version: 1.0.0\n",
      "Default GPU Device: /gpu:0\n"
     ]
    }
   ],
   "source": [
    "\"\"\"\n",
    "DON'T MODIFY ANYTHING IN THIS CELL\n",
    "\"\"\"\n",
    "from distutils.version import LooseVersion\n",
    "import warnings\n",
    "import tensorflow as tf\n",
    "\n",
    "# Check TensorFlow Version\n",
    "assert LooseVersion(tf.__version__) >= LooseVersion('1.0'), 'Please use TensorFlow version 1.0 or newer'\n",
    "print('TensorFlow Version: {}'.format(tf.__version__))\n",
    "\n",
    "# Check for a GPU\n",
    "if not tf.test.gpu_device_name():\n",
    "    warnings.warn('No GPU found. Please use a GPU to train your neural network.')\n",
    "else:\n",
    "    print('Default GPU Device: {}'.format(tf.test.gpu_device_name()))"
   ]
  },
  {
   "cell_type": "markdown",
   "metadata": {
    "deletable": true,
    "editable": true
   },
   "source": [
    "### Input\n",
    "Implement the `get_inputs()` function to create TF Placeholders for the Neural Network.  It should create the following placeholders:\n",
    "- Input text placeholder named \"input\" using the [TF Placeholder](https://www.tensorflow.org/api_docs/python/tf/placeholder) `name` parameter.\n",
    "- Targets placeholder\n",
    "- Learning Rate placeholder\n",
    "\n",
    "Return the placeholders in the following tuple `(Input, Targets, LearningRate)`"
   ]
  },
  {
   "cell_type": "code",
   "execution_count": 8,
   "metadata": {
    "collapsed": false,
    "deletable": true,
    "editable": true
   },
   "outputs": [
    {
     "name": "stdout",
     "output_type": "stream",
     "text": [
      "Tests Passed\n"
     ]
    }
   ],
   "source": [
    "def get_inputs():\n",
    "    \"\"\"\n",
    "    Create TF Placeholders for input, targets, and learning rate.\n",
    "    :return: Tuple (input, targets, learning rate)\n",
    "    \"\"\"\n",
    "    # Create placeholders (be careful with the dtypes and the shapes)\n",
    "    input_ = tf.placeholder(tf.int32, shape=[None, None], name='input')\n",
    "    targets = tf.placeholder(tf.int32, shape=[None, None], name='targets')\n",
    "    lr = tf.placeholder(tf.float32, shape=None, name='LearningRate')\n",
    "    return input_, targets, lr\n",
    "\n",
    "\"\"\"\n",
    "DON'T MODIFY ANYTHING IN THIS CELL THAT IS BELOW THIS LINE\n",
    "\"\"\"\n",
    "tests.test_get_inputs(get_inputs)"
   ]
  },
  {
   "cell_type": "markdown",
   "metadata": {
    "deletable": true,
    "editable": true
   },
   "source": [
    "### Build RNN Cell and Initialize\n",
    "Stack one or more [`BasicLSTMCells`](https://www.tensorflow.org/api_docs/python/tf/contrib/rnn/BasicLSTMCell) in a [`MultiRNNCell`](https://www.tensorflow.org/api_docs/python/tf/contrib/rnn/MultiRNNCell).\n",
    "- The Rnn size should be set using `rnn_size`\n",
    "- Initalize Cell State using the MultiRNNCell's [`zero_state()`](https://www.tensorflow.org/api_docs/python/tf/contrib/rnn/MultiRNNCell#zero_state) function\n",
    "    - Apply the name \"initial_state\" to the initial state using [`tf.identity()`](https://www.tensorflow.org/api_docs/python/tf/identity)\n",
    "\n",
    "Return the cell and initial state in the following tuple `(Cell, InitialState)`"
   ]
  },
  {
   "cell_type": "code",
   "execution_count": 9,
   "metadata": {
    "collapsed": false,
    "deletable": true,
    "editable": true
   },
   "outputs": [
    {
     "name": "stdout",
     "output_type": "stream",
     "text": [
      "Tests Passed\n"
     ]
    }
   ],
   "source": [
    "def get_init_cell(batch_size, rnn_size):\n",
    "    \"\"\"\n",
    "    Create an RNN Cell and initialize it.\n",
    "    :param batch_size: Size of batches\n",
    "    :param rnn_size: Size of RNNs\n",
    "    :return: Tuple (cell, initialize state)\n",
    "    \"\"\"\n",
    "    # Your basic LSTM cell\n",
    "    lstm = tf.contrib.rnn.BasicLSTMCell(rnn_size)\n",
    "    \n",
    "    # Add dropout to the cell\n",
    "    drop = tf.contrib.rnn.DropoutWrapper(lstm, output_keep_prob=0.6)\n",
    "    \n",
    "    # Stack up only 1 layer \n",
    "    cell = tf.contrib.rnn.MultiRNNCell([drop] * 1)\n",
    "    \n",
    "    # Getting an initial state of all zeros\n",
    "    initial_state = cell.zero_state(batch_size, tf.float32)\n",
    "    return cell, tf.identity(initial_state, name = 'initial_state')\n",
    "\n",
    "\"\"\"\n",
    "DON'T MODIFY ANYTHING IN THIS CELL THAT IS BELOW THIS LINE\n",
    "\"\"\"\n",
    "tests.test_get_init_cell(get_init_cell)"
   ]
  },
  {
   "cell_type": "markdown",
   "metadata": {
    "deletable": true,
    "editable": true
   },
   "source": [
    "### Word Embedding\n",
    "Apply embedding to `input_data` using TensorFlow.  Return the embedded sequence."
   ]
  },
  {
   "cell_type": "code",
   "execution_count": 10,
   "metadata": {
    "collapsed": false,
    "deletable": true,
    "editable": true
   },
   "outputs": [
    {
     "name": "stdout",
     "output_type": "stream",
     "text": [
      "Tests Passed\n"
     ]
    }
   ],
   "source": [
    "def get_embed(input_data, vocab_size, embed_dim):\n",
    "    \"\"\"\n",
    "    Create embedding for <input_data>.\n",
    "    :param input_data: TF placeholder for text input.\n",
    "    :param vocab_size: Number of words in vocabulary.\n",
    "    :param embed_dim: Number of embedding dimensions\n",
    "    :return: Embedded input.\n",
    "    \"\"\"\n",
    "    # Initialize a random tensor that represents the learning paramters for the embedding layer \n",
    "    embedding = tf.Variable(tf.random_uniform((vocab_size, embed_dim), -1, 1))\n",
    "    embed = tf.nn.embedding_lookup(embedding, input_data)\n",
    "    return embed\n",
    "\n",
    "\n",
    "\"\"\"\n",
    "DON'T MODIFY ANYTHING IN THIS CELL THAT IS BELOW THIS LINE\n",
    "\"\"\"\n",
    "tests.test_get_embed(get_embed)"
   ]
  },
  {
   "cell_type": "markdown",
   "metadata": {
    "deletable": true,
    "editable": true
   },
   "source": [
    "### Build RNN\n",
    "You created a RNN Cell in the `get_init_cell()` function.  Time to use the cell to create a RNN.\n",
    "- Build the RNN using the [`tf.nn.dynamic_rnn()`](https://www.tensorflow.org/api_docs/python/tf/nn/dynamic_rnn)\n",
    " - Apply the name \"final_state\" to the final state using [`tf.identity()`](https://www.tensorflow.org/api_docs/python/tf/identity)\n",
    "\n",
    "Return the outputs and final_state state in the following tuple `(Outputs, FinalState)` "
   ]
  },
  {
   "cell_type": "code",
   "execution_count": 11,
   "metadata": {
    "collapsed": false,
    "deletable": true,
    "editable": true
   },
   "outputs": [
    {
     "name": "stdout",
     "output_type": "stream",
     "text": [
      "Tests Passed\n"
     ]
    }
   ],
   "source": [
    "def build_rnn(cell, inputs):\n",
    "    \"\"\"\n",
    "    Create a RNN using a RNN Cell\n",
    "    :param cell: RNN Cell\n",
    "    :param inputs: Input text data\n",
    "    :return: Tuple (Outputs, Final State)\n",
    "    \"\"\"\n",
    "    # TODO: Implement Function\n",
    "    outputs, final_state = tf.nn.dynamic_rnn(cell, inputs, initial_state=None, dtype=tf.float32)\n",
    "    return outputs, tf.identity(final_state, name='final_state')\n",
    "\n",
    "\"\"\"\n",
    "DON'T MODIFY ANYTHING IN THIS CELL THAT IS BELOW THIS LINE\n",
    "\"\"\"\n",
    "tests.test_build_rnn(build_rnn)"
   ]
  },
  {
   "cell_type": "markdown",
   "metadata": {
    "deletable": true,
    "editable": true
   },
   "source": [
    "### Build the Neural Network\n",
    "Apply the functions you implemented above to:\n",
    "- Apply embedding to `input_data` using your `get_embed(input_data, vocab_size, embed_dim)` function.\n",
    "- Build RNN using `cell` and your `build_rnn(cell, inputs)` function.\n",
    "- Apply a fully connected layer with a linear activation and `vocab_size` as the number of outputs.\n",
    "\n",
    "Return the logits and final state in the following tuple (Logits, FinalState) "
   ]
  },
  {
   "cell_type": "code",
   "execution_count": 12,
   "metadata": {
    "collapsed": false,
    "deletable": true,
    "editable": true
   },
   "outputs": [
    {
     "name": "stdout",
     "output_type": "stream",
     "text": [
      "Tests Passed\n"
     ]
    }
   ],
   "source": [
    "def build_nn(cell, rnn_size, input_data, vocab_size, embed_dim):\n",
    "    \"\"\"\n",
    "    Build part of the neural network\n",
    "    :param cell: RNN cell\n",
    "    :param rnn_size: Size of rnns\n",
    "    :param input_data: Input data\n",
    "    :param vocab_size: Vocabulary size\n",
    "    :param embed_dim: Number of embedding dimensions\n",
    "    :return: Tuple (Logits, FinalState)\n",
    "    \"\"\"\n",
    "    # 1st: apply the embedding to the input \n",
    "    embedding = get_embed(input_data, vocab_size, embed_dim)\n",
    "    # 2nd: build the lstms with the cell parameter and the obtained embedding\n",
    "    outputs, final_state = build_rnn(cell, embedding)\n",
    "    # 3rd: apply a dense layer to the output\n",
    "    logits = tf.contrib.layers.fully_connected(outputs, vocab_size, biases_initializer = tf.zeros_initializer(), \n",
    "                                               weights_initializer = tf.truncated_normal_initializer(stddev=0.1),\n",
    "                                               activation_fn = None) # (activation_fn has to be set to None since we need the ReLU)\n",
    "    \n",
    "    return logits, final_state\n",
    "\n",
    "\n",
    "\"\"\"\n",
    "DON'T MODIFY ANYTHING IN THIS CELL THAT IS BELOW THIS LINE\n",
    "\"\"\"\n",
    "tests.test_build_nn(build_nn)"
   ]
  },
  {
   "cell_type": "markdown",
   "metadata": {
    "deletable": true,
    "editable": true
   },
   "source": [
    "### Batches\n",
    "Implement `get_batches` to create batches of input and targets using `int_text`.  The batches should be a Numpy array with the shape `(number of batches, 2, batch size, sequence length)`. Each batch contains two elements:\n",
    "- The first element is a single batch of **input** with the shape `[batch size, sequence length]`\n",
    "- The second element is a single batch of **targets** with the shape `[batch size, sequence length]`\n",
    "\n",
    "If you can't fill the last batch with enough data, drop the last batch.\n",
    "\n",
    "For exmple, `get_batches([1, 2, 3, 4, 5, 6, 7, 8, 9, 10, 11, 12, 13, 14, 15], 2, 3)` would return a Numpy array of the following:\n",
    "```\n",
    "[\n",
    "  # First Batch\n",
    "  [\n",
    "    # Batch of Input\n",
    "    [[ 1  2  3], [ 7  8  9]],\n",
    "    # Batch of targets\n",
    "    [[ 2  3  4], [ 8  9 10]]\n",
    "  ],\n",
    " \n",
    "  # Second Batch\n",
    "  [\n",
    "    # Batch of Input\n",
    "    [[ 4  5  6], [10 11 12]],\n",
    "    # Batch of targets\n",
    "    [[ 5  6  7], [11 12 13]]\n",
    "  ]\n",
    "]\n",
    "```"
   ]
  },
  {
   "cell_type": "code",
   "execution_count": 13,
   "metadata": {
    "collapsed": false,
    "deletable": true,
    "editable": true
   },
   "outputs": [
    {
     "name": "stdout",
     "output_type": "stream",
     "text": [
      "Tests Passed\n"
     ]
    }
   ],
   "source": [
    "def get_batches(int_text, batch_size, seq_length):\n",
    "    \"\"\"\n",
    "    Return batches of input and target\n",
    "    :param int_text: Text with the words replaced by their ids\n",
    "    :param batch_size: The size of batch\n",
    "    :param seq_length: The length of sequence\n",
    "    :return: Batches as a Numpy array\n",
    "    \"\"\"\n",
    "    # TODO: Implement Function\n",
    "    # batch size\n",
    "    n_batches = int(len(int_text) / (batch_size * seq_length))\n",
    "    # get only full batches\n",
    "    first_e = np.array(int_text[: n_batches * batch_size * seq_length])\n",
    "    second_e = np.array(int_text[1: n_batches * batch_size * seq_length + 1])\n",
    "    # create sub array\n",
    "    first_b = np.split(first_e.reshape(batch_size, -1), n_batches, 1)\n",
    "    second_b = np.split(second_e.reshape(batch_size, -1), n_batches, 1)\n",
    "    return np.array(list(zip(first_b, second_b)))\n",
    "\n",
    "\n",
    "\"\"\"\n",
    "DON'T MODIFY ANYTHING IN THIS CELL THAT IS BELOW THIS LINE\n",
    "\"\"\"\n",
    "tests.test_get_batches(get_batches)"
   ]
  },
  {
   "cell_type": "markdown",
   "metadata": {
    "deletable": true,
    "editable": true
   },
   "source": [
    "## Neural Network Training\n",
    "### Hyperparameters\n",
    "Tune the following parameters:\n",
    "\n",
    "- Set `num_epochs` to the number of epochs.\n",
    "- Set `batch_size` to the batch size.\n",
    "- Set `rnn_size` to the size of the RNNs.\n",
    "- Set `embed_dim` to the size of the embedding.\n",
    "- Set `seq_length` to the length of sequence.\n",
    "- Set `learning_rate` to the learning rate.\n",
    "- Set `show_every_n_batches` to the number of batches the neural network should print progress."
   ]
  },
  {
   "cell_type": "code",
   "execution_count": 18,
   "metadata": {
    "collapsed": true,
    "deletable": true,
    "editable": true
   },
   "outputs": [],
   "source": [
    "# Number of Epochs\n",
    "num_epochs = 80\n",
    "# Batch Size\n",
    "batch_size = 256\n",
    "# RNN Size\n",
    "rnn_size = 1024\n",
    "# Embedding Dimension Size\n",
    "embed_dim = 900\n",
    "# Sequence Length\n",
    "seq_length = 20\n",
    "# Learning Rate\n",
    "learning_rate = 0.005\n",
    "# Show stats for every n number of batches\n",
    "show_every_n_batches = 5\n",
    "\n",
    "\"\"\"\n",
    "DON'T MODIFY ANYTHING IN THIS CELL THAT IS BELOW THIS LINE\n",
    "\"\"\"\n",
    "save_dir = './save'"
   ]
  },
  {
   "cell_type": "markdown",
   "metadata": {
    "deletable": true,
    "editable": true
   },
   "source": [
    "### Build the Graph\n",
    "Build the graph using the neural network you implemented."
   ]
  },
  {
   "cell_type": "code",
   "execution_count": 19,
   "metadata": {
    "collapsed": false,
    "deletable": true,
    "editable": true
   },
   "outputs": [],
   "source": [
    "\"\"\"\n",
    "DON'T MODIFY ANYTHING IN THIS CELL\n",
    "\"\"\"\n",
    "from tensorflow.contrib import seq2seq\n",
    "\n",
    "train_graph = tf.Graph()\n",
    "with train_graph.as_default():\n",
    "    vocab_size = len(int_to_vocab)\n",
    "    input_text, targets, lr = get_inputs()\n",
    "    input_data_shape = tf.shape(input_text)\n",
    "    cell, initial_state = get_init_cell(input_data_shape[0], rnn_size)\n",
    "    logits, final_state = build_nn(cell, rnn_size, input_text, vocab_size, embed_dim)\n",
    "\n",
    "    # Probabilities for generating words\n",
    "    probs = tf.nn.softmax(logits, name='probs')\n",
    "\n",
    "    # Loss function\n",
    "    cost = seq2seq.sequence_loss(\n",
    "        logits,\n",
    "        targets,\n",
    "        tf.ones([input_data_shape[0], input_data_shape[1]]))\n",
    "\n",
    "    # Optimizer\n",
    "    optimizer = tf.train.AdamOptimizer(lr)\n",
    "\n",
    "    # Gradient Clipping\n",
    "    gradients = optimizer.compute_gradients(cost)\n",
    "    capped_gradients = [(tf.clip_by_value(grad, -1., 1.), var) for grad, var in gradients if grad is not None]\n",
    "    train_op = optimizer.apply_gradients(capped_gradients)"
   ]
  },
  {
   "cell_type": "markdown",
   "metadata": {
    "deletable": true,
    "editable": true
   },
   "source": [
    "## Train\n",
    "Train the neural network on the preprocessed data.  If you have a hard time getting a good loss, check the [forms](https://discussions.udacity.com/) to see if anyone is having the same problem."
   ]
  },
  {
   "cell_type": "code",
   "execution_count": 20,
   "metadata": {
    "collapsed": false,
    "deletable": true,
    "editable": true
   },
   "outputs": [
    {
     "name": "stdout",
     "output_type": "stream",
     "text": [
      "Epoch   0 Batch    0/13   train_loss = 8.857\n",
      "Epoch   0 Batch    5/13   train_loss = 6.522\n",
      "Epoch   0 Batch   10/13   train_loss = 5.774\n",
      "Epoch   1 Batch    2/13   train_loss = 5.048\n",
      "Epoch   1 Batch    7/13   train_loss = 4.889\n",
      "Epoch   1 Batch   12/13   train_loss = 4.791\n",
      "Epoch   2 Batch    4/13   train_loss = 4.349\n",
      "Epoch   2 Batch    9/13   train_loss = 4.212\n",
      "Epoch   3 Batch    1/13   train_loss = 3.901\n",
      "Epoch   3 Batch    6/13   train_loss = 3.720\n",
      "Epoch   3 Batch   11/13   train_loss = 3.518\n",
      "Epoch   4 Batch    3/13   train_loss = 3.120\n",
      "Epoch   4 Batch    8/13   train_loss = 3.001\n",
      "Epoch   5 Batch    0/13   train_loss = 2.611\n",
      "Epoch   5 Batch    5/13   train_loss = 2.656\n",
      "Epoch   5 Batch   10/13   train_loss = 2.478\n",
      "Epoch   6 Batch    2/13   train_loss = 2.248\n",
      "Epoch   6 Batch    7/13   train_loss = 2.084\n",
      "Epoch   6 Batch   12/13   train_loss = 2.006\n",
      "Epoch   7 Batch    4/13   train_loss = 1.809\n",
      "Epoch   7 Batch    9/13   train_loss = 1.701\n",
      "Epoch   8 Batch    1/13   train_loss = 1.551\n",
      "Epoch   8 Batch    6/13   train_loss = 1.431\n",
      "Epoch   8 Batch   11/13   train_loss = 1.343\n",
      "Epoch   9 Batch    3/13   train_loss = 1.272\n",
      "Epoch   9 Batch    8/13   train_loss = 1.217\n",
      "Epoch  10 Batch    0/13   train_loss = 1.067\n",
      "Epoch  10 Batch    5/13   train_loss = 1.050\n",
      "Epoch  10 Batch   10/13   train_loss = 0.961\n",
      "Epoch  11 Batch    2/13   train_loss = 0.910\n",
      "Epoch  11 Batch    7/13   train_loss = 0.853\n",
      "Epoch  11 Batch   12/13   train_loss = 0.811\n",
      "Epoch  12 Batch    4/13   train_loss = 0.797\n",
      "Epoch  12 Batch    9/13   train_loss = 0.723\n",
      "Epoch  13 Batch    1/13   train_loss = 0.715\n",
      "Epoch  13 Batch    6/13   train_loss = 0.663\n",
      "Epoch  13 Batch   11/13   train_loss = 0.637\n",
      "Epoch  14 Batch    3/13   train_loss = 0.642\n",
      "Epoch  14 Batch    8/13   train_loss = 0.618\n",
      "Epoch  15 Batch    0/13   train_loss = 0.562\n",
      "Epoch  15 Batch    5/13   train_loss = 0.561\n",
      "Epoch  15 Batch   10/13   train_loss = 0.506\n",
      "Epoch  16 Batch    2/13   train_loss = 0.506\n",
      "Epoch  16 Batch    7/13   train_loss = 0.474\n",
      "Epoch  16 Batch   12/13   train_loss = 0.453\n",
      "Epoch  17 Batch    4/13   train_loss = 0.449\n",
      "Epoch  17 Batch    9/13   train_loss = 0.402\n",
      "Epoch  18 Batch    1/13   train_loss = 0.406\n",
      "Epoch  18 Batch    6/13   train_loss = 0.388\n",
      "Epoch  18 Batch   11/13   train_loss = 0.372\n",
      "Epoch  19 Batch    3/13   train_loss = 0.368\n",
      "Epoch  19 Batch    8/13   train_loss = 0.380\n",
      "Epoch  20 Batch    0/13   train_loss = 0.332\n",
      "Epoch  20 Batch    5/13   train_loss = 0.338\n",
      "Epoch  20 Batch   10/13   train_loss = 0.321\n",
      "Epoch  21 Batch    2/13   train_loss = 0.324\n",
      "Epoch  21 Batch    7/13   train_loss = 0.320\n",
      "Epoch  21 Batch   12/13   train_loss = 0.304\n",
      "Epoch  22 Batch    4/13   train_loss = 0.297\n",
      "Epoch  22 Batch    9/13   train_loss = 0.297\n",
      "Epoch  23 Batch    1/13   train_loss = 0.296\n",
      "Epoch  23 Batch    6/13   train_loss = 0.291\n",
      "Epoch  23 Batch   11/13   train_loss = 0.272\n",
      "Epoch  24 Batch    3/13   train_loss = 0.284\n",
      "Epoch  24 Batch    8/13   train_loss = 0.283\n",
      "Epoch  25 Batch    0/13   train_loss = 0.246\n",
      "Epoch  25 Batch    5/13   train_loss = 0.275\n",
      "Epoch  25 Batch   10/13   train_loss = 0.267\n",
      "Epoch  26 Batch    2/13   train_loss = 0.271\n",
      "Epoch  26 Batch    7/13   train_loss = 0.276\n",
      "Epoch  26 Batch   12/13   train_loss = 0.253\n",
      "Epoch  27 Batch    4/13   train_loss = 0.255\n",
      "Epoch  27 Batch    9/13   train_loss = 0.250\n",
      "Epoch  28 Batch    1/13   train_loss = 0.263\n",
      "Epoch  28 Batch    6/13   train_loss = 0.231\n",
      "Epoch  28 Batch   11/13   train_loss = 0.237\n",
      "Epoch  29 Batch    3/13   train_loss = 0.255\n",
      "Epoch  29 Batch    8/13   train_loss = 0.246\n",
      "Epoch  30 Batch    0/13   train_loss = 0.228\n",
      "Epoch  30 Batch    5/13   train_loss = 0.239\n",
      "Epoch  30 Batch   10/13   train_loss = 0.228\n",
      "Epoch  31 Batch    2/13   train_loss = 0.245\n",
      "Epoch  31 Batch    7/13   train_loss = 0.233\n",
      "Epoch  31 Batch   12/13   train_loss = 0.223\n",
      "Epoch  32 Batch    4/13   train_loss = 0.225\n",
      "Epoch  32 Batch    9/13   train_loss = 0.225\n",
      "Epoch  33 Batch    1/13   train_loss = 0.233\n",
      "Epoch  33 Batch    6/13   train_loss = 0.219\n",
      "Epoch  33 Batch   11/13   train_loss = 0.221\n",
      "Epoch  34 Batch    3/13   train_loss = 0.227\n",
      "Epoch  34 Batch    8/13   train_loss = 0.222\n",
      "Epoch  35 Batch    0/13   train_loss = 0.208\n",
      "Epoch  35 Batch    5/13   train_loss = 0.211\n",
      "Epoch  35 Batch   10/13   train_loss = 0.211\n",
      "Epoch  36 Batch    2/13   train_loss = 0.214\n",
      "Epoch  36 Batch    7/13   train_loss = 0.215\n",
      "Epoch  36 Batch   12/13   train_loss = 0.219\n",
      "Epoch  37 Batch    4/13   train_loss = 0.221\n",
      "Epoch  37 Batch    9/13   train_loss = 0.206\n",
      "Epoch  38 Batch    1/13   train_loss = 0.214\n",
      "Epoch  38 Batch    6/13   train_loss = 0.202\n",
      "Epoch  38 Batch   11/13   train_loss = 0.203\n",
      "Epoch  39 Batch    3/13   train_loss = 0.217\n",
      "Epoch  39 Batch    8/13   train_loss = 0.218\n",
      "Epoch  40 Batch    0/13   train_loss = 0.195\n",
      "Epoch  40 Batch    5/13   train_loss = 0.199\n",
      "Epoch  40 Batch   10/13   train_loss = 0.216\n",
      "Epoch  41 Batch    2/13   train_loss = 0.207\n",
      "Epoch  41 Batch    7/13   train_loss = 0.214\n",
      "Epoch  41 Batch   12/13   train_loss = 0.196\n",
      "Epoch  42 Batch    4/13   train_loss = 0.201\n",
      "Epoch  42 Batch    9/13   train_loss = 0.200\n",
      "Epoch  43 Batch    1/13   train_loss = 0.212\n",
      "Epoch  43 Batch    6/13   train_loss = 0.193\n",
      "Epoch  43 Batch   11/13   train_loss = 0.198\n",
      "Epoch  44 Batch    3/13   train_loss = 0.205\n",
      "Epoch  44 Batch    8/13   train_loss = 0.208\n",
      "Epoch  45 Batch    0/13   train_loss = 0.185\n",
      "Epoch  45 Batch    5/13   train_loss = 0.191\n",
      "Epoch  45 Batch   10/13   train_loss = 0.195\n",
      "Epoch  46 Batch    2/13   train_loss = 0.196\n",
      "Epoch  46 Batch    7/13   train_loss = 0.208\n",
      "Epoch  46 Batch   12/13   train_loss = 0.199\n",
      "Epoch  47 Batch    4/13   train_loss = 0.200\n",
      "Epoch  47 Batch    9/13   train_loss = 0.196\n",
      "Epoch  48 Batch    1/13   train_loss = 0.199\n",
      "Epoch  48 Batch    6/13   train_loss = 0.194\n",
      "Epoch  48 Batch   11/13   train_loss = 0.194\n",
      "Epoch  49 Batch    3/13   train_loss = 0.205\n",
      "Epoch  49 Batch    8/13   train_loss = 0.202\n",
      "Epoch  50 Batch    0/13   train_loss = 0.180\n",
      "Epoch  50 Batch    5/13   train_loss = 0.187\n",
      "Epoch  50 Batch   10/13   train_loss = 0.196\n",
      "Epoch  51 Batch    2/13   train_loss = 0.193\n",
      "Epoch  51 Batch    7/13   train_loss = 0.199\n",
      "Epoch  51 Batch   12/13   train_loss = 0.183\n",
      "Epoch  52 Batch    4/13   train_loss = 0.198\n",
      "Epoch  52 Batch    9/13   train_loss = 0.188\n",
      "Epoch  53 Batch    1/13   train_loss = 0.198\n",
      "Epoch  53 Batch    6/13   train_loss = 0.186\n",
      "Epoch  53 Batch   11/13   train_loss = 0.190\n",
      "Epoch  54 Batch    3/13   train_loss = 0.194\n",
      "Epoch  54 Batch    8/13   train_loss = 0.205\n",
      "Epoch  55 Batch    0/13   train_loss = 0.181\n",
      "Epoch  55 Batch    5/13   train_loss = 0.186\n",
      "Epoch  55 Batch   10/13   train_loss = 0.202\n",
      "Epoch  56 Batch    2/13   train_loss = 0.187\n",
      "Epoch  56 Batch    7/13   train_loss = 0.198\n",
      "Epoch  56 Batch   12/13   train_loss = 0.192\n",
      "Epoch  57 Batch    4/13   train_loss = 0.186\n",
      "Epoch  57 Batch    9/13   train_loss = 0.192\n",
      "Epoch  58 Batch    1/13   train_loss = 0.196\n",
      "Epoch  58 Batch    6/13   train_loss = 0.181\n",
      "Epoch  58 Batch   11/13   train_loss = 0.184\n",
      "Epoch  59 Batch    3/13   train_loss = 0.200\n",
      "Epoch  59 Batch    8/13   train_loss = 0.195\n",
      "Epoch  60 Batch    0/13   train_loss = 0.180\n",
      "Epoch  60 Batch    5/13   train_loss = 0.185\n",
      "Epoch  60 Batch   10/13   train_loss = 0.191\n",
      "Epoch  61 Batch    2/13   train_loss = 0.190\n",
      "Epoch  61 Batch    7/13   train_loss = 0.192\n",
      "Epoch  61 Batch   12/13   train_loss = 0.188\n",
      "Epoch  62 Batch    4/13   train_loss = 0.181\n",
      "Epoch  62 Batch    9/13   train_loss = 0.191\n",
      "Epoch  63 Batch    1/13   train_loss = 0.193\n",
      "Epoch  63 Batch    6/13   train_loss = 0.187\n",
      "Epoch  63 Batch   11/13   train_loss = 0.185\n",
      "Epoch  64 Batch    3/13   train_loss = 0.192\n",
      "Epoch  64 Batch    8/13   train_loss = 0.196\n",
      "Epoch  65 Batch    0/13   train_loss = 0.174\n",
      "Epoch  65 Batch    5/13   train_loss = 0.189\n",
      "Epoch  65 Batch   10/13   train_loss = 0.193\n",
      "Epoch  66 Batch    2/13   train_loss = 0.182\n",
      "Epoch  66 Batch    7/13   train_loss = 0.189\n",
      "Epoch  66 Batch   12/13   train_loss = 0.183\n",
      "Epoch  67 Batch    4/13   train_loss = 0.188\n",
      "Epoch  67 Batch    9/13   train_loss = 0.182\n",
      "Epoch  68 Batch    1/13   train_loss = 0.194\n",
      "Epoch  68 Batch    6/13   train_loss = 0.185\n",
      "Epoch  68 Batch   11/13   train_loss = 0.177\n",
      "Epoch  69 Batch    3/13   train_loss = 0.194\n",
      "Epoch  69 Batch    8/13   train_loss = 0.190\n",
      "Epoch  70 Batch    0/13   train_loss = 0.177\n",
      "Epoch  70 Batch    5/13   train_loss = 0.178\n",
      "Epoch  70 Batch   10/13   train_loss = 0.191\n",
      "Epoch  71 Batch    2/13   train_loss = 0.186\n",
      "Epoch  71 Batch    7/13   train_loss = 0.196\n",
      "Epoch  71 Batch   12/13   train_loss = 0.187\n",
      "Epoch  72 Batch    4/13   train_loss = 0.185\n",
      "Epoch  72 Batch    9/13   train_loss = 0.188\n",
      "Epoch  73 Batch    1/13   train_loss = 0.195\n",
      "Epoch  73 Batch    6/13   train_loss = 0.186\n",
      "Epoch  73 Batch   11/13   train_loss = 0.188\n",
      "Epoch  74 Batch    3/13   train_loss = 0.199\n",
      "Epoch  74 Batch    8/13   train_loss = 0.191\n",
      "Epoch  75 Batch    0/13   train_loss = 0.183\n",
      "Epoch  75 Batch    5/13   train_loss = 0.177\n",
      "Epoch  75 Batch   10/13   train_loss = 0.196\n",
      "Epoch  76 Batch    2/13   train_loss = 0.182\n",
      "Epoch  76 Batch    7/13   train_loss = 0.196\n",
      "Epoch  76 Batch   12/13   train_loss = 0.188\n",
      "Epoch  77 Batch    4/13   train_loss = 0.189\n",
      "Epoch  77 Batch    9/13   train_loss = 0.195\n",
      "Epoch  78 Batch    1/13   train_loss = 0.196\n",
      "Epoch  78 Batch    6/13   train_loss = 0.181\n",
      "Epoch  78 Batch   11/13   train_loss = 0.188\n",
      "Epoch  79 Batch    3/13   train_loss = 0.202\n",
      "Epoch  79 Batch    8/13   train_loss = 0.205\n",
      "Model Trained and Saved\n"
     ]
    }
   ],
   "source": [
    "\"\"\"\n",
    "DON'T MODIFY ANYTHING IN THIS CELL\n",
    "\"\"\"\n",
    "batches = get_batches(int_text, batch_size, seq_length)\n",
    "\n",
    "with tf.Session(graph=train_graph) as sess:\n",
    "    sess.run(tf.global_variables_initializer())\n",
    "\n",
    "    for epoch_i in range(num_epochs):\n",
    "        state = sess.run(initial_state, {input_text: batches[0][0]})\n",
    "\n",
    "        for batch_i, (x, y) in enumerate(batches):\n",
    "            feed = {\n",
    "                input_text: x,\n",
    "                targets: y,\n",
    "                initial_state: state,\n",
    "                lr: learning_rate}\n",
    "            train_loss, state, _ = sess.run([cost, final_state, train_op], feed)\n",
    "\n",
    "            # Show every <show_every_n_batches> batches\n",
    "            if (epoch_i * len(batches) + batch_i) % show_every_n_batches == 0:\n",
    "                print('Epoch {:>3} Batch {:>4}/{}   train_loss = {:.3f}'.format(\n",
    "                    epoch_i,\n",
    "                    batch_i,\n",
    "                    len(batches),\n",
    "                    train_loss))\n",
    "\n",
    "    # Save Model\n",
    "    saver = tf.train.Saver()\n",
    "    saver.save(sess, save_dir)\n",
    "    print('Model Trained and Saved')"
   ]
  },
  {
   "cell_type": "markdown",
   "metadata": {
    "deletable": true,
    "editable": true
   },
   "source": [
    "## Save Parameters\n",
    "Save `seq_length` and `save_dir` for generating a new TV script."
   ]
  },
  {
   "cell_type": "code",
   "execution_count": 22,
   "metadata": {
    "collapsed": false,
    "deletable": true,
    "editable": true
   },
   "outputs": [],
   "source": [
    "\"\"\"\n",
    "DON'T MODIFY ANYTHING IN THIS CELL\n",
    "\"\"\"\n",
    "# Save parameters for checkpoint\n",
    "helper.save_params((seq_length, save_dir))"
   ]
  },
  {
   "cell_type": "markdown",
   "metadata": {
    "deletable": true,
    "editable": true
   },
   "source": [
    "# Checkpoint"
   ]
  },
  {
   "cell_type": "code",
   "execution_count": 23,
   "metadata": {
    "collapsed": false,
    "deletable": true,
    "editable": true
   },
   "outputs": [],
   "source": [
    "\"\"\"\n",
    "DON'T MODIFY ANYTHING IN THIS CELL\n",
    "\"\"\"\n",
    "import tensorflow as tf\n",
    "import numpy as np\n",
    "import helper\n",
    "import problem_unittests as tests\n",
    "\n",
    "_, vocab_to_int, int_to_vocab, token_dict = helper.load_preprocess()\n",
    "seq_length, load_dir = helper.load_params()"
   ]
  },
  {
   "cell_type": "markdown",
   "metadata": {
    "deletable": true,
    "editable": true
   },
   "source": [
    "## Implement Generate Functions\n",
    "### Get Tensors\n",
    "Get tensors from `loaded_graph` using the function [`get_tensor_by_name()`](https://www.tensorflow.org/api_docs/python/tf/Graph#get_tensor_by_name).  Get the tensors using the following names:\n",
    "- \"input:0\"\n",
    "- \"initial_state:0\"\n",
    "- \"final_state:0\"\n",
    "- \"probs:0\"\n",
    "\n",
    "Return the tensors in the following tuple `(InputTensor, InitialStateTensor, FinalStateTensor, ProbsTensor)` "
   ]
  },
  {
   "cell_type": "code",
   "execution_count": 24,
   "metadata": {
    "collapsed": false,
    "deletable": true,
    "editable": true
   },
   "outputs": [
    {
     "name": "stdout",
     "output_type": "stream",
     "text": [
      "Tests Passed\n"
     ]
    }
   ],
   "source": [
    "def get_tensors(loaded_graph):\n",
    "    \"\"\"\n",
    "    Get input, initial state, final state, and probabilities tensor from <loaded_graph>\n",
    "    :param loaded_graph: TensorFlow graph loaded from file\n",
    "    :return: Tuple (InputTensor, InitialStateTensor, FinalStateTensor, ProbsTensor)\n",
    "    \"\"\"\n",
    "    # Get tensors\n",
    "    input_tensor = loaded_graph.get_tensor_by_name('input:0')\n",
    "    initial_state_tensor = loaded_graph.get_tensor_by_name('initial_state:0')\n",
    "    final_state_tensor = loaded_graph.get_tensor_by_name('final_state:0')\n",
    "    prob_tensor = loaded_graph.get_tensor_by_name('probs:0')\n",
    "    \n",
    "    return input_tensor, initial_state_tensor, final_state_tensor, prob_tensor\n",
    "\n",
    "\n",
    "\"\"\"\n",
    "DON'T MODIFY ANYTHING IN THIS CELL THAT IS BELOW THIS LINE\n",
    "\"\"\"\n",
    "tests.test_get_tensors(get_tensors)"
   ]
  },
  {
   "cell_type": "markdown",
   "metadata": {
    "deletable": true,
    "editable": true
   },
   "source": [
    "### Choose Word\n",
    "Implement the `pick_word()` function to select the next word using `probabilities`."
   ]
  },
  {
   "cell_type": "code",
   "execution_count": 31,
   "metadata": {
    "collapsed": false,
    "deletable": true,
    "editable": true
   },
   "outputs": [
    {
     "name": "stdout",
     "output_type": "stream",
     "text": [
      "Tests Passed\n"
     ]
    }
   ],
   "source": [
    "def pick_word(probabilities, int_to_vocab):\n",
    "    \"\"\"\n",
    "    Pick the next word in the generated text\n",
    "    :param probabilities: Probabilites of the next word\n",
    "    :param int_to_vocab: Dictionary of word ids as the keys and words as the values\n",
    "    :return: String of the predicted word\n",
    "    \"\"\"\n",
    "    # Get the index of the next most probable word\n",
    "    #print(int_to_vocab, probabilities)\n",
    "    index = np.random.choice(list(int_to_vocab), p=probabilities)\n",
    "    #print(index)\n",
    "    return int_to_vocab[index]\n",
    "\n",
    "\"\"\"\n",
    "DON'T MODIFY ANYTHING IN THIS CELL THAT IS BELOW THIS LINE\n",
    "\"\"\"\n",
    "tests.test_pick_word(pick_word)"
   ]
  },
  {
   "cell_type": "markdown",
   "metadata": {
    "deletable": true,
    "editable": true
   },
   "source": [
    "## Generate TV Script\n",
    "This will generate the TV script for you.  Set `gen_length` to the length of TV script you want to generate."
   ]
  },
  {
   "cell_type": "code",
   "execution_count": 33,
   "metadata": {
    "collapsed": false,
    "deletable": true,
    "editable": true
   },
   "outputs": [
    {
     "name": "stdout",
     "output_type": "stream",
     "text": [
      "moe_szyslak:(meaningful) don't worry. compared to, baby.\n",
      "lenny_leonard:(pointing) when it gets to here, we can drink again.\n",
      "moe_szyslak: you know, if that's the stage we call\" professor barney\".\"\n",
      "moe_szyslak: i just wanna talk to a human being!\n",
      "lenny_leonard: sure of a jerk.\n",
      "moe_szyslak:(lying) it does. we had thirty is your thousand dollars. maybe of it.\n",
      "barney_gumble:(high voice) well, i didn't see it off. that is made in america?\n",
      "moe_szyslak:(\" is more princess for ya.\"\n",
      "moe_szyslak:(\" oh yeah\") ah, yeah, well, in his prime, in some and my english is! not even david sedaris coming?\n",
      "bret: yeah, you're right. i've gotta get to the brother, because he knows what my pin number is and i forgot.\n",
      "homer_simpson: and you c. if only this place is what he left to be about to make a mother.\n",
      "lenny_leonard: we gee, homer, you're\n"
     ]
    }
   ],
   "source": [
    "gen_length = 200\n",
    "# homer_simpson, moe_szyslak, or Barney_Gumble\n",
    "prime_word = 'moe_szyslak'\n",
    "\n",
    "\"\"\"\n",
    "DON'T MODIFY ANYTHING IN THIS CELL THAT IS BELOW THIS LINE\n",
    "\"\"\"\n",
    "loaded_graph = tf.Graph()\n",
    "with tf.Session(graph=loaded_graph) as sess:\n",
    "    # Load saved model\n",
    "    loader = tf.train.import_meta_graph(load_dir + '.meta')\n",
    "    loader.restore(sess, load_dir)\n",
    "\n",
    "    # Get Tensors from loaded model\n",
    "    input_text, initial_state, final_state, probs = get_tensors(loaded_graph)\n",
    "\n",
    "    # Sentences generation setup\n",
    "    gen_sentences = [prime_word + ':']\n",
    "    prev_state = sess.run(initial_state, {input_text: np.array([[1]])})\n",
    "\n",
    "    # Generate sentences\n",
    "    for n in range(gen_length):\n",
    "        # Dynamic Input\n",
    "        dyn_input = [[vocab_to_int[word] for word in gen_sentences[-seq_length:]]]\n",
    "        dyn_seq_length = len(dyn_input[0])\n",
    "\n",
    "        # Get Prediction\n",
    "        probabilities, prev_state = sess.run(\n",
    "            [probs, final_state],\n",
    "            {input_text: dyn_input, initial_state: prev_state})\n",
    "        \n",
    "        pred_word = pick_word(probabilities[dyn_seq_length-1], int_to_vocab)\n",
    "\n",
    "        gen_sentences.append(pred_word)\n",
    "    \n",
    "    # Remove tokens\n",
    "    tv_script = ' '.join(gen_sentences)\n",
    "    for key, token in token_dict.items():\n",
    "        ending = ' ' if key in ['\\n', '(', '\"'] else ''\n",
    "        tv_script = tv_script.replace(' ' + token.lower(), key)\n",
    "    tv_script = tv_script.replace('\\n ', '\\n')\n",
    "    tv_script = tv_script.replace('( ', '(')\n",
    "        \n",
    "    print(tv_script)"
   ]
  },
  {
   "cell_type": "markdown",
   "metadata": {
    "deletable": true,
    "editable": true
   },
   "source": [
    "# The TV Script is Nonsensical\n",
    "It's ok if the TV script doesn't make any sense.  We trained on less than a megabyte of text.  In order to get good results, you'll have to use a smaller vocabulary or get more data.  Luckly there's more data!  As we mentioned in the begging of this project, this is a subset of [another dataset](https://www.kaggle.com/wcukierski/the-simpsons-by-the-data).  We didn't have you train on all the data, because that would take too long.  However, you are free to train your neural network on all the data.  After you complete the project, of course.\n",
    "# Submitting This Project\n",
    "When submitting this project, make sure to run all the cells before saving the notebook. Save the notebook file as \"dlnd_tv_script_generation.ipynb\" and save it as a HTML file under \"File\" -> \"Download as\". Include the \"helper.py\" and \"problem_unittests.py\" files in your submission."
   ]
  },
  {
   "cell_type": "code",
   "execution_count": null,
   "metadata": {
    "collapsed": true,
    "deletable": true,
    "editable": true
   },
   "outputs": [],
   "source": []
  }
 ],
 "metadata": {
  "kernelspec": {
   "display_name": "Python 3",
   "language": "python",
   "name": "python3"
  },
  "language_info": {
   "codemirror_mode": {
    "name": "ipython",
    "version": 3
   },
   "file_extension": ".py",
   "mimetype": "text/x-python",
   "name": "python",
   "nbconvert_exporter": "python",
   "pygments_lexer": "ipython3",
   "version": "3.5.3"
  },
  "widgets": {
   "state": {},
   "version": "1.1.2"
  }
 },
 "nbformat": 4,
 "nbformat_minor": 0
}
